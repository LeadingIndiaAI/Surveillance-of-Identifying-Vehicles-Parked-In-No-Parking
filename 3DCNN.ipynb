{
  "nbformat": 4,
  "nbformat_minor": 0,
  "metadata": {
    "colab": {
      "name": "3DCNN.ipynb",
      "provenance": [],
      "collapsed_sections": [],
      "include_colab_link": true
    },
    "kernelspec": {
      "name": "python3",
      "display_name": "Python 3"
    },
    "accelerator": "GPU"
  },
  "cells": [
    {
      "cell_type": "markdown",
      "metadata": {
        "id": "view-in-github",
        "colab_type": "text"
      },
      "source": [
        "<a href=\"https://colab.research.google.com/github/PoonamMagadum/Parking-Classification/blob/master/3DCNN.ipynb\" target=\"_parent\"><img src=\"https://colab.research.google.com/assets/colab-badge.svg\" alt=\"Open In Colab\"/></a>"
      ]
    },
    {
      "cell_type": "markdown",
      "metadata": {
        "id": "ko4uyqHugXKY",
        "colab_type": "text"
      },
      "source": [
        ""
      ]
    },
    {
      "cell_type": "code",
      "metadata": {
        "id": "W2pcw_5_9Ybr",
        "colab_type": "code",
        "colab": {
          "base_uri": "https://localhost:8080/",
          "height": 34
        },
        "outputId": "60a5470d-835f-4a1c-a55a-8eb818c4dd9f"
      },
      "source": [
        "from google.colab import drive\n",
        "drive.mount('/content/drive')"
      ],
      "execution_count": 62,
      "outputs": [
        {
          "output_type": "stream",
          "text": [
            "Drive already mounted at /content/drive; to attempt to forcibly remount, call drive.mount(\"/content/drive\", force_remount=True).\n"
          ],
          "name": "stdout"
        }
      ]
    },
    {
      "cell_type": "code",
      "metadata": {
        "id": "AcX2EdehmR9Q",
        "colab_type": "code",
        "colab": {}
      },
      "source": [
        "import argparse\n",
        "import os\n",
        "import matplotlib\n",
        "matplotlib.use('AGG')\n",
        "import matplotlib.pyplot as plt\n",
        "import numpy as np\n",
        "from keras.datasets import cifar10\n",
        "from keras.layers import (Activation, Conv3D, Dense, Dropout, Flatten, MaxPooling3D, BatchNormalization)\n",
        "from keras.layers.advanced_activations import LeakyReLU\n",
        "from keras.losses import categorical_crossentropy\n",
        "from keras.models import Sequential\n",
        "from keras.optimizers import Adam\n",
        "from keras.utils import np_utils\n",
        "from keras import regularizers\n",
        "from keras.utils.vis_utils import plot_model\n",
        "from sklearn.model_selection import train_test_split\n",
        "from tqdm import tqdm\n",
        "import numpy as np\n",
        "import cv2\n",
        "from easydict import EasyDict\n",
        "%matplotlib inline"
      ],
      "execution_count": 63,
      "outputs": []
    },
    {
      "cell_type": "markdown",
      "metadata": {
        "id": "mACm9smI7f6k",
        "colab_type": "text"
      },
      "source": [
        ""
      ]
    },
    {
      "cell_type": "code",
      "metadata": {
        "id": "Uu8K5u8Pm2ty",
        "colab_type": "code",
        "colab": {}
      },
      "source": [
        "class Videoto3D:\n",
        "\n",
        "    def __init__(self, width, height, depth):\n",
        "        self.width = width\n",
        "        self.height = height\n",
        "        self.depth = depth\n",
        "\n",
        "    def video3d(self, filename, color=False, skip=True):\n",
        "        print(\"test \",filename)\n",
        "        cap = cv2.VideoCapture(filename)\n",
        "        nframe = cap.get(cv2.CAP_PROP_FRAME_COUNT)\n",
        "        if skip:\n",
        "            frames = [x * nframe / self.depth for x in range(self.depth)]\n",
        "        else:\n",
        "            frames = [x for x in range(self.depth)]\n",
        "        framearray = []\n",
        "\n",
        "        for i in range(self.depth):\n",
        "            cap.set(cv2.CAP_PROP_POS_FRAMES, frames[i])\n",
        "            ret, frame = cap.read()\n",
        "            frame = cv2.resize(frame, (self.height, self.width))\n",
        "            if color:\n",
        "                framearray.append(frame)\n",
        "            else:\n",
        "                framearray.append(cv2.cvtColor(frame, cv2.COLOR_BGR2GRAY))\n",
        "\n",
        "        cap.release()\n",
        "        return np.array(framearray)\n",
        "\n",
        "    def get_UCF_classname(self, filename):\n",
        "        return filename[filename.find('_') + 1:filename.find('_', 2)]\n"
      ],
      "execution_count": 64,
      "outputs": []
    },
    {
      "cell_type": "code",
      "metadata": {
        "id": "_PrSR8JEnBbh",
        "colab_type": "code",
        "colab": {}
      },
      "source": [
        "def save_history(history, result_dir):\n",
        "    loss = history.history['loss']\n",
        "    acc = history.history['accuracy']\n",
        "    val_loss = history.history['val_loss']\n",
        "    val_acc = history.history['val_accuracy']\n",
        "    nb_epoch = len(acc)\n",
        "\n",
        "    with open(os.path.join(result_dir, 'result.txt'), 'w') as fp:\n",
        "        fp.write('epoch\\tloss\\tacc\\tval_loss\\tval_acc\\n')\n",
        "        for i in range(nb_epoch):\n",
        "            fp.write('{}\\t{}\\t{}\\t{}\\t{}\\n'.format(\n",
        "                i, loss[i], acc[i], val_loss[i], val_acc[i]))"
      ],
      "execution_count": 65,
      "outputs": []
    },
    {
      "cell_type": "code",
      "metadata": {
        "id": "ngKs-iyOnDAr",
        "colab_type": "code",
        "colab": {}
      },
      "source": [
        "\n",
        "def loaddata(video_dir, vid3d, nclass, result_dir, color=False, skip=True):\n",
        "    folders = os.listdir(video_dir)\n",
        "    X = []\n",
        "    labels = []\n",
        "    labellist = []\n",
        "\n",
        "    for folder in folders:\n",
        "      files = os.listdir(video_dir+\"/\"+folder)\n",
        "      pbar = tqdm(total=len(files))\n",
        "      for filename in files:\n",
        "          pbar.update(1)\n",
        "          if filename == '.DS_Store':\n",
        "              continue\n",
        "          name = os.path.join(video_dir+\"/\"+folder, filename)\n",
        "          # label = vid3d.get_UCF_classname(folder)\n",
        "          label = folder\n",
        "          if label not in labellist:\n",
        "              if len(labellist) >= nclass:\n",
        "                  continue\n",
        "              labellist.append(label)\n",
        "          labels.append(label)\n",
        "          X.append(vid3d.video3d(name, color=color, skip=skip))\n",
        "\n",
        "      pbar.close()\n",
        "    with open(os.path.join(result_dir, 'classes.txt'), 'w') as fp:\n",
        "        for i in range(len(labellist)):\n",
        "            fp.write('{}\\n'.format(labellist[i]))\n",
        "\n",
        "    for num, label in enumerate(labellist):\n",
        "        for i in range(len(labels)):\n",
        "            if label == labels[i]:\n",
        "                labels[i] = num\n",
        "    if color:\n",
        "        return np.array(X).transpose((0, 2, 3, 4, 1)), labels\n",
        "    else:\n",
        "        return np.array(X).transpose((0, 2, 3, 1)), labels\n"
      ],
      "execution_count": 66,
      "outputs": []
    },
    {
      "cell_type": "code",
      "metadata": {
        "id": "_GQgcsupcuWk",
        "colab_type": "code",
        "colab": {}
      },
      "source": [
        "args = EasyDict({\n",
        "    \"batch\": 32,\n",
        "    \"epoch\": 500,\n",
        "    \"videos\":'/content/drive/My Drive/dataset',\n",
        "    \"nclass\":3,\n",
        "    \"color\":True,\n",
        "    \"skip\":False,\n",
        "    \"depth\":12,\n",
        "    \"output\": '/content/drive/My Drive/Parking Videos/result3' \n",
        "})"
      ],
      "execution_count": 67,
      "outputs": []
    },
    {
      "cell_type": "code",
      "metadata": {
        "id": "EKf0nGbreO-d",
        "colab_type": "code",
        "colab": {
          "base_uri": "https://localhost:8080/",
          "height": 1000
        },
        "outputId": "1d73f5a0-ec06-402c-e034-9b26c5de865d"
      },
      "source": [
        "img_rows, img_cols, frames = 32, 32, args.depth\n",
        "channel = 3 if args.color else 1\n",
        "fname_npz = args.output+'/dataset_{}_{}_{}.npz'.format(\n",
        "    args.nclass, args.depth, args.skip)\n",
        "\n",
        "\n",
        "vid3d = Videoto3D(img_rows, img_cols, frames)\n",
        "nb_classes = args.nclass\n",
        "if os.path.exists(fname_npz):\n",
        "    loadeddata = np.load(fname_npz)\n",
        "    X, Y = loadeddata[\"X\"], loadeddata[\"Y\"]\n",
        "else:\n",
        "    x, y = loaddata(args.videos, vid3d, args.nclass,\n",
        "                    args.output, args.color, args.skip)\n",
        "    X = x.reshape((x.shape[0], img_rows, img_cols, frames, channel))\n",
        "    Y = np_utils.to_categorical(y, nb_classes)\n",
        "\n",
        "    X = X.astype('float32')\n",
        "    np.savez(fname_npz, X=X, Y=Y)\n",
        "    print('Saved dataset to dataset.npz.')\n",
        "print('X_shape:{}\\nY_shape:{}'.format(X.shape, Y.shape))"
      ],
      "execution_count": 68,
      "outputs": [
        {
          "output_type": "stream",
          "text": [
            "\n",
            "\n",
            "  0%|          | 0/200 [00:00<?, ?it/s]\u001b[A\u001b[A\n",
            "\n",
            "  1%|          | 2/200 [00:00<00:12, 15.52it/s]\u001b[A\u001b[A"
          ],
          "name": "stderr"
        },
        {
          "output_type": "stream",
          "text": [
            "test  /content/drive/My Drive/dataset/Parking/videoplayback (1).mp4\n",
            "test  /content/drive/My Drive/dataset/Parking/How To- Easy Parking 90°.mp4\n"
          ],
          "name": "stdout"
        },
        {
          "output_type": "stream",
          "text": [
            "\n",
            "\n",
            "  2%|▏         | 3/200 [00:00<00:27,  7.17it/s]\u001b[A\u001b[A\n",
            "\n",
            "  2%|▎         | 5/200 [00:00<00:24,  8.00it/s]\u001b[A\u001b[A"
          ],
          "name": "stderr"
        },
        {
          "output_type": "stream",
          "text": [
            "test  /content/drive/My Drive/dataset/Parking/Video 2020-06-06 at 7.29.01 PM.mp4\n",
            "test  /content/drive/My Drive/dataset/Parking/Video 2020-06-06 at 7.28.51 PM.mp4\n",
            "test  /content/drive/My Drive/dataset/Parking/car_parking.mp4\n"
          ],
          "name": "stdout"
        },
        {
          "output_type": "stream",
          "text": [
            "\n",
            "\n",
            "  3%|▎         | 6/200 [00:01<01:07,  2.88it/s]\u001b[A\u001b[A"
          ],
          "name": "stderr"
        },
        {
          "output_type": "stream",
          "text": [
            "test  /content/drive/My Drive/dataset/Parking/Forward Bay Parking Manoeuvre - 2020 UK .mp4\n"
          ],
          "name": "stdout"
        },
        {
          "output_type": "stream",
          "text": [
            "\n",
            "\n",
            "  4%|▎         | 7/200 [00:02<01:23,  2.30it/s]\u001b[A\u001b[A"
          ],
          "name": "stderr"
        },
        {
          "output_type": "stream",
          "text": [
            "test  /content/drive/My Drive/dataset/Parking/Practice Parallel parking.mp4\n"
          ],
          "name": "stdout"
        },
        {
          "output_type": "stream",
          "text": [
            "\n",
            "\n",
            "  4%|▍         | 8/200 [00:02<01:33,  2.06it/s]\u001b[A\u001b[A"
          ],
          "name": "stderr"
        },
        {
          "output_type": "stream",
          "text": [
            "test  /content/drive/My Drive/dataset/Parking/Tesla Self Parking.mp4\n"
          ],
          "name": "stdout"
        },
        {
          "output_type": "stream",
          "text": [
            "\n",
            "\n",
            "  4%|▍         | 9/200 [00:03<01:39,  1.91it/s]\u001b[A\u001b[A"
          ],
          "name": "stderr"
        },
        {
          "output_type": "stream",
          "text": [
            "test  /content/drive/My Drive/dataset/Parking/video (1) (1).mp4\n"
          ],
          "name": "stdout"
        },
        {
          "output_type": "stream",
          "text": [
            "\n",
            "\n",
            "  5%|▌         | 10/200 [00:03<01:28,  2.16it/s]\u001b[A\u001b[A"
          ],
          "name": "stderr"
        },
        {
          "output_type": "stream",
          "text": [
            "test  /content/drive/My Drive/dataset/Parking/video (1).mp4\n"
          ],
          "name": "stdout"
        },
        {
          "output_type": "stream",
          "text": [
            "\n",
            "\n",
            "  6%|▌         | 11/200 [00:03<01:19,  2.39it/s]\u001b[A\u001b[A"
          ],
          "name": "stderr"
        },
        {
          "output_type": "stream",
          "text": [
            "test  /content/drive/My Drive/dataset/Parking/video (5) (1).mp4\n"
          ],
          "name": "stdout"
        },
        {
          "output_type": "stream",
          "text": [
            "\n",
            "\n",
            "  6%|▌         | 12/200 [00:04<01:13,  2.55it/s]\u001b[A\u001b[A"
          ],
          "name": "stderr"
        },
        {
          "output_type": "stream",
          "text": [
            "test  /content/drive/My Drive/dataset/Parking/video (5).mp4\n"
          ],
          "name": "stdout"
        },
        {
          "output_type": "stream",
          "text": [
            "\n",
            "\n",
            "  6%|▋         | 13/200 [00:04<01:09,  2.69it/s]\u001b[A\u001b[A"
          ],
          "name": "stderr"
        },
        {
          "output_type": "stream",
          "text": [
            "test  /content/drive/My Drive/dataset/Parking/Tesla Self Parking(1).mp4\n"
          ],
          "name": "stdout"
        },
        {
          "output_type": "stream",
          "text": [
            "\n",
            "\n",
            "  7%|▋         | 14/200 [00:05<01:22,  2.25it/s]\u001b[A\u001b[A"
          ],
          "name": "stderr"
        },
        {
          "output_type": "stream",
          "text": [
            "test  /content/drive/My Drive/dataset/Parking/HOW TO PARK A CAR.mp4\n"
          ],
          "name": "stdout"
        },
        {
          "output_type": "stream",
          "text": [
            "\n",
            "\n",
            "  8%|▊         | 15/200 [00:05<01:31,  2.02it/s]\u001b[A\u001b[A"
          ],
          "name": "stderr"
        },
        {
          "output_type": "stream",
          "text": [
            "test  /content/drive/My Drive/dataset/Parking/video (3) (1).mp4\n"
          ],
          "name": "stdout"
        },
        {
          "output_type": "stream",
          "text": [
            "\n",
            "\n",
            "  8%|▊         | 16/200 [00:06<01:23,  2.22it/s]\u001b[A\u001b[A"
          ],
          "name": "stderr"
        },
        {
          "output_type": "stream",
          "text": [
            "test  /content/drive/My Drive/dataset/Parking/video (3).mp4\n"
          ],
          "name": "stdout"
        },
        {
          "output_type": "stream",
          "text": [
            "\n",
            "\n",
            "  8%|▊         | 17/200 [00:06<01:15,  2.42it/s]\u001b[A\u001b[A"
          ],
          "name": "stderr"
        },
        {
          "output_type": "stream",
          "text": [
            "test  /content/drive/My Drive/dataset/Parking/video (4) (1).mp4\n"
          ],
          "name": "stdout"
        },
        {
          "output_type": "stream",
          "text": [
            "\n",
            "\n",
            "  9%|▉         | 18/200 [00:06<01:12,  2.50it/s]\u001b[A\u001b[A"
          ],
          "name": "stderr"
        },
        {
          "output_type": "stream",
          "text": [
            "test  /content/drive/My Drive/dataset/Parking/video (4).mp4\n"
          ],
          "name": "stdout"
        },
        {
          "output_type": "stream",
          "text": [
            "\n",
            "\n",
            " 10%|▉         | 19/200 [00:07<01:12,  2.50it/s]\u001b[A\u001b[A"
          ],
          "name": "stderr"
        },
        {
          "output_type": "stream",
          "text": [
            "test  /content/drive/My Drive/dataset/Parking/video (2).mp4\n"
          ],
          "name": "stdout"
        },
        {
          "output_type": "stream",
          "text": [
            "\n",
            "\n",
            " 10%|█         | 20/200 [00:07<01:07,  2.65it/s]\u001b[A\u001b[A"
          ],
          "name": "stderr"
        },
        {
          "output_type": "stream",
          "text": [
            "test  /content/drive/My Drive/dataset/Parking/video (6).mp4\n"
          ],
          "name": "stdout"
        },
        {
          "output_type": "stream",
          "text": [
            "\n",
            "\n",
            " 10%|█         | 21/200 [00:07<01:05,  2.72it/s]\u001b[A\u001b[A"
          ],
          "name": "stderr"
        },
        {
          "output_type": "stream",
          "text": [
            "test  /content/drive/My Drive/dataset/Parking/Justice for Illegal Parking.mp4\n"
          ],
          "name": "stdout"
        },
        {
          "output_type": "stream",
          "text": [
            "\n",
            "\n",
            " 11%|█         | 22/200 [00:08<01:26,  2.06it/s]\u001b[A\u001b[A"
          ],
          "name": "stderr"
        },
        {
          "output_type": "stream",
          "text": [
            "test  /content/drive/My Drive/dataset/Parking/BMW X6 M Sport Parking Assist .mp4\n"
          ],
          "name": "stdout"
        },
        {
          "output_type": "stream",
          "text": [
            "\n",
            "\n",
            " 12%|█▏        | 23/200 [00:09<01:41,  1.74it/s]\u001b[A\u001b[A"
          ],
          "name": "stderr"
        },
        {
          "output_type": "stream",
          "text": [
            "test  /content/drive/My Drive/dataset/Parking/Parking in Japan!.mp4\n"
          ],
          "name": "stdout"
        },
        {
          "output_type": "stream",
          "text": [
            "\n",
            "\n",
            " 12%|█▏        | 24/200 [00:10<01:38,  1.79it/s]\u001b[A\u001b[A"
          ],
          "name": "stderr"
        },
        {
          "output_type": "stream",
          "text": [
            "test  /content/drive/My Drive/dataset/Parking/How To Park.mp4\n"
          ],
          "name": "stdout"
        },
        {
          "output_type": "stream",
          "text": [
            "\n",
            "\n",
            " 12%|█▎        | 25/200 [00:10<01:36,  1.81it/s]\u001b[A\u001b[A"
          ],
          "name": "stderr"
        },
        {
          "output_type": "stream",
          "text": [
            "test  /content/drive/My Drive/dataset/Parking/How To Park(1).mp4\n"
          ],
          "name": "stdout"
        },
        {
          "output_type": "stream",
          "text": [
            "\n",
            "\n",
            " 13%|█▎        | 26/200 [00:11<01:34,  1.84it/s]\u001b[A\u001b[A"
          ],
          "name": "stderr"
        },
        {
          "output_type": "stream",
          "text": [
            "test  /content/drive/My Drive/dataset/Parking/[ENG_-_CC]_Parking_Undur_Reverse_Parking_[Pemula](480p) (online-video-cutter.com).mp4\n"
          ],
          "name": "stdout"
        },
        {
          "output_type": "stream",
          "text": [
            "\n",
            "\n",
            " 14%|█▎        | 27/200 [00:11<01:18,  2.22it/s]\u001b[A\u001b[A\n",
            "\n",
            " 14%|█▍        | 28/200 [00:11<01:03,  2.71it/s]\u001b[A\u001b[A"
          ],
          "name": "stderr"
        },
        {
          "output_type": "stream",
          "text": [
            "test  /content/drive/My Drive/dataset/Parking/[ENG_-_CC]_Parking_Undur_Reverse_Parking_[Pemula](480p) (online-video-cutter.com) (1).mp4\n",
            "test  /content/drive/My Drive/dataset/Parking/[ENG_-_CC]_Parking_Undur_Reverse_Parking_[Pemula](480p) (online-video-cutter.com) (2).mp4\n"
          ],
          "name": "stdout"
        },
        {
          "output_type": "stream",
          "text": [
            "\n",
            "\n",
            " 14%|█▍        | 29/200 [00:11<00:53,  3.20it/s]\u001b[A\u001b[A"
          ],
          "name": "stderr"
        },
        {
          "output_type": "stream",
          "text": [
            "test  /content/drive/My Drive/dataset/Parking/90_parking_Dubai_driving_test(1080p) (online-video-cutter.com).mp4\n"
          ],
          "name": "stdout"
        },
        {
          "output_type": "stream",
          "text": [
            "\n",
            "\n",
            " 15%|█▌        | 30/200 [00:12<01:36,  1.77it/s]\u001b[A\u001b[A"
          ],
          "name": "stderr"
        },
        {
          "output_type": "stream",
          "text": [
            "test  /content/drive/My Drive/dataset/Parking/90_parking_Dubai_driving_test(1080p) (online-video-cutter.com) (1).mp4\n"
          ],
          "name": "stdout"
        },
        {
          "output_type": "stream",
          "text": [
            "\n",
            "\n",
            " 16%|█▌        | 31/200 [00:13<02:03,  1.36it/s]\u001b[A\u001b[A"
          ],
          "name": "stderr"
        },
        {
          "output_type": "stream",
          "text": [
            "test  /content/drive/My Drive/dataset/Parking/Handicapped_Parking_Karma(480p) (online-video-cutter.com).mp4\n"
          ],
          "name": "stdout"
        },
        {
          "output_type": "stream",
          "text": [
            "\n",
            "\n",
            " 16%|█▌        | 32/200 [00:14<01:43,  1.63it/s]\u001b[A\u001b[A\n",
            "\n",
            " 16%|█▋        | 33/200 [00:14<01:22,  2.03it/s]\u001b[A\u001b[A"
          ],
          "name": "stderr"
        },
        {
          "output_type": "stream",
          "text": [
            "test  /content/drive/My Drive/dataset/Parking/How_to_CORRECT_REVERSE_PARKING_Toronto_Drivers(480p) (online-video-cutter.com).mp4\n",
            "test  /content/drive/My Drive/dataset/Parking/PARKING_SPOT_REVENGE(1080p) (online-video-cutter.com).mp4\n"
          ],
          "name": "stdout"
        },
        {
          "output_type": "stream",
          "text": [
            "\n",
            "\n",
            " 17%|█▋        | 34/200 [00:15<01:48,  1.53it/s]\u001b[A\u001b[A\n",
            "\n",
            " 18%|█▊        | 35/200 [00:15<01:24,  1.95it/s]\u001b[A\u001b[A"
          ],
          "name": "stderr"
        },
        {
          "output_type": "stream",
          "text": [
            "test  /content/drive/My Drive/dataset/Parking/Parking_Trouble_in_Croatia-Must_See!(360p) (online-video-cutter.com).mp4\n",
            "test  /content/drive/My Drive/dataset/Parking/PlacePod_IoT_Smart_Parking_Sensor_from_PNI_Sensor_Corporation(360p) (online-video-cutter.com).mp4\n"
          ],
          "name": "stdout"
        },
        {
          "output_type": "stream",
          "text": [
            "\n",
            "\n",
            " 18%|█▊        | 37/200 [00:15<01:04,  2.53it/s]\u001b[A\u001b[A"
          ],
          "name": "stderr"
        },
        {
          "output_type": "stream",
          "text": [
            "test  /content/drive/My Drive/dataset/Parking/Reverse_Parking_Test_90_Degree_With_Cones_by_Mona_0559654847_UAE_Abu_dhabi(360p) (online-video-cutter.com).mp4\n",
            "test  /content/drive/My Drive/dataset/Parking/u0026_Tutorial_of_the_Reverse_Bay_Parking_Manoeuvre_for_the_UK_driving_test(480p) (online-video-cutter.com) (1).mp4\n"
          ],
          "name": "stdout"
        },
        {
          "output_type": "stream",
          "text": [
            "\n",
            "\n",
            " 19%|█▉        | 38/200 [00:16<01:01,  2.64it/s]\u001b[A\u001b[A"
          ],
          "name": "stderr"
        },
        {
          "output_type": "stream",
          "text": [
            "test  /content/drive/My Drive/dataset/Parking/FAPS H.264 PC-DVR CCTV Security Surveillance Camera Video of Parking Lot Overview ( 480 X 480 ).mp4\n"
          ],
          "name": "stdout"
        },
        {
          "output_type": "stream",
          "text": [
            "\n",
            "\n",
            " 20%|█▉        | 39/200 [00:16<00:54,  2.96it/s]\u001b[A\u001b[A"
          ],
          "name": "stderr"
        },
        {
          "output_type": "stream",
          "text": [
            "test  /content/drive/My Drive/dataset/Parking/CCTV Video of a parking lot ( 360 X 360 ).mp4\n",
            "test  /content/drive/My Drive/dataset/Parking/FUNNY WOMAN DRIVER PARKING FAIL ( 480 X 480 ).mp4\n"
          ],
          "name": "stdout"
        },
        {
          "output_type": "stream",
          "text": [
            "\n",
            "\n",
            " 20%|██        | 41/200 [00:16<00:46,  3.45it/s]\u001b[A\u001b[A\n",
            "\n",
            " 21%|██        | 42/200 [00:17<00:40,  3.93it/s]\u001b[A\u001b[A"
          ],
          "name": "stderr"
        },
        {
          "output_type": "stream",
          "text": [
            "test  /content/drive/My Drive/dataset/Parking/Parking Dataset ( 480 X 480 ).mp4\n",
            "test  /content/drive/My Drive/dataset/Parking/Walmart Security Footage - Parking Lot (Angie Cornett) ( 360 X 320 ).mp4\n",
            "test  /content/drive/My Drive/dataset/Parking/BLK-HDPTZ12 Security Camera Parkng Lot Surveillance Video ( 720 X 720 ).mp4\n"
          ],
          "name": "stdout"
        },
        {
          "output_type": "stream",
          "text": [
            "\n",
            "\n",
            " 22%|██▏       | 44/200 [00:17<00:45,  3.44it/s]\u001b[A\u001b[A"
          ],
          "name": "stderr"
        },
        {
          "output_type": "stream",
          "text": [
            "test  /content/drive/My Drive/dataset/Parking/bB_2nd_Gen_Stance_Nation_Nagasaki_2019_Parking_Lot_Raw_Video(360p) (online-video-cutter.com).mp4\n"
          ],
          "name": "stdout"
        },
        {
          "output_type": "stream",
          "text": [
            "\n",
            "\n",
            " 22%|██▎       | 45/200 [00:18<00:41,  3.72it/s]\u001b[A\u001b[A"
          ],
          "name": "stderr"
        },
        {
          "output_type": "stream",
          "text": [
            "test  /content/drive/My Drive/dataset/Parking/bB_2nd_Gen_Stance_Nation_Nagasaki_2019_Parking_Lot_Raw_Video(360p) (online-video-cutter.com) (1).mp4\n"
          ],
          "name": "stdout"
        },
        {
          "output_type": "stream",
          "text": [
            "\n",
            "\n",
            " 23%|██▎       | 46/200 [00:18<00:38,  3.98it/s]\u001b[A\u001b[A"
          ],
          "name": "stderr"
        },
        {
          "output_type": "stream",
          "text": [
            "test  /content/drive/My Drive/dataset/Parking/Como_pasar_el_examen_de_reversa_en_el_MVA(720p) (online-video-cutter.com).mp4\n"
          ],
          "name": "stdout"
        },
        {
          "output_type": "stream",
          "text": [
            "\n",
            "\n",
            " 24%|██▎       | 47/200 [00:18<00:49,  3.09it/s]\u001b[A\u001b[A"
          ],
          "name": "stderr"
        },
        {
          "output_type": "stream",
          "text": [
            "test  /content/drive/My Drive/dataset/Parking/Como_pasar_el_examen_de_reversa_en_el_MVA(720p) (online-video-cutter.com) (1).mp4\n"
          ],
          "name": "stdout"
        },
        {
          "output_type": "stream",
          "text": [
            "\n",
            "\n",
            " 24%|██▍       | 48/200 [00:19<00:56,  2.69it/s]\u001b[A\u001b[A"
          ],
          "name": "stderr"
        },
        {
          "output_type": "stream",
          "text": [
            "test  /content/drive/My Drive/dataset/Parking/Como_pasar_el_examen_de_reversa_en_el_MVA(720p) (online-video-cutter.com) (2).mp4\n"
          ],
          "name": "stdout"
        },
        {
          "output_type": "stream",
          "text": [
            "\n",
            "\n",
            " 24%|██▍       | 49/200 [00:19<01:06,  2.28it/s]\u001b[A\u001b[A"
          ],
          "name": "stderr"
        },
        {
          "output_type": "stream",
          "text": [
            "test  /content/drive/My Drive/dataset/Parking/2019_Japanese_Classic_Car_Parking_Lot_Show(360p) (online-video-cutter.com) (1).mp4\n"
          ],
          "name": "stdout"
        },
        {
          "output_type": "stream",
          "text": [
            "\n",
            "\n",
            " 25%|██▌       | 50/200 [00:20<00:57,  2.59it/s]\u001b[A\u001b[A"
          ],
          "name": "stderr"
        },
        {
          "output_type": "stream",
          "text": [
            "test  /content/drive/My Drive/dataset/Parking/2019_Japanese_Classic_Car_Parking_Lot_Show(360p) (online-video-cutter.com) (2).mp4\n"
          ],
          "name": "stdout"
        },
        {
          "output_type": "stream",
          "text": [
            "\n",
            "\n",
            " 26%|██▌       | 51/200 [00:20<00:51,  2.91it/s]\u001b[A\u001b[A"
          ],
          "name": "stderr"
        },
        {
          "output_type": "stream",
          "text": [
            "test  /content/drive/My Drive/dataset/Parking/2019_Japanese_Classic_Car_Parking_Lot_Show(360p) (online-video-cutter.com) (3).mp4\n"
          ],
          "name": "stdout"
        },
        {
          "output_type": "stream",
          "text": [
            "\n",
            "\n",
            " 26%|██▌       | 52/200 [00:20<00:47,  3.12it/s]\u001b[A\u001b[A"
          ],
          "name": "stderr"
        },
        {
          "output_type": "stream",
          "text": [
            "test  /content/drive/My Drive/dataset/Parking/2019_Japanese_Classic_Car_Parking_Lot_Show(360p) (online-video-cutter.com) (4).mp4\n"
          ],
          "name": "stdout"
        },
        {
          "output_type": "stream",
          "text": [
            "\n",
            "\n",
            " 26%|██▋       | 53/200 [00:20<00:44,  3.30it/s]\u001b[A\u001b[A"
          ],
          "name": "stderr"
        },
        {
          "output_type": "stream",
          "text": [
            "test  /content/drive/My Drive/dataset/Parking/Driving_test_at_Arfa_Tower,_Lahore_for_issuing_driving_license(1080p) (online-video-cutter.com).mp4\n"
          ],
          "name": "stdout"
        },
        {
          "output_type": "stream",
          "text": [
            "\n",
            "\n",
            " 27%|██▋       | 54/200 [00:22<01:39,  1.47it/s]\u001b[A\u001b[A"
          ],
          "name": "stderr"
        },
        {
          "output_type": "stream",
          "text": [
            "test  /content/drive/My Drive/dataset/Parking/2019_Japanese_Classic_Car_Parking_Lot_Show(360p) (online-video-cutter.com) (5).mp4\n"
          ],
          "name": "stdout"
        },
        {
          "output_type": "stream",
          "text": [
            "\n",
            "\n",
            " 28%|██▊       | 55/200 [00:22<01:20,  1.80it/s]\u001b[A\u001b[A"
          ],
          "name": "stderr"
        },
        {
          "output_type": "stream",
          "text": [
            "test  /content/drive/My Drive/dataset/Parking/2019_Japanese_Classic_Car_Parking_Lot_Show(360p) (online-video-cutter.com) (6).mp4\n"
          ],
          "name": "stdout"
        },
        {
          "output_type": "stream",
          "text": [
            "\n",
            "\n",
            " 28%|██▊       | 56/200 [00:22<01:05,  2.19it/s]\u001b[A\u001b[A\n",
            "\n",
            " 28%|██▊       | 57/200 [00:23<00:53,  2.67it/s]\u001b[A\u001b[A"
          ],
          "name": "stderr"
        },
        {
          "output_type": "stream",
          "text": [
            "test  /content/drive/My Drive/dataset/Parking/2019_Japanese_Classic_Car_Parking_Lot_Show(360p) (online-video-cutter.com) (7).mp4\n",
            "test  /content/drive/My Drive/dataset/Parking/2019_Japanese_Classic_Car_Parking_Lot_Show(360p) (online-video-cutter.com) (8).mp4\n"
          ],
          "name": "stdout"
        },
        {
          "output_type": "stream",
          "text": [
            "\n",
            "\n",
            " 29%|██▉       | 58/200 [00:23<00:45,  3.13it/s]\u001b[A\u001b[A"
          ],
          "name": "stderr"
        },
        {
          "output_type": "stream",
          "text": [
            "test  /content/drive/My Drive/dataset/Parking/2019_Japanese_Classic_Car_Parking_Lot_Show(360p) (online-video-cutter.com) (9).mp4\n"
          ],
          "name": "stdout"
        },
        {
          "output_type": "stream",
          "text": [
            "\n",
            "\n",
            " 30%|██▉       | 59/200 [00:23<00:41,  3.38it/s]\u001b[A\u001b[A"
          ],
          "name": "stderr"
        },
        {
          "output_type": "stream",
          "text": [
            "test  /content/drive/My Drive/dataset/Parking/2019_Japanese_Classic_Car_Parking_Lot_Show(360p) (online-video-cutter.com) (10).mp4\n"
          ],
          "name": "stdout"
        },
        {
          "output_type": "stream",
          "text": [
            "\n",
            "\n",
            " 30%|███       | 60/200 [00:23<00:38,  3.65it/s]\u001b[A\u001b[A"
          ],
          "name": "stderr"
        },
        {
          "output_type": "stream",
          "text": [
            "test  /content/drive/My Drive/dataset/Parking/2019_Japanese_Classic_Car_Parking_Lot_Show(360p) (online-video-cutter.com) (11).mp4\n"
          ],
          "name": "stdout"
        },
        {
          "output_type": "stream",
          "text": [
            "\n",
            "\n",
            " 30%|███       | 61/200 [00:23<00:36,  3.86it/s]\u001b[A\u001b[A"
          ],
          "name": "stderr"
        },
        {
          "output_type": "stream",
          "text": [
            "test  /content/drive/My Drive/dataset/Parking/2019_Japanese_Classic_Car_Parking_Lot_Show(360p) (online-video-cutter.com) (12).mp4\n"
          ],
          "name": "stdout"
        },
        {
          "output_type": "stream",
          "text": [
            "\n",
            "\n",
            " 31%|███       | 62/200 [00:24<00:34,  3.95it/s]\u001b[A\u001b[A"
          ],
          "name": "stderr"
        },
        {
          "output_type": "stream",
          "text": [
            "test  /content/drive/My Drive/dataset/Parking/2019_Japanese_Classic_Car_Parking_Lot_Show(360p) (online-video-cutter.com) (13).mp4\n"
          ],
          "name": "stdout"
        },
        {
          "output_type": "stream",
          "text": [
            "\n",
            "\n",
            " 32%|███▏      | 63/200 [00:24<00:34,  4.02it/s]\u001b[A\u001b[A\n",
            "\n",
            " 32%|███▏      | 64/200 [00:24<00:30,  4.39it/s]\u001b[A\u001b[A"
          ],
          "name": "stderr"
        },
        {
          "output_type": "stream",
          "text": [
            "test  /content/drive/My Drive/dataset/Parking/E46_at_School_Parking_Lot_in_Georgia,_USA(360p) (online-video-cutter.com).mp4\n",
            "test  /content/drive/My Drive/dataset/Parking/NA_Roadster_Miata_Stance_Nation_Nagasaki_2019_Parking_Lot_Raw_Video(360p) (online-video-cutter.com).mp4\n"
          ],
          "name": "stdout"
        },
        {
          "output_type": "stream",
          "text": [
            "\n",
            "\n",
            " 32%|███▎      | 65/200 [00:24<00:29,  4.51it/s]\u001b[A\u001b[A"
          ],
          "name": "stderr"
        },
        {
          "output_type": "stream",
          "text": [
            "test  /content/drive/My Drive/dataset/Parking/Japanese_Classic_Cars_Stance_Nation_Nagasaki_2019_Parking_Lot_Raw_Video_1(360p) (online-video-cutter.com).mp4\n"
          ],
          "name": "stdout"
        },
        {
          "output_type": "stream",
          "text": [
            "\n",
            "\n",
            " 33%|███▎      | 66/200 [00:25<00:29,  4.58it/s]\u001b[A\u001b[A"
          ],
          "name": "stderr"
        },
        {
          "output_type": "stream",
          "text": [
            "test  /content/drive/My Drive/dataset/Parking/Japanese_Classic_Cars_Stance_Nation_Nagasaki_2019_Parking_Lot_Raw_Video_1(360p) (online-video-cutter.com) (1).mp4\n"
          ],
          "name": "stdout"
        },
        {
          "output_type": "stream",
          "text": [
            "\n",
            "\n",
            " 34%|███▎      | 67/200 [00:25<00:29,  4.56it/s]\u001b[A\u001b[A\n",
            "\n",
            " 34%|███▍      | 68/200 [00:25<00:27,  4.74it/s]\u001b[A\u001b[A"
          ],
          "name": "stderr"
        },
        {
          "output_type": "stream",
          "text": [
            "test  /content/drive/My Drive/dataset/Parking/SLEEPERS_GARAGE　ウチのNA8C_ロードスター最終型。(360p) (online-video-cutter.com).mp4\n",
            "test  /content/drive/My Drive/dataset/Parking/SLEEPERS_GARAGE　ウチのNA8C_ロードスター最終型。(360p) (online-video-cutter.com) (1).mp4\n"
          ],
          "name": "stdout"
        },
        {
          "output_type": "stream",
          "text": [
            "\n",
            "\n",
            " 34%|███▍      | 69/200 [00:25<00:28,  4.66it/s]\u001b[A\u001b[A"
          ],
          "name": "stderr"
        },
        {
          "output_type": "stream",
          "text": [
            "test  /content/drive/My Drive/dataset/Parking/SLEEPERS_GARAGE　ウチのNA8C_ロードスター最終型。(360p) (online-video-cutter.com) (2).mp4\n"
          ],
          "name": "stdout"
        },
        {
          "output_type": "stream",
          "text": [
            "\n",
            "\n",
            " 35%|███▌      | 70/200 [00:25<00:28,  4.64it/s]\u001b[A\u001b[A\n",
            "\n",
            " 36%|███▌      | 71/200 [00:26<00:24,  5.28it/s]\u001b[A\u001b[A"
          ],
          "name": "stderr"
        },
        {
          "output_type": "stream",
          "text": [
            "test  /content/drive/My Drive/dataset/Parking/gettyimages-1154009934-640_adpp4.mp4\n",
            "test  /content/drive/My Drive/dataset/Parking/gettyimages-1154009934-640_adpp1.mp4\n"
          ],
          "name": "stdout"
        },
        {
          "output_type": "stream",
          "text": [
            "\n",
            "\n",
            " 36%|███▌      | 72/200 [00:26<00:22,  5.66it/s]\u001b[A\u001b[A\n",
            "\n",
            " 36%|███▋      | 73/200 [00:26<00:21,  5.98it/s]\u001b[A\u001b[A"
          ],
          "name": "stderr"
        },
        {
          "output_type": "stream",
          "text": [
            "test  /content/drive/My Drive/dataset/Parking/gettyimages-1154009934-640_adpp2.mp4\n",
            "test  /content/drive/My Drive/dataset/Parking/gettyimages-1154009934-640_adpp3.mp4\n"
          ],
          "name": "stdout"
        },
        {
          "output_type": "stream",
          "text": [
            "\n",
            "\n",
            " 37%|███▋      | 74/200 [00:26<00:20,  6.01it/s]\u001b[A\u001b[A\n",
            "\n",
            " 38%|███▊      | 75/200 [00:26<00:20,  6.13it/s]\u001b[A\u001b[A"
          ],
          "name": "stderr"
        },
        {
          "output_type": "stream",
          "text": [
            "test  /content/drive/My Drive/dataset/Parking/gettyimages-1154009934-640_adpp.mp4\n",
            "test  /content/drive/My Drive/dataset/Parking/Black people sure love handicapped parking spots. (online-video-cutter.com).mp4\n"
          ],
          "name": "stdout"
        },
        {
          "output_type": "stream",
          "text": [
            "\n",
            "\n",
            " 38%|███▊      | 76/200 [00:27<00:35,  3.48it/s]\u001b[A\u001b[A"
          ],
          "name": "stderr"
        },
        {
          "output_type": "stream",
          "text": [
            "test  /content/drive/My Drive/dataset/Parking/Learn How To Park... On the left side of the road!! WITH GTA V!! (online-video-cutter.com).mp4\n"
          ],
          "name": "stdout"
        },
        {
          "output_type": "stream",
          "text": [
            "\n",
            "\n",
            " 38%|███▊      | 77/200 [00:28<00:54,  2.25it/s]\u001b[A\u001b[A"
          ],
          "name": "stderr"
        },
        {
          "output_type": "stream",
          "text": [
            "test  /content/drive/My Drive/dataset/Parking/Daikoku Futo - Real Jdm car meet in japan (online-video-cutter.com).mp4\n"
          ],
          "name": "stdout"
        },
        {
          "output_type": "stream",
          "text": [
            "\n",
            "\n",
            " 39%|███▉      | 78/200 [00:28<00:58,  2.09it/s]\u001b[A\u001b[A"
          ],
          "name": "stderr"
        },
        {
          "output_type": "stream",
          "text": [
            "test  /content/drive/My Drive/dataset/Parking/Daikoku Futo - Real Jdm car meet in japan (online-video-cutter.com) (1).mp4\n"
          ],
          "name": "stdout"
        },
        {
          "output_type": "stream",
          "text": [
            "\n",
            "\n",
            " 40%|███▉      | 79/200 [00:29<01:00,  2.00it/s]\u001b[A\u001b[A"
          ],
          "name": "stderr"
        },
        {
          "output_type": "stream",
          "text": [
            "test  /content/drive/My Drive/dataset/Parking/Daikoku Futo - Real Jdm car meet in japan (online-video-cutter.com) (2).mp4\n"
          ],
          "name": "stdout"
        },
        {
          "output_type": "stream",
          "text": [
            "\n",
            "\n",
            " 40%|████      | 80/200 [00:29<01:02,  1.92it/s]\u001b[A\u001b[A"
          ],
          "name": "stderr"
        },
        {
          "output_type": "stream",
          "text": [
            "test  /content/drive/My Drive/dataset/Parking/Daikoku Futo - Real Jdm car meet in japan (online-video-cutter.com) (3).mp4\n"
          ],
          "name": "stdout"
        },
        {
          "output_type": "stream",
          "text": [
            "\n",
            "\n",
            " 40%|████      | 81/200 [00:30<01:03,  1.88it/s]\u001b[A\u001b[A"
          ],
          "name": "stderr"
        },
        {
          "output_type": "stream",
          "text": [
            "test  /content/drive/My Drive/dataset/Parking/Daikoku Futo - Real Jdm car meet in japan (online-video-cutter.com) (4).mp4\n"
          ],
          "name": "stdout"
        },
        {
          "output_type": "stream",
          "text": [
            "\n",
            "\n",
            " 41%|████      | 82/200 [00:30<01:05,  1.80it/s]\u001b[A\u001b[A"
          ],
          "name": "stderr"
        },
        {
          "output_type": "stream",
          "text": [
            "test  /content/drive/My Drive/dataset/Parking/Daikoku Futo - Real Jdm car meet in japan (online-video-cutter.com) (5).mp4\n"
          ],
          "name": "stdout"
        },
        {
          "output_type": "stream",
          "text": [
            "\n",
            "\n",
            " 42%|████▏     | 83/200 [00:31<01:05,  1.80it/s]\u001b[A\u001b[A"
          ],
          "name": "stderr"
        },
        {
          "output_type": "stream",
          "text": [
            "test  /content/drive/My Drive/dataset/Parking/Daikoku Futo - Real Jdm car meet in japan (online-video-cutter.com) (6).mp4\n"
          ],
          "name": "stdout"
        },
        {
          "output_type": "stream",
          "text": [
            "\n",
            "\n",
            " 42%|████▏     | 84/200 [00:31<01:03,  1.83it/s]\u001b[A\u001b[A"
          ],
          "name": "stderr"
        },
        {
          "output_type": "stream",
          "text": [
            "test  /content/drive/My Drive/dataset/Parking/Daikoku Futo - Real Jdm car meet in japan (online-video-cutter.com) (7).mp4\n"
          ],
          "name": "stdout"
        },
        {
          "output_type": "stream",
          "text": [
            "\n",
            "\n",
            " 42%|████▎     | 85/200 [00:32<01:03,  1.81it/s]\u001b[A\u001b[A"
          ],
          "name": "stderr"
        },
        {
          "output_type": "stream",
          "text": [
            "test  /content/drive/My Drive/dataset/Parking/Daikoku Futo - Real Jdm car meet in japan (online-video-cutter.com) (8).mp4\n"
          ],
          "name": "stdout"
        },
        {
          "output_type": "stream",
          "text": [
            "\n",
            "\n",
            " 43%|████▎     | 86/200 [00:33<01:04,  1.78it/s]\u001b[A\u001b[A"
          ],
          "name": "stderr"
        },
        {
          "output_type": "stream",
          "text": [
            "test  /content/drive/My Drive/dataset/Parking/Daikoku Futo - Real Jdm car meet in japan (online-video-cutter.com) (9).mp4\n"
          ],
          "name": "stdout"
        },
        {
          "output_type": "stream",
          "text": [
            "\n",
            "\n",
            " 44%|████▎     | 87/200 [00:33<01:05,  1.73it/s]\u001b[A\u001b[A"
          ],
          "name": "stderr"
        },
        {
          "output_type": "stream",
          "text": [
            "test  /content/drive/My Drive/dataset/Parking/Daikoku Futo - Real Jdm car meet in japan (online-video-cutter.com) (10).mp4\n"
          ],
          "name": "stdout"
        },
        {
          "output_type": "stream",
          "text": [
            "\n",
            "\n",
            " 44%|████▍     | 88/200 [00:34<01:06,  1.69it/s]\u001b[A\u001b[A"
          ],
          "name": "stderr"
        },
        {
          "output_type": "stream",
          "text": [
            "test  /content/drive/My Drive/dataset/Parking/Daikoku Futo - Real Jdm car meet in japan (online-video-cutter.com) (11).mp4\n"
          ],
          "name": "stdout"
        },
        {
          "output_type": "stream",
          "text": [
            "\n",
            "\n",
            " 44%|████▍     | 89/200 [00:34<01:05,  1.70it/s]\u001b[A\u001b[A"
          ],
          "name": "stderr"
        },
        {
          "output_type": "stream",
          "text": [
            "test  /content/drive/My Drive/dataset/Parking/CRAZY Midnight Hong Kong JDM Car Meet! (online-video-cutter.com).mp4\n"
          ],
          "name": "stdout"
        },
        {
          "output_type": "stream",
          "text": [
            "\n",
            "\n",
            " 45%|████▌     | 90/200 [00:35<01:06,  1.67it/s]\u001b[A\u001b[A"
          ],
          "name": "stderr"
        },
        {
          "output_type": "stream",
          "text": [
            "test  /content/drive/My Drive/dataset/Parking/CRAZY Midnight Hong Kong JDM Car Meet! (online-video-cutter.com) (1).mp4\n"
          ],
          "name": "stdout"
        },
        {
          "output_type": "stream",
          "text": [
            "\n",
            "\n",
            " 46%|████▌     | 91/200 [00:36<01:07,  1.61it/s]\u001b[A\u001b[A"
          ],
          "name": "stderr"
        },
        {
          "output_type": "stream",
          "text": [
            "test  /content/drive/My Drive/dataset/Parking/CRAZY Midnight Hong Kong JDM Car Meet! (online-video-cutter.com) (2).mp4\n"
          ],
          "name": "stdout"
        },
        {
          "output_type": "stream",
          "text": [
            "\n",
            "\n",
            " 46%|████▌     | 92/200 [00:36<01:06,  1.62it/s]\u001b[A\u001b[A"
          ],
          "name": "stderr"
        },
        {
          "output_type": "stream",
          "text": [
            "test  /content/drive/My Drive/dataset/Parking/CRAZY Midnight Hong Kong JDM Car Meet! (online-video-cutter.com) (3).mp4\n"
          ],
          "name": "stdout"
        },
        {
          "output_type": "stream",
          "text": [
            "\n",
            "\n",
            " 46%|████▋     | 93/200 [00:37<01:06,  1.60it/s]\u001b[A\u001b[A"
          ],
          "name": "stderr"
        },
        {
          "output_type": "stream",
          "text": [
            "test  /content/drive/My Drive/dataset/Parking/CRAZY Midnight Hong Kong JDM Car Meet! (online-video-cutter.com) (4).mp4\n"
          ],
          "name": "stdout"
        },
        {
          "output_type": "stream",
          "text": [
            "\n",
            "\n",
            " 47%|████▋     | 94/200 [00:38<01:06,  1.59it/s]\u001b[A\u001b[A"
          ],
          "name": "stderr"
        },
        {
          "output_type": "stream",
          "text": [
            "test  /content/drive/My Drive/dataset/Parking/CRAZY Midnight Hong Kong JDM Car Meet! (online-video-cutter.com) (5).mp4\n"
          ],
          "name": "stdout"
        },
        {
          "output_type": "stream",
          "text": [
            "\n",
            "\n",
            " 48%|████▊     | 95/200 [00:38<01:07,  1.56it/s]\u001b[A\u001b[A"
          ],
          "name": "stderr"
        },
        {
          "output_type": "stream",
          "text": [
            "test  /content/drive/My Drive/dataset/Parking/CRAZY Midnight Hong Kong JDM Car Meet! (online-video-cutter.com) (6).mp4\n"
          ],
          "name": "stdout"
        },
        {
          "output_type": "stream",
          "text": [
            "\n",
            "\n",
            " 48%|████▊     | 96/200 [00:39<01:07,  1.53it/s]\u001b[A\u001b[A"
          ],
          "name": "stderr"
        },
        {
          "output_type": "stream",
          "text": [
            "test  /content/drive/My Drive/dataset/Parking/CRAZY Midnight Hong Kong JDM Car Meet! (online-video-cutter.com) (7).mp4\n"
          ],
          "name": "stdout"
        },
        {
          "output_type": "stream",
          "text": [
            "\n",
            "\n",
            " 48%|████▊     | 97/200 [00:40<01:07,  1.52it/s]\u001b[A\u001b[A"
          ],
          "name": "stderr"
        },
        {
          "output_type": "stream",
          "text": [
            "test  /content/drive/My Drive/dataset/Parking/CRAZY Midnight Hong Kong JDM Car Meet! (online-video-cutter.com) (8).mp4\n"
          ],
          "name": "stdout"
        },
        {
          "output_type": "stream",
          "text": [
            "\n",
            "\n",
            " 49%|████▉     | 98/200 [00:40<01:07,  1.51it/s]\u001b[A\u001b[A"
          ],
          "name": "stderr"
        },
        {
          "output_type": "stream",
          "text": [
            "test  /content/drive/My Drive/dataset/Parking/CRAZY Midnight Hong Kong JDM Car Meet! (online-video-cutter.com) (9).mp4\n"
          ],
          "name": "stdout"
        },
        {
          "output_type": "stream",
          "text": [
            "\n",
            "\n",
            " 50%|████▉     | 99/200 [00:41<01:07,  1.49it/s]\u001b[A\u001b[A"
          ],
          "name": "stderr"
        },
        {
          "output_type": "stream",
          "text": [
            "test  /content/drive/My Drive/dataset/Parking/How To Make Parallel Parking In A Parking Space - Car Parking Lesson - City Car Trainers 8056256498 (online-video-cutter.com).mp4\n"
          ],
          "name": "stdout"
        },
        {
          "output_type": "stream",
          "text": [
            "\n",
            "\n",
            " 50%|█████     | 100/200 [00:42<01:07,  1.48it/s]\u001b[A\u001b[A"
          ],
          "name": "stderr"
        },
        {
          "output_type": "stream",
          "text": [
            "test  /content/drive/My Drive/dataset/Parking/How To Make Parallel Parking In A Parking Space - Car Parking Lesson - City Car Trainers 8056256498 (online-video-cutter.com) (1).mp4\n"
          ],
          "name": "stdout"
        },
        {
          "output_type": "stream",
          "text": [
            "\n",
            "\n",
            " 50%|█████     | 101/200 [00:42<01:06,  1.50it/s]\u001b[A\u001b[A\n",
            "\n",
            " 51%|█████     | 102/200 [00:42<00:49,  1.99it/s]\u001b[A\u001b[A"
          ],
          "name": "stderr"
        },
        {
          "output_type": "stream",
          "text": [
            "test  /content/drive/My Drive/dataset/Parking/vidclip1.mp4\n",
            "test  /content/drive/My Drive/dataset/Parking/vidclip2.mp4\n"
          ],
          "name": "stdout"
        },
        {
          "output_type": "stream",
          "text": [
            "\n",
            "\n",
            " 52%|█████▏    | 103/200 [00:43<00:43,  2.25it/s]\u001b[A\u001b[A\n",
            "\n",
            " 52%|█████▏    | 104/200 [00:43<00:33,  2.90it/s]\u001b[A\u001b[A"
          ],
          "name": "stderr"
        },
        {
          "output_type": "stream",
          "text": [
            "test  /content/drive/My Drive/dataset/Parking/vidclip3.mp4\n",
            "test  /content/drive/My Drive/dataset/Parking/vidclip4.mp4\n"
          ],
          "name": "stdout"
        },
        {
          "output_type": "stream",
          "text": [
            "\n",
            "\n",
            " 52%|█████▎    | 105/200 [00:43<00:27,  3.43it/s]\u001b[A\u001b[A"
          ],
          "name": "stderr"
        },
        {
          "output_type": "stream",
          "text": [
            "test  /content/drive/My Drive/dataset/Parking/vidclip5.mp4\n"
          ],
          "name": "stdout"
        },
        {
          "output_type": "stream",
          "text": [
            "\n",
            "\n",
            " 53%|█████▎    | 106/200 [00:44<00:41,  2.24it/s]\u001b[A\u001b[A"
          ],
          "name": "stderr"
        },
        {
          "output_type": "stream",
          "text": [
            "test  /content/drive/My Drive/dataset/Parking/vidclip6.mp4\n"
          ],
          "name": "stdout"
        },
        {
          "output_type": "stream",
          "text": [
            "\n",
            "\n",
            " 54%|█████▎    | 107/200 [00:44<00:45,  2.03it/s]\u001b[A\u001b[A"
          ],
          "name": "stderr"
        },
        {
          "output_type": "stream",
          "text": [
            "test  /content/drive/My Drive/dataset/Parking/vidclip7.mp4\n"
          ],
          "name": "stdout"
        },
        {
          "output_type": "stream",
          "text": [
            "\n",
            "\n",
            " 54%|█████▍    | 108/200 [00:45<00:48,  1.90it/s]\u001b[A\u001b[A"
          ],
          "name": "stderr"
        },
        {
          "output_type": "stream",
          "text": [
            "test  /content/drive/My Drive/dataset/Parking/vidclip8.mp4\n"
          ],
          "name": "stdout"
        },
        {
          "output_type": "stream",
          "text": [
            "\n",
            "\n",
            " 55%|█████▍    | 109/200 [00:46<00:49,  1.83it/s]\u001b[A\u001b[A"
          ],
          "name": "stderr"
        },
        {
          "output_type": "stream",
          "text": [
            "test  /content/drive/My Drive/dataset/Parking/vidclip9.mp4\n"
          ],
          "name": "stdout"
        },
        {
          "output_type": "stream",
          "text": [
            "\n",
            "\n",
            " 55%|█████▌    | 110/200 [00:46<00:45,  1.96it/s]\u001b[A\u001b[A"
          ],
          "name": "stderr"
        },
        {
          "output_type": "stream",
          "text": [
            "test  /content/drive/My Drive/dataset/Parking/vidclip10.mp4\n"
          ],
          "name": "stdout"
        },
        {
          "output_type": "stream",
          "text": [
            "\n",
            "\n",
            " 56%|█████▌    | 111/200 [00:47<00:43,  2.05it/s]\u001b[A\u001b[A"
          ],
          "name": "stderr"
        },
        {
          "output_type": "stream",
          "text": [
            "test  /content/drive/My Drive/dataset/Parking/vidclip11.mp4\n"
          ],
          "name": "stdout"
        },
        {
          "output_type": "stream",
          "text": [
            "\n",
            "\n",
            " 56%|█████▌    | 112/200 [00:47<00:41,  2.12it/s]\u001b[A\u001b[A"
          ],
          "name": "stderr"
        },
        {
          "output_type": "stream",
          "text": [
            "test  /content/drive/My Drive/dataset/Parking/vidclip12.mp4\n"
          ],
          "name": "stdout"
        },
        {
          "output_type": "stream",
          "text": [
            "\n",
            "\n",
            " 56%|█████▋    | 113/200 [00:47<00:39,  2.18it/s]\u001b[A\u001b[A"
          ],
          "name": "stderr"
        },
        {
          "output_type": "stream",
          "text": [
            "test  /content/drive/My Drive/dataset/Parking/vidclip13.mp4\n"
          ],
          "name": "stdout"
        },
        {
          "output_type": "stream",
          "text": [
            "\n",
            "\n",
            " 57%|█████▋    | 114/200 [00:48<00:42,  2.01it/s]\u001b[A\u001b[A"
          ],
          "name": "stderr"
        },
        {
          "output_type": "stream",
          "text": [
            "test  /content/drive/My Drive/dataset/Parking/vidclip14.mp4\n"
          ],
          "name": "stdout"
        },
        {
          "output_type": "stream",
          "text": [
            "\n",
            "\n",
            " 57%|█████▊    | 115/200 [00:49<00:45,  1.88it/s]\u001b[A\u001b[A"
          ],
          "name": "stderr"
        },
        {
          "output_type": "stream",
          "text": [
            "test  /content/drive/My Drive/dataset/Parking/vidclip15.mp4\n"
          ],
          "name": "stdout"
        },
        {
          "output_type": "stream",
          "text": [
            "\n",
            "\n",
            " 58%|█████▊    | 116/200 [00:49<00:42,  1.99it/s]\u001b[A\u001b[A"
          ],
          "name": "stderr"
        },
        {
          "output_type": "stream",
          "text": [
            "test  /content/drive/My Drive/dataset/Parking/vidclip16.mp4\n"
          ],
          "name": "stdout"
        },
        {
          "output_type": "stream",
          "text": [
            "\n",
            "\n",
            " 58%|█████▊    | 117/200 [00:49<00:39,  2.08it/s]\u001b[A\u001b[A"
          ],
          "name": "stderr"
        },
        {
          "output_type": "stream",
          "text": [
            "test  /content/drive/My Drive/dataset/Parking/vidclip17.mp4\n"
          ],
          "name": "stdout"
        },
        {
          "output_type": "stream",
          "text": [
            "\n",
            "\n",
            " 59%|█████▉    | 118/200 [00:50<00:39,  2.09it/s]\u001b[A\u001b[A"
          ],
          "name": "stderr"
        },
        {
          "output_type": "stream",
          "text": [
            "test  /content/drive/My Drive/dataset/Parking/vidclip18.mp4\n"
          ],
          "name": "stdout"
        },
        {
          "output_type": "stream",
          "text": [
            "\n",
            "\n",
            " 60%|█████▉    | 119/200 [00:50<00:38,  2.11it/s]\u001b[A\u001b[A"
          ],
          "name": "stderr"
        },
        {
          "output_type": "stream",
          "text": [
            "test  /content/drive/My Drive/dataset/Parking/vidclip19.mp4\n"
          ],
          "name": "stdout"
        },
        {
          "output_type": "stream",
          "text": [
            "\n",
            "\n",
            " 60%|██████    | 120/200 [00:51<00:37,  2.16it/s]\u001b[A\u001b[A"
          ],
          "name": "stderr"
        },
        {
          "output_type": "stream",
          "text": [
            "test  /content/drive/My Drive/dataset/Parking/vidclip20.mp4\n"
          ],
          "name": "stdout"
        },
        {
          "output_type": "stream",
          "text": [
            "\n",
            "\n",
            " 60%|██████    | 121/200 [00:51<00:36,  2.18it/s]\u001b[A\u001b[A"
          ],
          "name": "stderr"
        },
        {
          "output_type": "stream",
          "text": [
            "test  /content/drive/My Drive/dataset/Parking/vidclip21.mp4\n"
          ],
          "name": "stdout"
        },
        {
          "output_type": "stream",
          "text": [
            "\n",
            "\n",
            " 61%|██████    | 122/200 [00:52<00:42,  1.85it/s]\u001b[A\u001b[A"
          ],
          "name": "stderr"
        },
        {
          "output_type": "stream",
          "text": [
            "test  /content/drive/My Drive/dataset/Parking/vidclip22.mp4\n"
          ],
          "name": "stdout"
        },
        {
          "output_type": "stream",
          "text": [
            "\n",
            "\n",
            " 62%|██████▏   | 123/200 [00:53<00:45,  1.68it/s]\u001b[A\u001b[A"
          ],
          "name": "stderr"
        },
        {
          "output_type": "stream",
          "text": [
            "test  /content/drive/My Drive/dataset/Parking/vidclip23.mp4\n"
          ],
          "name": "stdout"
        },
        {
          "output_type": "stream",
          "text": [
            "\n",
            "\n",
            " 62%|██████▏   | 124/200 [00:53<00:43,  1.74it/s]\u001b[A\u001b[A"
          ],
          "name": "stderr"
        },
        {
          "output_type": "stream",
          "text": [
            "test  /content/drive/My Drive/dataset/Parking/vidclip24.mp4\n"
          ],
          "name": "stdout"
        },
        {
          "output_type": "stream",
          "text": [
            "\n",
            "\n",
            " 62%|██████▎   | 125/200 [00:54<00:42,  1.75it/s]\u001b[A\u001b[A"
          ],
          "name": "stderr"
        },
        {
          "output_type": "stream",
          "text": [
            "test  /content/drive/My Drive/dataset/Parking/vidclip25.mp4\n"
          ],
          "name": "stdout"
        },
        {
          "output_type": "stream",
          "text": [
            "\n",
            "\n",
            " 63%|██████▎   | 126/200 [00:54<00:41,  1.80it/s]\u001b[A\u001b[A\n",
            "\n",
            " 64%|██████▎   | 127/200 [00:54<00:32,  2.27it/s]\u001b[A\u001b[A"
          ],
          "name": "stderr"
        },
        {
          "output_type": "stream",
          "text": [
            "test  /content/drive/My Drive/dataset/Parking/vidclip26.mp4\n",
            "test  /content/drive/My Drive/dataset/Parking/vidclip27.mp4\n"
          ],
          "name": "stdout"
        },
        {
          "output_type": "stream",
          "text": [
            "\n",
            "\n",
            " 64%|██████▍   | 128/200 [00:55<00:25,  2.81it/s]\u001b[A\u001b[A\n",
            "\n",
            " 64%|██████▍   | 129/200 [00:55<00:21,  3.36it/s]\u001b[A\u001b[A"
          ],
          "name": "stderr"
        },
        {
          "output_type": "stream",
          "text": [
            "test  /content/drive/My Drive/dataset/Parking/vidclip28.mp4\n",
            "test  /content/drive/My Drive/dataset/Parking/vidclip29.mp4\n"
          ],
          "name": "stdout"
        },
        {
          "output_type": "stream",
          "text": [
            "\n",
            "\n",
            " 65%|██████▌   | 130/200 [00:56<00:38,  1.83it/s]\u001b[A\u001b[A"
          ],
          "name": "stderr"
        },
        {
          "output_type": "stream",
          "text": [
            "test  /content/drive/My Drive/dataset/Parking/vidclip30.mp4\n"
          ],
          "name": "stdout"
        },
        {
          "output_type": "stream",
          "text": [
            "\n",
            "\n",
            " 66%|██████▌   | 131/200 [00:57<00:48,  1.41it/s]\u001b[A\u001b[A"
          ],
          "name": "stderr"
        },
        {
          "output_type": "stream",
          "text": [
            "test  /content/drive/My Drive/dataset/Parking/vidclip31.mp4\n"
          ],
          "name": "stdout"
        },
        {
          "output_type": "stream",
          "text": [
            "\n",
            "\n",
            " 66%|██████▌   | 132/200 [00:57<00:40,  1.67it/s]\u001b[A\u001b[A\n",
            "\n",
            " 66%|██████▋   | 133/200 [00:58<00:31,  2.10it/s]\u001b[A\u001b[A"
          ],
          "name": "stderr"
        },
        {
          "output_type": "stream",
          "text": [
            "test  /content/drive/My Drive/dataset/Parking/vidclip32.mp4\n",
            "test  /content/drive/My Drive/dataset/Parking/vidclip33.mp4\n"
          ],
          "name": "stdout"
        },
        {
          "output_type": "stream",
          "text": [
            "\n",
            "\n",
            " 67%|██████▋   | 134/200 [00:59<00:42,  1.55it/s]\u001b[A\u001b[A\n",
            "\n",
            " 68%|██████▊   | 135/200 [00:59<00:32,  1.98it/s]\u001b[A\u001b[A"
          ],
          "name": "stderr"
        },
        {
          "output_type": "stream",
          "text": [
            "test  /content/drive/My Drive/dataset/Parking/vidclip34.mp4\n",
            "test  /content/drive/My Drive/dataset/Parking/vidclip35.mp4\n"
          ],
          "name": "stdout"
        },
        {
          "output_type": "stream",
          "text": [
            "\n",
            "\n",
            " 68%|██████▊   | 137/200 [00:59<00:24,  2.57it/s]\u001b[A\u001b[A"
          ],
          "name": "stderr"
        },
        {
          "output_type": "stream",
          "text": [
            "test  /content/drive/My Drive/dataset/Parking/vidclip36.mp4\n",
            "test  /content/drive/My Drive/dataset/Parking/vidclip37.mp4\n"
          ],
          "name": "stdout"
        },
        {
          "output_type": "stream",
          "text": [
            "\n",
            "\n",
            " 69%|██████▉   | 138/200 [00:59<00:22,  2.77it/s]\u001b[A\u001b[A"
          ],
          "name": "stderr"
        },
        {
          "output_type": "stream",
          "text": [
            "test  /content/drive/My Drive/dataset/Parking/vidclip38.mp4\n"
          ],
          "name": "stdout"
        },
        {
          "output_type": "stream",
          "text": [
            "\n",
            "\n",
            " 70%|██████▉   | 139/200 [01:00<00:19,  3.13it/s]\u001b[A\u001b[A\n",
            "\n",
            " 70%|███████   | 140/200 [01:00<00:15,  3.90it/s]\u001b[A\u001b[A"
          ],
          "name": "stderr"
        },
        {
          "output_type": "stream",
          "text": [
            "test  /content/drive/My Drive/dataset/Parking/vidclip39.mp4\n",
            "test  /content/drive/My Drive/dataset/Parking/vidclip40.mp4\n"
          ],
          "name": "stdout"
        },
        {
          "output_type": "stream",
          "text": [
            "\n",
            "\n",
            " 70%|███████   | 141/200 [01:00<00:15,  3.74it/s]\u001b[A\u001b[A\n",
            "\n",
            " 71%|███████   | 142/200 [01:00<00:13,  4.15it/s]\u001b[A\u001b[A"
          ],
          "name": "stderr"
        },
        {
          "output_type": "stream",
          "text": [
            "test  /content/drive/My Drive/dataset/Parking/vidclip41.mp4\n",
            "test  /content/drive/My Drive/dataset/Parking/vidclip42.mp4\n"
          ],
          "name": "stdout"
        },
        {
          "output_type": "stream",
          "text": [
            "\n",
            "\n",
            " 72%|███████▏  | 143/200 [01:00<00:12,  4.53it/s]\u001b[A\u001b[A"
          ],
          "name": "stderr"
        },
        {
          "output_type": "stream",
          "text": [
            "test  /content/drive/My Drive/dataset/Parking/vidclip43.mp4\n"
          ],
          "name": "stdout"
        },
        {
          "output_type": "stream",
          "text": [
            "\n",
            "\n",
            " 72%|███████▏  | 144/200 [01:01<00:18,  3.01it/s]\u001b[A\u001b[A\n",
            "\n"
          ],
          "name": "stderr"
        },
        {
          "output_type": "stream",
          "text": [
            "test  /content/drive/My Drive/dataset/Parking/vidclip44.mp4\n"
          ],
          "name": "stdout"
        },
        {
          "output_type": "stream",
          "text": [
            "\r 72%|███████▎  | 145/200 [01:01<00:16,  3.40it/s]\u001b[A\u001b[A\n",
            "\n",
            " 73%|███████▎  | 146/200 [01:01<00:14,  3.74it/s]\u001b[A\u001b[A"
          ],
          "name": "stderr"
        },
        {
          "output_type": "stream",
          "text": [
            "test  /content/drive/My Drive/dataset/Parking/vidclip45.mp4\n",
            "test  /content/drive/My Drive/dataset/Parking/vidclip46.mp4\n"
          ],
          "name": "stdout"
        },
        {
          "output_type": "stream",
          "text": [
            "\n",
            "\n",
            " 74%|███████▎  | 147/200 [01:02<00:17,  2.96it/s]\u001b[A\u001b[A"
          ],
          "name": "stderr"
        },
        {
          "output_type": "stream",
          "text": [
            "test  /content/drive/My Drive/dataset/Parking/vidclip47.mp4\n"
          ],
          "name": "stdout"
        },
        {
          "output_type": "stream",
          "text": [
            "\n",
            "\n",
            " 74%|███████▍  | 148/200 [01:02<00:19,  2.64it/s]\u001b[A\u001b[A"
          ],
          "name": "stderr"
        },
        {
          "output_type": "stream",
          "text": [
            "test  /content/drive/My Drive/dataset/Parking/vidclip48.mp4\n"
          ],
          "name": "stdout"
        },
        {
          "output_type": "stream",
          "text": [
            "\n",
            "\n",
            " 74%|███████▍  | 149/200 [01:03<00:22,  2.28it/s]\u001b[A\u001b[A"
          ],
          "name": "stderr"
        },
        {
          "output_type": "stream",
          "text": [
            "test  /content/drive/My Drive/dataset/Parking/vidclip49.mp4\n"
          ],
          "name": "stdout"
        },
        {
          "output_type": "stream",
          "text": [
            "\n",
            "\n",
            " 75%|███████▌  | 150/200 [01:03<00:19,  2.62it/s]\u001b[A\u001b[A"
          ],
          "name": "stderr"
        },
        {
          "output_type": "stream",
          "text": [
            "test  /content/drive/My Drive/dataset/Parking/vidclip50.mp4\n"
          ],
          "name": "stdout"
        },
        {
          "output_type": "stream",
          "text": [
            "\n",
            "\n",
            " 76%|███████▌  | 151/200 [01:03<00:16,  2.98it/s]\u001b[A\u001b[A"
          ],
          "name": "stderr"
        },
        {
          "output_type": "stream",
          "text": [
            "test  /content/drive/My Drive/dataset/Parking/vidclip51.mp4\n"
          ],
          "name": "stdout"
        },
        {
          "output_type": "stream",
          "text": [
            "\n",
            "\n",
            " 76%|███████▌  | 152/200 [01:04<00:14,  3.27it/s]\u001b[A\u001b[A"
          ],
          "name": "stderr"
        },
        {
          "output_type": "stream",
          "text": [
            "test  /content/drive/My Drive/dataset/Parking/vidclip52.mp4\n"
          ],
          "name": "stdout"
        },
        {
          "output_type": "stream",
          "text": [
            "\n",
            "\n",
            " 76%|███████▋  | 153/200 [01:04<00:13,  3.47it/s]\u001b[A\u001b[A"
          ],
          "name": "stderr"
        },
        {
          "output_type": "stream",
          "text": [
            "test  /content/drive/My Drive/dataset/Parking/vidclip53.mp4\n"
          ],
          "name": "stdout"
        },
        {
          "output_type": "stream",
          "text": [
            "\n",
            "\n",
            " 77%|███████▋  | 154/200 [01:05<00:30,  1.50it/s]\u001b[A\u001b[A"
          ],
          "name": "stderr"
        },
        {
          "output_type": "stream",
          "text": [
            "test  /content/drive/My Drive/dataset/Parking/vidclip54.mp4\n"
          ],
          "name": "stdout"
        },
        {
          "output_type": "stream",
          "text": [
            "\n",
            "\n",
            " 78%|███████▊  | 155/200 [01:06<00:24,  1.84it/s]\u001b[A\u001b[A"
          ],
          "name": "stderr"
        },
        {
          "output_type": "stream",
          "text": [
            "test  /content/drive/My Drive/dataset/Parking/vidclip55.mp4\n"
          ],
          "name": "stdout"
        },
        {
          "output_type": "stream",
          "text": [
            "\n",
            "\n",
            " 78%|███████▊  | 156/200 [01:06<00:19,  2.24it/s]\u001b[A\u001b[A\n",
            "\n",
            " 78%|███████▊  | 157/200 [01:06<00:15,  2.73it/s]\u001b[A\u001b[A"
          ],
          "name": "stderr"
        },
        {
          "output_type": "stream",
          "text": [
            "test  /content/drive/My Drive/dataset/Parking/vidclip56.mp4\n",
            "test  /content/drive/My Drive/dataset/Parking/vidclip57.mp4\n"
          ],
          "name": "stdout"
        },
        {
          "output_type": "stream",
          "text": [
            "\n",
            "\n",
            " 79%|███████▉  | 158/200 [01:06<00:13,  3.19it/s]\u001b[A\u001b[A"
          ],
          "name": "stderr"
        },
        {
          "output_type": "stream",
          "text": [
            "test  /content/drive/My Drive/dataset/Parking/vidclip58.mp4\n"
          ],
          "name": "stdout"
        },
        {
          "output_type": "stream",
          "text": [
            "\n",
            "\n",
            " 80%|███████▉  | 159/200 [01:06<00:11,  3.50it/s]\u001b[A\u001b[A\n",
            "\n",
            " 80%|████████  | 160/200 [01:07<00:10,  3.85it/s]\u001b[A\u001b[A"
          ],
          "name": "stderr"
        },
        {
          "output_type": "stream",
          "text": [
            "test  /content/drive/My Drive/dataset/Parking/vidclip59.mp4\n",
            "test  /content/drive/My Drive/dataset/Parking/vidclip60.mp4\n"
          ],
          "name": "stdout"
        },
        {
          "output_type": "stream",
          "text": [
            "\n",
            "\n",
            " 80%|████████  | 161/200 [01:07<00:09,  4.09it/s]\u001b[A\u001b[A\n",
            "\n",
            " 81%|████████  | 162/200 [01:07<00:08,  4.30it/s]"
          ],
          "name": "stderr"
        },
        {
          "output_type": "stream",
          "text": [
            "test  /content/drive/My Drive/dataset/Parking/vidclip61.mp4\n"
          ],
          "name": "stdout"
        },
        {
          "output_type": "stream",
          "text": [
            "\u001b[A\u001b[A"
          ],
          "name": "stderr"
        },
        {
          "output_type": "stream",
          "text": [
            "test  /content/drive/My Drive/dataset/Parking/vidclip62.mp4\n"
          ],
          "name": "stdout"
        },
        {
          "output_type": "stream",
          "text": [
            "\n",
            "\n",
            " 82%|████████▏ | 163/200 [01:07<00:08,  4.26it/s]\u001b[A\u001b[A\n",
            "\n",
            " 82%|████████▏ | 164/200 [01:07<00:07,  4.69it/s]\u001b[A\u001b[A"
          ],
          "name": "stderr"
        },
        {
          "output_type": "stream",
          "text": [
            "test  /content/drive/My Drive/dataset/Parking/vidclip63.mp4\n",
            "test  /content/drive/My Drive/dataset/Parking/vidclip64.mp4\n"
          ],
          "name": "stdout"
        },
        {
          "output_type": "stream",
          "text": [
            "\n",
            "\n",
            " 82%|████████▎ | 165/200 [01:08<00:07,  4.71it/s]\u001b[A\u001b[A"
          ],
          "name": "stderr"
        },
        {
          "output_type": "stream",
          "text": [
            "test  /content/drive/My Drive/dataset/Parking/vidclip65.mp4\n"
          ],
          "name": "stdout"
        },
        {
          "output_type": "stream",
          "text": [
            "\n",
            "\n",
            " 83%|████████▎ | 166/200 [01:08<00:07,  4.65it/s]\u001b[A\u001b[A"
          ],
          "name": "stderr"
        },
        {
          "output_type": "stream",
          "text": [
            "test  /content/drive/My Drive/dataset/Parking/vidclip66.mp4\n"
          ],
          "name": "stdout"
        },
        {
          "output_type": "stream",
          "text": [
            "\n",
            "\n",
            " 84%|████████▎ | 167/200 [01:08<00:07,  4.59it/s]\u001b[A\u001b[A\n",
            "\n",
            " 84%|████████▍ | 168/200 [01:08<00:06,  4.79it/s]\u001b[A\u001b[A"
          ],
          "name": "stderr"
        },
        {
          "output_type": "stream",
          "text": [
            "test  /content/drive/My Drive/dataset/Parking/vidclip67.mp4\n",
            "test  /content/drive/My Drive/dataset/Parking/vidclip68.mp4\n"
          ],
          "name": "stdout"
        },
        {
          "output_type": "stream",
          "text": [
            "\n",
            "\n",
            " 84%|████████▍ | 169/200 [01:08<00:06,  4.79it/s]\u001b[A\u001b[A"
          ],
          "name": "stderr"
        },
        {
          "output_type": "stream",
          "text": [
            "test  /content/drive/My Drive/dataset/Parking/vidclip69.mp4\n"
          ],
          "name": "stdout"
        },
        {
          "output_type": "stream",
          "text": [
            "\n",
            "\n",
            " 85%|████████▌ | 170/200 [01:09<00:06,  4.72it/s]\u001b[A\u001b[A"
          ],
          "name": "stderr"
        },
        {
          "output_type": "stream",
          "text": [
            "test  /content/drive/My Drive/dataset/Parking/vidclip70.mp4\n"
          ],
          "name": "stdout"
        },
        {
          "output_type": "stream",
          "text": [
            "\n",
            "\n",
            " 86%|████████▌ | 171/200 [01:09<00:06,  4.59it/s]\u001b[A\u001b[A"
          ],
          "name": "stderr"
        },
        {
          "output_type": "stream",
          "text": [
            "test  /content/drive/My Drive/dataset/Parking/vidclip71.mp4\n"
          ],
          "name": "stdout"
        },
        {
          "output_type": "stream",
          "text": [
            "\n",
            "\n",
            " 86%|████████▌ | 172/200 [01:09<00:06,  4.36it/s]\u001b[A\u001b[A"
          ],
          "name": "stderr"
        },
        {
          "output_type": "stream",
          "text": [
            "test  /content/drive/My Drive/dataset/Parking/vidclip72.mp4\n"
          ],
          "name": "stdout"
        },
        {
          "output_type": "stream",
          "text": [
            "\n",
            "\n",
            " 86%|████████▋ | 173/200 [01:09<00:06,  4.27it/s]\u001b[A\u001b[A"
          ],
          "name": "stderr"
        },
        {
          "output_type": "stream",
          "text": [
            "test  /content/drive/My Drive/dataset/Parking/vidclip73.mp4\n"
          ],
          "name": "stdout"
        },
        {
          "output_type": "stream",
          "text": [
            "\n",
            "\n",
            " 87%|████████▋ | 174/200 [01:10<00:06,  4.19it/s]\u001b[A\u001b[A"
          ],
          "name": "stderr"
        },
        {
          "output_type": "stream",
          "text": [
            "test  /content/drive/My Drive/dataset/Parking/vidclip74.mp4\n"
          ],
          "name": "stdout"
        },
        {
          "output_type": "stream",
          "text": [
            "\n",
            "\n",
            " 88%|████████▊ | 175/200 [01:10<00:06,  4.09it/s]\u001b[A\u001b[A"
          ],
          "name": "stderr"
        },
        {
          "output_type": "stream",
          "text": [
            "test  /content/drive/My Drive/dataset/Parking/vidclip75.mp4\n"
          ],
          "name": "stdout"
        },
        {
          "output_type": "stream",
          "text": [
            "\n",
            "\n",
            " 88%|████████▊ | 176/200 [01:11<00:08,  2.92it/s]\u001b[A\u001b[A"
          ],
          "name": "stderr"
        },
        {
          "output_type": "stream",
          "text": [
            "test  /content/drive/My Drive/dataset/Parking/vidclip76.mp4\n"
          ],
          "name": "stdout"
        },
        {
          "output_type": "stream",
          "text": [
            "\n",
            "\n",
            " 88%|████████▊ | 177/200 [01:11<00:10,  2.16it/s]\u001b[A\u001b[A"
          ],
          "name": "stderr"
        },
        {
          "output_type": "stream",
          "text": [
            "test  /content/drive/My Drive/dataset/Parking/vidclip77.mp4\n"
          ],
          "name": "stdout"
        },
        {
          "output_type": "stream",
          "text": [
            "\n",
            "\n",
            " 89%|████████▉ | 178/200 [01:12<00:10,  2.04it/s]\u001b[A\u001b[A"
          ],
          "name": "stderr"
        },
        {
          "output_type": "stream",
          "text": [
            "test  /content/drive/My Drive/dataset/Parking/vidclip78.mp4\n"
          ],
          "name": "stdout"
        },
        {
          "output_type": "stream",
          "text": [
            "\n",
            "\n",
            " 90%|████████▉ | 179/200 [01:12<00:10,  1.98it/s]\u001b[A\u001b[A"
          ],
          "name": "stderr"
        },
        {
          "output_type": "stream",
          "text": [
            "test  /content/drive/My Drive/dataset/Parking/vidclip79.mp4\n"
          ],
          "name": "stdout"
        },
        {
          "output_type": "stream",
          "text": [
            "\n",
            "\n",
            " 90%|█████████ | 180/200 [01:13<00:10,  1.95it/s]\u001b[A\u001b[A"
          ],
          "name": "stderr"
        },
        {
          "output_type": "stream",
          "text": [
            "test  /content/drive/My Drive/dataset/Parking/vidclip80.mp4\n"
          ],
          "name": "stdout"
        },
        {
          "output_type": "stream",
          "text": [
            "\n",
            "\n",
            " 90%|█████████ | 181/200 [01:13<00:10,  1.89it/s]\u001b[A\u001b[A"
          ],
          "name": "stderr"
        },
        {
          "output_type": "stream",
          "text": [
            "test  /content/drive/My Drive/dataset/Parking/vidclip81.mp4\n"
          ],
          "name": "stdout"
        },
        {
          "output_type": "stream",
          "text": [
            "\n",
            "\n",
            " 91%|█████████ | 182/200 [01:14<00:09,  1.82it/s]\u001b[A\u001b[A"
          ],
          "name": "stderr"
        },
        {
          "output_type": "stream",
          "text": [
            "test  /content/drive/My Drive/dataset/Parking/vidclip82.mp4\n"
          ],
          "name": "stdout"
        },
        {
          "output_type": "stream",
          "text": [
            "\n",
            "\n",
            " 92%|█████████▏| 183/200 [01:15<00:09,  1.80it/s]\u001b[A\u001b[A"
          ],
          "name": "stderr"
        },
        {
          "output_type": "stream",
          "text": [
            "test  /content/drive/My Drive/dataset/Parking/vidclip83.mp4\n"
          ],
          "name": "stdout"
        },
        {
          "output_type": "stream",
          "text": [
            "\n",
            "\n",
            " 92%|█████████▏| 184/200 [01:15<00:08,  1.83it/s]\u001b[A\u001b[A"
          ],
          "name": "stderr"
        },
        {
          "output_type": "stream",
          "text": [
            "test  /content/drive/My Drive/dataset/Parking/vidclip84.mp4\n"
          ],
          "name": "stdout"
        },
        {
          "output_type": "stream",
          "text": [
            "\n",
            "\n",
            " 92%|█████████▎| 185/200 [01:16<00:08,  1.81it/s]\u001b[A\u001b[A"
          ],
          "name": "stderr"
        },
        {
          "output_type": "stream",
          "text": [
            "test  /content/drive/My Drive/dataset/Parking/vidclip85.mp4\n"
          ],
          "name": "stdout"
        },
        {
          "output_type": "stream",
          "text": [
            "\n",
            "\n",
            " 93%|█████████▎| 186/200 [01:16<00:07,  1.81it/s]\u001b[A\u001b[A"
          ],
          "name": "stderr"
        },
        {
          "output_type": "stream",
          "text": [
            "test  /content/drive/My Drive/dataset/Parking/vidclip86.mp4\n"
          ],
          "name": "stdout"
        },
        {
          "output_type": "stream",
          "text": [
            "\n",
            "\n",
            " 94%|█████████▎| 187/200 [01:17<00:07,  1.76it/s]\u001b[A\u001b[A"
          ],
          "name": "stderr"
        },
        {
          "output_type": "stream",
          "text": [
            "test  /content/drive/My Drive/dataset/Parking/vidclip87.mp4\n"
          ],
          "name": "stdout"
        },
        {
          "output_type": "stream",
          "text": [
            "\n",
            "\n",
            " 94%|█████████▍| 188/200 [01:17<00:07,  1.71it/s]\u001b[A\u001b[A"
          ],
          "name": "stderr"
        },
        {
          "output_type": "stream",
          "text": [
            "test  /content/drive/My Drive/dataset/Parking/vidclip88.mp4\n"
          ],
          "name": "stdout"
        },
        {
          "output_type": "stream",
          "text": [
            "\n",
            "\n",
            " 94%|█████████▍| 189/200 [01:18<00:06,  1.73it/s]\u001b[A\u001b[A"
          ],
          "name": "stderr"
        },
        {
          "output_type": "stream",
          "text": [
            "test  /content/drive/My Drive/dataset/Parking/vidclip89.mp4\n"
          ],
          "name": "stdout"
        },
        {
          "output_type": "stream",
          "text": [
            "\n",
            "\n",
            " 95%|█████████▌| 190/200 [01:19<00:05,  1.71it/s]\u001b[A\u001b[A"
          ],
          "name": "stderr"
        },
        {
          "output_type": "stream",
          "text": [
            "test  /content/drive/My Drive/dataset/Parking/vidclip90.mp4\n"
          ],
          "name": "stdout"
        },
        {
          "output_type": "stream",
          "text": [
            "\n",
            "\n",
            " 96%|█████████▌| 191/200 [01:19<00:05,  1.65it/s]\u001b[A\u001b[A"
          ],
          "name": "stderr"
        },
        {
          "output_type": "stream",
          "text": [
            "test  /content/drive/My Drive/dataset/Parking/vidclip91.mp4\n"
          ],
          "name": "stdout"
        },
        {
          "output_type": "stream",
          "text": [
            "\n",
            "\n",
            " 96%|█████████▌| 192/200 [01:20<00:04,  1.65it/s]\u001b[A\u001b[A"
          ],
          "name": "stderr"
        },
        {
          "output_type": "stream",
          "text": [
            "test  /content/drive/My Drive/dataset/Parking/vidclip92.mp4\n"
          ],
          "name": "stdout"
        },
        {
          "output_type": "stream",
          "text": [
            "\n",
            "\n",
            " 96%|█████████▋| 193/200 [01:21<00:04,  1.64it/s]\u001b[A\u001b[A"
          ],
          "name": "stderr"
        },
        {
          "output_type": "stream",
          "text": [
            "test  /content/drive/My Drive/dataset/Parking/vidclip93.mp4\n"
          ],
          "name": "stdout"
        },
        {
          "output_type": "stream",
          "text": [
            "\n",
            "\n",
            " 97%|█████████▋| 194/200 [01:21<00:03,  1.63it/s]\u001b[A\u001b[A"
          ],
          "name": "stderr"
        },
        {
          "output_type": "stream",
          "text": [
            "test  /content/drive/My Drive/dataset/Parking/vidclip94.mp4\n"
          ],
          "name": "stdout"
        },
        {
          "output_type": "stream",
          "text": [
            "\n",
            "\n",
            " 98%|█████████▊| 195/200 [01:22<00:03,  1.61it/s]\u001b[A\u001b[A"
          ],
          "name": "stderr"
        },
        {
          "output_type": "stream",
          "text": [
            "test  /content/drive/My Drive/dataset/Parking/vidclip95.mp4\n"
          ],
          "name": "stdout"
        },
        {
          "output_type": "stream",
          "text": [
            "\n",
            "\n",
            " 98%|█████████▊| 196/200 [01:22<00:02,  1.59it/s]\u001b[A\u001b[A"
          ],
          "name": "stderr"
        },
        {
          "output_type": "stream",
          "text": [
            "test  /content/drive/My Drive/dataset/Parking/vidclip96.mp4\n"
          ],
          "name": "stdout"
        },
        {
          "output_type": "stream",
          "text": [
            "\n",
            "\n",
            " 98%|█████████▊| 197/200 [01:23<00:01,  1.58it/s]\u001b[A\u001b[A"
          ],
          "name": "stderr"
        },
        {
          "output_type": "stream",
          "text": [
            "test  /content/drive/My Drive/dataset/Parking/vidclip97.mp4\n"
          ],
          "name": "stdout"
        },
        {
          "output_type": "stream",
          "text": [
            "\n",
            "\n",
            " 99%|█████████▉| 198/200 [01:24<00:01,  1.58it/s]\u001b[A\u001b[A"
          ],
          "name": "stderr"
        },
        {
          "output_type": "stream",
          "text": [
            "test  /content/drive/My Drive/dataset/Parking/vidclip98.mp4\n"
          ],
          "name": "stdout"
        },
        {
          "output_type": "stream",
          "text": [
            "\n",
            "\n",
            "100%|█████████▉| 199/200 [01:24<00:00,  1.55it/s]\u001b[A\u001b[A"
          ],
          "name": "stderr"
        },
        {
          "output_type": "stream",
          "text": [
            "test  /content/drive/My Drive/dataset/Parking/vidclip99.mp4\n"
          ],
          "name": "stdout"
        },
        {
          "output_type": "stream",
          "text": [
            "\n",
            "\n",
            "100%|██████████| 200/200 [01:25<00:00,  1.55it/s]\u001b[A\u001b[A"
          ],
          "name": "stderr"
        },
        {
          "output_type": "stream",
          "text": [
            "test  /content/drive/My Drive/dataset/Parking/vidclip100.mp4\n"
          ],
          "name": "stdout"
        },
        {
          "output_type": "stream",
          "text": [
            "\r100%|██████████| 200/200 [01:26<00:00,  2.32it/s]\n",
            "\n",
            "\n",
            "  0%|          | 0/200 [00:00<?, ?it/s]\u001b[A\u001b[A\n",
            "\n",
            "  1%|          | 2/200 [00:00<00:19, 10.40it/s]\u001b[A\u001b[A"
          ],
          "name": "stderr"
        },
        {
          "output_type": "stream",
          "text": [
            "test  /content/drive/My Drive/dataset/No_Parking/ISLab-04.mp4\n",
            "test  /content/drive/My Drive/dataset/No_Parking/ISLab-05.mp4\n"
          ],
          "name": "stdout"
        },
        {
          "output_type": "stream",
          "text": [
            "\n",
            "\n",
            "  2%|▏         | 3/200 [00:00<00:25,  7.74it/s]\u001b[A\u001b[A\n",
            "\n",
            "  2%|▏         | 4/200 [00:00<00:29,  6.69it/s]\u001b[A\u001b[A"
          ],
          "name": "stderr"
        },
        {
          "output_type": "stream",
          "text": [
            "test  /content/drive/My Drive/dataset/No_Parking/ISLab-06.mp4\n",
            "test  /content/drive/My Drive/dataset/No_Parking/ISLab-07.mp4\n"
          ],
          "name": "stdout"
        },
        {
          "output_type": "stream",
          "text": [
            "\n",
            "\n",
            "  2%|▎         | 5/200 [00:00<00:32,  6.07it/s]\u001b[A\u001b[A\n",
            "\n",
            "  3%|▎         | 6/200 [00:00<00:33,  5.77it/s]\u001b[A\u001b[A"
          ],
          "name": "stderr"
        },
        {
          "output_type": "stream",
          "text": [
            "test  /content/drive/My Drive/dataset/No_Parking/ISLab-08.mp4\n",
            "test  /content/drive/My Drive/dataset/No_Parking/ISLab-09.mp4\n"
          ],
          "name": "stdout"
        },
        {
          "output_type": "stream",
          "text": [
            "\n",
            "\n",
            "  4%|▎         | 7/200 [00:01<00:34,  5.54it/s]\u001b[A\u001b[A\n",
            "\n",
            "  4%|▍         | 8/200 [00:01<00:34,  5.53it/s]\u001b[A\u001b[A"
          ],
          "name": "stderr"
        },
        {
          "output_type": "stream",
          "text": [
            "test  /content/drive/My Drive/dataset/No_Parking/ISLab-10.mp4\n",
            "test  /content/drive/My Drive/dataset/No_Parking/ISLab-11.mp4\n"
          ],
          "name": "stdout"
        },
        {
          "output_type": "stream",
          "text": [
            "\n",
            "\n",
            "  4%|▍         | 9/200 [00:01<00:35,  5.43it/s]\u001b[A\u001b[A\n",
            "\n",
            "  5%|▌         | 10/200 [00:01<00:34,  5.43it/s]\u001b[A\u001b[A"
          ],
          "name": "stderr"
        },
        {
          "output_type": "stream",
          "text": [
            "test  /content/drive/My Drive/dataset/No_Parking/ISLab-12.mp4\n",
            "test  /content/drive/My Drive/dataset/No_Parking/ISLab-15.mp4\n"
          ],
          "name": "stdout"
        },
        {
          "output_type": "stream",
          "text": [
            "\n",
            "\n",
            "  6%|▌         | 11/200 [00:01<00:31,  5.97it/s]\u001b[A\u001b[A\n",
            "\n",
            "  6%|▌         | 12/200 [00:02<00:31,  6.04it/s]\u001b[A\u001b[A"
          ],
          "name": "stderr"
        },
        {
          "output_type": "stream",
          "text": [
            "test  /content/drive/My Drive/dataset/No_Parking/ISLab-16.mp4\n",
            "test  /content/drive/My Drive/dataset/No_Parking/ISLab-13.mp4\n"
          ],
          "name": "stdout"
        },
        {
          "output_type": "stream",
          "text": [
            "\n",
            "\n",
            "  6%|▋         | 13/200 [00:02<00:32,  5.72it/s]\u001b[A\u001b[A"
          ],
          "name": "stderr"
        },
        {
          "output_type": "stream",
          "text": [
            "test  /content/drive/My Drive/dataset/No_Parking/VID_20200605_113022.mp4\n"
          ],
          "name": "stdout"
        },
        {
          "output_type": "stream",
          "text": [
            "\n",
            "\n",
            "  7%|▋         | 14/200 [00:03<01:55,  1.61it/s]\u001b[A\u001b[A\n",
            "\n",
            "  8%|▊         | 15/200 [00:03<01:26,  2.14it/s]\u001b[A\u001b[A"
          ],
          "name": "stderr"
        },
        {
          "output_type": "stream",
          "text": [
            "test  /content/drive/My Drive/dataset/No_Parking/videoplayback (2).mp4\n",
            "test  /content/drive/My Drive/dataset/No_Parking/Parked Illegally Blocking the Emergency lane.mp4\n"
          ],
          "name": "stdout"
        },
        {
          "output_type": "stream",
          "text": [
            "\n",
            "\n",
            "  8%|▊         | 16/200 [00:04<01:33,  1.97it/s]\u001b[A\u001b[A"
          ],
          "name": "stderr"
        },
        {
          "output_type": "stream",
          "text": [
            "test  /content/drive/My Drive/dataset/No_Parking/Parked Illegally Blocking.mp4\n"
          ],
          "name": "stdout"
        },
        {
          "output_type": "stream",
          "text": [
            "\n",
            "\n",
            "  8%|▊         | 17/200 [00:05<01:40,  1.82it/s]\u001b[A\u001b[A"
          ],
          "name": "stderr"
        },
        {
          "output_type": "stream",
          "text": [
            "test  /content/drive/My Drive/dataset/No_Parking/car no parking.mp4\n"
          ],
          "name": "stdout"
        },
        {
          "output_type": "stream",
          "text": [
            "\n",
            "\n",
            "  9%|▉         | 18/200 [00:05<01:42,  1.78it/s]\u001b[A\u001b[A\n",
            "\n",
            " 10%|▉         | 19/200 [00:06<01:21,  2.23it/s]\u001b[A\u001b[A"
          ],
          "name": "stderr"
        },
        {
          "output_type": "stream",
          "text": [
            "test  /content/drive/My Drive/dataset/No_Parking/repaet_VfoQ48mj_sNLk.mp4\n",
            "test  /content/drive/My Drive/dataset/No_Parking/Reverse Parallel Parking Manoeuvre.mp4\n"
          ],
          "name": "stdout"
        },
        {
          "output_type": "stream",
          "text": [
            "\n",
            "\n",
            " 10%|█         | 20/200 [00:06<01:38,  1.82it/s]\u001b[A\u001b[A"
          ],
          "name": "stderr"
        },
        {
          "output_type": "stream",
          "text": [
            "test  /content/drive/My Drive/dataset/No_Parking/Reverse Parallel Parking Manoeuvre(1).mp4\n"
          ],
          "name": "stdout"
        },
        {
          "output_type": "stream",
          "text": [
            "\n",
            "\n",
            " 10%|█         | 21/200 [00:07<01:50,  1.62it/s]\u001b[A\u001b[A"
          ],
          "name": "stderr"
        },
        {
          "output_type": "stream",
          "text": [
            "test  /content/drive/My Drive/dataset/No_Parking/Parallel Parking - Reverse Park between.mp4\n"
          ],
          "name": "stdout"
        },
        {
          "output_type": "stream",
          "text": [
            "\n",
            "\n",
            " 11%|█         | 22/200 [00:08<01:45,  1.68it/s]\u001b[A\u001b[A"
          ],
          "name": "stderr"
        },
        {
          "output_type": "stream",
          "text": [
            "test  /content/drive/My Drive/dataset/No_Parking/How to do Overnight Parking-Park for Overnight .mp4\n"
          ],
          "name": "stdout"
        },
        {
          "output_type": "stream",
          "text": [
            "\n",
            "\n",
            " 12%|█▏        | 23/200 [00:08<01:41,  1.75it/s]\u001b[A\u001b[A"
          ],
          "name": "stderr"
        },
        {
          "output_type": "stream",
          "text": [
            "test  /content/drive/My Drive/dataset/No_Parking/How To Park Downhill.mp4\n"
          ],
          "name": "stdout"
        },
        {
          "output_type": "stream",
          "text": [
            "\n",
            "\n",
            " 12%|█▏        | 24/200 [00:09<01:45,  1.66it/s]\u001b[A\u001b[A\n",
            "\n",
            " 12%|█▎        | 25/200 [00:09<01:20,  2.17it/s]\u001b[A\u001b[A"
          ],
          "name": "stderr"
        },
        {
          "output_type": "stream",
          "text": [
            "test  /content/drive/My Drive/dataset/No_Parking/ISLab-01 (online-video-cutter.com).mp4\n",
            "test  /content/drive/My Drive/dataset/No_Parking/ISLab-14 (online-video-cutter.com).mp4\n"
          ],
          "name": "stdout"
        },
        {
          "output_type": "stream",
          "text": [
            "\n",
            "\n",
            " 13%|█▎        | 26/200 [00:09<01:09,  2.50it/s]\u001b[A\u001b[A"
          ],
          "name": "stderr"
        },
        {
          "output_type": "stream",
          "text": [
            "test  /content/drive/My Drive/dataset/No_Parking/ISLab-14 (online-video-cutter.com) (1).mp4\n"
          ],
          "name": "stdout"
        },
        {
          "output_type": "stream",
          "text": [
            "\n",
            "\n",
            " 14%|█▎        | 27/200 [00:10<01:05,  2.64it/s]\u001b[A\u001b[A"
          ],
          "name": "stderr"
        },
        {
          "output_type": "stream",
          "text": [
            "test  /content/drive/My Drive/dataset/No_Parking/Forgery Car Parking ( 720 X 720 ).mp4\n"
          ],
          "name": "stdout"
        },
        {
          "output_type": "stream",
          "text": [
            "\n",
            "\n",
            " 14%|█▍        | 28/200 [00:10<01:26,  1.99it/s]\u001b[A\u001b[A\n",
            "\n",
            " 14%|█▍        | 29/200 [00:11<01:10,  2.43it/s]\u001b[A\u001b[A"
          ],
          "name": "stderr"
        },
        {
          "output_type": "stream",
          "text": [
            "test  /content/drive/My Drive/dataset/No_Parking/2019_Japanese_Classic_Car_Parking_Lot_Show(360p) (online-video-cutter.com).mp4\n",
            "test  /content/drive/My Drive/dataset/No_Parking/Japanese_Classic_Cars_Stance_Nation_Nagasaki_2019_Parking_Lot_Raw_Video_1(360p) (online-video-cutter.com) (2).mp4\n"
          ],
          "name": "stdout"
        },
        {
          "output_type": "stream",
          "text": [
            "\n",
            "\n",
            " 15%|█▌        | 30/200 [00:11<01:02,  2.72it/s]\u001b[A\u001b[A"
          ],
          "name": "stderr"
        },
        {
          "output_type": "stream",
          "text": [
            "test  /content/drive/My Drive/dataset/No_Parking/Japanese_Classic_Cars_Stance_Nation_Nagasaki_2019_Parking_Lot_Raw_Video_1(360p) (online-video-cutter.com) (3).mp4\n"
          ],
          "name": "stdout"
        },
        {
          "output_type": "stream",
          "text": [
            "\n",
            "\n",
            " 16%|█▌        | 31/200 [00:11<00:55,  3.07it/s]\u001b[A\u001b[A"
          ],
          "name": "stderr"
        },
        {
          "output_type": "stream",
          "text": [
            "test  /content/drive/My Drive/dataset/No_Parking/Cops Educate Illegal Parking Violator's, Round #2 (online-video-cutter.com).mp4\n"
          ],
          "name": "stdout"
        },
        {
          "output_type": "stream",
          "text": [
            "\n",
            "\n",
            " 16%|█▌        | 32/200 [00:12<01:08,  2.45it/s]\u001b[A\u001b[A"
          ],
          "name": "stderr"
        },
        {
          "output_type": "stream",
          "text": [
            "test  /content/drive/My Drive/dataset/No_Parking/Cops Educate Illegal Parking Violator's, Round #2 (online-video-cutter.com) (1).mp4\n"
          ],
          "name": "stdout"
        },
        {
          "output_type": "stream",
          "text": [
            "\n",
            "\n",
            " 16%|█▋        | 33/200 [00:12<01:21,  2.05it/s]\u001b[A\u001b[A"
          ],
          "name": "stderr"
        },
        {
          "output_type": "stream",
          "text": [
            "test  /content/drive/My Drive/dataset/No_Parking/Cops Educate Illegal Parking Violator's, Round #2 (online-video-cutter.com) (2).mp4\n"
          ],
          "name": "stdout"
        },
        {
          "output_type": "stream",
          "text": [
            "\n",
            "\n",
            " 17%|█▋        | 34/200 [00:13<01:31,  1.81it/s]\u001b[A\u001b[A"
          ],
          "name": "stderr"
        },
        {
          "output_type": "stream",
          "text": [
            "test  /content/drive/My Drive/dataset/No_Parking/Cops Educate Illegal Parking Violator's, Round #2 (online-video-cutter.com) (3).mp4\n"
          ],
          "name": "stdout"
        },
        {
          "output_type": "stream",
          "text": [
            "\n",
            "\n",
            " 18%|█▊        | 35/200 [00:14<01:35,  1.73it/s]\u001b[A\u001b[A"
          ],
          "name": "stderr"
        },
        {
          "output_type": "stream",
          "text": [
            "test  /content/drive/My Drive/dataset/No_Parking/Cops Educate Illegal Parking Violator's, Round #2 (online-video-cutter.com) (4).mp4\n"
          ],
          "name": "stdout"
        },
        {
          "output_type": "stream",
          "text": [
            "\n",
            "\n",
            " 18%|█▊        | 36/200 [00:14<01:37,  1.68it/s]\u001b[A\u001b[A"
          ],
          "name": "stderr"
        },
        {
          "output_type": "stream",
          "text": [
            "test  /content/drive/My Drive/dataset/No_Parking/Illegal parking violator is 'Special because Mamma says so' (online-video-cutter.com).mp4\n"
          ],
          "name": "stdout"
        },
        {
          "output_type": "stream",
          "text": [
            "\n",
            "\n",
            " 18%|█▊        | 37/200 [00:15<01:43,  1.58it/s]\u001b[A\u001b[A"
          ],
          "name": "stderr"
        },
        {
          "output_type": "stream",
          "text": [
            "test  /content/drive/My Drive/dataset/No_Parking/Illegal parking violator is 'Special because Mamma says so' (online-video-cutter.com) (1).mp4\n"
          ],
          "name": "stdout"
        },
        {
          "output_type": "stream",
          "text": [
            "\n",
            "\n",
            " 19%|█▉        | 38/200 [00:16<01:41,  1.60it/s]\u001b[A\u001b[A"
          ],
          "name": "stderr"
        },
        {
          "output_type": "stream",
          "text": [
            "test  /content/drive/My Drive/dataset/No_Parking/Illegal Parking Pulls Racist Card..SURPRISE ENDING (online-video-cutter.com).mp4\n"
          ],
          "name": "stdout"
        },
        {
          "output_type": "stream",
          "text": [
            "\n",
            "\n",
            " 20%|█▉        | 39/200 [00:16<01:44,  1.55it/s]\u001b[A\u001b[A"
          ],
          "name": "stderr"
        },
        {
          "output_type": "stream",
          "text": [
            "test  /content/drive/My Drive/dataset/No_Parking/Illegal Parking Pulls Racist Card..SURPRISE ENDING (online-video-cutter.com) (1).mp4\n"
          ],
          "name": "stdout"
        },
        {
          "output_type": "stream",
          "text": [
            "\n",
            "\n",
            " 20%|██        | 40/200 [00:17<01:41,  1.57it/s]\u001b[A\u001b[A"
          ],
          "name": "stderr"
        },
        {
          "output_type": "stream",
          "text": [
            "test  /content/drive/My Drive/dataset/No_Parking/Illegal Parking Pulls Racist Card..SURPRISE ENDING (online-video-cutter.com) (2).mp4\n"
          ],
          "name": "stdout"
        },
        {
          "output_type": "stream",
          "text": [
            "\n",
            "\n",
            " 20%|██        | 41/200 [00:18<01:49,  1.45it/s]\u001b[A\u001b[A"
          ],
          "name": "stderr"
        },
        {
          "output_type": "stream",
          "text": [
            "test  /content/drive/My Drive/dataset/No_Parking/Illegal Parking Pulls Racist Card..SURPRISE ENDING (online-video-cutter.com) (3).mp4\n"
          ],
          "name": "stdout"
        },
        {
          "output_type": "stream",
          "text": [
            "\n",
            "\n",
            " 21%|██        | 42/200 [00:18<01:34,  1.67it/s]\u001b[A\u001b[A"
          ],
          "name": "stderr"
        },
        {
          "output_type": "stream",
          "text": [
            "test  /content/drive/My Drive/dataset/No_Parking/Angry Illegal Driver returns to the scene of the crime!! (online-video-cutter.com).mp4\n"
          ],
          "name": "stdout"
        },
        {
          "output_type": "stream",
          "text": [
            "\n",
            "\n",
            " 22%|██▏       | 43/200 [00:19<01:36,  1.62it/s]\u001b[A\u001b[A"
          ],
          "name": "stderr"
        },
        {
          "output_type": "stream",
          "text": [
            "test  /content/drive/My Drive/dataset/No_Parking/Angry Illegal Driver returns to the scene of the crime!!.mp4\n"
          ],
          "name": "stdout"
        },
        {
          "output_type": "stream",
          "text": [
            "\n",
            "\n",
            " 22%|██▏       | 44/200 [00:19<01:36,  1.62it/s]\u001b[A\u001b[A"
          ],
          "name": "stderr"
        },
        {
          "output_type": "stream",
          "text": [
            "test  /content/drive/My Drive/dataset/No_Parking/Angry Illegal Driver returns to the scene of the crime!!1.mp4\n"
          ],
          "name": "stdout"
        },
        {
          "output_type": "stream",
          "text": [
            "\n",
            "\n",
            " 22%|██▎       | 45/200 [00:20<01:37,  1.60it/s]\u001b[A\u001b[A"
          ],
          "name": "stderr"
        },
        {
          "output_type": "stream",
          "text": [
            "test  /content/drive/My Drive/dataset/No_Parking/Angry Illegal Driver returns to the scene of the crime!! (online-video-cutter.com) (3).mp4\n"
          ],
          "name": "stdout"
        },
        {
          "output_type": "stream",
          "text": [
            "\n",
            "\n",
            " 23%|██▎       | 46/200 [00:21<01:37,  1.58it/s]\u001b[A\u001b[A"
          ],
          "name": "stderr"
        },
        {
          "output_type": "stream",
          "text": [
            "test  /content/drive/My Drive/dataset/No_Parking/Angry Illegal Driver returns to the scene of the crime!! (online-video-cutter.com) (4).mp4\n"
          ],
          "name": "stdout"
        },
        {
          "output_type": "stream",
          "text": [
            "\n",
            "\n",
            " 24%|██▎       | 47/200 [00:21<01:39,  1.54it/s]\u001b[A\u001b[A"
          ],
          "name": "stderr"
        },
        {
          "output_type": "stream",
          "text": [
            "test  /content/drive/My Drive/dataset/No_Parking/Angry Illegal Driver returns to the scene of the crime!! (online-video-cutter.com) (5).mp4\n"
          ],
          "name": "stdout"
        },
        {
          "output_type": "stream",
          "text": [
            "\n",
            "\n",
            " 24%|██▍       | 48/200 [00:22<01:34,  1.61it/s]\u001b[A\u001b[A"
          ],
          "name": "stderr"
        },
        {
          "output_type": "stream",
          "text": [
            "test  /content/drive/My Drive/dataset/No_Parking/Angry Illegal Driver returns to the scene of the crime!! (online-video-cutter.com) (6).mp4\n"
          ],
          "name": "stdout"
        },
        {
          "output_type": "stream",
          "text": [
            "\n",
            "\n",
            " 24%|██▍       | 49/200 [00:23<01:34,  1.61it/s]\u001b[A\u001b[A"
          ],
          "name": "stderr"
        },
        {
          "output_type": "stream",
          "text": [
            "test  /content/drive/My Drive/dataset/No_Parking/Illegally Parked Driver & an ANGRY UPS manager, Can't Get it together (online-video-cutter.com).mp4\n"
          ],
          "name": "stdout"
        },
        {
          "output_type": "stream",
          "text": [
            "\n",
            "\n",
            " 25%|██▌       | 50/200 [00:23<01:32,  1.63it/s]\u001b[A\u001b[A"
          ],
          "name": "stderr"
        },
        {
          "output_type": "stream",
          "text": [
            "test  /content/drive/My Drive/dataset/No_Parking/Illegally Parked Driver & an ANGRY UPS manager, Can't Get it together (online-video-cutter.com) (1).mp4\n"
          ],
          "name": "stdout"
        },
        {
          "output_type": "stream",
          "text": [
            "\n",
            "\n",
            " 26%|██▌       | 51/200 [00:24<01:38,  1.52it/s]\u001b[A\u001b[A"
          ],
          "name": "stderr"
        },
        {
          "output_type": "stream",
          "text": [
            "test  /content/drive/My Drive/dataset/No_Parking/Illegally Parked Driver & an ANGRY UPS manager, Can't Get it together (online-video-cutter.com) (2).mp4\n"
          ],
          "name": "stdout"
        },
        {
          "output_type": "stream",
          "text": [
            "\n",
            "\n",
            " 26%|██▌       | 52/200 [00:25<01:41,  1.46it/s]\u001b[A\u001b[A"
          ],
          "name": "stderr"
        },
        {
          "output_type": "stream",
          "text": [
            "test  /content/drive/My Drive/dataset/No_Parking/Illegally Parked Driver & an ANGRY UPS manager, Can't Get it together (online-video-cutter.com) (3).mp4\n"
          ],
          "name": "stdout"
        },
        {
          "output_type": "stream",
          "text": [
            "\n",
            "\n",
            " 26%|██▋       | 53/200 [00:25<01:37,  1.51it/s]\u001b[A\u001b[A"
          ],
          "name": "stderr"
        },
        {
          "output_type": "stream",
          "text": [
            "test  /content/drive/My Drive/dataset/No_Parking/Illegally Parked Driver & an ANGRY UPS manager, Can't Get it together (online-video-cutter.com) (4).mp4\n"
          ],
          "name": "stdout"
        },
        {
          "output_type": "stream",
          "text": [
            "\n",
            "\n",
            " 27%|██▋       | 54/200 [00:26<01:35,  1.53it/s]\u001b[A\u001b[A"
          ],
          "name": "stderr"
        },
        {
          "output_type": "stream",
          "text": [
            "test  /content/drive/My Drive/dataset/No_Parking/Illegally Parked Driver & an ANGRY UPS manager, Can't Get it together (online-video-cutter.com) (5).mp4\n"
          ],
          "name": "stdout"
        },
        {
          "output_type": "stream",
          "text": [
            "\n",
            "\n",
            " 28%|██▊       | 55/200 [00:27<01:36,  1.50it/s]\u001b[A\u001b[A"
          ],
          "name": "stderr"
        },
        {
          "output_type": "stream",
          "text": [
            "test  /content/drive/My Drive/dataset/No_Parking/Illegally Parked Driver & an ANGRY UPS manager, Can't Get it together (online-video-cutter.com) (6).mp4\n"
          ],
          "name": "stdout"
        },
        {
          "output_type": "stream",
          "text": [
            "\n",
            "\n",
            " 28%|██▊       | 56/200 [00:27<01:35,  1.51it/s]\u001b[A\u001b[A"
          ],
          "name": "stderr"
        },
        {
          "output_type": "stream",
          "text": [
            "test  /content/drive/My Drive/dataset/No_Parking/Illegally Parked Driver & an ANGRY UPS manager, Can't Get it together (online-video-cutter.com) (7).mp4\n"
          ],
          "name": "stdout"
        },
        {
          "output_type": "stream",
          "text": [
            "\n",
            "\n",
            " 28%|██▊       | 57/200 [00:28<01:35,  1.51it/s]\u001b[A\u001b[A"
          ],
          "name": "stderr"
        },
        {
          "output_type": "stream",
          "text": [
            "test  /content/drive/My Drive/dataset/No_Parking/'Im Lazy' Illegal Parking Violator OWNS IT!! (online-video-cutter.com).mp4\n"
          ],
          "name": "stdout"
        },
        {
          "output_type": "stream",
          "text": [
            "\n",
            "\n",
            " 29%|██▉       | 58/200 [00:29<01:35,  1.49it/s]\u001b[A\u001b[A"
          ],
          "name": "stderr"
        },
        {
          "output_type": "stream",
          "text": [
            "test  /content/drive/My Drive/dataset/No_Parking/'Im Lazy' Illegal Parking Violator OWNS IT!! (online-video-cutter.com) (1).mp4\n"
          ],
          "name": "stdout"
        },
        {
          "output_type": "stream",
          "text": [
            "\n",
            "\n",
            " 30%|██▉       | 59/200 [00:29<01:37,  1.45it/s]\u001b[A\u001b[A"
          ],
          "name": "stderr"
        },
        {
          "output_type": "stream",
          "text": [
            "test  /content/drive/My Drive/dataset/No_Parking/'Im Lazy' Illegal Parking Violator OWNS IT!! (online-video-cutter.com) (2).mp4\n"
          ],
          "name": "stdout"
        },
        {
          "output_type": "stream",
          "text": [
            "\n",
            "\n",
            " 30%|███       | 60/200 [00:30<01:35,  1.47it/s]\u001b[A\u001b[A"
          ],
          "name": "stderr"
        },
        {
          "output_type": "stream",
          "text": [
            "test  /content/drive/My Drive/dataset/No_Parking/'Im Lazy' Illegal Parking Violator OWNS IT!! (online-video-cutter.com) (3).mp4\n"
          ],
          "name": "stdout"
        },
        {
          "output_type": "stream",
          "text": [
            "\n",
            "\n",
            " 30%|███       | 61/200 [00:31<01:32,  1.51it/s]\u001b[A\u001b[A"
          ],
          "name": "stderr"
        },
        {
          "output_type": "stream",
          "text": [
            "test  /content/drive/My Drive/dataset/No_Parking/'Im Lazy' Illegal Parking Violator OWNS IT!! (online-video-cutter.com) (4).mp4\n"
          ],
          "name": "stdout"
        },
        {
          "output_type": "stream",
          "text": [
            "\n",
            "\n",
            " 31%|███       | 62/200 [00:31<01:30,  1.53it/s]\u001b[A\u001b[A"
          ],
          "name": "stderr"
        },
        {
          "output_type": "stream",
          "text": [
            "test  /content/drive/My Drive/dataset/No_Parking/'Im Lazy' Illegal Parking Violator OWNS IT!! (online-video-cutter.com) (5).mp4\n"
          ],
          "name": "stdout"
        },
        {
          "output_type": "stream",
          "text": [
            "\n",
            "\n",
            " 32%|███▏      | 63/200 [00:32<01:31,  1.49it/s]\u001b[A\u001b[A"
          ],
          "name": "stderr"
        },
        {
          "output_type": "stream",
          "text": [
            "test  /content/drive/My Drive/dataset/No_Parking/'Im Lazy' Illegal Parking Violator OWNS IT!! (online-video-cutter.com) (6).mp4\n"
          ],
          "name": "stdout"
        },
        {
          "output_type": "stream",
          "text": [
            "\n",
            "\n",
            " 32%|███▏      | 64/200 [00:33<01:32,  1.46it/s]\u001b[A\u001b[A"
          ],
          "name": "stderr"
        },
        {
          "output_type": "stream",
          "text": [
            "test  /content/drive/My Drive/dataset/No_Parking/'Mind your Business' Angry Florida Driver #2 (online-video-cutter.com).mp4\n"
          ],
          "name": "stdout"
        },
        {
          "output_type": "stream",
          "text": [
            "\n",
            "\n",
            " 32%|███▎      | 65/200 [00:33<01:33,  1.45it/s]\u001b[A\u001b[A"
          ],
          "name": "stderr"
        },
        {
          "output_type": "stream",
          "text": [
            "test  /content/drive/My Drive/dataset/No_Parking/'Mind your Business' Angry Florida Driver #2 (online-video-cutter.com) (1).mp4\n"
          ],
          "name": "stdout"
        },
        {
          "output_type": "stream",
          "text": [
            "\n",
            "\n",
            " 33%|███▎      | 66/200 [00:34<01:31,  1.46it/s]\u001b[A\u001b[A"
          ],
          "name": "stderr"
        },
        {
          "output_type": "stream",
          "text": [
            "test  /content/drive/My Drive/dataset/No_Parking/Picking up cars which are parked on no parking.. (online-video-cutter.com).mp4\n"
          ],
          "name": "stdout"
        },
        {
          "output_type": "stream",
          "text": [
            "\n",
            "\n",
            " 34%|███▎      | 67/200 [00:34<01:15,  1.77it/s]\u001b[A\u001b[A"
          ],
          "name": "stderr"
        },
        {
          "output_type": "stream",
          "text": [
            "test  /content/drive/My Drive/dataset/No_Parking/videoplayback (online-video-cutter.com).mp4\n"
          ],
          "name": "stdout"
        },
        {
          "output_type": "stream",
          "text": [
            "\n",
            "\n",
            " 34%|███▍      | 68/200 [00:35<01:01,  2.16it/s]\u001b[A\u001b[A\n",
            "\n",
            " 34%|███▍      | 69/200 [00:35<00:49,  2.64it/s]\u001b[A\u001b[A"
          ],
          "name": "stderr"
        },
        {
          "output_type": "stream",
          "text": [
            "test  /content/drive/My Drive/dataset/No_Parking/videoplayback (online-video-cutter.com) (1).mp4\n",
            "test  /content/drive/My Drive/dataset/No_Parking/videoplayback (online-video-cutter.com) (2).mp4\n"
          ],
          "name": "stdout"
        },
        {
          "output_type": "stream",
          "text": [
            "\n",
            "\n",
            " 35%|███▌      | 70/200 [00:35<00:42,  3.09it/s]\u001b[A\u001b[A\n",
            "\n",
            " 36%|███▌      | 71/200 [00:35<00:37,  3.48it/s]\u001b[A\u001b[A"
          ],
          "name": "stderr"
        },
        {
          "output_type": "stream",
          "text": [
            "test  /content/drive/My Drive/dataset/No_Parking/videoplayback (online-video-cutter.com) (3).mp4\n",
            "test  /content/drive/My Drive/dataset/No_Parking/Parked Illegally, Crazy Lady Backward Driving in Tampa. (online-video-cutter.com).mp4\n"
          ],
          "name": "stdout"
        },
        {
          "output_type": "stream",
          "text": [
            "\n",
            "\n",
            " 36%|███▌      | 72/200 [00:36<00:52,  2.43it/s]\u001b[A\u001b[A"
          ],
          "name": "stderr"
        },
        {
          "output_type": "stream",
          "text": [
            "test  /content/drive/My Drive/dataset/No_Parking/Parked Illegally, Crazy Lady Backward Driving in Tampa. (online-video-cutter.com) (1).mp4\n"
          ],
          "name": "stdout"
        },
        {
          "output_type": "stream",
          "text": [
            "\n",
            "\n",
            " 36%|███▋      | 73/200 [00:37<01:04,  1.96it/s]\u001b[A\u001b[A"
          ],
          "name": "stderr"
        },
        {
          "output_type": "stream",
          "text": [
            "test  /content/drive/My Drive/dataset/No_Parking/Parked Illegally, Crazy Lady Backward Driving in Tampa. (online-video-cutter.com) (2).mp4\n"
          ],
          "name": "stdout"
        },
        {
          "output_type": "stream",
          "text": [
            "\n",
            "\n",
            " 37%|███▋      | 74/200 [00:37<01:14,  1.69it/s]\u001b[A\u001b[A"
          ],
          "name": "stderr"
        },
        {
          "output_type": "stream",
          "text": [
            "test  /content/drive/My Drive/dataset/No_Parking/Parked Illegally, Crazy Lady Backward Driving in Tampa. (online-video-cutter.com) (3).mp4\n"
          ],
          "name": "stdout"
        },
        {
          "output_type": "stream",
          "text": [
            "\n",
            "\n",
            " 38%|███▊      | 75/200 [00:38<01:15,  1.65it/s]\u001b[A\u001b[A"
          ],
          "name": "stderr"
        },
        {
          "output_type": "stream",
          "text": [
            "test  /content/drive/My Drive/dataset/No_Parking/Parked Illegally, Crazy Lady Backward Driving in Tampa. (online-video-cutter.com) (4).mp4\n"
          ],
          "name": "stdout"
        },
        {
          "output_type": "stream",
          "text": [
            "\n",
            "\n",
            " 38%|███▊      | 76/200 [00:39<01:20,  1.54it/s]\u001b[A\u001b[A"
          ],
          "name": "stderr"
        },
        {
          "output_type": "stream",
          "text": [
            "test  /content/drive/My Drive/dataset/No_Parking/We Tried Warning Them. Some Won't Listen. (online-video-cutter.com).mp4\n"
          ],
          "name": "stdout"
        },
        {
          "output_type": "stream",
          "text": [
            "\n",
            "\n",
            " 38%|███▊      | 77/200 [00:39<01:14,  1.66it/s]\u001b[A\u001b[A"
          ],
          "name": "stderr"
        },
        {
          "output_type": "stream",
          "text": [
            "test  /content/drive/My Drive/dataset/No_Parking/We Tried Warning Them. Some Won't Listen. (online-video-cutter.com) (1).mp4\n"
          ],
          "name": "stdout"
        },
        {
          "output_type": "stream",
          "text": [
            "\n",
            "\n",
            " 39%|███▉      | 78/200 [00:40<01:07,  1.80it/s]\u001b[A\u001b[A"
          ],
          "name": "stderr"
        },
        {
          "output_type": "stream",
          "text": [
            "test  /content/drive/My Drive/dataset/No_Parking/Drive- How to reverse parallel park (online-video-cutter.com).mp4\n"
          ],
          "name": "stdout"
        },
        {
          "output_type": "stream",
          "text": [
            "\n",
            "\n",
            " 40%|███▉      | 79/200 [00:40<01:04,  1.86it/s]\u001b[A\u001b[A"
          ],
          "name": "stderr"
        },
        {
          "output_type": "stream",
          "text": [
            "test  /content/drive/My Drive/dataset/No_Parking/Drive- How to reverse parallel park (online-video-cutter.com) (1).mp4\n"
          ],
          "name": "stdout"
        },
        {
          "output_type": "stream",
          "text": [
            "\n",
            "\n",
            " 40%|████      | 80/200 [00:41<01:08,  1.76it/s]\u001b[A\u001b[A"
          ],
          "name": "stderr"
        },
        {
          "output_type": "stream",
          "text": [
            "test  /content/drive/My Drive/dataset/No_Parking/Drive- How to reverse parallel park (online-video-cutter.com) (2).mp4\n"
          ],
          "name": "stdout"
        },
        {
          "output_type": "stream",
          "text": [
            "\n",
            "\n",
            " 40%|████      | 81/200 [00:41<01:09,  1.72it/s]\u001b[A\u001b[A"
          ],
          "name": "stderr"
        },
        {
          "output_type": "stream",
          "text": [
            "test  /content/drive/My Drive/dataset/No_Parking/Drive- How to reverse parallel park (online-video-cutter.com) (3).mp4\n"
          ],
          "name": "stdout"
        },
        {
          "output_type": "stream",
          "text": [
            "\n",
            "\n",
            " 41%|████      | 82/200 [00:42<01:07,  1.74it/s]\u001b[A\u001b[A"
          ],
          "name": "stderr"
        },
        {
          "output_type": "stream",
          "text": [
            "test  /content/drive/My Drive/dataset/No_Parking/Taiwan dangerous parking- 3-road intersection blocked by multiple illegally parked cars. (online-video-cutter.com).mp4\n"
          ],
          "name": "stdout"
        },
        {
          "output_type": "stream",
          "text": [
            "\n",
            "\n",
            " 42%|████▏     | 83/200 [00:43<01:05,  1.77it/s]\u001b[A\u001b[A"
          ],
          "name": "stderr"
        },
        {
          "output_type": "stream",
          "text": [
            "test  /content/drive/My Drive/dataset/No_Parking/Taiwan dangerous parking- 3-road intersection blocked by multiple illegally parked cars. (online-video-cutter.com) (1).mp4\n"
          ],
          "name": "stdout"
        },
        {
          "output_type": "stream",
          "text": [
            "\n",
            "\n",
            " 42%|████▏     | 84/200 [00:43<01:12,  1.60it/s]\u001b[A\u001b[A"
          ],
          "name": "stderr"
        },
        {
          "output_type": "stream",
          "text": [
            "test  /content/drive/My Drive/dataset/No_Parking/Taiwan dangerous parking- 3-road intersection blocked by multiple illegally parked cars. (online-video-cutter.com) (2).mp4\n"
          ],
          "name": "stdout"
        },
        {
          "output_type": "stream",
          "text": [
            "\n",
            "\n",
            " 42%|████▎     | 85/200 [00:44<01:15,  1.53it/s]\u001b[A\u001b[A"
          ],
          "name": "stderr"
        },
        {
          "output_type": "stream",
          "text": [
            "test  /content/drive/My Drive/dataset/No_Parking/Workers Move Legally Parked Car With A Forklift! (online-video-cutter.com).mp4\n"
          ],
          "name": "stdout"
        },
        {
          "output_type": "stream",
          "text": [
            "\n",
            "\n",
            " 43%|████▎     | 86/200 [00:45<01:12,  1.57it/s]\u001b[A\u001b[A"
          ],
          "name": "stderr"
        },
        {
          "output_type": "stream",
          "text": [
            "test  /content/drive/My Drive/dataset/No_Parking/Illegal parking is 'ok' with emergency Lights & Customer Privileges (online-video-cutter.com).mp4\n"
          ],
          "name": "stdout"
        },
        {
          "output_type": "stream",
          "text": [
            "\n",
            "\n",
            " 44%|████▎     | 87/200 [00:45<01:12,  1.56it/s]\u001b[A\u001b[A"
          ],
          "name": "stderr"
        },
        {
          "output_type": "stream",
          "text": [
            "test  /content/drive/My Drive/dataset/No_Parking/Illegal parking is 'ok' with emergency Lights & Customer Privileges (online-video-cutter.com) (1).mp4\n"
          ],
          "name": "stdout"
        },
        {
          "output_type": "stream",
          "text": [
            "\n",
            "\n",
            " 44%|████▍     | 88/200 [00:46<01:13,  1.52it/s]\u001b[A\u001b[A"
          ],
          "name": "stderr"
        },
        {
          "output_type": "stream",
          "text": [
            "test  /content/drive/My Drive/dataset/No_Parking/Illegal parking is 'ok' with emergency Lights & Customer Privileges (online-video-cutter.com) (2).mp4\n"
          ],
          "name": "stdout"
        },
        {
          "output_type": "stream",
          "text": [
            "\n",
            "\n",
            " 44%|████▍     | 89/200 [00:47<01:15,  1.47it/s]\u001b[A\u001b[A"
          ],
          "name": "stderr"
        },
        {
          "output_type": "stream",
          "text": [
            "test  /content/drive/My Drive/dataset/No_Parking/Illegal parking is 'ok' with emergency Lights & Customer Privileges (online-video-cutter.com) (3).mp4\n"
          ],
          "name": "stdout"
        },
        {
          "output_type": "stream",
          "text": [
            "\n",
            "\n",
            " 45%|████▌     | 90/200 [00:47<01:12,  1.51it/s]\u001b[A\u001b[A"
          ],
          "name": "stderr"
        },
        {
          "output_type": "stream",
          "text": [
            "test  /content/drive/My Drive/dataset/No_Parking/Illegal parking is 'ok' with emergency Lights & Customer Privileges (online-video-cutter.com) (4).mp4\n"
          ],
          "name": "stdout"
        },
        {
          "output_type": "stream",
          "text": [
            "\n",
            "\n",
            " 46%|████▌     | 91/200 [00:48<01:13,  1.48it/s]\u001b[A\u001b[A"
          ],
          "name": "stderr"
        },
        {
          "output_type": "stream",
          "text": [
            "test  /content/drive/My Drive/dataset/No_Parking/So many Illegal parking Idiots...So little time (online-video-cutter.com).mp4\n"
          ],
          "name": "stdout"
        },
        {
          "output_type": "stream",
          "text": [
            "\n",
            "\n",
            " 46%|████▌     | 92/200 [00:49<01:16,  1.41it/s]\u001b[A\u001b[A"
          ],
          "name": "stderr"
        },
        {
          "output_type": "stream",
          "text": [
            "test  /content/drive/My Drive/dataset/No_Parking/So many Illegal parking Idiots...So little time (online-video-cutter.com) (1).mp4\n"
          ],
          "name": "stdout"
        },
        {
          "output_type": "stream",
          "text": [
            "\n",
            "\n",
            " 46%|████▋     | 93/200 [00:50<01:17,  1.39it/s]\u001b[A\u001b[A"
          ],
          "name": "stderr"
        },
        {
          "output_type": "stream",
          "text": [
            "test  /content/drive/My Drive/dataset/No_Parking/So many Illegal parking Idiots...So little time (online-video-cutter.com) (2).mp4\n"
          ],
          "name": "stdout"
        },
        {
          "output_type": "stream",
          "text": [
            "\n",
            "\n",
            " 47%|████▋     | 94/200 [00:50<01:15,  1.40it/s]\u001b[A\u001b[A"
          ],
          "name": "stderr"
        },
        {
          "output_type": "stream",
          "text": [
            "test  /content/drive/My Drive/dataset/No_Parking/So many Illegal parking Idiots...So little time (online-video-cutter.com) (3).mp4\n"
          ],
          "name": "stdout"
        },
        {
          "output_type": "stream",
          "text": [
            "\n",
            "\n",
            " 48%|████▊     | 95/200 [00:51<01:16,  1.38it/s]\u001b[A\u001b[A"
          ],
          "name": "stderr"
        },
        {
          "output_type": "stream",
          "text": [
            "test  /content/drive/My Drive/dataset/No_Parking/So many Illegal parking Idiots...So little time (online-video-cutter.com) (4).mp4\n"
          ],
          "name": "stdout"
        },
        {
          "output_type": "stream",
          "text": [
            "\n",
            "\n",
            " 48%|████▊     | 96/200 [00:51<01:04,  1.62it/s]\u001b[A\u001b[A\n",
            "\n",
            " 48%|████▊     | 97/200 [00:52<00:50,  2.03it/s]"
          ],
          "name": "stderr"
        },
        {
          "output_type": "stream",
          "text": [
            "test  /content/drive/My Drive/dataset/No_Parking/So many Illegal parking Idiots...So little time (online-video-cutter.com) (5).mp4\n"
          ],
          "name": "stdout"
        },
        {
          "output_type": "stream",
          "text": [
            "\u001b[A\u001b[A"
          ],
          "name": "stderr"
        },
        {
          "output_type": "stream",
          "text": [
            "test  /content/drive/My Drive/dataset/No_Parking/So many Illegal parking Idiots...So little time (online-video-cutter.com) (6).mp4\n"
          ],
          "name": "stdout"
        },
        {
          "output_type": "stream",
          "text": [
            "\n",
            "\n",
            " 49%|████▉     | 98/200 [00:52<00:45,  2.24it/s]\u001b[A\u001b[A"
          ],
          "name": "stderr"
        },
        {
          "output_type": "stream",
          "text": [
            "test  /content/drive/My Drive/dataset/No_Parking/So many Illegal parking Idiots...So little time (online-video-cutter.com) (7).mp4\n"
          ],
          "name": "stdout"
        },
        {
          "output_type": "stream",
          "text": [
            "\n",
            "\n",
            " 50%|████▉     | 99/200 [00:53<00:51,  1.97it/s]\u001b[A\u001b[A"
          ],
          "name": "stderr"
        },
        {
          "output_type": "stream",
          "text": [
            "test  /content/drive/My Drive/dataset/No_Parking/So many Illegal parking Idiots...So little time (online-video-cutter.com) (8).mp4\n"
          ],
          "name": "stdout"
        },
        {
          "output_type": "stream",
          "text": [
            "\n",
            "\n",
            " 50%|█████     | 100/200 [00:53<00:55,  1.80it/s]\u001b[A\u001b[A"
          ],
          "name": "stderr"
        },
        {
          "output_type": "stream",
          "text": [
            "test  /content/drive/My Drive/dataset/No_Parking/So many Illegal parking Idiots...So little time (online-video-cutter.com) (9).mp4\n"
          ],
          "name": "stdout"
        },
        {
          "output_type": "stream",
          "text": [
            "\n",
            "\n",
            " 50%|█████     | 101/200 [00:54<00:59,  1.67it/s]\u001b[A\u001b[A\n",
            "\n",
            " 51%|█████     | 102/200 [00:54<00:46,  2.09it/s]\u001b[A\u001b[A"
          ],
          "name": "stderr"
        },
        {
          "output_type": "stream",
          "text": [
            "test  /content/drive/My Drive/dataset/No_Parking/vid1.mp4\n",
            "test  /content/drive/My Drive/dataset/No_Parking/vid2.mp4\n"
          ],
          "name": "stdout"
        },
        {
          "output_type": "stream",
          "text": [
            "\n",
            "\n",
            " 52%|█████▏    | 103/200 [00:54<00:38,  2.51it/s]\u001b[A\u001b[A"
          ],
          "name": "stderr"
        },
        {
          "output_type": "stream",
          "text": [
            "test  /content/drive/My Drive/dataset/No_Parking/vid3.mp4\n"
          ],
          "name": "stdout"
        },
        {
          "output_type": "stream",
          "text": [
            "\n",
            "\n",
            " 52%|█████▏    | 104/200 [00:55<00:32,  2.92it/s]\u001b[A\u001b[A"
          ],
          "name": "stderr"
        },
        {
          "output_type": "stream",
          "text": [
            "test  /content/drive/My Drive/dataset/No_Parking/vid4.mp4\n"
          ],
          "name": "stdout"
        },
        {
          "output_type": "stream",
          "text": [
            "\n",
            "\n",
            " 52%|█████▎    | 105/200 [00:55<00:28,  3.31it/s]\u001b[A\u001b[A\n",
            "\n",
            " 53%|█████▎    | 106/200 [00:55<00:25,  3.73it/s]\u001b[A\u001b[A"
          ],
          "name": "stderr"
        },
        {
          "output_type": "stream",
          "text": [
            "test  /content/drive/My Drive/dataset/No_Parking/vid5.mp4\n",
            "test  /content/drive/My Drive/dataset/No_Parking/vid6.mp4\n"
          ],
          "name": "stdout"
        },
        {
          "output_type": "stream",
          "text": [
            "\n",
            "\n",
            " 54%|█████▎    | 107/200 [00:55<00:23,  4.01it/s]\u001b[A\u001b[A\n",
            "\n",
            " 54%|█████▍    | 108/200 [00:55<00:21,  4.30it/s]\u001b[A\u001b[A"
          ],
          "name": "stderr"
        },
        {
          "output_type": "stream",
          "text": [
            "test  /content/drive/My Drive/dataset/No_Parking/vid7.mp4\n",
            "test  /content/drive/My Drive/dataset/No_Parking/vid8.mp4\n"
          ],
          "name": "stdout"
        },
        {
          "output_type": "stream",
          "text": [
            "\n",
            "\n",
            " 55%|█████▍    | 109/200 [00:56<00:20,  4.53it/s]\u001b[A\u001b[A\n",
            "\n",
            " 55%|█████▌    | 110/200 [00:56<00:19,  4.71it/s]\u001b[A\u001b[A"
          ],
          "name": "stderr"
        },
        {
          "output_type": "stream",
          "text": [
            "test  /content/drive/My Drive/dataset/No_Parking/vid9.mp4\n",
            "test  /content/drive/My Drive/dataset/No_Parking/vid10.mp4\n"
          ],
          "name": "stdout"
        },
        {
          "output_type": "stream",
          "text": [
            "\n",
            "\n",
            " 56%|█████▌    | 111/200 [00:56<00:17,  5.17it/s]\u001b[A\u001b[A\n",
            "\n",
            " 56%|█████▌    | 112/200 [00:56<00:16,  5.45it/s]\u001b[A\u001b[A"
          ],
          "name": "stderr"
        },
        {
          "output_type": "stream",
          "text": [
            "test  /content/drive/My Drive/dataset/No_Parking/vid11.mp4\n",
            "test  /content/drive/My Drive/dataset/No_Parking/vid12.mp4\n"
          ],
          "name": "stdout"
        },
        {
          "output_type": "stream",
          "text": [
            "\n",
            "\n",
            " 56%|█████▋    | 113/200 [00:56<00:16,  5.29it/s]\u001b[A\u001b[A"
          ],
          "name": "stderr"
        },
        {
          "output_type": "stream",
          "text": [
            "test  /content/drive/My Drive/dataset/No_Parking/vid13.mp4\n"
          ],
          "name": "stdout"
        },
        {
          "output_type": "stream",
          "text": [
            "\n",
            "\n",
            " 57%|█████▋    | 114/200 [00:57<00:40,  2.13it/s]\u001b[A\u001b[A"
          ],
          "name": "stderr"
        },
        {
          "output_type": "stream",
          "text": [
            "test  /content/drive/My Drive/dataset/No_Parking/vid14.mp4\n",
            "test  /content/drive/My Drive/dataset/No_Parking/vid15.mp4\n"
          ],
          "name": "stdout"
        },
        {
          "output_type": "stream",
          "text": [
            "\n",
            "\n",
            " 58%|█████▊    | 116/200 [00:58<00:36,  2.33it/s]\u001b[A\u001b[A"
          ],
          "name": "stderr"
        },
        {
          "output_type": "stream",
          "text": [
            "test  /content/drive/My Drive/dataset/No_Parking/vid16.mp4\n"
          ],
          "name": "stdout"
        },
        {
          "output_type": "stream",
          "text": [
            "\n",
            "\n",
            " 58%|█████▊    | 117/200 [00:59<00:40,  2.06it/s]\u001b[A\u001b[A"
          ],
          "name": "stderr"
        },
        {
          "output_type": "stream",
          "text": [
            "test  /content/drive/My Drive/dataset/No_Parking/vid17.mp4\n"
          ],
          "name": "stdout"
        },
        {
          "output_type": "stream",
          "text": [
            "\n",
            "\n",
            " 59%|█████▉    | 118/200 [00:59<00:42,  1.93it/s]\u001b[A\u001b[A\n",
            "\n",
            " 60%|█████▉    | 119/200 [00:59<00:33,  2.42it/s]\u001b[A\u001b[A"
          ],
          "name": "stderr"
        },
        {
          "output_type": "stream",
          "text": [
            "test  /content/drive/My Drive/dataset/No_Parking/vid18.mp4\n",
            "test  /content/drive/My Drive/dataset/No_Parking/vid19.mp4\n"
          ],
          "name": "stdout"
        },
        {
          "output_type": "stream",
          "text": [
            "\n",
            "\n",
            " 60%|██████    | 120/200 [01:00<00:40,  1.96it/s]\u001b[A\u001b[A"
          ],
          "name": "stderr"
        },
        {
          "output_type": "stream",
          "text": [
            "test  /content/drive/My Drive/dataset/No_Parking/vid20.mp4\n"
          ],
          "name": "stdout"
        },
        {
          "output_type": "stream",
          "text": [
            "\n",
            "\n",
            " 60%|██████    | 121/200 [01:01<00:45,  1.73it/s]\u001b[A\u001b[A"
          ],
          "name": "stderr"
        },
        {
          "output_type": "stream",
          "text": [
            "test  /content/drive/My Drive/dataset/No_Parking/vid21.mp4\n"
          ],
          "name": "stdout"
        },
        {
          "output_type": "stream",
          "text": [
            "\n",
            "\n",
            " 61%|██████    | 122/200 [01:01<00:43,  1.78it/s]\u001b[A\u001b[A"
          ],
          "name": "stderr"
        },
        {
          "output_type": "stream",
          "text": [
            "test  /content/drive/My Drive/dataset/No_Parking/vid22.mp4\n"
          ],
          "name": "stdout"
        },
        {
          "output_type": "stream",
          "text": [
            "\n",
            "\n",
            " 62%|██████▏   | 123/200 [01:02<00:42,  1.81it/s]\u001b[A\u001b[A"
          ],
          "name": "stderr"
        },
        {
          "output_type": "stream",
          "text": [
            "test  /content/drive/My Drive/dataset/No_Parking/vid23.mp4\n"
          ],
          "name": "stdout"
        },
        {
          "output_type": "stream",
          "text": [
            "\n",
            "\n",
            " 62%|██████▏   | 124/200 [01:03<00:43,  1.76it/s]\u001b[A\u001b[A\n",
            "\n",
            " 62%|██████▎   | 125/200 [01:03<00:32,  2.27it/s]\u001b[A\u001b[A"
          ],
          "name": "stderr"
        },
        {
          "output_type": "stream",
          "text": [
            "test  /content/drive/My Drive/dataset/No_Parking/vid24.mp4\n",
            "test  /content/drive/My Drive/dataset/No_Parking/vid25.mp4\n"
          ],
          "name": "stdout"
        },
        {
          "output_type": "stream",
          "text": [
            "\n",
            "\n",
            " 63%|██████▎   | 126/200 [01:03<00:28,  2.57it/s]\u001b[A\u001b[A"
          ],
          "name": "stderr"
        },
        {
          "output_type": "stream",
          "text": [
            "test  /content/drive/My Drive/dataset/No_Parking/vid26.mp4\n"
          ],
          "name": "stdout"
        },
        {
          "output_type": "stream",
          "text": [
            "\n",
            "\n",
            " 64%|██████▎   | 127/200 [01:03<00:26,  2.77it/s]\u001b[A\u001b[A"
          ],
          "name": "stderr"
        },
        {
          "output_type": "stream",
          "text": [
            "test  /content/drive/My Drive/dataset/No_Parking/vid27.mp4\n"
          ],
          "name": "stdout"
        },
        {
          "output_type": "stream",
          "text": [
            "\n",
            "\n",
            " 64%|██████▍   | 128/200 [01:04<00:34,  2.06it/s]\u001b[A\u001b[A\n",
            "\n",
            " 64%|██████▍   | 129/200 [01:04<00:28,  2.50it/s]"
          ],
          "name": "stderr"
        },
        {
          "output_type": "stream",
          "text": [
            "test  /content/drive/My Drive/dataset/No_Parking/vid28.mp4\n"
          ],
          "name": "stdout"
        },
        {
          "output_type": "stream",
          "text": [
            "\u001b[A\u001b[A"
          ],
          "name": "stderr"
        },
        {
          "output_type": "stream",
          "text": [
            "test  /content/drive/My Drive/dataset/No_Parking/vid29.mp4\n"
          ],
          "name": "stdout"
        },
        {
          "output_type": "stream",
          "text": [
            "\n",
            "\n",
            " 65%|██████▌   | 130/200 [01:05<00:24,  2.83it/s]\u001b[A\u001b[A"
          ],
          "name": "stderr"
        },
        {
          "output_type": "stream",
          "text": [
            "test  /content/drive/My Drive/dataset/No_Parking/vid30.mp4\n"
          ],
          "name": "stdout"
        },
        {
          "output_type": "stream",
          "text": [
            "\n",
            "\n",
            " 66%|██████▌   | 131/200 [01:05<00:21,  3.17it/s]\u001b[A\u001b[A"
          ],
          "name": "stderr"
        },
        {
          "output_type": "stream",
          "text": [
            "test  /content/drive/My Drive/dataset/No_Parking/vid31.mp4\n"
          ],
          "name": "stdout"
        },
        {
          "output_type": "stream",
          "text": [
            "\n",
            "\n",
            " 66%|██████▌   | 132/200 [01:05<00:26,  2.53it/s]\u001b[A\u001b[A"
          ],
          "name": "stderr"
        },
        {
          "output_type": "stream",
          "text": [
            "test  /content/drive/My Drive/dataset/No_Parking/vid32.mp4\n"
          ],
          "name": "stdout"
        },
        {
          "output_type": "stream",
          "text": [
            "\n",
            "\n",
            " 66%|██████▋   | 133/200 [01:06<00:31,  2.14it/s]\u001b[A\u001b[A"
          ],
          "name": "stderr"
        },
        {
          "output_type": "stream",
          "text": [
            "test  /content/drive/My Drive/dataset/No_Parking/vid33.mp4\n"
          ],
          "name": "stdout"
        },
        {
          "output_type": "stream",
          "text": [
            "\n",
            "\n",
            " 67%|██████▋   | 134/200 [01:07<00:50,  1.30it/s]\u001b[A\u001b[A"
          ],
          "name": "stderr"
        },
        {
          "output_type": "stream",
          "text": [
            "test  /content/drive/My Drive/dataset/No_Parking/vid34.mp4\n"
          ],
          "name": "stdout"
        },
        {
          "output_type": "stream",
          "text": [
            "\n",
            "\n",
            " 68%|██████▊   | 135/200 [01:09<01:04,  1.01it/s]\u001b[A\u001b[A"
          ],
          "name": "stderr"
        },
        {
          "output_type": "stream",
          "text": [
            "test  /content/drive/My Drive/dataset/No_Parking/vid35.mp4\n"
          ],
          "name": "stdout"
        },
        {
          "output_type": "stream",
          "text": [
            "\n",
            "\n",
            " 68%|██████▊   | 136/200 [01:11<01:18,  1.23s/it]\u001b[A\u001b[A"
          ],
          "name": "stderr"
        },
        {
          "output_type": "stream",
          "text": [
            "test  /content/drive/My Drive/dataset/No_Parking/vid36.mp4\n"
          ],
          "name": "stdout"
        },
        {
          "output_type": "stream",
          "text": [
            "\n",
            "\n",
            " 68%|██████▊   | 137/200 [01:13<01:28,  1.41s/it]\u001b[A\u001b[A"
          ],
          "name": "stderr"
        },
        {
          "output_type": "stream",
          "text": [
            "test  /content/drive/My Drive/dataset/No_Parking/vid37.mp4\n"
          ],
          "name": "stdout"
        },
        {
          "output_type": "stream",
          "text": [
            "\n",
            "\n",
            " 69%|██████▉   | 138/200 [01:14<01:35,  1.54s/it]\u001b[A\u001b[A"
          ],
          "name": "stderr"
        },
        {
          "output_type": "stream",
          "text": [
            "test  /content/drive/My Drive/dataset/No_Parking/vid38.mp4\n"
          ],
          "name": "stdout"
        },
        {
          "output_type": "stream",
          "text": [
            "\n",
            "\n",
            " 70%|██████▉   | 139/200 [01:16<01:37,  1.60s/it]\u001b[A\u001b[A"
          ],
          "name": "stderr"
        },
        {
          "output_type": "stream",
          "text": [
            "test  /content/drive/My Drive/dataset/No_Parking/vid39.mp4\n"
          ],
          "name": "stdout"
        },
        {
          "output_type": "stream",
          "text": [
            "\n",
            "\n",
            " 70%|███████   | 140/200 [01:18<01:37,  1.63s/it]\u001b[A\u001b[A"
          ],
          "name": "stderr"
        },
        {
          "output_type": "stream",
          "text": [
            "test  /content/drive/My Drive/dataset/No_Parking/vid40.mp4\n"
          ],
          "name": "stdout"
        },
        {
          "output_type": "stream",
          "text": [
            "\n",
            "\n",
            " 70%|███████   | 141/200 [01:20<01:41,  1.72s/it]\u001b[A\u001b[A"
          ],
          "name": "stderr"
        },
        {
          "output_type": "stream",
          "text": [
            "test  /content/drive/My Drive/dataset/No_Parking/vid41.mp4\n"
          ],
          "name": "stdout"
        },
        {
          "output_type": "stream",
          "text": [
            "\n",
            "\n",
            " 71%|███████   | 142/200 [01:21<01:35,  1.65s/it]\u001b[A\u001b[A"
          ],
          "name": "stderr"
        },
        {
          "output_type": "stream",
          "text": [
            "test  /content/drive/My Drive/dataset/No_Parking/vid42.mp4\n"
          ],
          "name": "stdout"
        },
        {
          "output_type": "stream",
          "text": [
            "\n",
            "\n",
            " 72%|███████▏  | 143/200 [01:23<01:31,  1.61s/it]\u001b[A\u001b[A"
          ],
          "name": "stderr"
        },
        {
          "output_type": "stream",
          "text": [
            "test  /content/drive/My Drive/dataset/No_Parking/vid43.mp4\n"
          ],
          "name": "stdout"
        },
        {
          "output_type": "stream",
          "text": [
            "\n",
            "\n",
            " 72%|███████▏  | 144/200 [01:24<01:22,  1.48s/it]\u001b[A\u001b[A"
          ],
          "name": "stderr"
        },
        {
          "output_type": "stream",
          "text": [
            "test  /content/drive/My Drive/dataset/No_Parking/vid44.mp4\n"
          ],
          "name": "stdout"
        },
        {
          "output_type": "stream",
          "text": [
            "\n",
            "\n",
            " 72%|███████▎  | 145/200 [01:25<01:21,  1.48s/it]\u001b[A\u001b[A"
          ],
          "name": "stderr"
        },
        {
          "output_type": "stream",
          "text": [
            "test  /content/drive/My Drive/dataset/No_Parking/vid45.mp4\n"
          ],
          "name": "stdout"
        },
        {
          "output_type": "stream",
          "text": [
            "\n",
            "\n",
            " 73%|███████▎  | 146/200 [01:27<01:19,  1.48s/it]\u001b[A\u001b[A"
          ],
          "name": "stderr"
        },
        {
          "output_type": "stream",
          "text": [
            "test  /content/drive/My Drive/dataset/No_Parking/vid46.mp4\n"
          ],
          "name": "stdout"
        },
        {
          "output_type": "stream",
          "text": [
            "\n",
            "\n",
            " 74%|███████▎  | 147/200 [01:28<01:18,  1.49s/it]\u001b[A\u001b[A"
          ],
          "name": "stderr"
        },
        {
          "output_type": "stream",
          "text": [
            "test  /content/drive/My Drive/dataset/No_Parking/vid47.mp4\n"
          ],
          "name": "stdout"
        },
        {
          "output_type": "stream",
          "text": [
            "\n",
            "\n",
            " 74%|███████▍  | 148/200 [01:30<01:21,  1.57s/it]\u001b[A\u001b[A"
          ],
          "name": "stderr"
        },
        {
          "output_type": "stream",
          "text": [
            "test  /content/drive/My Drive/dataset/No_Parking/vid48.mp4\n"
          ],
          "name": "stdout"
        },
        {
          "output_type": "stream",
          "text": [
            "\n",
            "\n",
            " 74%|███████▍  | 149/200 [01:32<01:21,  1.59s/it]\u001b[A\u001b[A"
          ],
          "name": "stderr"
        },
        {
          "output_type": "stream",
          "text": [
            "test  /content/drive/My Drive/dataset/No_Parking/vid49.mp4\n"
          ],
          "name": "stdout"
        },
        {
          "output_type": "stream",
          "text": [
            "\n",
            "\n",
            " 75%|███████▌  | 150/200 [01:34<01:21,  1.63s/it]\u001b[A\u001b[A"
          ],
          "name": "stderr"
        },
        {
          "output_type": "stream",
          "text": [
            "test  /content/drive/My Drive/dataset/No_Parking/vid50.mp4\n"
          ],
          "name": "stdout"
        },
        {
          "output_type": "stream",
          "text": [
            "\n",
            "\n",
            " 76%|███████▌  | 151/200 [01:35<01:22,  1.68s/it]\u001b[A\u001b[A"
          ],
          "name": "stderr"
        },
        {
          "output_type": "stream",
          "text": [
            "test  /content/drive/My Drive/dataset/No_Parking/vid51.mp4\n"
          ],
          "name": "stdout"
        },
        {
          "output_type": "stream",
          "text": [
            "\n",
            "\n",
            " 76%|███████▌  | 152/200 [01:37<01:24,  1.76s/it]\u001b[A\u001b[A"
          ],
          "name": "stderr"
        },
        {
          "output_type": "stream",
          "text": [
            "test  /content/drive/My Drive/dataset/No_Parking/vid52.mp4\n"
          ],
          "name": "stdout"
        },
        {
          "output_type": "stream",
          "text": [
            "\n",
            "\n",
            " 76%|███████▋  | 153/200 [01:39<01:18,  1.66s/it]\u001b[A\u001b[A"
          ],
          "name": "stderr"
        },
        {
          "output_type": "stream",
          "text": [
            "test  /content/drive/My Drive/dataset/No_Parking/vid53.mp4\n"
          ],
          "name": "stdout"
        },
        {
          "output_type": "stream",
          "text": [
            "\n",
            "\n",
            " 77%|███████▋  | 154/200 [01:41<01:20,  1.75s/it]\u001b[A\u001b[A"
          ],
          "name": "stderr"
        },
        {
          "output_type": "stream",
          "text": [
            "test  /content/drive/My Drive/dataset/No_Parking/vid54.mp4\n"
          ],
          "name": "stdout"
        },
        {
          "output_type": "stream",
          "text": [
            "\n",
            "\n",
            " 78%|███████▊  | 155/200 [01:42<01:18,  1.75s/it]\u001b[A\u001b[A"
          ],
          "name": "stderr"
        },
        {
          "output_type": "stream",
          "text": [
            "test  /content/drive/My Drive/dataset/No_Parking/vid55.mp4\n"
          ],
          "name": "stdout"
        },
        {
          "output_type": "stream",
          "text": [
            "\n",
            "\n",
            " 78%|███████▊  | 156/200 [01:44<01:18,  1.79s/it]\u001b[A\u001b[A"
          ],
          "name": "stderr"
        },
        {
          "output_type": "stream",
          "text": [
            "test  /content/drive/My Drive/dataset/No_Parking/vid56.mp4\n"
          ],
          "name": "stdout"
        },
        {
          "output_type": "stream",
          "text": [
            "\n",
            "\n",
            " 78%|███████▊  | 157/200 [01:46<01:13,  1.72s/it]\u001b[A\u001b[A"
          ],
          "name": "stderr"
        },
        {
          "output_type": "stream",
          "text": [
            "test  /content/drive/My Drive/dataset/No_Parking/vid57.mp4\n"
          ],
          "name": "stdout"
        },
        {
          "output_type": "stream",
          "text": [
            "\n",
            "\n",
            " 79%|███████▉  | 158/200 [01:47<01:10,  1.67s/it]\u001b[A\u001b[A"
          ],
          "name": "stderr"
        },
        {
          "output_type": "stream",
          "text": [
            "test  /content/drive/My Drive/dataset/No_Parking/vid58.mp4\n"
          ],
          "name": "stdout"
        },
        {
          "output_type": "stream",
          "text": [
            "\n",
            "\n",
            " 80%|███████▉  | 159/200 [01:49<01:07,  1.64s/it]\u001b[A\u001b[A"
          ],
          "name": "stderr"
        },
        {
          "output_type": "stream",
          "text": [
            "test  /content/drive/My Drive/dataset/No_Parking/vid59.mp4\n"
          ],
          "name": "stdout"
        },
        {
          "output_type": "stream",
          "text": [
            "\n",
            "\n",
            " 80%|████████  | 160/200 [01:51<01:07,  1.68s/it]\u001b[A\u001b[A"
          ],
          "name": "stderr"
        },
        {
          "output_type": "stream",
          "text": [
            "test  /content/drive/My Drive/dataset/No_Parking/vid60.mp4\n"
          ],
          "name": "stdout"
        },
        {
          "output_type": "stream",
          "text": [
            "\n",
            "\n",
            " 80%|████████  | 161/200 [01:52<01:05,  1.69s/it]\u001b[A\u001b[A"
          ],
          "name": "stderr"
        },
        {
          "output_type": "stream",
          "text": [
            "test  /content/drive/My Drive/dataset/No_Parking/vid61.mp4\n"
          ],
          "name": "stdout"
        },
        {
          "output_type": "stream",
          "text": [
            "\n",
            "\n",
            " 81%|████████  | 162/200 [01:54<01:01,  1.61s/it]\u001b[A\u001b[A"
          ],
          "name": "stderr"
        },
        {
          "output_type": "stream",
          "text": [
            "test  /content/drive/My Drive/dataset/No_Parking/vid62.mp4\n"
          ],
          "name": "stdout"
        },
        {
          "output_type": "stream",
          "text": [
            "\n",
            "\n",
            " 82%|████████▏ | 163/200 [01:56<01:01,  1.67s/it]\u001b[A\u001b[A"
          ],
          "name": "stderr"
        },
        {
          "output_type": "stream",
          "text": [
            "test  /content/drive/My Drive/dataset/No_Parking/vid63.mp4\n"
          ],
          "name": "stdout"
        },
        {
          "output_type": "stream",
          "text": [
            "\n",
            "\n",
            " 82%|████████▏ | 164/200 [01:58<01:02,  1.74s/it]\u001b[A\u001b[A"
          ],
          "name": "stderr"
        },
        {
          "output_type": "stream",
          "text": [
            "test  /content/drive/My Drive/dataset/No_Parking/vid64.mp4\n"
          ],
          "name": "stdout"
        },
        {
          "output_type": "stream",
          "text": [
            "\n",
            "\n",
            " 82%|████████▎ | 165/200 [01:59<00:58,  1.67s/it]\u001b[A\u001b[A"
          ],
          "name": "stderr"
        },
        {
          "output_type": "stream",
          "text": [
            "test  /content/drive/My Drive/dataset/No_Parking/vid65.mp4\n"
          ],
          "name": "stdout"
        },
        {
          "output_type": "stream",
          "text": [
            "\n",
            "\n",
            " 83%|████████▎ | 166/200 [02:01<00:59,  1.74s/it]\u001b[A\u001b[A"
          ],
          "name": "stderr"
        },
        {
          "output_type": "stream",
          "text": [
            "test  /content/drive/My Drive/dataset/No_Parking/vid66.mp4\n"
          ],
          "name": "stdout"
        },
        {
          "output_type": "stream",
          "text": [
            "\n",
            "\n",
            " 84%|████████▎ | 167/200 [02:02<00:47,  1.43s/it]\u001b[A\u001b[A"
          ],
          "name": "stderr"
        },
        {
          "output_type": "stream",
          "text": [
            "test  /content/drive/My Drive/dataset/No_Parking/vid67.mp4\n"
          ],
          "name": "stdout"
        },
        {
          "output_type": "stream",
          "text": [
            "\n",
            "\n",
            " 84%|████████▍ | 168/200 [02:03<00:40,  1.27s/it]\u001b[A\u001b[A"
          ],
          "name": "stderr"
        },
        {
          "output_type": "stream",
          "text": [
            "test  /content/drive/My Drive/dataset/No_Parking/vid68.mp4\n"
          ],
          "name": "stdout"
        },
        {
          "output_type": "stream",
          "text": [
            "\n",
            "\n",
            " 84%|████████▍ | 169/200 [02:03<00:33,  1.07s/it]\u001b[A\u001b[A"
          ],
          "name": "stderr"
        },
        {
          "output_type": "stream",
          "text": [
            "test  /content/drive/My Drive/dataset/No_Parking/vid69.mp4\n"
          ],
          "name": "stdout"
        },
        {
          "output_type": "stream",
          "text": [
            "\n",
            "\n",
            " 85%|████████▌ | 170/200 [02:04<00:28,  1.07it/s]\u001b[A\u001b[A"
          ],
          "name": "stderr"
        },
        {
          "output_type": "stream",
          "text": [
            "test  /content/drive/My Drive/dataset/No_Parking/vid70.mp4\n"
          ],
          "name": "stdout"
        },
        {
          "output_type": "stream",
          "text": [
            "\n",
            "\n",
            " 86%|████████▌ | 171/200 [02:05<00:27,  1.06it/s]\u001b[A\u001b[A"
          ],
          "name": "stderr"
        },
        {
          "output_type": "stream",
          "text": [
            "test  /content/drive/My Drive/dataset/No_Parking/vid71.mp4\n"
          ],
          "name": "stdout"
        },
        {
          "output_type": "stream",
          "text": [
            "\n",
            "\n",
            " 86%|████████▌ | 172/200 [02:07<00:34,  1.25s/it]\u001b[A\u001b[A"
          ],
          "name": "stderr"
        },
        {
          "output_type": "stream",
          "text": [
            "test  /content/drive/My Drive/dataset/No_Parking/vid72.mp4\n"
          ],
          "name": "stdout"
        },
        {
          "output_type": "stream",
          "text": [
            "\n",
            "\n",
            " 86%|████████▋ | 173/200 [02:09<00:38,  1.42s/it]\u001b[A\u001b[A"
          ],
          "name": "stderr"
        },
        {
          "output_type": "stream",
          "text": [
            "test  /content/drive/My Drive/dataset/No_Parking/vid73.mp4\n"
          ],
          "name": "stdout"
        },
        {
          "output_type": "stream",
          "text": [
            "\n",
            "\n",
            " 87%|████████▋ | 174/200 [02:11<00:42,  1.63s/it]\u001b[A\u001b[A"
          ],
          "name": "stderr"
        },
        {
          "output_type": "stream",
          "text": [
            "test  /content/drive/My Drive/dataset/No_Parking/vid74.mp4\n"
          ],
          "name": "stdout"
        },
        {
          "output_type": "stream",
          "text": [
            "\n",
            "\n",
            " 88%|████████▊ | 175/200 [02:12<00:41,  1.66s/it]\u001b[A\u001b[A"
          ],
          "name": "stderr"
        },
        {
          "output_type": "stream",
          "text": [
            "test  /content/drive/My Drive/dataset/No_Parking/vid75.mp4\n"
          ],
          "name": "stdout"
        },
        {
          "output_type": "stream",
          "text": [
            "\n",
            "\n",
            " 88%|████████▊ | 176/200 [02:14<00:41,  1.72s/it]\u001b[A\u001b[A"
          ],
          "name": "stderr"
        },
        {
          "output_type": "stream",
          "text": [
            "test  /content/drive/My Drive/dataset/No_Parking/vid76.mp4\n"
          ],
          "name": "stdout"
        },
        {
          "output_type": "stream",
          "text": [
            "\n",
            "\n",
            " 88%|████████▊ | 177/200 [02:15<00:34,  1.50s/it]\u001b[A\u001b[A"
          ],
          "name": "stderr"
        },
        {
          "output_type": "stream",
          "text": [
            "test  /content/drive/My Drive/dataset/No_Parking/vid77.mp4\n"
          ],
          "name": "stdout"
        },
        {
          "output_type": "stream",
          "text": [
            "\n",
            "\n",
            " 89%|████████▉ | 178/200 [02:16<00:30,  1.38s/it]\u001b[A\u001b[A"
          ],
          "name": "stderr"
        },
        {
          "output_type": "stream",
          "text": [
            "test  /content/drive/My Drive/dataset/No_Parking/vid78.mp4\n"
          ],
          "name": "stdout"
        },
        {
          "output_type": "stream",
          "text": [
            "\n",
            "\n",
            " 90%|████████▉ | 179/200 [02:17<00:26,  1.24s/it]\u001b[A\u001b[A"
          ],
          "name": "stderr"
        },
        {
          "output_type": "stream",
          "text": [
            "test  /content/drive/My Drive/dataset/No_Parking/vid79.mp4\n"
          ],
          "name": "stdout"
        },
        {
          "output_type": "stream",
          "text": [
            "\n",
            "\n",
            " 90%|█████████ | 180/200 [02:19<00:25,  1.26s/it]\u001b[A\u001b[A"
          ],
          "name": "stderr"
        },
        {
          "output_type": "stream",
          "text": [
            "test  /content/drive/My Drive/dataset/No_Parking/vid80.mp4\n"
          ],
          "name": "stdout"
        },
        {
          "output_type": "stream",
          "text": [
            "\n",
            "\n",
            " 90%|█████████ | 181/200 [02:20<00:25,  1.32s/it]\u001b[A\u001b[A"
          ],
          "name": "stderr"
        },
        {
          "output_type": "stream",
          "text": [
            "test  /content/drive/My Drive/dataset/No_Parking/vid81.mp4\n"
          ],
          "name": "stdout"
        },
        {
          "output_type": "stream",
          "text": [
            "\n",
            "\n",
            " 91%|█████████ | 182/200 [02:21<00:22,  1.23s/it]\u001b[A\u001b[A"
          ],
          "name": "stderr"
        },
        {
          "output_type": "stream",
          "text": [
            "test  /content/drive/My Drive/dataset/No_Parking/vid82.mp4\n"
          ],
          "name": "stdout"
        },
        {
          "output_type": "stream",
          "text": [
            "\n",
            "\n",
            " 92%|█████████▏| 183/200 [02:22<00:21,  1.28s/it]\u001b[A\u001b[A"
          ],
          "name": "stderr"
        },
        {
          "output_type": "stream",
          "text": [
            "test  /content/drive/My Drive/dataset/No_Parking/vid83.mp4\n"
          ],
          "name": "stdout"
        },
        {
          "output_type": "stream",
          "text": [
            "\n",
            "\n",
            " 92%|█████████▏| 184/200 [02:25<00:24,  1.54s/it]\u001b[A\u001b[A"
          ],
          "name": "stderr"
        },
        {
          "output_type": "stream",
          "text": [
            "test  /content/drive/My Drive/dataset/No_Parking/vid84.mp4\n"
          ],
          "name": "stdout"
        },
        {
          "output_type": "stream",
          "text": [
            "\n",
            "\n",
            " 92%|█████████▎| 185/200 [02:26<00:24,  1.64s/it]\u001b[A\u001b[A"
          ],
          "name": "stderr"
        },
        {
          "output_type": "stream",
          "text": [
            "test  /content/drive/My Drive/dataset/No_Parking/vid85.mp4\n"
          ],
          "name": "stdout"
        },
        {
          "output_type": "stream",
          "text": [
            "\n",
            "\n",
            " 93%|█████████▎| 186/200 [02:28<00:21,  1.52s/it]\u001b[A\u001b[A"
          ],
          "name": "stderr"
        },
        {
          "output_type": "stream",
          "text": [
            "test  /content/drive/My Drive/dataset/No_Parking/vid86.mp4\n"
          ],
          "name": "stdout"
        },
        {
          "output_type": "stream",
          "text": [
            "\n",
            "\n",
            " 94%|█████████▎| 187/200 [02:31<00:27,  2.09s/it]\u001b[A\u001b[A"
          ],
          "name": "stderr"
        },
        {
          "output_type": "stream",
          "text": [
            "test  /content/drive/My Drive/dataset/No_Parking/vid87.mp4\n"
          ],
          "name": "stdout"
        },
        {
          "output_type": "stream",
          "text": [
            "\n",
            "\n",
            " 94%|█████████▍| 188/200 [02:34<00:26,  2.19s/it]\u001b[A\u001b[A"
          ],
          "name": "stderr"
        },
        {
          "output_type": "stream",
          "text": [
            "test  /content/drive/My Drive/dataset/No_Parking/vid88.mp4\n"
          ],
          "name": "stdout"
        },
        {
          "output_type": "stream",
          "text": [
            "\n",
            "\n",
            " 94%|█████████▍| 189/200 [02:35<00:22,  2.07s/it]\u001b[A\u001b[A"
          ],
          "name": "stderr"
        },
        {
          "output_type": "stream",
          "text": [
            "test  /content/drive/My Drive/dataset/No_Parking/vid89.mp4\n"
          ],
          "name": "stdout"
        },
        {
          "output_type": "stream",
          "text": [
            "\n",
            "\n",
            " 95%|█████████▌| 190/200 [02:37<00:19,  1.96s/it]\u001b[A\u001b[A"
          ],
          "name": "stderr"
        },
        {
          "output_type": "stream",
          "text": [
            "test  /content/drive/My Drive/dataset/No_Parking/vid90.mp4\n"
          ],
          "name": "stdout"
        },
        {
          "output_type": "stream",
          "text": [
            "\n",
            "\n",
            " 96%|█████████▌| 191/200 [02:38<00:15,  1.72s/it]\u001b[A\u001b[A"
          ],
          "name": "stderr"
        },
        {
          "output_type": "stream",
          "text": [
            "test  /content/drive/My Drive/dataset/No_Parking/vid91.mp4\n"
          ],
          "name": "stdout"
        },
        {
          "output_type": "stream",
          "text": [
            "\n",
            "\n",
            " 96%|█████████▌| 192/200 [02:40<00:14,  1.79s/it]\u001b[A\u001b[A"
          ],
          "name": "stderr"
        },
        {
          "output_type": "stream",
          "text": [
            "test  /content/drive/My Drive/dataset/No_Parking/vid92.mp4\n"
          ],
          "name": "stdout"
        },
        {
          "output_type": "stream",
          "text": [
            "\n",
            "\n",
            " 96%|█████████▋| 193/200 [02:42<00:12,  1.72s/it]\u001b[A\u001b[A"
          ],
          "name": "stderr"
        },
        {
          "output_type": "stream",
          "text": [
            "test  /content/drive/My Drive/dataset/No_Parking/vid93.mp4\n"
          ],
          "name": "stdout"
        },
        {
          "output_type": "stream",
          "text": [
            "\n",
            "\n",
            " 97%|█████████▋| 194/200 [02:44<00:10,  1.77s/it]\u001b[A\u001b[A"
          ],
          "name": "stderr"
        },
        {
          "output_type": "stream",
          "text": [
            "test  /content/drive/My Drive/dataset/No_Parking/vid94.mp4\n"
          ],
          "name": "stdout"
        },
        {
          "output_type": "stream",
          "text": [
            "\n",
            "\n",
            " 98%|█████████▊| 195/200 [02:46<00:09,  1.83s/it]\u001b[A\u001b[A"
          ],
          "name": "stderr"
        },
        {
          "output_type": "stream",
          "text": [
            "test  /content/drive/My Drive/dataset/No_Parking/vid95.mp4\n"
          ],
          "name": "stdout"
        },
        {
          "output_type": "stream",
          "text": [
            "\n",
            "\n",
            " 98%|█████████▊| 196/200 [02:49<00:09,  2.29s/it]\u001b[A\u001b[A"
          ],
          "name": "stderr"
        },
        {
          "output_type": "stream",
          "text": [
            "test  /content/drive/My Drive/dataset/No_Parking/vid96.mp4\n"
          ],
          "name": "stdout"
        },
        {
          "output_type": "stream",
          "text": [
            "\n",
            "\n",
            " 98%|█████████▊| 197/200 [02:50<00:05,  1.94s/it]\u001b[A\u001b[A"
          ],
          "name": "stderr"
        },
        {
          "output_type": "stream",
          "text": [
            "test  /content/drive/My Drive/dataset/No_Parking/vid97.mp4\n"
          ],
          "name": "stdout"
        },
        {
          "output_type": "stream",
          "text": [
            "\n",
            "\n",
            " 99%|█████████▉| 198/200 [02:51<00:03,  1.58s/it]\u001b[A\u001b[A"
          ],
          "name": "stderr"
        },
        {
          "output_type": "stream",
          "text": [
            "test  /content/drive/My Drive/dataset/No_Parking/vid98.mp4\n"
          ],
          "name": "stdout"
        },
        {
          "output_type": "stream",
          "text": [
            "\n",
            "\n",
            "100%|█████████▉| 199/200 [02:53<00:01,  1.67s/it]\u001b[A\u001b[A"
          ],
          "name": "stderr"
        },
        {
          "output_type": "stream",
          "text": [
            "test  /content/drive/My Drive/dataset/No_Parking/vid99.mp4\n"
          ],
          "name": "stdout"
        },
        {
          "output_type": "stream",
          "text": [
            "\n",
            "\n",
            "100%|██████████| 200/200 [02:54<00:00,  1.61s/it]\u001b[A\u001b[A"
          ],
          "name": "stderr"
        },
        {
          "output_type": "stream",
          "text": [
            "test  /content/drive/My Drive/dataset/No_Parking/vid100.mp4\n"
          ],
          "name": "stdout"
        },
        {
          "output_type": "stream",
          "text": [
            "\r100%|██████████| 200/200 [02:56<00:00,  1.13it/s]\n",
            "\n",
            "\n",
            "  0%|          | 0/200 [00:00<?, ?it/s]\u001b[A\u001b[A"
          ],
          "name": "stderr"
        },
        {
          "output_type": "stream",
          "text": [
            "test  /content/drive/My Drive/dataset/Car Running/Cars in Motion- The Rolling Shot Supercut - HALCYON (4K)2.mp4\n"
          ],
          "name": "stdout"
        },
        {
          "output_type": "stream",
          "text": [
            "\n",
            "\n",
            "  1%|          | 2/200 [00:01<02:00,  1.64it/s]\u001b[A\u001b[A"
          ],
          "name": "stderr"
        },
        {
          "output_type": "stream",
          "text": [
            "test  /content/drive/My Drive/dataset/Car Running/(HD) Exotic Car Run (Cop Trouble)-Lamborghini LP640, Rossion Q1, Superleggera and MORE (online-video-cutter.com).mp4\n"
          ],
          "name": "stdout"
        },
        {
          "output_type": "stream",
          "text": [
            "\n",
            "\n",
            "  2%|▏         | 3/200 [00:02<03:04,  1.07it/s]\u001b[A\u001b[A"
          ],
          "name": "stderr"
        },
        {
          "output_type": "stream",
          "text": [
            "test  /content/drive/My Drive/dataset/Car Running/(HD) Exotic Car Run (Cop Trouble)-Lamborghini LP640, Rossion Q1, Superleggera and MORE (online-video-cutter.com) (2).mp4\n"
          ],
          "name": "stdout"
        },
        {
          "output_type": "stream",
          "text": [
            "\n",
            "\n",
            "  2%|▏         | 4/200 [00:04<03:53,  1.19s/it]\u001b[A\u001b[A"
          ],
          "name": "stderr"
        },
        {
          "output_type": "stream",
          "text": [
            "test  /content/drive/My Drive/dataset/Car Running/(HD) Exotic Car Run (Cop Trouble)-Lamborghini LP640, Rossion Q1, Superleggera and MORE (online-video-cutter.com) (3).mp4\n"
          ],
          "name": "stdout"
        },
        {
          "output_type": "stream",
          "text": [
            "\n",
            "\n",
            "  2%|▎         | 5/200 [00:06<04:16,  1.32s/it]\u001b[A\u001b[A"
          ],
          "name": "stderr"
        },
        {
          "output_type": "stream",
          "text": [
            "test  /content/drive/My Drive/dataset/Car Running/(HD) Exotic Car Run (Cop Trouble)-Lamborghini LP640, Rossion Q1, Superleggera and MORE (online-video-cutter.com) (4).mp4\n"
          ],
          "name": "stdout"
        },
        {
          "output_type": "stream",
          "text": [
            "\n",
            "\n",
            "  3%|▎         | 6/200 [00:07<04:31,  1.40s/it]\u001b[A\u001b[A"
          ],
          "name": "stderr"
        },
        {
          "output_type": "stream",
          "text": [
            "test  /content/drive/My Drive/dataset/Car Running/Bugatti Veyron 16.4 1001 HP vs BMW M5 E34 Turbo by AG [Uncut 4k ONE TAKE] (online-video-cutter.com).mp4\n"
          ],
          "name": "stdout"
        },
        {
          "output_type": "stream",
          "text": [
            "\n",
            "\n",
            "  4%|▎         | 7/200 [00:09<04:34,  1.42s/it]\u001b[A\u001b[A"
          ],
          "name": "stderr"
        },
        {
          "output_type": "stream",
          "text": [
            "test  /content/drive/My Drive/dataset/Car Running/Bugatti Veyron 16.4 1001 HP vs BMW M5 E34 Turbo by AG [Uncut 4k ONE TAKE] (online-video-cutter.com) (1).mp4\n"
          ],
          "name": "stdout"
        },
        {
          "output_type": "stream",
          "text": [
            "\n",
            "\n",
            "  4%|▍         | 8/200 [00:11<04:45,  1.49s/it]\u001b[A\u001b[A"
          ],
          "name": "stderr"
        },
        {
          "output_type": "stream",
          "text": [
            "test  /content/drive/My Drive/dataset/Car Running/Devil SRT - Ferrada Wheels - SchwaaFilms (4K) (online-video-cutter.com).mp4\n"
          ],
          "name": "stdout"
        },
        {
          "output_type": "stream",
          "text": [
            "\n",
            "\n",
            "  4%|▍         | 9/200 [00:12<04:47,  1.51s/it]\u001b[A\u001b[A"
          ],
          "name": "stderr"
        },
        {
          "output_type": "stream",
          "text": [
            "test  /content/drive/My Drive/dataset/Car Running/Devil SRT - Ferrada Wheels - SchwaaFilms (4K) (online-video-cutter.com) (1).mp4\n"
          ],
          "name": "stdout"
        },
        {
          "output_type": "stream",
          "text": [
            "\n",
            "\n",
            "  6%|▌         | 11/200 [00:14<04:17,  1.36s/it]\u001b[A\u001b[A"
          ],
          "name": "stderr"
        },
        {
          "output_type": "stream",
          "text": [
            "test  /content/drive/My Drive/dataset/Car Running/Devil SRT - Ferrada Wheels - SchwaaFilms (4K) (online-video-cutter.com) (3).mp4\n"
          ],
          "name": "stdout"
        },
        {
          "output_type": "stream",
          "text": [
            "\n",
            "\n",
            "  6%|▌         | 12/200 [00:16<04:19,  1.38s/it]\u001b[A\u001b[A"
          ],
          "name": "stderr"
        },
        {
          "output_type": "stream",
          "text": [
            "test  /content/drive/My Drive/dataset/Car Running/F.O.O.L - Highway (online-video-cutter.com).mp4\n"
          ],
          "name": "stdout"
        },
        {
          "output_type": "stream",
          "text": [
            "\n",
            "\n",
            "  6%|▋         | 13/200 [00:17<04:15,  1.37s/it]\u001b[A\u001b[A"
          ],
          "name": "stderr"
        },
        {
          "output_type": "stream",
          "text": [
            "test  /content/drive/My Drive/dataset/Car Running/F.O.O.L - Highway (online-video-cutter.com) (1).mp4\n"
          ],
          "name": "stdout"
        },
        {
          "output_type": "stream",
          "text": [
            "\n",
            "\n",
            "  7%|▋         | 14/200 [00:19<04:17,  1.38s/it]\u001b[A\u001b[A"
          ],
          "name": "stderr"
        },
        {
          "output_type": "stream",
          "text": [
            "test  /content/drive/My Drive/dataset/Car Running/F.O.O.L - Highway (online-video-cutter.com) (2).mp4\n"
          ],
          "name": "stdout"
        },
        {
          "output_type": "stream",
          "text": [
            "\n",
            "\n",
            "  8%|▊         | 15/200 [00:20<04:19,  1.40s/it]\u001b[A\u001b[A"
          ],
          "name": "stderr"
        },
        {
          "output_type": "stream",
          "text": [
            "test  /content/drive/My Drive/dataset/Car Running/F.O.O.L - Highway (online-video-cutter.com) (3).mp4\n"
          ],
          "name": "stdout"
        },
        {
          "output_type": "stream",
          "text": [
            "\n",
            "\n",
            "  8%|▊         | 16/200 [00:21<03:47,  1.24s/it]\u001b[A\u001b[A"
          ],
          "name": "stderr"
        },
        {
          "output_type": "stream",
          "text": [
            "test  /content/drive/My Drive/dataset/Car Running/Kia SELTOS in Action - High Speed 140+ kmph - Chased by HEXA (online-video-cutter.com).mp4\n"
          ],
          "name": "stdout"
        },
        {
          "output_type": "stream",
          "text": [
            "\n",
            "\n",
            "  8%|▊         | 17/200 [00:23<04:06,  1.35s/it]\u001b[A\u001b[A"
          ],
          "name": "stderr"
        },
        {
          "output_type": "stream",
          "text": [
            "test  /content/drive/My Drive/dataset/Car Running/Kia SELTOS in Action - High Speed 140+ kmph - Chased by HEXA (online-video-cutter.com) (1).mp4\n"
          ],
          "name": "stdout"
        },
        {
          "output_type": "stream",
          "text": [
            "\n",
            "\n",
            "  9%|▉         | 18/200 [00:24<04:16,  1.41s/it]\u001b[A\u001b[A"
          ],
          "name": "stderr"
        },
        {
          "output_type": "stream",
          "text": [
            "test  /content/drive/My Drive/dataset/Car Running/Kia SELTOS in Action - High Speed 140+ kmph - Chased by HEXA (online-video-cutter.com) (2).mp4\n"
          ],
          "name": "stdout"
        },
        {
          "output_type": "stream",
          "text": [
            "\n",
            "\n",
            " 10%|▉         | 19/200 [00:26<04:22,  1.45s/it]\u001b[A\u001b[A"
          ],
          "name": "stderr"
        },
        {
          "output_type": "stream",
          "text": [
            "test  /content/drive/My Drive/dataset/Car Running/Kia SELTOS in Action - High Speed 140+ kmph - Chased by HEXA (online-video-cutter.com) (3).mp4\n"
          ],
          "name": "stdout"
        },
        {
          "output_type": "stream",
          "text": [
            "\n",
            "\n",
            " 10%|█         | 20/200 [00:27<04:28,  1.49s/it]\u001b[A\u001b[A"
          ],
          "name": "stderr"
        },
        {
          "output_type": "stream",
          "text": [
            "test  /content/drive/My Drive/dataset/Car Running/Kia SELTOS in Action - High Speed 140+ kmph - Chased by HEXA (online-video-cutter.com) (4).mp4\n"
          ],
          "name": "stdout"
        },
        {
          "output_type": "stream",
          "text": [
            "\n",
            "\n",
            " 10%|█         | 21/200 [00:29<04:23,  1.47s/it]\u001b[A\u001b[A"
          ],
          "name": "stderr"
        },
        {
          "output_type": "stream",
          "text": [
            "test  /content/drive/My Drive/dataset/Car Running/Kia SELTOS in Action - High Speed 140+ kmph - Chased by HEXA (online-video-cutter.com) (5).mp4\n"
          ],
          "name": "stdout"
        },
        {
          "output_type": "stream",
          "text": [
            "\n",
            "\n",
            " 11%|█         | 22/200 [00:30<04:27,  1.50s/it]\u001b[A\u001b[A"
          ],
          "name": "stderr"
        },
        {
          "output_type": "stream",
          "text": [
            "test  /content/drive/My Drive/dataset/Car Running/Kia SELTOS in Action - High Speed 140+ kmph - Chased by HEXA (online-video-cutter.com) (6).mp4\n"
          ],
          "name": "stdout"
        },
        {
          "output_type": "stream",
          "text": [
            "\n",
            "\n",
            " 12%|█▏        | 23/200 [00:32<04:26,  1.51s/it]\u001b[A\u001b[A"
          ],
          "name": "stderr"
        },
        {
          "output_type": "stream",
          "text": [
            "test  /content/drive/My Drive/dataset/Car Running/Mini Cooper Race Car - 1978 (online-video-cutter.com).mp4\n"
          ],
          "name": "stdout"
        },
        {
          "output_type": "stream",
          "text": [
            "\n",
            "\n",
            " 12%|█▏        | 24/200 [00:33<04:20,  1.48s/it]\u001b[A\u001b[A"
          ],
          "name": "stderr"
        },
        {
          "output_type": "stream",
          "text": [
            "test  /content/drive/My Drive/dataset/Car Running/Mini Cooper Race Car - 1978 (online-video-cutter.com) (1).mp4\n"
          ],
          "name": "stdout"
        },
        {
          "output_type": "stream",
          "text": [
            "\n",
            "\n",
            " 12%|█▎        | 25/200 [00:35<04:20,  1.49s/it]\u001b[A\u001b[A"
          ],
          "name": "stderr"
        },
        {
          "output_type": "stream",
          "text": [
            "test  /content/drive/My Drive/dataset/Car Running/Mini Cooper Race Car - 1978 (online-video-cutter.com) (2).mp4\n"
          ],
          "name": "stdout"
        },
        {
          "output_type": "stream",
          "text": [
            "\n",
            "\n",
            " 13%|█▎        | 26/200 [00:36<04:13,  1.46s/it]\u001b[A\u001b[A"
          ],
          "name": "stderr"
        },
        {
          "output_type": "stream",
          "text": [
            "test  /content/drive/My Drive/dataset/Car Running/Ollie's 360BHP B16 Turbo Mini --) (online-video-cutter.com).mp4\n"
          ],
          "name": "stdout"
        },
        {
          "output_type": "stream",
          "text": [
            "\n",
            "\n",
            " 14%|█▎        | 27/200 [00:38<04:23,  1.52s/it]\u001b[A\u001b[A"
          ],
          "name": "stderr"
        },
        {
          "output_type": "stream",
          "text": [
            "test  /content/drive/My Drive/dataset/Car Running/Ollie's 360BHP B16 Turbo Mini --) (online-video-cutter.com) (1).mp4\n"
          ],
          "name": "stdout"
        },
        {
          "output_type": "stream",
          "text": [
            "\n",
            "\n",
            " 14%|█▍        | 28/200 [00:39<04:24,  1.54s/it]\u001b[A\u001b[A"
          ],
          "name": "stderr"
        },
        {
          "output_type": "stream",
          "text": [
            "test  /content/drive/My Drive/dataset/Car Running/Ollie's 360BHP B16 Turbo Mini --) (online-video-cutter.com) (2).mp4\n"
          ],
          "name": "stdout"
        },
        {
          "output_type": "stream",
          "text": [
            "\n",
            "\n",
            " 14%|█▍        | 29/200 [00:41<04:19,  1.52s/it]\u001b[A\u001b[A"
          ],
          "name": "stderr"
        },
        {
          "output_type": "stream",
          "text": [
            "test  /content/drive/My Drive/dataset/Car Running/Rich kids of MUMBAI take over Worli Sea face (INDIA)!!! (online-video-cutter.com).mp4\n"
          ],
          "name": "stdout"
        },
        {
          "output_type": "stream",
          "text": [
            "\n",
            "\n",
            " 15%|█▌        | 30/200 [00:42<04:13,  1.49s/it]\u001b[A\u001b[A"
          ],
          "name": "stderr"
        },
        {
          "output_type": "stream",
          "text": [
            "test  /content/drive/My Drive/dataset/Car Running/Rich kids of MUMBAI take over Worli Sea face (INDIA)!!! (online-video-cutter.com) (1).mp4\n"
          ],
          "name": "stdout"
        },
        {
          "output_type": "stream",
          "text": [
            "\n",
            "\n",
            " 16%|█▌        | 31/200 [00:44<04:21,  1.55s/it]\u001b[A\u001b[A"
          ],
          "name": "stderr"
        },
        {
          "output_type": "stream",
          "text": [
            "test  /content/drive/My Drive/dataset/Car Running/Sasha Fierce M3 - SchwaaFilms (4K) (online-video-cutter.com).mp4\n"
          ],
          "name": "stdout"
        },
        {
          "output_type": "stream",
          "text": [
            "\n",
            "\n",
            " 16%|█▌        | 32/200 [00:45<04:24,  1.57s/it]\u001b[A\u001b[A"
          ],
          "name": "stderr"
        },
        {
          "output_type": "stream",
          "text": [
            "test  /content/drive/My Drive/dataset/Car Running/Sasha Fierce M3 - SchwaaFilms (4K) (online-video-cutter.com) (1).mp4\n"
          ],
          "name": "stdout"
        },
        {
          "output_type": "stream",
          "text": [
            "\n",
            "\n",
            " 16%|█▋        | 33/200 [00:47<04:17,  1.54s/it]\u001b[A\u001b[A"
          ],
          "name": "stderr"
        },
        {
          "output_type": "stream",
          "text": [
            "test  /content/drive/My Drive/dataset/Car Running/Sasha Fierce M3 - SchwaaFilms (4K) (online-video-cutter.com) (2).mp4\n"
          ],
          "name": "stdout"
        },
        {
          "output_type": "stream",
          "text": [
            "\n",
            "\n",
            " 17%|█▋        | 34/200 [00:48<04:13,  1.53s/it]\u001b[A\u001b[A"
          ],
          "name": "stderr"
        },
        {
          "output_type": "stream",
          "text": [
            "test  /content/drive/My Drive/dataset/Car Running/The all-new BMW 7 Series. Official launch film. (online-video-cutter.com).mp4\n"
          ],
          "name": "stdout"
        },
        {
          "output_type": "stream",
          "text": [
            "\n",
            "\n",
            " 18%|█▊        | 35/200 [00:50<04:06,  1.49s/it]\u001b[A\u001b[A"
          ],
          "name": "stderr"
        },
        {
          "output_type": "stream",
          "text": [
            "test  /content/drive/My Drive/dataset/Car Running/The all-new BMW 7 Series. Official launch film. (online-video-cutter.com) (1).mp4\n"
          ],
          "name": "stdout"
        },
        {
          "output_type": "stream",
          "text": [
            "\n",
            "\n",
            " 18%|█▊        | 36/200 [00:51<03:41,  1.35s/it]\u001b[A\u001b[A"
          ],
          "name": "stderr"
        },
        {
          "output_type": "stream",
          "text": [
            "test  /content/drive/My Drive/dataset/Car Running/The all-new BMW 7 Series. Official launch film. (online-video-cutter.com) (2).mp4\n"
          ],
          "name": "stdout"
        },
        {
          "output_type": "stream",
          "text": [
            "\n",
            "\n",
            " 18%|█▊        | 37/200 [00:52<03:50,  1.42s/it]\u001b[A\u001b[A"
          ],
          "name": "stderr"
        },
        {
          "output_type": "stream",
          "text": [
            "test  /content/drive/My Drive/dataset/Car Running/The all-new BMW 7 Series. Official launch film. (online-video-cutter.com) (3).mp4\n"
          ],
          "name": "stdout"
        },
        {
          "output_type": "stream",
          "text": [
            "\n",
            "\n",
            " 19%|█▉        | 38/200 [00:53<03:26,  1.28s/it]\u001b[A\u001b[A"
          ],
          "name": "stderr"
        },
        {
          "output_type": "stream",
          "text": [
            "test  /content/drive/My Drive/dataset/Car Running/The all-new BMW 7 Series. Official launch film. (online-video-cutter.com) (4).mp4\n"
          ],
          "name": "stdout"
        },
        {
          "output_type": "stream",
          "text": [
            "\n",
            "\n",
            " 20%|█▉        | 39/200 [00:55<03:41,  1.38s/it]\u001b[A\u001b[A"
          ],
          "name": "stderr"
        },
        {
          "output_type": "stream",
          "text": [
            "test  /content/drive/My Drive/dataset/Car Running/The Best Of Street Drifting (online-video-cutter.com).mp4\n"
          ],
          "name": "stdout"
        },
        {
          "output_type": "stream",
          "text": [
            "\n",
            "\n",
            " 20%|██        | 40/200 [00:56<03:45,  1.41s/it]\u001b[A\u001b[A"
          ],
          "name": "stderr"
        },
        {
          "output_type": "stream",
          "text": [
            "test  /content/drive/My Drive/dataset/Car Running/The Best Of Street Drifting (online-video-cutter.com) (1).mp4\n"
          ],
          "name": "stdout"
        },
        {
          "output_type": "stream",
          "text": [
            "\n",
            "\n",
            " 20%|██        | 41/200 [00:58<03:46,  1.42s/it]\u001b[A\u001b[A"
          ],
          "name": "stderr"
        },
        {
          "output_type": "stream",
          "text": [
            "test  /content/drive/My Drive/dataset/Car Running/The Best Of Street Drifting (online-video-cutter.com) (2).mp4\n"
          ],
          "name": "stdout"
        },
        {
          "output_type": "stream",
          "text": [
            "\n",
            "\n",
            " 21%|██        | 42/200 [00:59<03:45,  1.43s/it]\u001b[A\u001b[A"
          ],
          "name": "stderr"
        },
        {
          "output_type": "stream",
          "text": [
            "test  /content/drive/My Drive/dataset/Car Running/The Best Of Street Drifting (online-video-cutter.com) (3).mp4\n"
          ],
          "name": "stdout"
        },
        {
          "output_type": "stream",
          "text": [
            "\n",
            "\n",
            " 22%|██▏       | 43/200 [01:01<03:52,  1.48s/it]\u001b[A\u001b[A"
          ],
          "name": "stderr"
        },
        {
          "output_type": "stream",
          "text": [
            "test  /content/drive/My Drive/dataset/Car Running/Mercedes C-Class.mp4\n"
          ],
          "name": "stdout"
        },
        {
          "output_type": "stream",
          "text": [
            "\n",
            "\n",
            " 22%|██▏       | 44/200 [01:03<04:04,  1.57s/it]\u001b[A\u001b[A"
          ],
          "name": "stderr"
        },
        {
          "output_type": "stream",
          "text": [
            "test  /content/drive/My Drive/dataset/Car Running/Mercedes Benz On The Road.mp4\n"
          ],
          "name": "stdout"
        },
        {
          "output_type": "stream",
          "text": [
            "\n",
            "\n",
            " 22%|██▎       | 45/200 [01:05<04:37,  1.79s/it]\u001b[A\u001b[A"
          ],
          "name": "stderr"
        },
        {
          "output_type": "stream",
          "text": [
            "test  /content/drive/My Drive/dataset/Car Running/Pexels Videos 2099568.mp4\n"
          ],
          "name": "stdout"
        },
        {
          "output_type": "stream",
          "text": [
            "\n",
            "\n",
            " 23%|██▎       | 46/200 [01:06<04:18,  1.68s/it]\u001b[A\u001b[A"
          ],
          "name": "stderr"
        },
        {
          "output_type": "stream",
          "text": [
            "test  /content/drive/My Drive/dataset/Car Running/Pexels Videos 2053100.mp4\n"
          ],
          "name": "stdout"
        },
        {
          "output_type": "stream",
          "text": [
            "\n",
            "\n",
            " 24%|██▎       | 47/200 [01:12<07:19,  2.87s/it]\u001b[A\u001b[A"
          ],
          "name": "stderr"
        },
        {
          "output_type": "stream",
          "text": [
            "test  /content/drive/My Drive/dataset/Car Running/Pexels Videos 1572442.mp4\n"
          ],
          "name": "stdout"
        },
        {
          "output_type": "stream",
          "text": [
            "\n",
            "\n",
            " 24%|██▍       | 48/200 [01:15<07:33,  2.98s/it]\u001b[A\u001b[A"
          ],
          "name": "stderr"
        },
        {
          "output_type": "stream",
          "text": [
            "test  /content/drive/My Drive/dataset/Car Running/video (9).mp4\n"
          ],
          "name": "stdout"
        },
        {
          "output_type": "stream",
          "text": [
            "\n",
            "\n",
            " 24%|██▍       | 49/200 [01:23<11:17,  4.49s/it]\u001b[A\u001b[A"
          ],
          "name": "stderr"
        },
        {
          "output_type": "stream",
          "text": [
            "test  /content/drive/My Drive/dataset/Car Running/Pexels Videos 1572547.mp4\n"
          ],
          "name": "stdout"
        },
        {
          "output_type": "stream",
          "text": [
            "\n",
            "\n",
            " 25%|██▌       | 50/200 [01:27<10:36,  4.25s/it]\u001b[A\u001b[A"
          ],
          "name": "stderr"
        },
        {
          "output_type": "stream",
          "text": [
            "test  /content/drive/My Drive/dataset/Car Running/Pexels Videos 1572432.mp4\n"
          ],
          "name": "stdout"
        },
        {
          "output_type": "stream",
          "text": [
            "\n",
            "\n",
            " 26%|██▌       | 51/200 [01:30<09:49,  3.95s/it]\u001b[A\u001b[A"
          ],
          "name": "stderr"
        },
        {
          "output_type": "stream",
          "text": [
            "test  /content/drive/My Drive/dataset/Car Running/Pexels Videos 4721.mp4\n"
          ],
          "name": "stdout"
        },
        {
          "output_type": "stream",
          "text": [
            "\n",
            "\n",
            " 26%|██▌       | 52/200 [01:32<08:20,  3.38s/it]\u001b[A\u001b[A"
          ],
          "name": "stderr"
        },
        {
          "output_type": "stream",
          "text": [
            "test  /content/drive/My Drive/dataset/Car Running/Pexels Videos 1572315.mp4\n"
          ],
          "name": "stdout"
        },
        {
          "output_type": "stream",
          "text": [
            "\n",
            "\n",
            " 26%|██▋       | 53/200 [01:36<08:15,  3.37s/it]\u001b[A\u001b[A"
          ],
          "name": "stderr"
        },
        {
          "output_type": "stream",
          "text": [
            "test  /content/drive/My Drive/dataset/Car Running/video (1) (1).mp4\n"
          ],
          "name": "stdout"
        },
        {
          "output_type": "stream",
          "text": [
            "\n",
            "\n",
            " 27%|██▋       | 54/200 [01:42<10:33,  4.34s/it]\u001b[A\u001b[A"
          ],
          "name": "stderr"
        },
        {
          "output_type": "stream",
          "text": [
            "test  /content/drive/My Drive/dataset/Car Running/Video Of New Car Model.mp4\n"
          ],
          "name": "stdout"
        },
        {
          "output_type": "stream",
          "text": [
            "\n",
            "\n",
            " 28%|██▊       | 55/200 [01:43<08:02,  3.33s/it]\u001b[A\u001b[A"
          ],
          "name": "stderr"
        },
        {
          "output_type": "stream",
          "text": [
            "test  /content/drive/My Drive/dataset/Car Running/Pexels Videos 2103099.mp4\n"
          ],
          "name": "stdout"
        },
        {
          "output_type": "stream",
          "text": [
            "\n",
            "\n",
            " 28%|██▊       | 56/200 [01:50<10:43,  4.47s/it]\u001b[A\u001b[A"
          ],
          "name": "stderr"
        },
        {
          "output_type": "stream",
          "text": [
            "test  /content/drive/My Drive/dataset/Car Running/Pexels Videos 2880.mp4\n"
          ],
          "name": "stdout"
        },
        {
          "output_type": "stream",
          "text": [
            "\n",
            "\n",
            " 28%|██▊       | 57/200 [01:52<08:56,  3.75s/it]\u001b[A\u001b[A"
          ],
          "name": "stderr"
        },
        {
          "output_type": "stream",
          "text": [
            "test  /content/drive/My Drive/dataset/Car Running/video (2) (1).mp4\n"
          ],
          "name": "stdout"
        },
        {
          "output_type": "stream",
          "text": [
            "\n",
            "\n",
            " 29%|██▉       | 58/200 [01:54<07:23,  3.12s/it]\u001b[A\u001b[A"
          ],
          "name": "stderr"
        },
        {
          "output_type": "stream",
          "text": [
            "test  /content/drive/My Drive/dataset/Car Running/video (3).mp4\n"
          ],
          "name": "stdout"
        },
        {
          "output_type": "stream",
          "text": [
            "\n",
            "\n",
            " 30%|██▉       | 59/200 [01:55<05:52,  2.50s/it]\u001b[A\u001b[A"
          ],
          "name": "stderr"
        },
        {
          "output_type": "stream",
          "text": [
            "test  /content/drive/My Drive/dataset/Car Running/video (4).mp4\n"
          ],
          "name": "stdout"
        },
        {
          "output_type": "stream",
          "text": [
            "\n",
            "\n",
            " 30%|███       | 60/200 [01:57<05:37,  2.41s/it]\u001b[A\u001b[A"
          ],
          "name": "stderr"
        },
        {
          "output_type": "stream",
          "text": [
            "test  /content/drive/My Drive/dataset/Car Running/Busy Street In New York.mp4\n"
          ],
          "name": "stdout"
        },
        {
          "output_type": "stream",
          "text": [
            "\n",
            "\n",
            " 30%|███       | 61/200 [01:59<05:17,  2.28s/it]\u001b[A\u001b[A"
          ],
          "name": "stderr"
        },
        {
          "output_type": "stream",
          "text": [
            "test  /content/drive/My Drive/dataset/Car Running/Cars On Highway.mp4\n"
          ],
          "name": "stdout"
        },
        {
          "output_type": "stream",
          "text": [
            "\n",
            "\n",
            " 31%|███       | 62/200 [02:01<05:03,  2.20s/it]\u001b[A\u001b[A"
          ],
          "name": "stderr"
        },
        {
          "output_type": "stream",
          "text": [
            "test  /content/drive/My Drive/dataset/Car Running/video (5).mp4\n"
          ],
          "name": "stdout"
        },
        {
          "output_type": "stream",
          "text": [
            "\n",
            "\n",
            " 32%|███▏      | 63/200 [02:03<04:54,  2.15s/it]\u001b[A\u001b[A"
          ],
          "name": "stderr"
        },
        {
          "output_type": "stream",
          "text": [
            "test  /content/drive/My Drive/dataset/Car Running/Pexels Videos 4516.mp4\n"
          ],
          "name": "stdout"
        },
        {
          "output_type": "stream",
          "text": [
            "\n",
            "\n",
            " 32%|███▏      | 64/200 [02:05<04:32,  2.00s/it]\u001b[A\u001b[A"
          ],
          "name": "stderr"
        },
        {
          "output_type": "stream",
          "text": [
            "test  /content/drive/My Drive/dataset/Car Running/video (8).mp4\n"
          ],
          "name": "stdout"
        },
        {
          "output_type": "stream",
          "text": [
            "\n",
            "\n",
            " 32%|███▎      | 65/200 [02:07<04:18,  1.92s/it]\u001b[A\u001b[A"
          ],
          "name": "stderr"
        },
        {
          "output_type": "stream",
          "text": [
            "test  /content/drive/My Drive/dataset/Car Running/video (7).mp4\n"
          ],
          "name": "stdout"
        },
        {
          "output_type": "stream",
          "text": [
            "\n",
            "\n",
            " 33%|███▎      | 66/200 [02:09<04:22,  1.96s/it]\u001b[A\u001b[A"
          ],
          "name": "stderr"
        },
        {
          "output_type": "stream",
          "text": [
            "test  /content/drive/My Drive/dataset/Car Running/video (6).mp4\n"
          ],
          "name": "stdout"
        },
        {
          "output_type": "stream",
          "text": [
            "\n",
            "\n",
            " 34%|███▎      | 67/200 [02:18<08:59,  4.06s/it]\u001b[A\u001b[A"
          ],
          "name": "stderr"
        },
        {
          "output_type": "stream",
          "text": [
            "test  /content/drive/My Drive/dataset/Car Running/vidclip1.mp4\n"
          ],
          "name": "stdout"
        },
        {
          "output_type": "stream",
          "text": [
            "\n",
            "\n",
            " 34%|███▍      | 68/200 [02:19<07:03,  3.21s/it]\u001b[A\u001b[A"
          ],
          "name": "stderr"
        },
        {
          "output_type": "stream",
          "text": [
            "test  /content/drive/My Drive/dataset/Car Running/vidclip2.mp4\n"
          ],
          "name": "stdout"
        },
        {
          "output_type": "stream",
          "text": [
            "\n",
            "\n",
            " 34%|███▍      | 69/200 [02:20<05:39,  2.59s/it]\u001b[A\u001b[A"
          ],
          "name": "stderr"
        },
        {
          "output_type": "stream",
          "text": [
            "test  /content/drive/My Drive/dataset/Car Running/vidclip3.mp4\n"
          ],
          "name": "stdout"
        },
        {
          "output_type": "stream",
          "text": [
            "\n",
            "\n",
            " 35%|███▌      | 70/200 [02:22<05:09,  2.38s/it]\u001b[A\u001b[A"
          ],
          "name": "stderr"
        },
        {
          "output_type": "stream",
          "text": [
            "test  /content/drive/My Drive/dataset/Car Running/vidclip4.mp4\n"
          ],
          "name": "stdout"
        },
        {
          "output_type": "stream",
          "text": [
            "\n",
            "\n",
            " 36%|███▌      | 71/200 [02:24<04:52,  2.27s/it]\u001b[A\u001b[A"
          ],
          "name": "stderr"
        },
        {
          "output_type": "stream",
          "text": [
            "test  /content/drive/My Drive/dataset/Car Running/vidclip5.mp4\n"
          ],
          "name": "stdout"
        },
        {
          "output_type": "stream",
          "text": [
            "\n",
            "\n",
            " 36%|███▌      | 72/200 [02:26<04:42,  2.21s/it]\u001b[A\u001b[A"
          ],
          "name": "stderr"
        },
        {
          "output_type": "stream",
          "text": [
            "test  /content/drive/My Drive/dataset/Car Running/vidclip6.mp4\n"
          ],
          "name": "stdout"
        },
        {
          "output_type": "stream",
          "text": [
            "\n",
            "\n",
            " 36%|███▋      | 73/200 [02:28<04:33,  2.15s/it]\u001b[A\u001b[A"
          ],
          "name": "stderr"
        },
        {
          "output_type": "stream",
          "text": [
            "test  /content/drive/My Drive/dataset/Car Running/vidclip7.mp4\n"
          ],
          "name": "stdout"
        },
        {
          "output_type": "stream",
          "text": [
            "\n",
            "\n",
            " 37%|███▋      | 74/200 [02:30<04:19,  2.06s/it]\u001b[A\u001b[A"
          ],
          "name": "stderr"
        },
        {
          "output_type": "stream",
          "text": [
            "test  /content/drive/My Drive/dataset/Car Running/vidclip8.mp4\n"
          ],
          "name": "stdout"
        },
        {
          "output_type": "stream",
          "text": [
            "\n",
            "\n",
            " 38%|███▊      | 75/200 [02:32<04:04,  1.95s/it]\u001b[A\u001b[A"
          ],
          "name": "stderr"
        },
        {
          "output_type": "stream",
          "text": [
            "test  /content/drive/My Drive/dataset/Car Running/vidclip9.mp4\n"
          ],
          "name": "stdout"
        },
        {
          "output_type": "stream",
          "text": [
            "\n",
            "\n",
            " 38%|███▊      | 76/200 [02:34<03:57,  1.92s/it]\u001b[A\u001b[A"
          ],
          "name": "stderr"
        },
        {
          "output_type": "stream",
          "text": [
            "test  /content/drive/My Drive/dataset/Car Running/vidclip10.mp4\n"
          ],
          "name": "stdout"
        },
        {
          "output_type": "stream",
          "text": [
            "\n",
            "\n",
            " 38%|███▊      | 77/200 [02:35<03:56,  1.92s/it]\u001b[A\u001b[A"
          ],
          "name": "stderr"
        },
        {
          "output_type": "stream",
          "text": [
            "test  /content/drive/My Drive/dataset/Car Running/vidclip11.mp4\n"
          ],
          "name": "stdout"
        },
        {
          "output_type": "stream",
          "text": [
            "\n",
            "\n",
            " 39%|███▉      | 78/200 [02:37<03:32,  1.74s/it]\u001b[A\u001b[A"
          ],
          "name": "stderr"
        },
        {
          "output_type": "stream",
          "text": [
            "test  /content/drive/My Drive/dataset/Car Running/vidclip12.mp4\n"
          ],
          "name": "stdout"
        },
        {
          "output_type": "stream",
          "text": [
            "\n",
            "\n",
            " 40%|███▉      | 79/200 [02:38<03:16,  1.62s/it]\u001b[A\u001b[A"
          ],
          "name": "stderr"
        },
        {
          "output_type": "stream",
          "text": [
            "test  /content/drive/My Drive/dataset/Car Running/vidclip13.mp4\n"
          ],
          "name": "stdout"
        },
        {
          "output_type": "stream",
          "text": [
            "\n",
            "\n",
            " 40%|████      | 80/200 [02:40<03:29,  1.74s/it]\u001b[A\u001b[A"
          ],
          "name": "stderr"
        },
        {
          "output_type": "stream",
          "text": [
            "test  /content/drive/My Drive/dataset/Car Running/vidclip14.mp4\n"
          ],
          "name": "stdout"
        },
        {
          "output_type": "stream",
          "text": [
            "\n",
            "\n",
            " 40%|████      | 81/200 [02:42<03:18,  1.67s/it]\u001b[A\u001b[A"
          ],
          "name": "stderr"
        },
        {
          "output_type": "stream",
          "text": [
            "test  /content/drive/My Drive/dataset/Car Running/vidclip15.mp4\n"
          ],
          "name": "stdout"
        },
        {
          "output_type": "stream",
          "text": [
            "\n",
            "\n",
            " 41%|████      | 82/200 [02:43<03:03,  1.56s/it]\u001b[A\u001b[A"
          ],
          "name": "stderr"
        },
        {
          "output_type": "stream",
          "text": [
            "test  /content/drive/My Drive/dataset/Car Running/vidclip16.mp4\n"
          ],
          "name": "stdout"
        },
        {
          "output_type": "stream",
          "text": [
            "\n",
            "\n",
            " 42%|████▏     | 83/200 [02:45<03:15,  1.67s/it]\u001b[A\u001b[A"
          ],
          "name": "stderr"
        },
        {
          "output_type": "stream",
          "text": [
            "test  /content/drive/My Drive/dataset/Car Running/vidclip17.mp4\n"
          ],
          "name": "stdout"
        },
        {
          "output_type": "stream",
          "text": [
            "\n",
            "\n",
            " 42%|████▏     | 84/200 [02:46<03:08,  1.62s/it]\u001b[A\u001b[A"
          ],
          "name": "stderr"
        },
        {
          "output_type": "stream",
          "text": [
            "test  /content/drive/My Drive/dataset/Car Running/vidclip18.mp4\n"
          ],
          "name": "stdout"
        },
        {
          "output_type": "stream",
          "text": [
            "\n",
            "\n",
            " 42%|████▎     | 85/200 [02:48<03:01,  1.58s/it]\u001b[A\u001b[A"
          ],
          "name": "stderr"
        },
        {
          "output_type": "stream",
          "text": [
            "test  /content/drive/My Drive/dataset/Car Running/vidclip19.mp4\n"
          ],
          "name": "stdout"
        },
        {
          "output_type": "stream",
          "text": [
            "\n",
            "\n",
            " 43%|████▎     | 86/200 [02:50<03:12,  1.69s/it]\u001b[A\u001b[A"
          ],
          "name": "stderr"
        },
        {
          "output_type": "stream",
          "text": [
            "test  /content/drive/My Drive/dataset/Car Running/vidclip20.mp4\n"
          ],
          "name": "stdout"
        },
        {
          "output_type": "stream",
          "text": [
            "\n",
            "\n",
            " 44%|████▎     | 87/200 [02:51<02:59,  1.59s/it]\u001b[A\u001b[A"
          ],
          "name": "stderr"
        },
        {
          "output_type": "stream",
          "text": [
            "test  /content/drive/My Drive/dataset/Car Running/vidclip21.mp4\n"
          ],
          "name": "stdout"
        },
        {
          "output_type": "stream",
          "text": [
            "\n",
            "\n",
            " 44%|████▍     | 88/200 [02:53<02:58,  1.59s/it]\u001b[A\u001b[A"
          ],
          "name": "stderr"
        },
        {
          "output_type": "stream",
          "text": [
            "test  /content/drive/My Drive/dataset/Car Running/vidclip22.mp4\n"
          ],
          "name": "stdout"
        },
        {
          "output_type": "stream",
          "text": [
            "\n",
            "\n",
            " 44%|████▍     | 89/200 [02:54<02:50,  1.54s/it]\u001b[A\u001b[A"
          ],
          "name": "stderr"
        },
        {
          "output_type": "stream",
          "text": [
            "test  /content/drive/My Drive/dataset/Car Running/vidclip23.mp4\n"
          ],
          "name": "stdout"
        },
        {
          "output_type": "stream",
          "text": [
            "\n",
            "\n",
            " 45%|████▌     | 90/200 [02:55<02:30,  1.37s/it]\u001b[A\u001b[A"
          ],
          "name": "stderr"
        },
        {
          "output_type": "stream",
          "text": [
            "test  /content/drive/My Drive/dataset/Car Running/vidclip24.mp4\n"
          ],
          "name": "stdout"
        },
        {
          "output_type": "stream",
          "text": [
            "\n",
            "\n",
            " 46%|████▌     | 91/200 [02:56<02:20,  1.29s/it]\u001b[A\u001b[A"
          ],
          "name": "stderr"
        },
        {
          "output_type": "stream",
          "text": [
            "test  /content/drive/My Drive/dataset/Car Running/vidclip25.mp4\n"
          ],
          "name": "stdout"
        },
        {
          "output_type": "stream",
          "text": [
            "\n",
            "\n",
            " 46%|████▌     | 92/200 [02:58<02:20,  1.30s/it]\u001b[A\u001b[A"
          ],
          "name": "stderr"
        },
        {
          "output_type": "stream",
          "text": [
            "test  /content/drive/My Drive/dataset/Car Running/vidclip26.mp4\n"
          ],
          "name": "stdout"
        },
        {
          "output_type": "stream",
          "text": [
            "\n",
            "\n",
            " 46%|████▋     | 93/200 [02:59<02:33,  1.44s/it]\u001b[A\u001b[A"
          ],
          "name": "stderr"
        },
        {
          "output_type": "stream",
          "text": [
            "test  /content/drive/My Drive/dataset/Car Running/vidclip27.mp4\n"
          ],
          "name": "stdout"
        },
        {
          "output_type": "stream",
          "text": [
            "\n",
            "\n",
            " 47%|████▋     | 94/200 [03:01<02:34,  1.45s/it]\u001b[A\u001b[A"
          ],
          "name": "stderr"
        },
        {
          "output_type": "stream",
          "text": [
            "test  /content/drive/My Drive/dataset/Car Running/vidclip28.mp4\n"
          ],
          "name": "stdout"
        },
        {
          "output_type": "stream",
          "text": [
            "\n",
            "\n",
            " 48%|████▊     | 95/200 [03:02<02:34,  1.47s/it]\u001b[A\u001b[A"
          ],
          "name": "stderr"
        },
        {
          "output_type": "stream",
          "text": [
            "test  /content/drive/My Drive/dataset/Car Running/vidclip29.mp4\n"
          ],
          "name": "stdout"
        },
        {
          "output_type": "stream",
          "text": [
            "\n",
            "\n",
            " 48%|████▊     | 96/200 [03:04<02:31,  1.45s/it]\u001b[A\u001b[A"
          ],
          "name": "stderr"
        },
        {
          "output_type": "stream",
          "text": [
            "test  /content/drive/My Drive/dataset/Car Running/vidclip30.mp4\n"
          ],
          "name": "stdout"
        },
        {
          "output_type": "stream",
          "text": [
            "\n",
            "\n",
            " 48%|████▊     | 97/200 [03:06<02:42,  1.58s/it]\u001b[A\u001b[A"
          ],
          "name": "stderr"
        },
        {
          "output_type": "stream",
          "text": [
            "test  /content/drive/My Drive/dataset/Car Running/vidclip31.mp4\n"
          ],
          "name": "stdout"
        },
        {
          "output_type": "stream",
          "text": [
            "\n",
            "\n",
            " 49%|████▉     | 98/200 [03:08<02:55,  1.72s/it]\u001b[A\u001b[A"
          ],
          "name": "stderr"
        },
        {
          "output_type": "stream",
          "text": [
            "test  /content/drive/My Drive/dataset/Car Running/vidclip32.mp4\n"
          ],
          "name": "stdout"
        },
        {
          "output_type": "stream",
          "text": [
            "\n",
            "\n",
            " 50%|████▉     | 99/200 [03:09<02:52,  1.71s/it]\u001b[A\u001b[A"
          ],
          "name": "stderr"
        },
        {
          "output_type": "stream",
          "text": [
            "test  /content/drive/My Drive/dataset/Car Running/vidclip33.mp4\n"
          ],
          "name": "stdout"
        },
        {
          "output_type": "stream",
          "text": [
            "\n",
            "\n",
            " 50%|█████     | 100/200 [03:11<02:42,  1.62s/it]\u001b[A\u001b[A"
          ],
          "name": "stderr"
        },
        {
          "output_type": "stream",
          "text": [
            "test  /content/drive/My Drive/dataset/Car Running/vidclip34.mp4\n"
          ],
          "name": "stdout"
        },
        {
          "output_type": "stream",
          "text": [
            "\n",
            "\n",
            " 50%|█████     | 101/200 [03:12<02:20,  1.42s/it]\u001b[A\u001b[A"
          ],
          "name": "stderr"
        },
        {
          "output_type": "stream",
          "text": [
            "test  /content/drive/My Drive/dataset/Car Running/vidclip35.mp4\n"
          ],
          "name": "stdout"
        },
        {
          "output_type": "stream",
          "text": [
            "\n",
            "\n",
            " 51%|█████     | 102/200 [03:13<02:07,  1.30s/it]\u001b[A\u001b[A"
          ],
          "name": "stderr"
        },
        {
          "output_type": "stream",
          "text": [
            "test  /content/drive/My Drive/dataset/Car Running/vidclip36.mp4\n"
          ],
          "name": "stdout"
        },
        {
          "output_type": "stream",
          "text": [
            "\n",
            "\n",
            " 52%|█████▏    | 103/200 [03:14<02:12,  1.37s/it]\u001b[A\u001b[A"
          ],
          "name": "stderr"
        },
        {
          "output_type": "stream",
          "text": [
            "test  /content/drive/My Drive/dataset/Car Running/vidclip37.mp4\n"
          ],
          "name": "stdout"
        },
        {
          "output_type": "stream",
          "text": [
            "\n",
            "\n",
            " 52%|█████▏    | 104/200 [03:16<02:22,  1.49s/it]\u001b[A\u001b[A"
          ],
          "name": "stderr"
        },
        {
          "output_type": "stream",
          "text": [
            "test  /content/drive/My Drive/dataset/Car Running/vidclip38.mp4\n"
          ],
          "name": "stdout"
        },
        {
          "output_type": "stream",
          "text": [
            "\n",
            "\n",
            " 52%|█████▎    | 105/200 [03:18<02:39,  1.68s/it]\u001b[A\u001b[A"
          ],
          "name": "stderr"
        },
        {
          "output_type": "stream",
          "text": [
            "test  /content/drive/My Drive/dataset/Car Running/vidclip39.mp4\n"
          ],
          "name": "stdout"
        },
        {
          "output_type": "stream",
          "text": [
            "\n",
            "\n",
            " 53%|█████▎    | 106/200 [03:20<02:29,  1.59s/it]\u001b[A\u001b[A"
          ],
          "name": "stderr"
        },
        {
          "output_type": "stream",
          "text": [
            "test  /content/drive/My Drive/dataset/Car Running/vidclip40.mp4\n"
          ],
          "name": "stdout"
        },
        {
          "output_type": "stream",
          "text": [
            "\n",
            "\n",
            " 54%|█████▎    | 107/200 [03:22<02:38,  1.71s/it]\u001b[A\u001b[A"
          ],
          "name": "stderr"
        },
        {
          "output_type": "stream",
          "text": [
            "test  /content/drive/My Drive/dataset/Car Running/vidclip41.mp4\n"
          ],
          "name": "stdout"
        },
        {
          "output_type": "stream",
          "text": [
            "\n",
            "\n",
            " 54%|█████▍    | 108/200 [03:23<02:33,  1.67s/it]\u001b[A\u001b[A"
          ],
          "name": "stderr"
        },
        {
          "output_type": "stream",
          "text": [
            "test  /content/drive/My Drive/dataset/Car Running/vidclip42.mp4\n"
          ],
          "name": "stdout"
        },
        {
          "output_type": "stream",
          "text": [
            "\n",
            "\n",
            " 55%|█████▍    | 109/200 [03:25<02:35,  1.70s/it]\u001b[A\u001b[A"
          ],
          "name": "stderr"
        },
        {
          "output_type": "stream",
          "text": [
            "test  /content/drive/My Drive/dataset/Car Running/vidclip43.mp4\n"
          ],
          "name": "stdout"
        },
        {
          "output_type": "stream",
          "text": [
            "\n",
            "\n",
            " 55%|█████▌    | 110/200 [03:27<02:49,  1.88s/it]\u001b[A\u001b[A"
          ],
          "name": "stderr"
        },
        {
          "output_type": "stream",
          "text": [
            "test  /content/drive/My Drive/dataset/Car Running/vidclip44.mp4\n"
          ],
          "name": "stdout"
        },
        {
          "output_type": "stream",
          "text": [
            "\n",
            "\n",
            " 56%|█████▌    | 111/200 [03:30<03:10,  2.14s/it]\u001b[A\u001b[A"
          ],
          "name": "stderr"
        },
        {
          "output_type": "stream",
          "text": [
            "test  /content/drive/My Drive/dataset/Car Running/vidclip45.mp4\n"
          ],
          "name": "stdout"
        },
        {
          "output_type": "stream",
          "text": [
            "\n",
            "\n",
            " 56%|█████▌    | 112/200 [03:32<03:15,  2.22s/it]\u001b[A\u001b[A"
          ],
          "name": "stderr"
        },
        {
          "output_type": "stream",
          "text": [
            "test  /content/drive/My Drive/dataset/Car Running/vidclip46.mp4\n"
          ],
          "name": "stdout"
        },
        {
          "output_type": "stream",
          "text": [
            "\n",
            "\n",
            " 56%|█████▋    | 113/200 [03:38<04:53,  3.37s/it]\u001b[A\u001b[A"
          ],
          "name": "stderr"
        },
        {
          "output_type": "stream",
          "text": [
            "test  /content/drive/My Drive/dataset/Car Running/vidclip47.mp4\n"
          ],
          "name": "stdout"
        },
        {
          "output_type": "stream",
          "text": [
            "\n",
            "\n",
            " 57%|█████▋    | 114/200 [03:43<05:09,  3.60s/it]\u001b[A\u001b[A"
          ],
          "name": "stderr"
        },
        {
          "output_type": "stream",
          "text": [
            "test  /content/drive/My Drive/dataset/Car Running/vidclip48.mp4\n"
          ],
          "name": "stdout"
        },
        {
          "output_type": "stream",
          "text": [
            "\n",
            "\n",
            " 57%|█████▊    | 115/200 [03:51<06:58,  4.93s/it]\u001b[A\u001b[A"
          ],
          "name": "stderr"
        },
        {
          "output_type": "stream",
          "text": [
            "test  /content/drive/My Drive/dataset/Car Running/vidclip49.mp4\n"
          ],
          "name": "stdout"
        },
        {
          "output_type": "stream",
          "text": [
            "\n",
            "\n",
            " 58%|█████▊    | 116/200 [03:54<06:19,  4.52s/it]\u001b[A\u001b[A"
          ],
          "name": "stderr"
        },
        {
          "output_type": "stream",
          "text": [
            "test  /content/drive/My Drive/dataset/Car Running/vidclip50.mp4\n"
          ],
          "name": "stdout"
        },
        {
          "output_type": "stream",
          "text": [
            "\n",
            "\n",
            " 58%|█████▊    | 117/200 [03:57<05:43,  4.14s/it]\u001b[A\u001b[A"
          ],
          "name": "stderr"
        },
        {
          "output_type": "stream",
          "text": [
            "test  /content/drive/My Drive/dataset/Car Running/vidclip51.mp4\n"
          ],
          "name": "stdout"
        },
        {
          "output_type": "stream",
          "text": [
            "\n",
            "\n",
            " 59%|█████▉    | 118/200 [04:00<05:02,  3.68s/it]\u001b[A\u001b[A"
          ],
          "name": "stderr"
        },
        {
          "output_type": "stream",
          "text": [
            "test  /content/drive/My Drive/dataset/Car Running/vidclip52.mp4\n"
          ],
          "name": "stdout"
        },
        {
          "output_type": "stream",
          "text": [
            "\n",
            "\n",
            " 60%|█████▉    | 119/200 [04:03<04:45,  3.52s/it]\u001b[A\u001b[A"
          ],
          "name": "stderr"
        },
        {
          "output_type": "stream",
          "text": [
            "test  /content/drive/My Drive/dataset/Car Running/vidclip53.mp4\n"
          ],
          "name": "stdout"
        },
        {
          "output_type": "stream",
          "text": [
            "\n",
            "\n",
            " 60%|██████    | 120/200 [04:11<06:20,  4.76s/it]\u001b[A\u001b[A"
          ],
          "name": "stderr"
        },
        {
          "output_type": "stream",
          "text": [
            "test  /content/drive/My Drive/dataset/Car Running/vidclip54.mp4\n"
          ],
          "name": "stdout"
        },
        {
          "output_type": "stream",
          "text": [
            "\n",
            "\n",
            " 60%|██████    | 121/200 [04:13<05:06,  3.88s/it]\u001b[A\u001b[A"
          ],
          "name": "stderr"
        },
        {
          "output_type": "stream",
          "text": [
            "test  /content/drive/My Drive/dataset/Car Running/vidclip55.mp4\n"
          ],
          "name": "stdout"
        },
        {
          "output_type": "stream",
          "text": [
            "\n",
            "\n",
            " 61%|██████    | 122/200 [04:20<06:25,  4.94s/it]\u001b[A\u001b[A"
          ],
          "name": "stderr"
        },
        {
          "output_type": "stream",
          "text": [
            "test  /content/drive/My Drive/dataset/Car Running/vidclip56.mp4\n"
          ],
          "name": "stdout"
        },
        {
          "output_type": "stream",
          "text": [
            "\n",
            "\n",
            " 62%|██████▏   | 123/200 [04:22<05:21,  4.18s/it]\u001b[A\u001b[A"
          ],
          "name": "stderr"
        },
        {
          "output_type": "stream",
          "text": [
            "test  /content/drive/My Drive/dataset/Car Running/vidclip57.mp4\n"
          ],
          "name": "stdout"
        },
        {
          "output_type": "stream",
          "text": [
            "\n",
            "\n",
            " 62%|██████▏   | 124/200 [04:24<04:26,  3.51s/it]\u001b[A\u001b[A"
          ],
          "name": "stderr"
        },
        {
          "output_type": "stream",
          "text": [
            "test  /content/drive/My Drive/dataset/Car Running/vidclip58.mp4\n"
          ],
          "name": "stdout"
        },
        {
          "output_type": "stream",
          "text": [
            "\n",
            "\n",
            " 62%|██████▎   | 125/200 [04:26<03:36,  2.89s/it]\u001b[A\u001b[A"
          ],
          "name": "stderr"
        },
        {
          "output_type": "stream",
          "text": [
            "test  /content/drive/My Drive/dataset/Car Running/vidclip59.mp4\n"
          ],
          "name": "stdout"
        },
        {
          "output_type": "stream",
          "text": [
            "\n",
            "\n",
            " 63%|██████▎   | 126/200 [04:29<03:30,  2.84s/it]\u001b[A\u001b[A"
          ],
          "name": "stderr"
        },
        {
          "output_type": "stream",
          "text": [
            "test  /content/drive/My Drive/dataset/Car Running/vidclip60.mp4\n"
          ],
          "name": "stdout"
        },
        {
          "output_type": "stream",
          "text": [
            "\n",
            "\n",
            " 64%|██████▎   | 127/200 [04:32<03:35,  2.95s/it]\u001b[A\u001b[A"
          ],
          "name": "stderr"
        },
        {
          "output_type": "stream",
          "text": [
            "test  /content/drive/My Drive/dataset/Car Running/vidclip61.mp4\n"
          ],
          "name": "stdout"
        },
        {
          "output_type": "stream",
          "text": [
            "\n",
            "\n",
            " 64%|██████▍   | 128/200 [04:34<03:17,  2.75s/it]\u001b[A\u001b[A"
          ],
          "name": "stderr"
        },
        {
          "output_type": "stream",
          "text": [
            "test  /content/drive/My Drive/dataset/Car Running/vidclip62.mp4\n"
          ],
          "name": "stdout"
        },
        {
          "output_type": "stream",
          "text": [
            "\n",
            "\n",
            " 64%|██████▍   | 129/200 [04:37<03:13,  2.72s/it]\u001b[A\u001b[A"
          ],
          "name": "stderr"
        },
        {
          "output_type": "stream",
          "text": [
            "test  /content/drive/My Drive/dataset/Car Running/vidclip63.mp4\n"
          ],
          "name": "stdout"
        },
        {
          "output_type": "stream",
          "text": [
            "\n",
            "\n",
            " 65%|██████▌   | 130/200 [04:39<03:07,  2.68s/it]\u001b[A\u001b[A"
          ],
          "name": "stderr"
        },
        {
          "output_type": "stream",
          "text": [
            "test  /content/drive/My Drive/dataset/Car Running/vidclip64.mp4\n"
          ],
          "name": "stdout"
        },
        {
          "output_type": "stream",
          "text": [
            "\n",
            "\n",
            " 66%|██████▌   | 131/200 [04:42<03:07,  2.71s/it]\u001b[A\u001b[A"
          ],
          "name": "stderr"
        },
        {
          "output_type": "stream",
          "text": [
            "test  /content/drive/My Drive/dataset/Car Running/vidclip65.mp4\n"
          ],
          "name": "stdout"
        },
        {
          "output_type": "stream",
          "text": [
            "\n",
            "\n",
            " 66%|██████▌   | 132/200 [04:45<02:59,  2.64s/it]\u001b[A\u001b[A"
          ],
          "name": "stderr"
        },
        {
          "output_type": "stream",
          "text": [
            "test  /content/drive/My Drive/dataset/Car Running/vidclip66.mp4\n"
          ],
          "name": "stdout"
        },
        {
          "output_type": "stream",
          "text": [
            "\n",
            "\n",
            " 66%|██████▋   | 133/200 [04:55<05:39,  5.07s/it]\u001b[A\u001b[A"
          ],
          "name": "stderr"
        },
        {
          "output_type": "stream",
          "text": [
            "test  /content/drive/My Drive/dataset/Car Running/production ID_3786669.mp4\n"
          ],
          "name": "stdout"
        },
        {
          "output_type": "stream",
          "text": [
            "\n",
            "\n",
            " 67%|██████▋   | 134/200 [04:58<04:43,  4.29s/it]\u001b[A\u001b[A"
          ],
          "name": "stderr"
        },
        {
          "output_type": "stream",
          "text": [
            "test  /content/drive/My Drive/dataset/Car Running/production ID_4347879.mp4\n"
          ],
          "name": "stdout"
        },
        {
          "output_type": "stream",
          "text": [
            "\n",
            "\n",
            " 68%|██████▊   | 135/200 [05:05<05:39,  5.22s/it]\u001b[A\u001b[A"
          ],
          "name": "stderr"
        },
        {
          "output_type": "stream",
          "text": [
            "test  /content/drive/My Drive/dataset/Car Running/Pexels Videos 1198818.mp4\n"
          ],
          "name": "stdout"
        },
        {
          "output_type": "stream",
          "text": [
            "\n",
            "\n",
            " 68%|██████▊   | 136/200 [05:07<04:32,  4.26s/it]\u001b[A\u001b[A"
          ],
          "name": "stderr"
        },
        {
          "output_type": "stream",
          "text": [
            "test  /content/drive/My Drive/dataset/Car Running/production ID_4132531.mp4\n"
          ],
          "name": "stdout"
        },
        {
          "output_type": "stream",
          "text": [
            "\n",
            "\n",
            " 68%|██████▊   | 137/200 [05:09<03:48,  3.63s/it]\u001b[A\u001b[A"
          ],
          "name": "stderr"
        },
        {
          "output_type": "stream",
          "text": [
            "test  /content/drive/My Drive/dataset/Car Running/video.mp4\n"
          ],
          "name": "stdout"
        },
        {
          "output_type": "stream",
          "text": [
            "\n",
            "\n",
            " 69%|██████▉   | 138/200 [05:11<03:12,  3.10s/it]\u001b[A\u001b[A"
          ],
          "name": "stderr"
        },
        {
          "output_type": "stream",
          "text": [
            "test  /content/drive/My Drive/dataset/Car Running/production ID_3987752.mp4\n"
          ],
          "name": "stdout"
        },
        {
          "output_type": "stream",
          "text": [
            "\n",
            "\n",
            " 70%|██████▉   | 139/200 [05:13<02:44,  2.70s/it]\u001b[A\u001b[A"
          ],
          "name": "stderr"
        },
        {
          "output_type": "stream",
          "text": [
            "test  /content/drive/My Drive/dataset/Car Running/video (1).mp4\n"
          ],
          "name": "stdout"
        },
        {
          "output_type": "stream",
          "text": [
            "\n",
            "\n",
            " 70%|███████   | 140/200 [05:15<02:25,  2.43s/it]\u001b[A\u001b[A"
          ],
          "name": "stderr"
        },
        {
          "output_type": "stream",
          "text": [
            "test  /content/drive/My Drive/dataset/Car Running/Pexels Videos 1572342.mp4\n"
          ],
          "name": "stdout"
        },
        {
          "output_type": "stream",
          "text": [
            "\n",
            "\n",
            " 70%|███████   | 141/200 [05:18<02:43,  2.76s/it]\u001b[A\u001b[A"
          ],
          "name": "stderr"
        },
        {
          "output_type": "stream",
          "text": [
            "test  /content/drive/My Drive/dataset/Car Running/video (2).mp4\n"
          ],
          "name": "stdout"
        },
        {
          "output_type": "stream",
          "text": [
            "\n",
            "\n",
            " 71%|███████   | 142/200 [05:24<03:36,  3.74s/it]\u001b[A\u001b[A"
          ],
          "name": "stderr"
        },
        {
          "output_type": "stream",
          "text": [
            "test  /content/drive/My Drive/dataset/Car Running/cut (online-video-cutter.com).mp4\n"
          ],
          "name": "stdout"
        },
        {
          "output_type": "stream",
          "text": [
            "\n",
            "\n",
            " 72%|███████▏  | 143/200 [05:27<03:16,  3.45s/it]\u001b[A\u001b[A"
          ],
          "name": "stderr"
        },
        {
          "output_type": "stream",
          "text": [
            "test  /content/drive/My Drive/dataset/Car Running/cut (online-video-cutter.com) (1).mp4\n"
          ],
          "name": "stdout"
        },
        {
          "output_type": "stream",
          "text": [
            "\n",
            "\n",
            " 72%|███████▏  | 144/200 [05:29<02:46,  2.98s/it]\u001b[A\u001b[A"
          ],
          "name": "stderr"
        },
        {
          "output_type": "stream",
          "text": [
            "test  /content/drive/My Drive/dataset/Car Running/cut (online-video-cutter.com) (2).mp4\n"
          ],
          "name": "stdout"
        },
        {
          "output_type": "stream",
          "text": [
            "\n",
            "\n",
            " 72%|███████▎  | 145/200 [05:31<02:22,  2.59s/it]\u001b[A\u001b[A"
          ],
          "name": "stderr"
        },
        {
          "output_type": "stream",
          "text": [
            "test  /content/drive/My Drive/dataset/Car Running/cut1 (online-video-cutter.com).mp4\n"
          ],
          "name": "stdout"
        },
        {
          "output_type": "stream",
          "text": [
            "\n",
            "\n",
            " 73%|███████▎  | 146/200 [05:38<03:34,  3.97s/it]\u001b[A\u001b[A"
          ],
          "name": "stderr"
        },
        {
          "output_type": "stream",
          "text": [
            "test  /content/drive/My Drive/dataset/Car Running/cut1 (online-video-cutter.com) (1).mp4\n"
          ],
          "name": "stdout"
        },
        {
          "output_type": "stream",
          "text": [
            "\n",
            "\n",
            " 74%|███████▎  | 147/200 [05:45<04:21,  4.93s/it]\u001b[A\u001b[A"
          ],
          "name": "stderr"
        },
        {
          "output_type": "stream",
          "text": [
            "test  /content/drive/My Drive/dataset/Car Running/cut2 (online-video-cutter.com).mp4\n"
          ],
          "name": "stdout"
        },
        {
          "output_type": "stream",
          "text": [
            "\n",
            "\n",
            " 74%|███████▍  | 148/200 [05:47<03:34,  4.12s/it]\u001b[A\u001b[A"
          ],
          "name": "stderr"
        },
        {
          "output_type": "stream",
          "text": [
            "test  /content/drive/My Drive/dataset/Car Running/cut2 (online-video-cutter.com) (1).mp4\n"
          ],
          "name": "stdout"
        },
        {
          "output_type": "stream",
          "text": [
            "\n",
            "\n",
            " 74%|███████▍  | 149/200 [05:50<03:01,  3.56s/it]\u001b[A\u001b[A"
          ],
          "name": "stderr"
        },
        {
          "output_type": "stream",
          "text": [
            "test  /content/drive/My Drive/dataset/Car Running/cut2 (online-video-cutter.com) (2).mp4\n"
          ],
          "name": "stdout"
        },
        {
          "output_type": "stream",
          "text": [
            "\n",
            "\n",
            " 75%|███████▌  | 150/200 [05:52<02:37,  3.15s/it]\u001b[A\u001b[A"
          ],
          "name": "stderr"
        },
        {
          "output_type": "stream",
          "text": [
            "test  /content/drive/My Drive/dataset/Car Running/cut2 (online-video-cutter.com) (3).mp4\n"
          ],
          "name": "stdout"
        },
        {
          "output_type": "stream",
          "text": [
            "\n",
            "\n",
            " 76%|███████▌  | 151/200 [05:54<02:19,  2.86s/it]\u001b[A\u001b[A"
          ],
          "name": "stderr"
        },
        {
          "output_type": "stream",
          "text": [
            "test  /content/drive/My Drive/dataset/Car Running/cut3 (online-video-cutter.com).mp4\n"
          ],
          "name": "stdout"
        },
        {
          "output_type": "stream",
          "text": [
            "\n",
            "\n",
            " 76%|███████▌  | 152/200 [05:59<02:52,  3.60s/it]\u001b[A\u001b[A"
          ],
          "name": "stderr"
        },
        {
          "output_type": "stream",
          "text": [
            "test  /content/drive/My Drive/dataset/Car Running/cut3 (online-video-cutter.com) (1).mp4\n"
          ],
          "name": "stdout"
        },
        {
          "output_type": "stream",
          "text": [
            "\n",
            "\n",
            " 76%|███████▋  | 153/200 [06:05<03:20,  4.26s/it]\u001b[A\u001b[A"
          ],
          "name": "stderr"
        },
        {
          "output_type": "stream",
          "text": [
            "test  /content/drive/My Drive/dataset/Car Running/cut3 (online-video-cutter.com) (2).mp4\n"
          ],
          "name": "stdout"
        },
        {
          "output_type": "stream",
          "text": [
            "\n",
            "\n",
            " 77%|███████▋  | 154/200 [06:10<03:31,  4.59s/it]\u001b[A\u001b[A"
          ],
          "name": "stderr"
        },
        {
          "output_type": "stream",
          "text": [
            "test  /content/drive/My Drive/dataset/Car Running/vid14.mp4\n"
          ],
          "name": "stdout"
        },
        {
          "output_type": "stream",
          "text": [
            "\n",
            "\n",
            " 78%|███████▊  | 155/200 [06:18<04:05,  5.44s/it]\u001b[A\u001b[A"
          ],
          "name": "stderr"
        },
        {
          "output_type": "stream",
          "text": [
            "test  /content/drive/My Drive/dataset/Car Running/vid15.mp4\n"
          ],
          "name": "stdout"
        },
        {
          "output_type": "stream",
          "text": [
            "\n",
            "\n",
            " 78%|███████▊  | 156/200 [06:20<03:15,  4.45s/it]\u001b[A\u001b[A"
          ],
          "name": "stderr"
        },
        {
          "output_type": "stream",
          "text": [
            "test  /content/drive/My Drive/dataset/Car Running/vid16.mp4\n"
          ],
          "name": "stdout"
        },
        {
          "output_type": "stream",
          "text": [
            "\n",
            "\n",
            " 78%|███████▊  | 157/200 [06:22<02:37,  3.66s/it]\u001b[A\u001b[A"
          ],
          "name": "stderr"
        },
        {
          "output_type": "stream",
          "text": [
            "test  /content/drive/My Drive/dataset/Car Running/vid17.mp4\n"
          ],
          "name": "stdout"
        },
        {
          "output_type": "stream",
          "text": [
            "\n",
            "\n",
            " 79%|███████▉  | 158/200 [06:24<02:17,  3.28s/it]\u001b[A\u001b[A"
          ],
          "name": "stderr"
        },
        {
          "output_type": "stream",
          "text": [
            "test  /content/drive/My Drive/dataset/Car Running/vid18.mp4\n"
          ],
          "name": "stdout"
        },
        {
          "output_type": "stream",
          "text": [
            "\n",
            "\n",
            " 80%|███████▉  | 159/200 [06:27<02:04,  3.02s/it]\u001b[A\u001b[A"
          ],
          "name": "stderr"
        },
        {
          "output_type": "stream",
          "text": [
            "test  /content/drive/My Drive/dataset/Car Running/vid19.mp4\n"
          ],
          "name": "stdout"
        },
        {
          "output_type": "stream",
          "text": [
            "\n",
            "\n",
            " 80%|████████  | 160/200 [06:32<02:28,  3.72s/it]\u001b[A\u001b[A"
          ],
          "name": "stderr"
        },
        {
          "output_type": "stream",
          "text": [
            "test  /content/drive/My Drive/dataset/Car Running/vid20.mp4\n"
          ],
          "name": "stdout"
        },
        {
          "output_type": "stream",
          "text": [
            "\n",
            "\n",
            " 80%|████████  | 161/200 [06:38<02:54,  4.47s/it]\u001b[A\u001b[A"
          ],
          "name": "stderr"
        },
        {
          "output_type": "stream",
          "text": [
            "test  /content/drive/My Drive/dataset/Car Running/vid21.mp4\n"
          ],
          "name": "stdout"
        },
        {
          "output_type": "stream",
          "text": [
            "\n",
            "\n",
            " 81%|████████  | 162/200 [06:44<03:00,  4.75s/it]\u001b[A\u001b[A"
          ],
          "name": "stderr"
        },
        {
          "output_type": "stream",
          "text": [
            "test  /content/drive/My Drive/dataset/Car Running/Cars in Motion- The Rolling Shot Supercut - HALCYON (4K)8.mp4\n"
          ],
          "name": "stdout"
        },
        {
          "output_type": "stream",
          "text": [
            "\n",
            "\n",
            " 82%|████████▏ | 163/200 [06:45<02:17,  3.72s/it]\u001b[A\u001b[A"
          ],
          "name": "stderr"
        },
        {
          "output_type": "stream",
          "text": [
            "test  /content/drive/My Drive/dataset/Car Running/Cars in Motion- The Rolling Shot Supercut - HALCYON (4K)7.mp4\n"
          ],
          "name": "stdout"
        },
        {
          "output_type": "stream",
          "text": [
            "\n",
            "\n",
            " 82%|████████▏ | 164/200 [06:46<01:47,  2.99s/it]\u001b[A\u001b[A"
          ],
          "name": "stderr"
        },
        {
          "output_type": "stream",
          "text": [
            "test  /content/drive/My Drive/dataset/Car Running/Cars in Motion- The Rolling Shot Supercut - HALCYON (4K)10.mp4\n"
          ],
          "name": "stdout"
        },
        {
          "output_type": "stream",
          "text": [
            "\n",
            "\n",
            " 82%|████████▎ | 165/200 [06:47<01:26,  2.47s/it]\u001b[A\u001b[A"
          ],
          "name": "stderr"
        },
        {
          "output_type": "stream",
          "text": [
            "test  /content/drive/My Drive/dataset/Car Running/Cars in Motion- The Rolling Shot Supercut - HALCYON (4K)101.mp4\n"
          ],
          "name": "stdout"
        },
        {
          "output_type": "stream",
          "text": [
            "\n",
            "\n",
            " 83%|████████▎ | 166/200 [06:49<01:12,  2.13s/it]\u001b[A\u001b[A"
          ],
          "name": "stderr"
        },
        {
          "output_type": "stream",
          "text": [
            "test  /content/drive/My Drive/dataset/Car Running/Cars in Motion- The Rolling Shot Supercut - HALCYON (4K)9.mp4\n"
          ],
          "name": "stdout"
        },
        {
          "output_type": "stream",
          "text": [
            "\n",
            "\n",
            " 84%|████████▎ | 167/200 [06:50<00:57,  1.74s/it]\u001b[A\u001b[A"
          ],
          "name": "stderr"
        },
        {
          "output_type": "stream",
          "text": [
            "test  /content/drive/My Drive/dataset/Car Running/2018 Infiniti QX80 Review — Cars.com.mp4\n"
          ],
          "name": "stdout"
        },
        {
          "output_type": "stream",
          "text": [
            "\n",
            "\n",
            " 84%|████████▍ | 168/200 [06:50<00:46,  1.44s/it]\u001b[A\u001b[A"
          ],
          "name": "stderr"
        },
        {
          "output_type": "stream",
          "text": [
            "test  /content/drive/My Drive/dataset/Car Running/Cars in Motion- The Rolling Shot Supercut - HALCYON (4K)4.mp4\n"
          ],
          "name": "stdout"
        },
        {
          "output_type": "stream",
          "text": [
            "\n",
            "\n",
            " 84%|████████▍ | 169/200 [06:51<00:38,  1.24s/it]\u001b[A\u001b[A"
          ],
          "name": "stderr"
        },
        {
          "output_type": "stream",
          "text": [
            "test  /content/drive/My Drive/dataset/Car Running/Cars in Motion- The Rolling Shot Supercut - HALCYON (4K)3.mp4\n"
          ],
          "name": "stdout"
        },
        {
          "output_type": "stream",
          "text": [
            "\n",
            "\n",
            " 85%|████████▌ | 170/200 [06:52<00:37,  1.24s/it]\u001b[A\u001b[A"
          ],
          "name": "stderr"
        },
        {
          "output_type": "stream",
          "text": [
            "test  /content/drive/My Drive/dataset/Car Running/Cars in Motion- The Rolling Shot Supercut - HALCYON (4K)6.mp4\n"
          ],
          "name": "stdout"
        },
        {
          "output_type": "stream",
          "text": [
            "\n",
            "\n",
            " 86%|████████▌ | 171/200 [06:53<00:31,  1.08s/it]\u001b[A\u001b[A"
          ],
          "name": "stderr"
        },
        {
          "output_type": "stream",
          "text": [
            "test  /content/drive/My Drive/dataset/Car Running/Cars in Motion- The Rolling Shot Supercut - HALCYON (4K).mp4\n"
          ],
          "name": "stdout"
        },
        {
          "output_type": "stream",
          "text": [
            "\n",
            "\n",
            " 86%|████████▌ | 172/200 [06:54<00:27,  1.03it/s]\u001b[A\u001b[A"
          ],
          "name": "stderr"
        },
        {
          "output_type": "stream",
          "text": [
            "test  /content/drive/My Drive/dataset/Car Running/Cars in Motion- The Rolling Shot Supercut - HALCYON (4K)5.mp4\n"
          ],
          "name": "stdout"
        },
        {
          "output_type": "stream",
          "text": [
            "\n",
            "\n",
            " 86%|████████▋ | 173/200 [06:55<00:29,  1.08s/it]\u001b[A\u001b[A"
          ],
          "name": "stderr"
        },
        {
          "output_type": "stream",
          "text": [
            "test  /content/drive/My Drive/dataset/Car Running/Cars in Motion- The Rolling Shot Supercut - HALCYON (4K)1.mp4\n"
          ],
          "name": "stdout"
        },
        {
          "output_type": "stream",
          "text": [
            "\n",
            "\n",
            " 87%|████████▋ | 174/200 [06:56<00:29,  1.12s/it]\u001b[A\u001b[A"
          ],
          "name": "stderr"
        },
        {
          "output_type": "stream",
          "text": [
            "test  /content/drive/My Drive/dataset/Car Running/vid1.mp4\n"
          ],
          "name": "stdout"
        },
        {
          "output_type": "stream",
          "text": [
            "\n",
            "\n",
            " 88%|████████▊ | 175/200 [06:57<00:27,  1.10s/it]\u001b[A\u001b[A"
          ],
          "name": "stderr"
        },
        {
          "output_type": "stream",
          "text": [
            "test  /content/drive/My Drive/dataset/Car Running/vid2.mp4\n"
          ],
          "name": "stdout"
        },
        {
          "output_type": "stream",
          "text": [
            "\n",
            "\n",
            " 88%|████████▊ | 176/200 [06:59<00:28,  1.17s/it]\u001b[A\u001b[A"
          ],
          "name": "stderr"
        },
        {
          "output_type": "stream",
          "text": [
            "test  /content/drive/My Drive/dataset/Car Running/vid3.mp4\n"
          ],
          "name": "stdout"
        },
        {
          "output_type": "stream",
          "text": [
            "\n",
            "\n",
            " 88%|████████▊ | 177/200 [07:00<00:27,  1.20s/it]\u001b[A\u001b[A"
          ],
          "name": "stderr"
        },
        {
          "output_type": "stream",
          "text": [
            "test  /content/drive/My Drive/dataset/Car Running/vid4.mp4\n"
          ],
          "name": "stdout"
        },
        {
          "output_type": "stream",
          "text": [
            "\n",
            "\n",
            " 89%|████████▉ | 178/200 [07:02<00:28,  1.30s/it]\u001b[A\u001b[A"
          ],
          "name": "stderr"
        },
        {
          "output_type": "stream",
          "text": [
            "test  /content/drive/My Drive/dataset/Car Running/vid5.mp4\n"
          ],
          "name": "stdout"
        },
        {
          "output_type": "stream",
          "text": [
            "\n",
            "\n",
            " 90%|████████▉ | 179/200 [07:02<00:25,  1.20s/it]\u001b[A\u001b[A"
          ],
          "name": "stderr"
        },
        {
          "output_type": "stream",
          "text": [
            "test  /content/drive/My Drive/dataset/Car Running/vid6.mp4\n"
          ],
          "name": "stdout"
        },
        {
          "output_type": "stream",
          "text": [
            "\n",
            "\n",
            " 90%|█████████ | 180/200 [07:03<00:22,  1.11s/it]\u001b[A\u001b[A"
          ],
          "name": "stderr"
        },
        {
          "output_type": "stream",
          "text": [
            "test  /content/drive/My Drive/dataset/Car Running/vid7.mp4\n"
          ],
          "name": "stdout"
        },
        {
          "output_type": "stream",
          "text": [
            "\n",
            "\n",
            " 90%|█████████ | 181/200 [07:04<00:19,  1.04s/it]\u001b[A\u001b[A"
          ],
          "name": "stderr"
        },
        {
          "output_type": "stream",
          "text": [
            "test  /content/drive/My Drive/dataset/Car Running/vid8.mp4\n"
          ],
          "name": "stdout"
        },
        {
          "output_type": "stream",
          "text": [
            "\n",
            "\n",
            " 91%|█████████ | 182/200 [07:05<00:19,  1.08s/it]\u001b[A\u001b[A"
          ],
          "name": "stderr"
        },
        {
          "output_type": "stream",
          "text": [
            "test  /content/drive/My Drive/dataset/Car Running/vid9.mp4\n"
          ],
          "name": "stdout"
        },
        {
          "output_type": "stream",
          "text": [
            "\n",
            "\n",
            " 92%|█████████▏| 183/200 [07:06<00:17,  1.02s/it]\u001b[A\u001b[A"
          ],
          "name": "stderr"
        },
        {
          "output_type": "stream",
          "text": [
            "test  /content/drive/My Drive/dataset/Car Running/vid10.mp4\n"
          ],
          "name": "stdout"
        },
        {
          "output_type": "stream",
          "text": [
            "\n",
            "\n",
            " 92%|█████████▏| 184/200 [07:10<00:31,  1.95s/it]\u001b[A\u001b[A"
          ],
          "name": "stderr"
        },
        {
          "output_type": "stream",
          "text": [
            "test  /content/drive/My Drive/dataset/Car Running/vid11.mp4\n"
          ],
          "name": "stdout"
        },
        {
          "output_type": "stream",
          "text": [
            "\n",
            "\n",
            " 92%|█████████▎| 185/200 [07:13<00:30,  2.04s/it]\u001b[A\u001b[A"
          ],
          "name": "stderr"
        },
        {
          "output_type": "stream",
          "text": [
            "test  /content/drive/My Drive/dataset/Car Running/vid12.mp4\n"
          ],
          "name": "stdout"
        },
        {
          "output_type": "stream",
          "text": [
            "\n",
            "\n",
            " 93%|█████████▎| 186/200 [07:15<00:30,  2.21s/it]\u001b[A\u001b[A"
          ],
          "name": "stderr"
        },
        {
          "output_type": "stream",
          "text": [
            "test  /content/drive/My Drive/dataset/Car Running/vid13.mp4\n"
          ],
          "name": "stdout"
        },
        {
          "output_type": "stream",
          "text": [
            "\n",
            "\n",
            " 94%|█████████▎| 187/200 [07:17<00:27,  2.13s/it]\u001b[A\u001b[A"
          ],
          "name": "stderr"
        },
        {
          "output_type": "stream",
          "text": [
            "test  /content/drive/My Drive/dataset/Car Running/car_run.mp4\n"
          ],
          "name": "stdout"
        },
        {
          "output_type": "stream",
          "text": [
            "\n",
            "\n",
            " 94%|█████████▍| 188/200 [07:19<00:24,  2.01s/it]\u001b[A\u001b[A"
          ],
          "name": "stderr"
        },
        {
          "output_type": "stream",
          "text": [
            "test  /content/drive/My Drive/dataset/Car Running/Copy of (HD) Exotic Car Run (Cop Trouble)-Lamborghini LP640, Rossion Q1, Superleggera and MORE (online-video-cutter.com) (4).mp4\n"
          ],
          "name": "stdout"
        },
        {
          "output_type": "stream",
          "text": [
            "\n",
            "\n",
            " 94%|█████████▍| 189/200 [07:21<00:20,  1.91s/it]\u001b[A\u001b[A"
          ],
          "name": "stderr"
        },
        {
          "output_type": "stream",
          "text": [
            "test  /content/drive/My Drive/dataset/Car Running/Copy of Cars On Highway.mp4\n"
          ],
          "name": "stdout"
        },
        {
          "output_type": "stream",
          "text": [
            "\n",
            "\n",
            " 95%|█████████▌| 190/200 [07:23<00:19,  1.91s/it]\u001b[A\u001b[A"
          ],
          "name": "stderr"
        },
        {
          "output_type": "stream",
          "text": [
            "test  /content/drive/My Drive/dataset/Car Running/Copy of Cars in Motion- The Rolling Shot Supercut - HALCYON (4K)101.mp4\n"
          ],
          "name": "stdout"
        },
        {
          "output_type": "stream",
          "text": [
            "\n",
            "\n",
            " 96%|█████████▌| 191/200 [07:24<00:15,  1.69s/it]\u001b[A\u001b[A"
          ],
          "name": "stderr"
        },
        {
          "output_type": "stream",
          "text": [
            "test  /content/drive/My Drive/dataset/Car Running/Copy of Cars in Motion- The Rolling Shot Supercut - HALCYON (4K)9.mp4\n"
          ],
          "name": "stdout"
        },
        {
          "output_type": "stream",
          "text": [
            "\n",
            "\n",
            " 96%|█████████▌| 192/200 [07:25<00:12,  1.53s/it]\u001b[A\u001b[A"
          ],
          "name": "stderr"
        },
        {
          "output_type": "stream",
          "text": [
            "test  /content/drive/My Drive/dataset/Car Running/Copy of Cars in Motion- The Rolling Shot Supercut - HALCYON (4K)7.mp4\n"
          ],
          "name": "stdout"
        },
        {
          "output_type": "stream",
          "text": [
            "\n",
            "\n",
            " 96%|█████████▋| 193/200 [07:26<00:09,  1.42s/it]\u001b[A\u001b[A"
          ],
          "name": "stderr"
        },
        {
          "output_type": "stream",
          "text": [
            "test  /content/drive/My Drive/dataset/Car Running/Copy of Mercedes Benz On The Road (1).mp4\n"
          ],
          "name": "stdout"
        },
        {
          "output_type": "stream",
          "text": [
            "\n",
            "\n",
            " 97%|█████████▋| 194/200 [07:28<00:09,  1.54s/it]\u001b[A\u001b[A"
          ],
          "name": "stderr"
        },
        {
          "output_type": "stream",
          "text": [
            "test  /content/drive/My Drive/dataset/Car Running/Copy of cut (online-video-cutter.com) (1).mp4\n"
          ],
          "name": "stdout"
        },
        {
          "output_type": "stream",
          "text": [
            "\n",
            "\n",
            " 98%|█████████▊| 195/200 [07:30<00:07,  1.60s/it]\u001b[A\u001b[A"
          ],
          "name": "stderr"
        },
        {
          "output_type": "stream",
          "text": [
            "test  /content/drive/My Drive/dataset/Car Running/Copy of cut2 (online-video-cutter.com).mp4\n"
          ],
          "name": "stdout"
        },
        {
          "output_type": "stream",
          "text": [
            "\n",
            "\n",
            " 98%|█████████▊| 196/200 [07:31<00:06,  1.66s/it]\u001b[A\u001b[A"
          ],
          "name": "stderr"
        },
        {
          "output_type": "stream",
          "text": [
            "test  /content/drive/My Drive/dataset/Car Running/Copy of Mercedes Benz On The Road.mp4\n"
          ],
          "name": "stdout"
        },
        {
          "output_type": "stream",
          "text": [
            "\n",
            "\n",
            " 98%|█████████▊| 197/200 [07:33<00:05,  1.71s/it]\u001b[A\u001b[A"
          ],
          "name": "stderr"
        },
        {
          "output_type": "stream",
          "text": [
            "test  /content/drive/My Drive/dataset/Car Running/Copy of F.O.O.L - Highway (online-video-cutter.com) (1).mp4\n"
          ],
          "name": "stdout"
        },
        {
          "output_type": "stream",
          "text": [
            "\n",
            "\n",
            " 99%|█████████▉| 198/200 [07:34<00:02,  1.50s/it]\u001b[A\u001b[A"
          ],
          "name": "stderr"
        },
        {
          "output_type": "stream",
          "text": [
            "test  /content/drive/My Drive/dataset/Car Running/Copy of The Best Of Street Drifting (online-video-cutter.com) (2).mp4\n"
          ],
          "name": "stdout"
        },
        {
          "output_type": "stream",
          "text": [
            "\n",
            "\n",
            "100%|█████████▉| 199/200 [07:36<00:01,  1.48s/it]\u001b[A\u001b[A"
          ],
          "name": "stderr"
        },
        {
          "output_type": "stream",
          "text": [
            "test  /content/drive/My Drive/dataset/Car Running/Copy of Ollie's 360BHP B16 Turbo Mini --) (online-video-cutter.com) (2).mp4\n"
          ],
          "name": "stdout"
        },
        {
          "output_type": "stream",
          "text": [
            "\n",
            "\n",
            "100%|██████████| 200/200 [07:37<00:00,  1.47s/it]\u001b[A\u001b[A"
          ],
          "name": "stderr"
        },
        {
          "output_type": "stream",
          "text": [
            "test  /content/drive/My Drive/dataset/Car Running/Copy of video (1).mp4\n"
          ],
          "name": "stdout"
        },
        {
          "output_type": "stream",
          "text": [
            "\r100%|██████████| 200/200 [07:44<00:00,  2.32s/it]\n"
          ],
          "name": "stderr"
        },
        {
          "output_type": "stream",
          "text": [
            "Saved dataset to dataset.npz.\n",
            "X_shape:(600, 32, 32, 12, 3)\n",
            "Y_shape:(600, 3)\n"
          ],
          "name": "stdout"
        }
      ]
    },
    {
      "cell_type": "code",
      "metadata": {
        "id": "lzqEIlfReSeB",
        "colab_type": "code",
        "colab": {
          "base_uri": "https://localhost:8080/",
          "height": 1000
        },
        "outputId": "de95dee8-b330-46aa-f97a-0274a21c46d8"
      },
      "source": [
        " # Define model\n",
        "model = Sequential()\n",
        "model.add(Conv3D(32, kernel_size=(2, 2, 2), input_shape=(X.shape[1:]), padding=\"same\"))\n",
        "model.add(Activation('relu'))\n",
        "model.add(Conv3D(32, padding=\"same\", kernel_size=(2, 2, 2)))\n",
        "model.add(Activation('relu'))\n",
        "model.add(MaxPooling3D(pool_size=(2, 2, 2), padding=\"same\"))\n",
        "model.add(Dropout(0.2))\n",
        "\n",
        "model.add(Conv3D(64, padding=\"same\", kernel_size=(2, 2, 2)))\n",
        "model.add(Activation('relu'))\n",
        "model.add(Conv3D(64, padding=\"same\", kernel_size=(2, 2, 2)))\n",
        "model.add(Activation('relu'))\n",
        "model.add(MaxPooling3D(pool_size=(3, 3, 3), padding=\"same\"))\n",
        "model.add(Dropout(0.2))\n",
        "\n",
        "model.add(Conv3D(64, padding=\"same\", kernel_size=(3, 3, 3)))\n",
        "model.add(Activation('relu'))\n",
        "model.add(Conv3D(64, padding=\"same\", kernel_size=(3, 3, 3)))\n",
        "model.add(Activation('relu'))\n",
        "model.add(MaxPooling3D(pool_size=(3, 3, 3), padding=\"same\"))\n",
        "model.add(Dropout(0.2))\n",
        "\n",
        "model.add(Flatten())\n",
        "model.add(Dense(3, activation='relu'))\n",
        "model.add(BatchNormalization())\n",
        "model.add(Dropout(0.2))\n",
        "model.add(Dense(nb_classes, activation='softmax'))\n",
        "\n",
        "model.compile(loss=categorical_crossentropy,\n",
        "              optimizer=Adam(), metrics=['accuracy'])\n",
        "model.summary()\n",
        "plot_model(model, show_shapes=True,\n",
        "            to_file=os.path.join(args.output, 'model.png'))"
      ],
      "execution_count": 69,
      "outputs": [
        {
          "output_type": "stream",
          "text": [
            "Model: \"sequential_3\"\n",
            "_________________________________________________________________\n",
            "Layer (type)                 Output Shape              Param #   \n",
            "=================================================================\n",
            "conv3d_13 (Conv3D)           (None, 32, 32, 12, 32)    800       \n",
            "_________________________________________________________________\n",
            "activation_13 (Activation)   (None, 32, 32, 12, 32)    0         \n",
            "_________________________________________________________________\n",
            "conv3d_14 (Conv3D)           (None, 32, 32, 12, 32)    8224      \n",
            "_________________________________________________________________\n",
            "activation_14 (Activation)   (None, 32, 32, 12, 32)    0         \n",
            "_________________________________________________________________\n",
            "max_pooling3d_7 (MaxPooling3 (None, 16, 16, 6, 32)     0         \n",
            "_________________________________________________________________\n",
            "dropout_9 (Dropout)          (None, 16, 16, 6, 32)     0         \n",
            "_________________________________________________________________\n",
            "conv3d_15 (Conv3D)           (None, 16, 16, 6, 64)     16448     \n",
            "_________________________________________________________________\n",
            "activation_15 (Activation)   (None, 16, 16, 6, 64)     0         \n",
            "_________________________________________________________________\n",
            "conv3d_16 (Conv3D)           (None, 16, 16, 6, 64)     32832     \n",
            "_________________________________________________________________\n",
            "activation_16 (Activation)   (None, 16, 16, 6, 64)     0         \n",
            "_________________________________________________________________\n",
            "max_pooling3d_8 (MaxPooling3 (None, 6, 6, 2, 64)       0         \n",
            "_________________________________________________________________\n",
            "dropout_10 (Dropout)         (None, 6, 6, 2, 64)       0         \n",
            "_________________________________________________________________\n",
            "conv3d_17 (Conv3D)           (None, 6, 6, 2, 64)       110656    \n",
            "_________________________________________________________________\n",
            "activation_17 (Activation)   (None, 6, 6, 2, 64)       0         \n",
            "_________________________________________________________________\n",
            "conv3d_18 (Conv3D)           (None, 6, 6, 2, 64)       110656    \n",
            "_________________________________________________________________\n",
            "activation_18 (Activation)   (None, 6, 6, 2, 64)       0         \n",
            "_________________________________________________________________\n",
            "max_pooling3d_9 (MaxPooling3 (None, 2, 2, 1, 64)       0         \n",
            "_________________________________________________________________\n",
            "dropout_11 (Dropout)         (None, 2, 2, 1, 64)       0         \n",
            "_________________________________________________________________\n",
            "flatten_3 (Flatten)          (None, 256)               0         \n",
            "_________________________________________________________________\n",
            "dense_5 (Dense)              (None, 3)                 771       \n",
            "_________________________________________________________________\n",
            "batch_normalization_3 (Batch (None, 3)                 12        \n",
            "_________________________________________________________________\n",
            "dropout_12 (Dropout)         (None, 3)                 0         \n",
            "_________________________________________________________________\n",
            "dense_6 (Dense)              (None, 3)                 12        \n",
            "=================================================================\n",
            "Total params: 280,411\n",
            "Trainable params: 280,405\n",
            "Non-trainable params: 6\n",
            "_________________________________________________________________\n"
          ],
          "name": "stdout"
        },
        {
          "output_type": "execute_result",
          "data": {
            "image/png": "[encoded data removed]",
            "text/plain": [
              "<IPython.core.display.Image object>"
            ]
          },
          "metadata": {
            "tags": []
          },
          "execution_count": 69
        }
      ]
    },
    {
      "cell_type": "code",
      "metadata": {
        "id": "Ux5VyaKSe4lv",
        "colab_type": "code",
        "colab": {
          "base_uri": "https://localhost:8080/",
          "height": 1000
        },
        "outputId": "e80b48d3-fe08-4614-8a71-13a380ea6a02"
      },
      "source": [
        "X_train, X_test, Y_train, Y_test = train_test_split( X, Y, test_size=0.2, random_state=43)\n",
        "\n",
        "history = model.fit(X_train, Y_train, validation_data=(X_test, Y_test), batch_size=args.batch,\n",
        "                    epochs=args.epoch, verbose=1, shuffle=True)"
      ],
      "execution_count": 70,
      "outputs": [
        {
          "output_type": "stream",
          "text": [
            "Train on 480 samples, validate on 120 samples\n",
            "Epoch 1/500\n",
            "480/480 [==============================] - 2s 5ms/step - loss: 1.2399 - accuracy: 0.4021 - val_loss: 12.7112 - val_accuracy: 0.4250\n",
            "Epoch 2/500\n",
            "480/480 [==============================] - 2s 4ms/step - loss: 1.1504 - accuracy: 0.3812 - val_loss: 7.8209 - val_accuracy: 0.4250\n",
            "Epoch 3/500\n",
            "480/480 [==============================] - 2s 4ms/step - loss: 1.1558 - accuracy: 0.3812 - val_loss: 3.3651 - val_accuracy: 0.4250\n",
            "Epoch 4/500\n",
            "480/480 [==============================] - 2s 4ms/step - loss: 1.1360 - accuracy: 0.3688 - val_loss: 1.0467 - val_accuracy: 0.4333\n",
            "Epoch 5/500\n",
            "480/480 [==============================] - 2s 4ms/step - loss: 1.1242 - accuracy: 0.4000 - val_loss: 1.3969 - val_accuracy: 0.4417\n",
            "Epoch 6/500\n",
            "480/480 [==============================] - 2s 4ms/step - loss: 1.0676 - accuracy: 0.4563 - val_loss: 1.3549 - val_accuracy: 0.4083\n",
            "Epoch 7/500\n",
            "480/480 [==============================] - 2s 4ms/step - loss: 1.0648 - accuracy: 0.4333 - val_loss: 1.3294 - val_accuracy: 0.4333\n",
            "Epoch 8/500\n",
            "480/480 [==============================] - 2s 3ms/step - loss: 1.0100 - accuracy: 0.4896 - val_loss: 1.2202 - val_accuracy: 0.4500\n",
            "Epoch 9/500\n",
            "480/480 [==============================] - 2s 4ms/step - loss: 1.0373 - accuracy: 0.4771 - val_loss: 1.4417 - val_accuracy: 0.4500\n",
            "Epoch 10/500\n",
            "480/480 [==============================] - 2s 4ms/step - loss: 1.0344 - accuracy: 0.4521 - val_loss: 1.4984 - val_accuracy: 0.3333\n",
            "Epoch 11/500\n",
            "480/480 [==============================] - 2s 4ms/step - loss: 1.0410 - accuracy: 0.4854 - val_loss: 1.8473 - val_accuracy: 0.3333\n",
            "Epoch 12/500\n",
            "480/480 [==============================] - 2s 4ms/step - loss: 1.0008 - accuracy: 0.4875 - val_loss: 1.8676 - val_accuracy: 0.3333\n",
            "Epoch 13/500\n",
            "480/480 [==============================] - 2s 3ms/step - loss: 0.9715 - accuracy: 0.5021 - val_loss: 1.5238 - val_accuracy: 0.3833\n",
            "Epoch 14/500\n",
            "480/480 [==============================] - 2s 4ms/step - loss: 0.9605 - accuracy: 0.5125 - val_loss: 1.1465 - val_accuracy: 0.4750\n",
            "Epoch 15/500\n",
            "480/480 [==============================] - 2s 4ms/step - loss: 0.9600 - accuracy: 0.5437 - val_loss: 1.4767 - val_accuracy: 0.4000\n",
            "Epoch 16/500\n",
            "480/480 [==============================] - 2s 4ms/step - loss: 0.9339 - accuracy: 0.5375 - val_loss: 1.6183 - val_accuracy: 0.3333\n",
            "Epoch 17/500\n",
            "480/480 [==============================] - 2s 4ms/step - loss: 0.9193 - accuracy: 0.5354 - val_loss: 1.1735 - val_accuracy: 0.4583\n",
            "Epoch 18/500\n",
            "480/480 [==============================] - 2s 4ms/step - loss: 0.8664 - accuracy: 0.6083 - val_loss: 1.1203 - val_accuracy: 0.4583\n",
            "Epoch 19/500\n",
            "480/480 [==============================] - 2s 4ms/step - loss: 0.8290 - accuracy: 0.6562 - val_loss: 0.9170 - val_accuracy: 0.6333\n",
            "Epoch 20/500\n",
            "480/480 [==============================] - 2s 4ms/step - loss: 0.8259 - accuracy: 0.6271 - val_loss: 1.2257 - val_accuracy: 0.4833\n",
            "Epoch 21/500\n",
            "480/480 [==============================] - 2s 4ms/step - loss: 0.7854 - accuracy: 0.6479 - val_loss: 1.4385 - val_accuracy: 0.4667\n",
            "Epoch 22/500\n",
            "480/480 [==============================] - 2s 4ms/step - loss: 0.7901 - accuracy: 0.6667 - val_loss: 1.3721 - val_accuracy: 0.4833\n",
            "Epoch 23/500\n",
            "480/480 [==============================] - 2s 3ms/step - loss: 0.7407 - accuracy: 0.6687 - val_loss: 1.2699 - val_accuracy: 0.4417\n",
            "Epoch 24/500\n",
            "480/480 [==============================] - 2s 4ms/step - loss: 0.7381 - accuracy: 0.6687 - val_loss: 1.2627 - val_accuracy: 0.4917\n",
            "Epoch 25/500\n",
            "480/480 [==============================] - 2s 4ms/step - loss: 0.7218 - accuracy: 0.6896 - val_loss: 1.5433 - val_accuracy: 0.3333\n",
            "Epoch 26/500\n",
            "480/480 [==============================] - 2s 4ms/step - loss: 0.7084 - accuracy: 0.7125 - val_loss: 0.9191 - val_accuracy: 0.6250\n",
            "Epoch 27/500\n",
            "480/480 [==============================] - 2s 3ms/step - loss: 0.6790 - accuracy: 0.7312 - val_loss: 1.2802 - val_accuracy: 0.5167\n",
            "Epoch 28/500\n",
            "480/480 [==============================] - 2s 4ms/step - loss: 0.6833 - accuracy: 0.7292 - val_loss: 0.8845 - val_accuracy: 0.6833\n",
            "Epoch 29/500\n",
            "480/480 [==============================] - 2s 3ms/step - loss: 0.6444 - accuracy: 0.7208 - val_loss: 0.7452 - val_accuracy: 0.7083\n",
            "Epoch 30/500\n",
            "480/480 [==============================] - 2s 3ms/step - loss: 0.6811 - accuracy: 0.7271 - val_loss: 1.1278 - val_accuracy: 0.5583\n",
            "Epoch 31/500\n",
            "480/480 [==============================] - 2s 3ms/step - loss: 0.6219 - accuracy: 0.7500 - val_loss: 1.2837 - val_accuracy: 0.5083\n",
            "Epoch 32/500\n",
            "480/480 [==============================] - 2s 4ms/step - loss: 0.5721 - accuracy: 0.8021 - val_loss: 1.1166 - val_accuracy: 0.4500\n",
            "Epoch 33/500\n",
            "480/480 [==============================] - 2s 4ms/step - loss: 0.5609 - accuracy: 0.7833 - val_loss: 0.9931 - val_accuracy: 0.5417\n",
            "Epoch 34/500\n",
            "480/480 [==============================] - 2s 3ms/step - loss: 0.5312 - accuracy: 0.8062 - val_loss: 1.1221 - val_accuracy: 0.5417\n",
            "Epoch 35/500\n",
            "480/480 [==============================] - 2s 4ms/step - loss: 0.5243 - accuracy: 0.7750 - val_loss: 1.2442 - val_accuracy: 0.5083\n",
            "Epoch 36/500\n",
            "480/480 [==============================] - 2s 4ms/step - loss: 0.4988 - accuracy: 0.8208 - val_loss: 0.8909 - val_accuracy: 0.6333\n",
            "Epoch 37/500\n",
            "480/480 [==============================] - 2s 3ms/step - loss: 0.4951 - accuracy: 0.8188 - val_loss: 1.0288 - val_accuracy: 0.5833\n",
            "Epoch 38/500\n",
            "480/480 [==============================] - 2s 4ms/step - loss: 0.4910 - accuracy: 0.7792 - val_loss: 1.0603 - val_accuracy: 0.5833\n",
            "Epoch 39/500\n",
            "480/480 [==============================] - 2s 4ms/step - loss: 0.4634 - accuracy: 0.8125 - val_loss: 0.7993 - val_accuracy: 0.7083\n",
            "Epoch 40/500\n",
            "480/480 [==============================] - 2s 3ms/step - loss: 0.4666 - accuracy: 0.8083 - val_loss: 1.1030 - val_accuracy: 0.5667\n",
            "Epoch 41/500\n",
            "480/480 [==============================] - 2s 3ms/step - loss: 0.4248 - accuracy: 0.8396 - val_loss: 0.9784 - val_accuracy: 0.6083\n",
            "Epoch 42/500\n",
            "480/480 [==============================] - 2s 3ms/step - loss: 0.4131 - accuracy: 0.8479 - val_loss: 0.7661 - val_accuracy: 0.6667\n",
            "Epoch 43/500\n",
            "480/480 [==============================] - 2s 4ms/step - loss: 0.3960 - accuracy: 0.8479 - val_loss: 1.2890 - val_accuracy: 0.4250\n",
            "Epoch 44/500\n",
            "480/480 [==============================] - 2s 3ms/step - loss: 0.4074 - accuracy: 0.8271 - val_loss: 1.0290 - val_accuracy: 0.5750\n",
            "Epoch 45/500\n",
            "480/480 [==============================] - 2s 4ms/step - loss: 0.3639 - accuracy: 0.8458 - val_loss: 0.8825 - val_accuracy: 0.6583\n",
            "Epoch 46/500\n",
            "480/480 [==============================] - 2s 3ms/step - loss: 0.3404 - accuracy: 0.8854 - val_loss: 1.0918 - val_accuracy: 0.5167\n",
            "Epoch 47/500\n",
            "480/480 [==============================] - 2s 4ms/step - loss: 0.2890 - accuracy: 0.8979 - val_loss: 0.7653 - val_accuracy: 0.6750\n",
            "Epoch 48/500\n",
            "480/480 [==============================] - 2s 3ms/step - loss: 0.3117 - accuracy: 0.8896 - val_loss: 1.0225 - val_accuracy: 0.5083\n",
            "Epoch 49/500\n",
            "480/480 [==============================] - 2s 3ms/step - loss: 0.2817 - accuracy: 0.9125 - val_loss: 0.8234 - val_accuracy: 0.6417\n",
            "Epoch 50/500\n",
            "480/480 [==============================] - 2s 3ms/step - loss: 0.2684 - accuracy: 0.9146 - val_loss: 1.1302 - val_accuracy: 0.5750\n",
            "Epoch 51/500\n",
            "480/480 [==============================] - 2s 3ms/step - loss: 0.2617 - accuracy: 0.9167 - val_loss: 0.9504 - val_accuracy: 0.6083\n",
            "Epoch 52/500\n",
            "480/480 [==============================] - 2s 3ms/step - loss: 0.2619 - accuracy: 0.9271 - val_loss: 0.7137 - val_accuracy: 0.7083\n",
            "Epoch 53/500\n",
            "480/480 [==============================] - 2s 3ms/step - loss: 0.2612 - accuracy: 0.9167 - val_loss: 0.7667 - val_accuracy: 0.7000\n",
            "Epoch 54/500\n",
            "480/480 [==============================] - 2s 3ms/step - loss: 0.2262 - accuracy: 0.9146 - val_loss: 0.8754 - val_accuracy: 0.6583\n",
            "Epoch 55/500\n",
            "480/480 [==============================] - 2s 3ms/step - loss: 0.2415 - accuracy: 0.9104 - val_loss: 0.7856 - val_accuracy: 0.6667\n",
            "Epoch 56/500\n",
            "480/480 [==============================] - 2s 3ms/step - loss: 0.2183 - accuracy: 0.9271 - val_loss: 0.8533 - val_accuracy: 0.6500\n",
            "Epoch 57/500\n",
            "480/480 [==============================] - 2s 3ms/step - loss: 0.2445 - accuracy: 0.9062 - val_loss: 0.8449 - val_accuracy: 0.7333\n",
            "Epoch 58/500\n",
            "480/480 [==============================] - 2s 3ms/step - loss: 0.2249 - accuracy: 0.9292 - val_loss: 0.7585 - val_accuracy: 0.7000\n",
            "Epoch 59/500\n",
            "480/480 [==============================] - 2s 3ms/step - loss: 0.2170 - accuracy: 0.9292 - val_loss: 0.5180 - val_accuracy: 0.7917\n",
            "Epoch 60/500\n",
            "480/480 [==============================] - 2s 4ms/step - loss: 0.2040 - accuracy: 0.9375 - val_loss: 0.7136 - val_accuracy: 0.7167\n",
            "Epoch 61/500\n",
            "480/480 [==============================] - 2s 4ms/step - loss: 0.1847 - accuracy: 0.9500 - val_loss: 0.4789 - val_accuracy: 0.8000\n",
            "Epoch 62/500\n",
            "480/480 [==============================] - 2s 4ms/step - loss: 0.1772 - accuracy: 0.9417 - val_loss: 0.6782 - val_accuracy: 0.7500\n",
            "Epoch 63/500\n",
            "480/480 [==============================] - 2s 4ms/step - loss: 0.1696 - accuracy: 0.9458 - val_loss: 0.5161 - val_accuracy: 0.8167\n",
            "Epoch 64/500\n",
            "480/480 [==============================] - 2s 4ms/step - loss: 0.1871 - accuracy: 0.9292 - val_loss: 0.4912 - val_accuracy: 0.8250\n",
            "Epoch 65/500\n",
            "480/480 [==============================] - 2s 4ms/step - loss: 0.1744 - accuracy: 0.9458 - val_loss: 0.6664 - val_accuracy: 0.7667\n",
            "Epoch 66/500\n",
            "480/480 [==============================] - 2s 3ms/step - loss: 0.1508 - accuracy: 0.9563 - val_loss: 0.6418 - val_accuracy: 0.7667\n",
            "Epoch 67/500\n",
            "480/480 [==============================] - 2s 3ms/step - loss: 0.1867 - accuracy: 0.9271 - val_loss: 0.7471 - val_accuracy: 0.7167\n",
            "Epoch 68/500\n",
            "480/480 [==============================] - 2s 4ms/step - loss: 0.1599 - accuracy: 0.9396 - val_loss: 0.7600 - val_accuracy: 0.7333\n",
            "Epoch 69/500\n",
            "480/480 [==============================] - 2s 3ms/step - loss: 0.1403 - accuracy: 0.9604 - val_loss: 0.8223 - val_accuracy: 0.6833\n",
            "Epoch 70/500\n",
            "480/480 [==============================] - 2s 3ms/step - loss: 0.1479 - accuracy: 0.9458 - val_loss: 0.7477 - val_accuracy: 0.6833\n",
            "Epoch 71/500\n",
            "480/480 [==============================] - 2s 4ms/step - loss: 0.1346 - accuracy: 0.9646 - val_loss: 0.8577 - val_accuracy: 0.6667\n",
            "Epoch 72/500\n",
            "480/480 [==============================] - 2s 4ms/step - loss: 0.1426 - accuracy: 0.9500 - val_loss: 0.5390 - val_accuracy: 0.8083\n",
            "Epoch 73/500\n",
            "480/480 [==============================] - 2s 4ms/step - loss: 0.1543 - accuracy: 0.9458 - val_loss: 0.4198 - val_accuracy: 0.8250\n",
            "Epoch 74/500\n",
            "480/480 [==============================] - 2s 3ms/step - loss: 0.1537 - accuracy: 0.9521 - val_loss: 0.5148 - val_accuracy: 0.8000\n",
            "Epoch 75/500\n",
            "480/480 [==============================] - 2s 3ms/step - loss: 0.1190 - accuracy: 0.9604 - val_loss: 0.6937 - val_accuracy: 0.6833\n",
            "Epoch 76/500\n",
            "480/480 [==============================] - 2s 3ms/step - loss: 0.1235 - accuracy: 0.9542 - val_loss: 0.7513 - val_accuracy: 0.7083\n",
            "Epoch 77/500\n",
            "480/480 [==============================] - 2s 3ms/step - loss: 0.1271 - accuracy: 0.9500 - val_loss: 0.5788 - val_accuracy: 0.7667\n",
            "Epoch 78/500\n",
            "480/480 [==============================] - 2s 3ms/step - loss: 0.1363 - accuracy: 0.9521 - val_loss: 0.8133 - val_accuracy: 0.7333\n",
            "Epoch 79/500\n",
            "480/480 [==============================] - 2s 4ms/step - loss: 0.1291 - accuracy: 0.9479 - val_loss: 0.6821 - val_accuracy: 0.7417\n",
            "Epoch 80/500\n",
            "480/480 [==============================] - 2s 3ms/step - loss: 0.1393 - accuracy: 0.9563 - val_loss: 0.8553 - val_accuracy: 0.7333\n",
            "Epoch 81/500\n",
            "480/480 [==============================] - 2s 3ms/step - loss: 0.1296 - accuracy: 0.9500 - val_loss: 0.8329 - val_accuracy: 0.6833\n",
            "Epoch 82/500\n",
            "480/480 [==============================] - 2s 3ms/step - loss: 0.0941 - accuracy: 0.9708 - val_loss: 0.5016 - val_accuracy: 0.8250\n",
            "Epoch 83/500\n",
            "480/480 [==============================] - 2s 3ms/step - loss: 0.1250 - accuracy: 0.9500 - val_loss: 0.6628 - val_accuracy: 0.7750\n",
            "Epoch 84/500\n",
            "480/480 [==============================] - 2s 3ms/step - loss: 0.1110 - accuracy: 0.9542 - val_loss: 0.5608 - val_accuracy: 0.7917\n",
            "Epoch 85/500\n",
            "480/480 [==============================] - 2s 3ms/step - loss: 0.1232 - accuracy: 0.9479 - val_loss: 0.5060 - val_accuracy: 0.7917\n",
            "Epoch 86/500\n",
            "480/480 [==============================] - 2s 3ms/step - loss: 0.1338 - accuracy: 0.9458 - val_loss: 0.4647 - val_accuracy: 0.8417\n",
            "Epoch 87/500\n",
            "480/480 [==============================] - 2s 3ms/step - loss: 0.1290 - accuracy: 0.9438 - val_loss: 0.4481 - val_accuracy: 0.8250\n",
            "Epoch 88/500\n",
            "480/480 [==============================] - 2s 4ms/step - loss: 0.1111 - accuracy: 0.9500 - val_loss: 0.4420 - val_accuracy: 0.8333\n",
            "Epoch 89/500\n",
            "480/480 [==============================] - 2s 3ms/step - loss: 0.1264 - accuracy: 0.9521 - val_loss: 0.4859 - val_accuracy: 0.8000\n",
            "Epoch 90/500\n",
            "480/480 [==============================] - 2s 4ms/step - loss: 0.1514 - accuracy: 0.9396 - val_loss: 0.5207 - val_accuracy: 0.8250\n",
            "Epoch 91/500\n",
            "480/480 [==============================] - 2s 3ms/step - loss: 0.1121 - accuracy: 0.9604 - val_loss: 0.5496 - val_accuracy: 0.7667\n",
            "Epoch 92/500\n",
            "480/480 [==============================] - 2s 4ms/step - loss: 0.1197 - accuracy: 0.9479 - val_loss: 0.6610 - val_accuracy: 0.7333\n",
            "Epoch 93/500\n",
            "480/480 [==============================] - 2s 3ms/step - loss: 0.1059 - accuracy: 0.9667 - val_loss: 0.4472 - val_accuracy: 0.8417\n",
            "Epoch 94/500\n",
            "480/480 [==============================] - 2s 3ms/step - loss: 0.1363 - accuracy: 0.9396 - val_loss: 0.5596 - val_accuracy: 0.8250\n",
            "Epoch 95/500\n",
            "480/480 [==============================] - 2s 3ms/step - loss: 0.0994 - accuracy: 0.9750 - val_loss: 0.6347 - val_accuracy: 0.8167\n",
            "Epoch 96/500\n",
            "480/480 [==============================] - 2s 3ms/step - loss: 0.1635 - accuracy: 0.9229 - val_loss: 0.6590 - val_accuracy: 0.7667\n",
            "Epoch 97/500\n",
            "480/480 [==============================] - 2s 4ms/step - loss: 0.1203 - accuracy: 0.9521 - val_loss: 0.4665 - val_accuracy: 0.8250\n",
            "Epoch 98/500\n",
            "480/480 [==============================] - 2s 3ms/step - loss: 0.1140 - accuracy: 0.9604 - val_loss: 0.4746 - val_accuracy: 0.8417\n",
            "Epoch 99/500\n",
            "480/480 [==============================] - 2s 3ms/step - loss: 0.1099 - accuracy: 0.9646 - val_loss: 0.5087 - val_accuracy: 0.7833\n",
            "Epoch 100/500\n",
            "480/480 [==============================] - 2s 3ms/step - loss: 0.1230 - accuracy: 0.9417 - val_loss: 0.5837 - val_accuracy: 0.7917\n",
            "Epoch 101/500\n",
            "480/480 [==============================] - 2s 4ms/step - loss: 0.1073 - accuracy: 0.9479 - val_loss: 0.7159 - val_accuracy: 0.7750\n",
            "Epoch 102/500\n",
            "480/480 [==============================] - 2s 3ms/step - loss: 0.0972 - accuracy: 0.9500 - val_loss: 1.0674 - val_accuracy: 0.7083\n",
            "Epoch 103/500\n",
            "480/480 [==============================] - 2s 3ms/step - loss: 0.0992 - accuracy: 0.9646 - val_loss: 0.7219 - val_accuracy: 0.7500\n",
            "Epoch 104/500\n",
            "480/480 [==============================] - 2s 3ms/step - loss: 0.1088 - accuracy: 0.9563 - val_loss: 0.5176 - val_accuracy: 0.8167\n",
            "Epoch 105/500\n",
            "480/480 [==============================] - 2s 3ms/step - loss: 0.0903 - accuracy: 0.9604 - val_loss: 0.5374 - val_accuracy: 0.7917\n",
            "Epoch 106/500\n",
            "480/480 [==============================] - 2s 3ms/step - loss: 0.0877 - accuracy: 0.9667 - val_loss: 0.5132 - val_accuracy: 0.7750\n",
            "Epoch 107/500\n",
            "480/480 [==============================] - 2s 3ms/step - loss: 0.0996 - accuracy: 0.9500 - val_loss: 0.6486 - val_accuracy: 0.7417\n",
            "Epoch 108/500\n",
            "480/480 [==============================] - 2s 3ms/step - loss: 0.0892 - accuracy: 0.9563 - val_loss: 0.6036 - val_accuracy: 0.8083\n",
            "Epoch 109/500\n",
            "480/480 [==============================] - 2s 3ms/step - loss: 0.0923 - accuracy: 0.9583 - val_loss: 0.6209 - val_accuracy: 0.7833\n",
            "Epoch 110/500\n",
            "480/480 [==============================] - 2s 3ms/step - loss: 0.0744 - accuracy: 0.9729 - val_loss: 0.6529 - val_accuracy: 0.7500\n",
            "Epoch 111/500\n",
            "480/480 [==============================] - 2s 4ms/step - loss: 0.0735 - accuracy: 0.9750 - val_loss: 0.4343 - val_accuracy: 0.8500\n",
            "Epoch 112/500\n",
            "480/480 [==============================] - 2s 3ms/step - loss: 0.0950 - accuracy: 0.9625 - val_loss: 0.4623 - val_accuracy: 0.8250\n",
            "Epoch 113/500\n",
            "480/480 [==============================] - 2s 3ms/step - loss: 0.1017 - accuracy: 0.9604 - val_loss: 0.5066 - val_accuracy: 0.8083\n",
            "Epoch 114/500\n",
            "480/480 [==============================] - 2s 3ms/step - loss: 0.1264 - accuracy: 0.9292 - val_loss: 0.4129 - val_accuracy: 0.8417\n",
            "Epoch 115/500\n",
            "480/480 [==============================] - 2s 3ms/step - loss: 0.0870 - accuracy: 0.9708 - val_loss: 0.5923 - val_accuracy: 0.7750\n",
            "Epoch 116/500\n",
            "480/480 [==============================] - 2s 3ms/step - loss: 0.1016 - accuracy: 0.9479 - val_loss: 0.5369 - val_accuracy: 0.8333\n",
            "Epoch 117/500\n",
            "480/480 [==============================] - 2s 4ms/step - loss: 0.1014 - accuracy: 0.9583 - val_loss: 0.7402 - val_accuracy: 0.7583\n",
            "Epoch 118/500\n",
            "480/480 [==============================] - 2s 3ms/step - loss: 0.0836 - accuracy: 0.9604 - val_loss: 0.5146 - val_accuracy: 0.8083\n",
            "Epoch 119/500\n",
            "480/480 [==============================] - 2s 3ms/step - loss: 0.0810 - accuracy: 0.9563 - val_loss: 0.4500 - val_accuracy: 0.8333\n",
            "Epoch 120/500\n",
            "480/480 [==============================] - 2s 3ms/step - loss: 0.1128 - accuracy: 0.9375 - val_loss: 0.6453 - val_accuracy: 0.7667\n",
            "Epoch 121/500\n",
            "480/480 [==============================] - 2s 3ms/step - loss: 0.0878 - accuracy: 0.9521 - val_loss: 0.5229 - val_accuracy: 0.8083\n",
            "Epoch 122/500\n",
            "480/480 [==============================] - 2s 3ms/step - loss: 0.0729 - accuracy: 0.9708 - val_loss: 0.4468 - val_accuracy: 0.8250\n",
            "Epoch 123/500\n",
            "480/480 [==============================] - 2s 3ms/step - loss: 0.0823 - accuracy: 0.9667 - val_loss: 0.9270 - val_accuracy: 0.7583\n",
            "Epoch 124/500\n",
            "480/480 [==============================] - 2s 3ms/step - loss: 0.0969 - accuracy: 0.9542 - val_loss: 0.6893 - val_accuracy: 0.7917\n",
            "Epoch 125/500\n",
            "480/480 [==============================] - 2s 3ms/step - loss: 0.0799 - accuracy: 0.9583 - val_loss: 0.5293 - val_accuracy: 0.7917\n",
            "Epoch 126/500\n",
            "480/480 [==============================] - 2s 3ms/step - loss: 0.1066 - accuracy: 0.9479 - val_loss: 0.4455 - val_accuracy: 0.8333\n",
            "Epoch 127/500\n",
            "480/480 [==============================] - 2s 3ms/step - loss: 0.0901 - accuracy: 0.9604 - val_loss: 0.8965 - val_accuracy: 0.7333\n",
            "Epoch 128/500\n",
            "480/480 [==============================] - 2s 3ms/step - loss: 0.0798 - accuracy: 0.9667 - val_loss: 0.4315 - val_accuracy: 0.8333\n",
            "Epoch 129/500\n",
            "480/480 [==============================] - 2s 3ms/step - loss: 0.0929 - accuracy: 0.9625 - val_loss: 0.4000 - val_accuracy: 0.8583\n",
            "Epoch 130/500\n",
            "480/480 [==============================] - 2s 3ms/step - loss: 0.0807 - accuracy: 0.9625 - val_loss: 0.9811 - val_accuracy: 0.7083\n",
            "Epoch 131/500\n",
            "480/480 [==============================] - 2s 3ms/step - loss: 0.0858 - accuracy: 0.9604 - val_loss: 0.5388 - val_accuracy: 0.7833\n",
            "Epoch 132/500\n",
            "480/480 [==============================] - 2s 3ms/step - loss: 0.0770 - accuracy: 0.9646 - val_loss: 0.6597 - val_accuracy: 0.7917\n",
            "Epoch 133/500\n",
            "480/480 [==============================] - 2s 3ms/step - loss: 0.0645 - accuracy: 0.9771 - val_loss: 0.5009 - val_accuracy: 0.8250\n",
            "Epoch 134/500\n",
            "480/480 [==============================] - 2s 3ms/step - loss: 0.0878 - accuracy: 0.9625 - val_loss: 0.3876 - val_accuracy: 0.8500\n",
            "Epoch 135/500\n",
            "480/480 [==============================] - 2s 3ms/step - loss: 0.0887 - accuracy: 0.9542 - val_loss: 0.8288 - val_accuracy: 0.7417\n",
            "Epoch 136/500\n",
            "480/480 [==============================] - 2s 3ms/step - loss: 0.0855 - accuracy: 0.9583 - val_loss: 0.5207 - val_accuracy: 0.8750\n",
            "Epoch 137/500\n",
            "480/480 [==============================] - 2s 3ms/step - loss: 0.0712 - accuracy: 0.9563 - val_loss: 0.7037 - val_accuracy: 0.7583\n",
            "Epoch 138/500\n",
            "480/480 [==============================] - 2s 3ms/step - loss: 0.0896 - accuracy: 0.9542 - val_loss: 0.6714 - val_accuracy: 0.7750\n",
            "Epoch 139/500\n",
            "480/480 [==============================] - 2s 3ms/step - loss: 0.0980 - accuracy: 0.9479 - val_loss: 0.5281 - val_accuracy: 0.8000\n",
            "Epoch 140/500\n",
            "480/480 [==============================] - 2s 4ms/step - loss: 0.0604 - accuracy: 0.9771 - val_loss: 0.5700 - val_accuracy: 0.8167\n",
            "Epoch 141/500\n",
            "480/480 [==============================] - 2s 3ms/step - loss: 0.0893 - accuracy: 0.9479 - val_loss: 0.4659 - val_accuracy: 0.8500\n",
            "Epoch 142/500\n",
            "480/480 [==============================] - 2s 3ms/step - loss: 0.0640 - accuracy: 0.9646 - val_loss: 0.8096 - val_accuracy: 0.7417\n",
            "Epoch 143/500\n",
            "480/480 [==============================] - 2s 4ms/step - loss: 0.0834 - accuracy: 0.9583 - val_loss: 0.4996 - val_accuracy: 0.8500\n",
            "Epoch 144/500\n",
            "480/480 [==============================] - 2s 4ms/step - loss: 0.0834 - accuracy: 0.9542 - val_loss: 0.7486 - val_accuracy: 0.8083\n",
            "Epoch 145/500\n",
            "480/480 [==============================] - 2s 3ms/step - loss: 0.0822 - accuracy: 0.9667 - val_loss: 0.5922 - val_accuracy: 0.8250\n",
            "Epoch 146/500\n",
            "480/480 [==============================] - 2s 3ms/step - loss: 0.0799 - accuracy: 0.9688 - val_loss: 0.4776 - val_accuracy: 0.8333\n",
            "Epoch 147/500\n",
            "480/480 [==============================] - 2s 4ms/step - loss: 0.0750 - accuracy: 0.9604 - val_loss: 0.6715 - val_accuracy: 0.8083\n",
            "Epoch 148/500\n",
            "480/480 [==============================] - 2s 3ms/step - loss: 0.0924 - accuracy: 0.9542 - val_loss: 0.8057 - val_accuracy: 0.7333\n",
            "Epoch 149/500\n",
            "480/480 [==============================] - 2s 3ms/step - loss: 0.0633 - accuracy: 0.9729 - val_loss: 0.5057 - val_accuracy: 0.8167\n",
            "Epoch 150/500\n",
            "480/480 [==============================] - 2s 3ms/step - loss: 0.0756 - accuracy: 0.9604 - val_loss: 0.7370 - val_accuracy: 0.7833\n",
            "Epoch 151/500\n",
            "480/480 [==============================] - 2s 3ms/step - loss: 0.0836 - accuracy: 0.9625 - val_loss: 0.6304 - val_accuracy: 0.8083\n",
            "Epoch 152/500\n",
            "480/480 [==============================] - 2s 3ms/step - loss: 0.0733 - accuracy: 0.9625 - val_loss: 0.4505 - val_accuracy: 0.8417\n",
            "Epoch 153/500\n",
            "480/480 [==============================] - 2s 3ms/step - loss: 0.0750 - accuracy: 0.9583 - val_loss: 0.4389 - val_accuracy: 0.8417\n",
            "Epoch 154/500\n",
            "480/480 [==============================] - 2s 3ms/step - loss: 0.0637 - accuracy: 0.9646 - val_loss: 0.7018 - val_accuracy: 0.7583\n",
            "Epoch 155/500\n",
            "480/480 [==============================] - 2s 3ms/step - loss: 0.1071 - accuracy: 0.9396 - val_loss: 0.7684 - val_accuracy: 0.7500\n",
            "Epoch 156/500\n",
            "480/480 [==============================] - 2s 3ms/step - loss: 0.0938 - accuracy: 0.9521 - val_loss: 0.8504 - val_accuracy: 0.7583\n",
            "Epoch 157/500\n",
            "480/480 [==============================] - 2s 3ms/step - loss: 0.0958 - accuracy: 0.9604 - val_loss: 1.1457 - val_accuracy: 0.6750\n",
            "Epoch 158/500\n",
            "480/480 [==============================] - 2s 3ms/step - loss: 0.1028 - accuracy: 0.9458 - val_loss: 0.6818 - val_accuracy: 0.7667\n",
            "Epoch 159/500\n",
            "480/480 [==============================] - 2s 3ms/step - loss: 0.1026 - accuracy: 0.9521 - val_loss: 0.7506 - val_accuracy: 0.7333\n",
            "Epoch 160/500\n",
            "480/480 [==============================] - 2s 3ms/step - loss: 0.0974 - accuracy: 0.9583 - val_loss: 0.7356 - val_accuracy: 0.7583\n",
            "Epoch 161/500\n",
            "480/480 [==============================] - 2s 3ms/step - loss: 0.0869 - accuracy: 0.9667 - val_loss: 0.6714 - val_accuracy: 0.8417\n",
            "Epoch 162/500\n",
            "480/480 [==============================] - 2s 3ms/step - loss: 0.0679 - accuracy: 0.9625 - val_loss: 0.5822 - val_accuracy: 0.8000\n",
            "Epoch 163/500\n",
            "480/480 [==============================] - 2s 3ms/step - loss: 0.0563 - accuracy: 0.9729 - val_loss: 0.6775 - val_accuracy: 0.7833\n",
            "Epoch 164/500\n",
            "480/480 [==============================] - 2s 3ms/step - loss: 0.0936 - accuracy: 0.9458 - val_loss: 0.5766 - val_accuracy: 0.8000\n",
            "Epoch 165/500\n",
            "480/480 [==============================] - 2s 3ms/step - loss: 0.0904 - accuracy: 0.9542 - val_loss: 0.6183 - val_accuracy: 0.8250\n",
            "Epoch 166/500\n",
            "480/480 [==============================] - 2s 3ms/step - loss: 0.0815 - accuracy: 0.9563 - val_loss: 0.6831 - val_accuracy: 0.7917\n",
            "Epoch 167/500\n",
            "480/480 [==============================] - 2s 4ms/step - loss: 0.1087 - accuracy: 0.9271 - val_loss: 0.8788 - val_accuracy: 0.7583\n",
            "Epoch 168/500\n",
            "480/480 [==============================] - 2s 4ms/step - loss: 0.0786 - accuracy: 0.9625 - val_loss: 0.4852 - val_accuracy: 0.8417\n",
            "Epoch 169/500\n",
            "480/480 [==============================] - 2s 3ms/step - loss: 0.0809 - accuracy: 0.9583 - val_loss: 0.4472 - val_accuracy: 0.8583\n",
            "Epoch 170/500\n",
            "480/480 [==============================] - 2s 3ms/step - loss: 0.0794 - accuracy: 0.9583 - val_loss: 0.5993 - val_accuracy: 0.8333\n",
            "Epoch 171/500\n",
            "480/480 [==============================] - 2s 3ms/step - loss: 0.0736 - accuracy: 0.9563 - val_loss: 0.5454 - val_accuracy: 0.8083\n",
            "Epoch 172/500\n",
            "480/480 [==============================] - 2s 3ms/step - loss: 0.0610 - accuracy: 0.9688 - val_loss: 0.6175 - val_accuracy: 0.8083\n",
            "Epoch 173/500\n",
            "480/480 [==============================] - 2s 3ms/step - loss: 0.0629 - accuracy: 0.9708 - val_loss: 0.7852 - val_accuracy: 0.7583\n",
            "Epoch 174/500\n",
            "480/480 [==============================] - 2s 3ms/step - loss: 0.0633 - accuracy: 0.9646 - val_loss: 0.6466 - val_accuracy: 0.8083\n",
            "Epoch 175/500\n",
            "480/480 [==============================] - 2s 3ms/step - loss: 0.0745 - accuracy: 0.9583 - val_loss: 0.4939 - val_accuracy: 0.8667\n",
            "Epoch 176/500\n",
            "480/480 [==============================] - 2s 3ms/step - loss: 0.0693 - accuracy: 0.9583 - val_loss: 0.5850 - val_accuracy: 0.8417\n",
            "Epoch 177/500\n",
            "480/480 [==============================] - 2s 3ms/step - loss: 0.0741 - accuracy: 0.9604 - val_loss: 0.5847 - val_accuracy: 0.8083\n",
            "Epoch 178/500\n",
            "480/480 [==============================] - 2s 3ms/step - loss: 0.0836 - accuracy: 0.9563 - val_loss: 1.0747 - val_accuracy: 0.7333\n",
            "Epoch 179/500\n",
            "480/480 [==============================] - 2s 3ms/step - loss: 0.0878 - accuracy: 0.9542 - val_loss: 0.6933 - val_accuracy: 0.8083\n",
            "Epoch 180/500\n",
            "480/480 [==============================] - 2s 3ms/step - loss: 0.0665 - accuracy: 0.9625 - val_loss: 0.7073 - val_accuracy: 0.8333\n",
            "Epoch 181/500\n",
            "480/480 [==============================] - 2s 3ms/step - loss: 0.0740 - accuracy: 0.9625 - val_loss: 0.6532 - val_accuracy: 0.8000\n",
            "Epoch 182/500\n",
            "480/480 [==============================] - 2s 3ms/step - loss: 0.1027 - accuracy: 0.9458 - val_loss: 0.8008 - val_accuracy: 0.7917\n",
            "Epoch 183/500\n",
            "480/480 [==============================] - 2s 3ms/step - loss: 0.0809 - accuracy: 0.9583 - val_loss: 0.6482 - val_accuracy: 0.8250\n",
            "Epoch 184/500\n",
            "480/480 [==============================] - 2s 4ms/step - loss: 0.0659 - accuracy: 0.9688 - val_loss: 1.0357 - val_accuracy: 0.7083\n",
            "Epoch 185/500\n",
            "480/480 [==============================] - 2s 3ms/step - loss: 0.0703 - accuracy: 0.9604 - val_loss: 0.8741 - val_accuracy: 0.7833\n",
            "Epoch 186/500\n",
            "480/480 [==============================] - 2s 3ms/step - loss: 0.0728 - accuracy: 0.9583 - val_loss: 0.7084 - val_accuracy: 0.8083\n",
            "Epoch 187/500\n",
            "480/480 [==============================] - 2s 3ms/step - loss: 0.0649 - accuracy: 0.9688 - val_loss: 0.5045 - val_accuracy: 0.8167\n",
            "Epoch 188/500\n",
            "480/480 [==============================] - 2s 3ms/step - loss: 0.0797 - accuracy: 0.9563 - val_loss: 0.6969 - val_accuracy: 0.7667\n",
            "Epoch 189/500\n",
            "480/480 [==============================] - 2s 4ms/step - loss: 0.0935 - accuracy: 0.9500 - val_loss: 0.9464 - val_accuracy: 0.7750\n",
            "Epoch 190/500\n",
            "480/480 [==============================] - 2s 3ms/step - loss: 0.0869 - accuracy: 0.9479 - val_loss: 0.7932 - val_accuracy: 0.7750\n",
            "Epoch 191/500\n",
            "480/480 [==============================] - 2s 3ms/step - loss: 0.0811 - accuracy: 0.9563 - val_loss: 0.6422 - val_accuracy: 0.8417\n",
            "Epoch 192/500\n",
            "480/480 [==============================] - 2s 3ms/step - loss: 0.0695 - accuracy: 0.9563 - val_loss: 0.7037 - val_accuracy: 0.8333\n",
            "Epoch 193/500\n",
            "480/480 [==============================] - 2s 3ms/step - loss: 0.0647 - accuracy: 0.9729 - val_loss: 0.9865 - val_accuracy: 0.7333\n",
            "Epoch 194/500\n",
            "480/480 [==============================] - 2s 3ms/step - loss: 0.0655 - accuracy: 0.9604 - val_loss: 0.7858 - val_accuracy: 0.8083\n",
            "Epoch 195/500\n",
            "480/480 [==============================] - 2s 3ms/step - loss: 0.0576 - accuracy: 0.9750 - val_loss: 0.7039 - val_accuracy: 0.7917\n",
            "Epoch 196/500\n",
            "480/480 [==============================] - 2s 3ms/step - loss: 0.0674 - accuracy: 0.9604 - val_loss: 0.8221 - val_accuracy: 0.7750\n",
            "Epoch 197/500\n",
            "480/480 [==============================] - 2s 3ms/step - loss: 0.0650 - accuracy: 0.9604 - val_loss: 0.5616 - val_accuracy: 0.8417\n",
            "Epoch 198/500\n",
            "480/480 [==============================] - 2s 4ms/step - loss: 0.0668 - accuracy: 0.9604 - val_loss: 0.5375 - val_accuracy: 0.8583\n",
            "Epoch 199/500\n",
            "480/480 [==============================] - 2s 4ms/step - loss: 0.0672 - accuracy: 0.9604 - val_loss: 1.0375 - val_accuracy: 0.7250\n",
            "Epoch 200/500\n",
            "480/480 [==============================] - 2s 3ms/step - loss: 0.0712 - accuracy: 0.9563 - val_loss: 0.5626 - val_accuracy: 0.8500\n",
            "Epoch 201/500\n",
            "480/480 [==============================] - 2s 3ms/step - loss: 0.0812 - accuracy: 0.9521 - val_loss: 0.4805 - val_accuracy: 0.8667\n",
            "Epoch 202/500\n",
            "480/480 [==============================] - 2s 3ms/step - loss: 0.0632 - accuracy: 0.9667 - val_loss: 0.5675 - val_accuracy: 0.8333\n",
            "Epoch 203/500\n",
            "480/480 [==============================] - 2s 3ms/step - loss: 0.0656 - accuracy: 0.9604 - val_loss: 0.5373 - val_accuracy: 0.8500\n",
            "Epoch 204/500\n",
            "480/480 [==============================] - 2s 3ms/step - loss: 0.0615 - accuracy: 0.9646 - val_loss: 0.5352 - val_accuracy: 0.8167\n",
            "Epoch 205/500\n",
            "480/480 [==============================] - 2s 3ms/step - loss: 0.0730 - accuracy: 0.9583 - val_loss: 0.6853 - val_accuracy: 0.7750\n",
            "Epoch 206/500\n",
            "480/480 [==============================] - 2s 3ms/step - loss: 0.0549 - accuracy: 0.9729 - val_loss: 0.7435 - val_accuracy: 0.7583\n",
            "Epoch 207/500\n",
            "480/480 [==============================] - 2s 3ms/step - loss: 0.0534 - accuracy: 0.9833 - val_loss: 0.5165 - val_accuracy: 0.8417\n",
            "Epoch 208/500\n",
            "480/480 [==============================] - 2s 3ms/step - loss: 0.0649 - accuracy: 0.9646 - val_loss: 0.6339 - val_accuracy: 0.8000\n",
            "Epoch 209/500\n",
            "480/480 [==============================] - 2s 3ms/step - loss: 0.0957 - accuracy: 0.9417 - val_loss: 0.5156 - val_accuracy: 0.8417\n",
            "Epoch 210/500\n",
            "480/480 [==============================] - 2s 3ms/step - loss: 0.0728 - accuracy: 0.9583 - val_loss: 0.7502 - val_accuracy: 0.7917\n",
            "Epoch 211/500\n",
            "480/480 [==============================] - 2s 3ms/step - loss: 0.0732 - accuracy: 0.9625 - val_loss: 0.6350 - val_accuracy: 0.8333\n",
            "Epoch 212/500\n",
            "480/480 [==============================] - 2s 4ms/step - loss: 0.0784 - accuracy: 0.9563 - val_loss: 0.6470 - val_accuracy: 0.8333\n",
            "Epoch 213/500\n",
            "480/480 [==============================] - 2s 4ms/step - loss: 0.0688 - accuracy: 0.9646 - val_loss: 0.5806 - val_accuracy: 0.8250\n",
            "Epoch 214/500\n",
            "480/480 [==============================] - 2s 4ms/step - loss: 0.0653 - accuracy: 0.9646 - val_loss: 0.8188 - val_accuracy: 0.7667\n",
            "Epoch 215/500\n",
            "480/480 [==============================] - 2s 3ms/step - loss: 0.0776 - accuracy: 0.9625 - val_loss: 0.6598 - val_accuracy: 0.7667\n",
            "Epoch 216/500\n",
            "480/480 [==============================] - 2s 3ms/step - loss: 0.0886 - accuracy: 0.9542 - val_loss: 1.3282 - val_accuracy: 0.7167\n",
            "Epoch 217/500\n",
            "480/480 [==============================] - 2s 3ms/step - loss: 0.1182 - accuracy: 0.9521 - val_loss: 1.0876 - val_accuracy: 0.7417\n",
            "Epoch 218/500\n",
            "480/480 [==============================] - 2s 4ms/step - loss: 0.1911 - accuracy: 0.9146 - val_loss: 0.7434 - val_accuracy: 0.7833\n",
            "Epoch 219/500\n",
            "480/480 [==============================] - 2s 4ms/step - loss: 0.2988 - accuracy: 0.8813 - val_loss: 1.0452 - val_accuracy: 0.7500\n",
            "Epoch 220/500\n",
            "480/480 [==============================] - 2s 3ms/step - loss: 0.1389 - accuracy: 0.9333 - val_loss: 0.7762 - val_accuracy: 0.7833\n",
            "Epoch 221/500\n",
            "480/480 [==============================] - 2s 3ms/step - loss: 0.1396 - accuracy: 0.9312 - val_loss: 0.7151 - val_accuracy: 0.8083\n",
            "Epoch 222/500\n",
            "480/480 [==============================] - 2s 3ms/step - loss: 0.1055 - accuracy: 0.9458 - val_loss: 0.9187 - val_accuracy: 0.8167\n",
            "Epoch 223/500\n",
            "480/480 [==============================] - 2s 4ms/step - loss: 0.1034 - accuracy: 0.9604 - val_loss: 0.5877 - val_accuracy: 0.8500\n",
            "Epoch 224/500\n",
            "480/480 [==============================] - 2s 3ms/step - loss: 0.0900 - accuracy: 0.9438 - val_loss: 0.6201 - val_accuracy: 0.8333\n",
            "Epoch 225/500\n",
            "480/480 [==============================] - 2s 3ms/step - loss: 0.1025 - accuracy: 0.9500 - val_loss: 1.4365 - val_accuracy: 0.6833\n",
            "Epoch 226/500\n",
            "480/480 [==============================] - 2s 4ms/step - loss: 0.1639 - accuracy: 0.9333 - val_loss: 1.8152 - val_accuracy: 0.7083\n",
            "Epoch 227/500\n",
            "480/480 [==============================] - 2s 3ms/step - loss: 0.1513 - accuracy: 0.9187 - val_loss: 0.8360 - val_accuracy: 0.8250\n",
            "Epoch 228/500\n",
            "480/480 [==============================] - 2s 3ms/step - loss: 0.0985 - accuracy: 0.9563 - val_loss: 2.2881 - val_accuracy: 0.6667\n",
            "Epoch 229/500\n",
            "480/480 [==============================] - 2s 3ms/step - loss: 0.1080 - accuracy: 0.9396 - val_loss: 0.7469 - val_accuracy: 0.7667\n",
            "Epoch 230/500\n",
            "480/480 [==============================] - 2s 3ms/step - loss: 0.0798 - accuracy: 0.9583 - val_loss: 0.5127 - val_accuracy: 0.8333\n",
            "Epoch 231/500\n",
            "480/480 [==============================] - 2s 3ms/step - loss: 0.0558 - accuracy: 0.9771 - val_loss: 0.6010 - val_accuracy: 0.7917\n",
            "Epoch 232/500\n",
            "480/480 [==============================] - 2s 3ms/step - loss: 0.0620 - accuracy: 0.9667 - val_loss: 0.5456 - val_accuracy: 0.8333\n",
            "Epoch 233/500\n",
            "480/480 [==============================] - 2s 3ms/step - loss: 0.0916 - accuracy: 0.9479 - val_loss: 0.5378 - val_accuracy: 0.8167\n",
            "Epoch 234/500\n",
            "480/480 [==============================] - 2s 3ms/step - loss: 0.0660 - accuracy: 0.9646 - val_loss: 0.5688 - val_accuracy: 0.8083\n",
            "Epoch 235/500\n",
            "480/480 [==============================] - 2s 3ms/step - loss: 0.0954 - accuracy: 0.9354 - val_loss: 0.5100 - val_accuracy: 0.8333\n",
            "Epoch 236/500\n",
            "480/480 [==============================] - 2s 3ms/step - loss: 0.0677 - accuracy: 0.9646 - val_loss: 0.5178 - val_accuracy: 0.8333\n",
            "Epoch 237/500\n",
            "480/480 [==============================] - 2s 3ms/step - loss: 0.0572 - accuracy: 0.9729 - val_loss: 0.4895 - val_accuracy: 0.8083\n",
            "Epoch 238/500\n",
            "480/480 [==============================] - 2s 3ms/step - loss: 0.0566 - accuracy: 0.9604 - val_loss: 0.5741 - val_accuracy: 0.8083\n",
            "Epoch 239/500\n",
            "480/480 [==============================] - 2s 3ms/step - loss: 0.0480 - accuracy: 0.9729 - val_loss: 0.6041 - val_accuracy: 0.8167\n",
            "Epoch 240/500\n",
            "480/480 [==============================] - 2s 4ms/step - loss: 0.0704 - accuracy: 0.9625 - val_loss: 0.4795 - val_accuracy: 0.8667\n",
            "Epoch 241/500\n",
            "480/480 [==============================] - 2s 3ms/step - loss: 0.0479 - accuracy: 0.9708 - val_loss: 0.5755 - val_accuracy: 0.8000\n",
            "Epoch 242/500\n",
            "480/480 [==============================] - 2s 3ms/step - loss: 0.0701 - accuracy: 0.9625 - val_loss: 0.7004 - val_accuracy: 0.8083\n",
            "Epoch 243/500\n",
            "480/480 [==============================] - 2s 4ms/step - loss: 0.0679 - accuracy: 0.9479 - val_loss: 0.4181 - val_accuracy: 0.8333\n",
            "Epoch 244/500\n",
            "480/480 [==============================] - 2s 3ms/step - loss: 0.0645 - accuracy: 0.9604 - val_loss: 0.5734 - val_accuracy: 0.8167\n",
            "Epoch 245/500\n",
            "480/480 [==============================] - 2s 3ms/step - loss: 0.0654 - accuracy: 0.9604 - val_loss: 0.6252 - val_accuracy: 0.8083\n",
            "Epoch 246/500\n",
            "480/480 [==============================] - 2s 3ms/step - loss: 0.0641 - accuracy: 0.9583 - val_loss: 0.6171 - val_accuracy: 0.8083\n",
            "Epoch 247/500\n",
            "480/480 [==============================] - 2s 3ms/step - loss: 0.0722 - accuracy: 0.9583 - val_loss: 0.6439 - val_accuracy: 0.8000\n",
            "Epoch 248/500\n",
            "480/480 [==============================] - 2s 4ms/step - loss: 0.0692 - accuracy: 0.9563 - val_loss: 0.5208 - val_accuracy: 0.8167\n",
            "Epoch 249/500\n",
            "480/480 [==============================] - 2s 3ms/step - loss: 0.0630 - accuracy: 0.9625 - val_loss: 0.5959 - val_accuracy: 0.8000\n",
            "Epoch 250/500\n",
            "480/480 [==============================] - 2s 3ms/step - loss: 0.0590 - accuracy: 0.9604 - val_loss: 1.1460 - val_accuracy: 0.7250\n",
            "Epoch 251/500\n",
            "480/480 [==============================] - 2s 3ms/step - loss: 0.0701 - accuracy: 0.9521 - val_loss: 0.5361 - val_accuracy: 0.7917\n",
            "Epoch 252/500\n",
            "480/480 [==============================] - 2s 4ms/step - loss: 0.0465 - accuracy: 0.9708 - val_loss: 0.8794 - val_accuracy: 0.7583\n",
            "Epoch 253/500\n",
            "480/480 [==============================] - 2s 4ms/step - loss: 0.0646 - accuracy: 0.9646 - val_loss: 0.5651 - val_accuracy: 0.8250\n",
            "Epoch 254/500\n",
            "480/480 [==============================] - 2s 3ms/step - loss: 0.0563 - accuracy: 0.9646 - val_loss: 0.6944 - val_accuracy: 0.8083\n",
            "Epoch 255/500\n",
            "480/480 [==============================] - 2s 4ms/step - loss: 0.0842 - accuracy: 0.9458 - val_loss: 0.7929 - val_accuracy: 0.7667\n",
            "Epoch 256/500\n",
            "480/480 [==============================] - 2s 3ms/step - loss: 0.0498 - accuracy: 0.9708 - val_loss: 0.5158 - val_accuracy: 0.8167\n",
            "Epoch 257/500\n",
            "480/480 [==============================] - 2s 3ms/step - loss: 0.0341 - accuracy: 0.9812 - val_loss: 0.5863 - val_accuracy: 0.8083\n",
            "Epoch 258/500\n",
            "480/480 [==============================] - 2s 3ms/step - loss: 0.0680 - accuracy: 0.9604 - val_loss: 0.4980 - val_accuracy: 0.8250\n",
            "Epoch 259/500\n",
            "480/480 [==============================] - 2s 3ms/step - loss: 0.0561 - accuracy: 0.9646 - val_loss: 0.5245 - val_accuracy: 0.8417\n",
            "Epoch 260/500\n",
            "480/480 [==============================] - 2s 3ms/step - loss: 0.0482 - accuracy: 0.9750 - val_loss: 0.4363 - val_accuracy: 0.8250\n",
            "Epoch 261/500\n",
            "480/480 [==============================] - 2s 3ms/step - loss: 0.0509 - accuracy: 0.9708 - val_loss: 0.4822 - val_accuracy: 0.8333\n",
            "Epoch 262/500\n",
            "480/480 [==============================] - 2s 3ms/step - loss: 0.0636 - accuracy: 0.9646 - val_loss: 0.6399 - val_accuracy: 0.8083\n",
            "Epoch 263/500\n",
            "480/480 [==============================] - 2s 3ms/step - loss: 0.0364 - accuracy: 0.9833 - val_loss: 0.5102 - val_accuracy: 0.8417\n",
            "Epoch 264/500\n",
            "480/480 [==============================] - 2s 3ms/step - loss: 0.0690 - accuracy: 0.9521 - val_loss: 0.5716 - val_accuracy: 0.8333\n",
            "Epoch 265/500\n",
            "480/480 [==============================] - 2s 3ms/step - loss: 0.0677 - accuracy: 0.9604 - val_loss: 0.7034 - val_accuracy: 0.7750\n",
            "Epoch 266/500\n",
            "480/480 [==============================] - 2s 3ms/step - loss: 0.0602 - accuracy: 0.9646 - val_loss: 0.5652 - val_accuracy: 0.8083\n",
            "Epoch 267/500\n",
            "480/480 [==============================] - 2s 3ms/step - loss: 0.0614 - accuracy: 0.9604 - val_loss: 0.6845 - val_accuracy: 0.7833\n",
            "Epoch 268/500\n",
            "480/480 [==============================] - 2s 4ms/step - loss: 0.0730 - accuracy: 0.9625 - val_loss: 0.7804 - val_accuracy: 0.7917\n",
            "Epoch 269/500\n",
            "480/480 [==============================] - 2s 3ms/step - loss: 0.0604 - accuracy: 0.9604 - val_loss: 0.8357 - val_accuracy: 0.7500\n",
            "Epoch 270/500\n",
            "480/480 [==============================] - 2s 3ms/step - loss: 0.0657 - accuracy: 0.9583 - val_loss: 0.5519 - val_accuracy: 0.8250\n",
            "Epoch 271/500\n",
            "480/480 [==============================] - 2s 3ms/step - loss: 0.0758 - accuracy: 0.9563 - val_loss: 0.6319 - val_accuracy: 0.7833\n",
            "Epoch 272/500\n",
            "480/480 [==============================] - 2s 3ms/step - loss: 0.0533 - accuracy: 0.9625 - val_loss: 0.7833 - val_accuracy: 0.7500\n",
            "Epoch 273/500\n",
            "480/480 [==============================] - 2s 3ms/step - loss: 0.0578 - accuracy: 0.9688 - val_loss: 0.6795 - val_accuracy: 0.8083\n",
            "Epoch 274/500\n",
            "480/480 [==============================] - 2s 3ms/step - loss: 0.0372 - accuracy: 0.9792 - val_loss: 0.5855 - val_accuracy: 0.8250\n",
            "Epoch 275/500\n",
            "480/480 [==============================] - 2s 3ms/step - loss: 0.0621 - accuracy: 0.9625 - val_loss: 0.6414 - val_accuracy: 0.8000\n",
            "Epoch 276/500\n",
            "480/480 [==============================] - 2s 3ms/step - loss: 0.0620 - accuracy: 0.9667 - val_loss: 0.5362 - val_accuracy: 0.8333\n",
            "Epoch 277/500\n",
            "480/480 [==============================] - 2s 3ms/step - loss: 0.0527 - accuracy: 0.9708 - val_loss: 0.8636 - val_accuracy: 0.7583\n",
            "Epoch 278/500\n",
            "480/480 [==============================] - 2s 3ms/step - loss: 0.0500 - accuracy: 0.9729 - val_loss: 0.6610 - val_accuracy: 0.7917\n",
            "Epoch 279/500\n",
            "480/480 [==============================] - 2s 3ms/step - loss: 0.0551 - accuracy: 0.9708 - val_loss: 0.5478 - val_accuracy: 0.8250\n",
            "Epoch 280/500\n",
            "480/480 [==============================] - 2s 3ms/step - loss: 0.0516 - accuracy: 0.9688 - val_loss: 0.5423 - val_accuracy: 0.8417\n",
            "Epoch 281/500\n",
            "480/480 [==============================] - 2s 3ms/step - loss: 0.0605 - accuracy: 0.9625 - val_loss: 0.7871 - val_accuracy: 0.7917\n",
            "Epoch 282/500\n",
            "480/480 [==============================] - 2s 4ms/step - loss: 0.0721 - accuracy: 0.9583 - val_loss: 0.6033 - val_accuracy: 0.8000\n",
            "Epoch 283/500\n",
            "480/480 [==============================] - 2s 3ms/step - loss: 0.0691 - accuracy: 0.9521 - val_loss: 0.4308 - val_accuracy: 0.8833\n",
            "Epoch 284/500\n",
            "480/480 [==============================] - 2s 3ms/step - loss: 0.0537 - accuracy: 0.9625 - val_loss: 0.5642 - val_accuracy: 0.8333\n",
            "Epoch 285/500\n",
            "480/480 [==============================] - 2s 3ms/step - loss: 0.0585 - accuracy: 0.9625 - val_loss: 0.4975 - val_accuracy: 0.8333\n",
            "Epoch 286/500\n",
            "480/480 [==============================] - 2s 3ms/step - loss: 0.0614 - accuracy: 0.9604 - val_loss: 0.5104 - val_accuracy: 0.8500\n",
            "Epoch 287/500\n",
            "480/480 [==============================] - 2s 4ms/step - loss: 0.0564 - accuracy: 0.9604 - val_loss: 0.4830 - val_accuracy: 0.8500\n",
            "Epoch 288/500\n",
            "480/480 [==============================] - 2s 4ms/step - loss: 0.0520 - accuracy: 0.9708 - val_loss: 0.4749 - val_accuracy: 0.8417\n",
            "Epoch 289/500\n",
            "480/480 [==============================] - 2s 3ms/step - loss: 0.0476 - accuracy: 0.9646 - val_loss: 1.0642 - val_accuracy: 0.7500\n",
            "Epoch 290/500\n",
            "480/480 [==============================] - 2s 3ms/step - loss: 0.0429 - accuracy: 0.9792 - val_loss: 0.5577 - val_accuracy: 0.8167\n",
            "Epoch 291/500\n",
            "480/480 [==============================] - 2s 3ms/step - loss: 0.0608 - accuracy: 0.9625 - val_loss: 0.5275 - val_accuracy: 0.8417\n",
            "Epoch 292/500\n",
            "480/480 [==============================] - 2s 3ms/step - loss: 0.0558 - accuracy: 0.9792 - val_loss: 0.4194 - val_accuracy: 0.8500\n",
            "Epoch 293/500\n",
            "480/480 [==============================] - 2s 3ms/step - loss: 0.0470 - accuracy: 0.9812 - val_loss: 0.8451 - val_accuracy: 0.7833\n",
            "Epoch 294/500\n",
            "480/480 [==============================] - 2s 3ms/step - loss: 0.0562 - accuracy: 0.9646 - val_loss: 0.8223 - val_accuracy: 0.7750\n",
            "Epoch 295/500\n",
            "480/480 [==============================] - 2s 4ms/step - loss: 0.0612 - accuracy: 0.9563 - val_loss: 0.3522 - val_accuracy: 0.8917\n",
            "Epoch 296/500\n",
            "480/480 [==============================] - 2s 4ms/step - loss: 0.0477 - accuracy: 0.9667 - val_loss: 0.3589 - val_accuracy: 0.8750\n",
            "Epoch 297/500\n",
            "480/480 [==============================] - 2s 4ms/step - loss: 0.0593 - accuracy: 0.9625 - val_loss: 0.4520 - val_accuracy: 0.8333\n",
            "Epoch 298/500\n",
            "480/480 [==============================] - 2s 3ms/step - loss: 0.0523 - accuracy: 0.9646 - val_loss: 0.4936 - val_accuracy: 0.8333\n",
            "Epoch 299/500\n",
            "480/480 [==============================] - 2s 3ms/step - loss: 0.0453 - accuracy: 0.9750 - val_loss: 0.3720 - val_accuracy: 0.8750\n",
            "Epoch 300/500\n",
            "480/480 [==============================] - 2s 3ms/step - loss: 0.0713 - accuracy: 0.9563 - val_loss: 0.6429 - val_accuracy: 0.8167\n",
            "Epoch 301/500\n",
            "480/480 [==============================] - 2s 3ms/step - loss: 0.0553 - accuracy: 0.9667 - val_loss: 0.5710 - val_accuracy: 0.8167\n",
            "Epoch 302/500\n",
            "480/480 [==============================] - 2s 3ms/step - loss: 0.0499 - accuracy: 0.9688 - val_loss: 0.4466 - val_accuracy: 0.8333\n",
            "Epoch 303/500\n",
            "480/480 [==============================] - 2s 3ms/step - loss: 0.0612 - accuracy: 0.9563 - val_loss: 0.9240 - val_accuracy: 0.7667\n",
            "Epoch 304/500\n",
            "480/480 [==============================] - 2s 3ms/step - loss: 0.0681 - accuracy: 0.9583 - val_loss: 0.4686 - val_accuracy: 0.8333\n",
            "Epoch 305/500\n",
            "480/480 [==============================] - 2s 3ms/step - loss: 0.0693 - accuracy: 0.9521 - val_loss: 0.5479 - val_accuracy: 0.8500\n",
            "Epoch 306/500\n",
            "480/480 [==============================] - 2s 3ms/step - loss: 0.0495 - accuracy: 0.9729 - val_loss: 0.5300 - val_accuracy: 0.8417\n",
            "Epoch 307/500\n",
            "480/480 [==============================] - 2s 3ms/step - loss: 0.0744 - accuracy: 0.9542 - val_loss: 0.5295 - val_accuracy: 0.8833\n",
            "Epoch 308/500\n",
            "480/480 [==============================] - 2s 3ms/step - loss: 0.0509 - accuracy: 0.9729 - val_loss: 1.4432 - val_accuracy: 0.7167\n",
            "Epoch 309/500\n",
            "480/480 [==============================] - 2s 3ms/step - loss: 0.0529 - accuracy: 0.9688 - val_loss: 0.7244 - val_accuracy: 0.7417\n",
            "Epoch 310/500\n",
            "480/480 [==============================] - 2s 3ms/step - loss: 0.0741 - accuracy: 0.9542 - val_loss: 1.8899 - val_accuracy: 0.6250\n",
            "Epoch 311/500\n",
            "480/480 [==============================] - 2s 3ms/step - loss: 0.0657 - accuracy: 0.9625 - val_loss: 0.8980 - val_accuracy: 0.8000\n",
            "Epoch 312/500\n",
            "480/480 [==============================] - 2s 3ms/step - loss: 0.1056 - accuracy: 0.9542 - val_loss: 0.6662 - val_accuracy: 0.7667\n",
            "Epoch 313/500\n",
            "480/480 [==============================] - 2s 3ms/step - loss: 0.0901 - accuracy: 0.9479 - val_loss: 1.9695 - val_accuracy: 0.6583\n",
            "Epoch 314/500\n",
            "480/480 [==============================] - 2s 3ms/step - loss: 0.0830 - accuracy: 0.9542 - val_loss: 0.9282 - val_accuracy: 0.7000\n",
            "Epoch 315/500\n",
            "480/480 [==============================] - 2s 3ms/step - loss: 0.1106 - accuracy: 0.9354 - val_loss: 0.7007 - val_accuracy: 0.8500\n",
            "Epoch 316/500\n",
            "480/480 [==============================] - 2s 3ms/step - loss: 0.0842 - accuracy: 0.9500 - val_loss: 0.7904 - val_accuracy: 0.7917\n",
            "Epoch 317/500\n",
            "480/480 [==============================] - 2s 3ms/step - loss: 0.1347 - accuracy: 0.9354 - val_loss: 1.7453 - val_accuracy: 0.6750\n",
            "Epoch 318/500\n",
            "480/480 [==============================] - 2s 3ms/step - loss: 0.1832 - accuracy: 0.9271 - val_loss: 0.8487 - val_accuracy: 0.7583\n",
            "Epoch 319/500\n",
            "480/480 [==============================] - 2s 3ms/step - loss: 0.1692 - accuracy: 0.9125 - val_loss: 0.7779 - val_accuracy: 0.8250\n",
            "Epoch 320/500\n",
            "480/480 [==============================] - 2s 3ms/step - loss: 0.0798 - accuracy: 0.9563 - val_loss: 0.7174 - val_accuracy: 0.8333\n",
            "Epoch 321/500\n",
            "480/480 [==============================] - 2s 3ms/step - loss: 0.0795 - accuracy: 0.9500 - val_loss: 0.6844 - val_accuracy: 0.8333\n",
            "Epoch 322/500\n",
            "480/480 [==============================] - 2s 3ms/step - loss: 0.0647 - accuracy: 0.9667 - val_loss: 0.6408 - val_accuracy: 0.8333\n",
            "Epoch 323/500\n",
            "480/480 [==============================] - 2s 4ms/step - loss: 0.0959 - accuracy: 0.9375 - val_loss: 0.9385 - val_accuracy: 0.7583\n",
            "Epoch 324/500\n",
            "480/480 [==============================] - 2s 3ms/step - loss: 0.0734 - accuracy: 0.9563 - val_loss: 0.8211 - val_accuracy: 0.7750\n",
            "Epoch 325/500\n",
            "480/480 [==============================] - 2s 3ms/step - loss: 0.1168 - accuracy: 0.9375 - val_loss: 0.8181 - val_accuracy: 0.8083\n",
            "Epoch 326/500\n",
            "480/480 [==============================] - 2s 3ms/step - loss: 0.0754 - accuracy: 0.9583 - val_loss: 0.7283 - val_accuracy: 0.8250\n",
            "Epoch 327/500\n",
            "480/480 [==============================] - 2s 3ms/step - loss: 0.0691 - accuracy: 0.9563 - val_loss: 0.6999 - val_accuracy: 0.8250\n",
            "Epoch 328/500\n",
            "480/480 [==============================] - 2s 3ms/step - loss: 0.0949 - accuracy: 0.9312 - val_loss: 0.5736 - val_accuracy: 0.8583\n",
            "Epoch 329/500\n",
            "480/480 [==============================] - 2s 3ms/step - loss: 0.0615 - accuracy: 0.9625 - val_loss: 0.7336 - val_accuracy: 0.8000\n",
            "Epoch 330/500\n",
            "480/480 [==============================] - 2s 3ms/step - loss: 0.0760 - accuracy: 0.9542 - val_loss: 1.0173 - val_accuracy: 0.7667\n",
            "Epoch 331/500\n",
            "480/480 [==============================] - 2s 3ms/step - loss: 0.0522 - accuracy: 0.9729 - val_loss: 0.8197 - val_accuracy: 0.7750\n",
            "Epoch 332/500\n",
            "480/480 [==============================] - 2s 3ms/step - loss: 0.0517 - accuracy: 0.9708 - val_loss: 0.8710 - val_accuracy: 0.7750\n",
            "Epoch 333/500\n",
            "480/480 [==============================] - 2s 3ms/step - loss: 0.0654 - accuracy: 0.9667 - val_loss: 0.7275 - val_accuracy: 0.8167\n",
            "Epoch 334/500\n",
            "480/480 [==============================] - 2s 3ms/step - loss: 0.0719 - accuracy: 0.9542 - val_loss: 1.5347 - val_accuracy: 0.7000\n",
            "Epoch 335/500\n",
            "480/480 [==============================] - 2s 3ms/step - loss: 0.0622 - accuracy: 0.9646 - val_loss: 0.5768 - val_accuracy: 0.8667\n",
            "Epoch 336/500\n",
            "480/480 [==============================] - 2s 3ms/step - loss: 0.0456 - accuracy: 0.9750 - val_loss: 0.6592 - val_accuracy: 0.8250\n",
            "Epoch 337/500\n",
            "480/480 [==============================] - 2s 3ms/step - loss: 0.0630 - accuracy: 0.9521 - val_loss: 1.1262 - val_accuracy: 0.7750\n",
            "Epoch 338/500\n",
            "480/480 [==============================] - 2s 3ms/step - loss: 0.0760 - accuracy: 0.9542 - val_loss: 0.7091 - val_accuracy: 0.8250\n",
            "Epoch 339/500\n",
            "480/480 [==============================] - 2s 3ms/step - loss: 0.0552 - accuracy: 0.9625 - val_loss: 0.6452 - val_accuracy: 0.8250\n",
            "Epoch 340/500\n",
            "480/480 [==============================] - 2s 3ms/step - loss: 0.0682 - accuracy: 0.9563 - val_loss: 0.7163 - val_accuracy: 0.8083\n",
            "Epoch 341/500\n",
            "480/480 [==============================] - 2s 3ms/step - loss: 0.0873 - accuracy: 0.9312 - val_loss: 0.7704 - val_accuracy: 0.7917\n",
            "Epoch 342/500\n",
            "480/480 [==============================] - 2s 3ms/step - loss: 0.0479 - accuracy: 0.9771 - val_loss: 0.8269 - val_accuracy: 0.7917\n",
            "Epoch 343/500\n",
            "480/480 [==============================] - 2s 3ms/step - loss: 0.0565 - accuracy: 0.9604 - val_loss: 0.6754 - val_accuracy: 0.8167\n",
            "Epoch 344/500\n",
            "480/480 [==============================] - 2s 4ms/step - loss: 0.0469 - accuracy: 0.9688 - val_loss: 0.7118 - val_accuracy: 0.8167\n",
            "Epoch 345/500\n",
            "480/480 [==============================] - 2s 4ms/step - loss: 0.0536 - accuracy: 0.9667 - val_loss: 0.9129 - val_accuracy: 0.8000\n",
            "Epoch 346/500\n",
            "480/480 [==============================] - 2s 4ms/step - loss: 0.0595 - accuracy: 0.9583 - val_loss: 0.7675 - val_accuracy: 0.8167\n",
            "Epoch 347/500\n",
            "480/480 [==============================] - 2s 4ms/step - loss: 0.0468 - accuracy: 0.9750 - val_loss: 0.5603 - val_accuracy: 0.8250\n",
            "Epoch 348/500\n",
            "480/480 [==============================] - 2s 3ms/step - loss: 0.0497 - accuracy: 0.9771 - val_loss: 0.6078 - val_accuracy: 0.8167\n",
            "Epoch 349/500\n",
            "480/480 [==============================] - 2s 3ms/step - loss: 0.0442 - accuracy: 0.9833 - val_loss: 0.5151 - val_accuracy: 0.8333\n",
            "Epoch 350/500\n",
            "480/480 [==============================] - 2s 4ms/step - loss: 0.0677 - accuracy: 0.9563 - val_loss: 0.6194 - val_accuracy: 0.8250\n",
            "Epoch 351/500\n",
            "480/480 [==============================] - 2s 3ms/step - loss: 0.0561 - accuracy: 0.9667 - val_loss: 0.7208 - val_accuracy: 0.8250\n",
            "Epoch 352/500\n",
            "480/480 [==============================] - 2s 3ms/step - loss: 0.0412 - accuracy: 0.9771 - val_loss: 0.6155 - val_accuracy: 0.8250\n",
            "Epoch 353/500\n",
            "480/480 [==============================] - 2s 3ms/step - loss: 0.0522 - accuracy: 0.9667 - val_loss: 0.5651 - val_accuracy: 0.8417\n",
            "Epoch 354/500\n",
            "480/480 [==============================] - 2s 3ms/step - loss: 0.0599 - accuracy: 0.9563 - val_loss: 0.6004 - val_accuracy: 0.8333\n",
            "Epoch 355/500\n",
            "480/480 [==============================] - 2s 3ms/step - loss: 0.0444 - accuracy: 0.9688 - val_loss: 0.5895 - val_accuracy: 0.8167\n",
            "Epoch 356/500\n",
            "480/480 [==============================] - 2s 3ms/step - loss: 0.0655 - accuracy: 0.9542 - val_loss: 0.4468 - val_accuracy: 0.8667\n",
            "Epoch 357/500\n",
            "480/480 [==============================] - 2s 3ms/step - loss: 0.0585 - accuracy: 0.9521 - val_loss: 0.6126 - val_accuracy: 0.8083\n",
            "Epoch 358/500\n",
            "480/480 [==============================] - 2s 3ms/step - loss: 0.0559 - accuracy: 0.9583 - val_loss: 0.6068 - val_accuracy: 0.8167\n",
            "Epoch 359/500\n",
            "480/480 [==============================] - 2s 3ms/step - loss: 0.0628 - accuracy: 0.9521 - val_loss: 0.9339 - val_accuracy: 0.8000\n",
            "Epoch 360/500\n",
            "480/480 [==============================] - 2s 3ms/step - loss: 0.0699 - accuracy: 0.9542 - val_loss: 0.5566 - val_accuracy: 0.8500\n",
            "Epoch 361/500\n",
            "480/480 [==============================] - 2s 3ms/step - loss: 0.0377 - accuracy: 0.9750 - val_loss: 0.5607 - val_accuracy: 0.8500\n",
            "Epoch 362/500\n",
            "480/480 [==============================] - 2s 4ms/step - loss: 0.0661 - accuracy: 0.9500 - val_loss: 0.8368 - val_accuracy: 0.7833\n",
            "Epoch 363/500\n",
            "480/480 [==============================] - 2s 3ms/step - loss: 0.0606 - accuracy: 0.9646 - val_loss: 1.0089 - val_accuracy: 0.7583\n",
            "Epoch 364/500\n",
            "480/480 [==============================] - 2s 3ms/step - loss: 0.0389 - accuracy: 0.9750 - val_loss: 1.1558 - val_accuracy: 0.7833\n",
            "Epoch 365/500\n",
            "480/480 [==============================] - 2s 3ms/step - loss: 0.0680 - accuracy: 0.9604 - val_loss: 0.9340 - val_accuracy: 0.7167\n",
            "Epoch 366/500\n",
            "480/480 [==============================] - 2s 3ms/step - loss: 0.0819 - accuracy: 0.9521 - val_loss: 2.0742 - val_accuracy: 0.6417\n",
            "Epoch 367/500\n",
            "480/480 [==============================] - 2s 3ms/step - loss: 0.0838 - accuracy: 0.9542 - val_loss: 0.8765 - val_accuracy: 0.8167\n",
            "Epoch 368/500\n",
            "480/480 [==============================] - 2s 3ms/step - loss: 0.0611 - accuracy: 0.9646 - val_loss: 1.3088 - val_accuracy: 0.7500\n",
            "Epoch 369/500\n",
            "480/480 [==============================] - 2s 3ms/step - loss: 0.0682 - accuracy: 0.9583 - val_loss: 0.9674 - val_accuracy: 0.7750\n",
            "Epoch 370/500\n",
            "480/480 [==============================] - 2s 3ms/step - loss: 0.0424 - accuracy: 0.9812 - val_loss: 0.8445 - val_accuracy: 0.7667\n",
            "Epoch 371/500\n",
            "480/480 [==============================] - 2s 3ms/step - loss: 0.0589 - accuracy: 0.9729 - val_loss: 0.6936 - val_accuracy: 0.8333\n",
            "Epoch 372/500\n",
            "480/480 [==============================] - 2s 3ms/step - loss: 0.0557 - accuracy: 0.9667 - val_loss: 0.8162 - val_accuracy: 0.8250\n",
            "Epoch 373/500\n",
            "480/480 [==============================] - 2s 3ms/step - loss: 0.0701 - accuracy: 0.9646 - val_loss: 0.6149 - val_accuracy: 0.8333\n",
            "Epoch 374/500\n",
            "480/480 [==============================] - 2s 4ms/step - loss: 0.0659 - accuracy: 0.9542 - val_loss: 0.5741 - val_accuracy: 0.8250\n",
            "Epoch 375/500\n",
            "480/480 [==============================] - 2s 4ms/step - loss: 0.0643 - accuracy: 0.9667 - val_loss: 1.5364 - val_accuracy: 0.7333\n",
            "Epoch 376/500\n",
            "480/480 [==============================] - 2s 3ms/step - loss: 0.0782 - accuracy: 0.9521 - val_loss: 0.5699 - val_accuracy: 0.8250\n",
            "Epoch 377/500\n",
            "480/480 [==============================] - 2s 3ms/step - loss: 0.0681 - accuracy: 0.9542 - val_loss: 0.7379 - val_accuracy: 0.8167\n",
            "Epoch 378/500\n",
            "480/480 [==============================] - 2s 3ms/step - loss: 0.0648 - accuracy: 0.9625 - val_loss: 0.5304 - val_accuracy: 0.8250\n",
            "Epoch 379/500\n",
            "480/480 [==============================] - 2s 4ms/step - loss: 0.0495 - accuracy: 0.9646 - val_loss: 0.6541 - val_accuracy: 0.8167\n",
            "Epoch 380/500\n",
            "480/480 [==============================] - 2s 3ms/step - loss: 0.0485 - accuracy: 0.9750 - val_loss: 1.0325 - val_accuracy: 0.7583\n",
            "Epoch 381/500\n",
            "480/480 [==============================] - 2s 3ms/step - loss: 0.0598 - accuracy: 0.9688 - val_loss: 0.4847 - val_accuracy: 0.8750\n",
            "Epoch 382/500\n",
            "480/480 [==============================] - 2s 3ms/step - loss: 0.0663 - accuracy: 0.9583 - val_loss: 0.7281 - val_accuracy: 0.8167\n",
            "Epoch 383/500\n",
            "480/480 [==============================] - 2s 3ms/step - loss: 0.0463 - accuracy: 0.9708 - val_loss: 0.4490 - val_accuracy: 0.8583\n",
            "Epoch 384/500\n",
            "480/480 [==============================] - 2s 3ms/step - loss: 0.0550 - accuracy: 0.9583 - val_loss: 0.4764 - val_accuracy: 0.8500\n",
            "Epoch 385/500\n",
            "480/480 [==============================] - 2s 3ms/step - loss: 0.0621 - accuracy: 0.9646 - val_loss: 0.8470 - val_accuracy: 0.8000\n",
            "Epoch 386/500\n",
            "480/480 [==============================] - 2s 3ms/step - loss: 0.0538 - accuracy: 0.9750 - val_loss: 0.6259 - val_accuracy: 0.8417\n",
            "Epoch 387/500\n",
            "480/480 [==============================] - 2s 3ms/step - loss: 0.0799 - accuracy: 0.9458 - val_loss: 0.6901 - val_accuracy: 0.8250\n",
            "Epoch 388/500\n",
            "480/480 [==============================] - 2s 4ms/step - loss: 0.0370 - accuracy: 0.9771 - val_loss: 0.9960 - val_accuracy: 0.8083\n",
            "Epoch 389/500\n",
            "480/480 [==============================] - 2s 3ms/step - loss: 0.0562 - accuracy: 0.9667 - val_loss: 1.2168 - val_accuracy: 0.7583\n",
            "Epoch 390/500\n",
            "480/480 [==============================] - 2s 3ms/step - loss: 0.0439 - accuracy: 0.9771 - val_loss: 0.5264 - val_accuracy: 0.8333\n",
            "Epoch 391/500\n",
            "480/480 [==============================] - 2s 3ms/step - loss: 0.0592 - accuracy: 0.9646 - val_loss: 0.7347 - val_accuracy: 0.8083\n",
            "Epoch 392/500\n",
            "480/480 [==============================] - 2s 4ms/step - loss: 0.0630 - accuracy: 0.9458 - val_loss: 0.5985 - val_accuracy: 0.8333\n",
            "Epoch 393/500\n",
            "480/480 [==============================] - 2s 3ms/step - loss: 0.0534 - accuracy: 0.9729 - val_loss: 0.4772 - val_accuracy: 0.8500\n",
            "Epoch 394/500\n",
            "480/480 [==============================] - 2s 4ms/step - loss: 0.0435 - accuracy: 0.9750 - val_loss: 0.5107 - val_accuracy: 0.8500\n",
            "Epoch 395/500\n",
            "480/480 [==============================] - 2s 3ms/step - loss: 0.0617 - accuracy: 0.9646 - val_loss: 0.6109 - val_accuracy: 0.8333\n",
            "Epoch 396/500\n",
            "480/480 [==============================] - 2s 4ms/step - loss: 0.0561 - accuracy: 0.9625 - val_loss: 0.5079 - val_accuracy: 0.8500\n",
            "Epoch 397/500\n",
            "480/480 [==============================] - 2s 3ms/step - loss: 0.0487 - accuracy: 0.9708 - val_loss: 0.6737 - val_accuracy: 0.8167\n",
            "Epoch 398/500\n",
            "480/480 [==============================] - 2s 3ms/step - loss: 0.0607 - accuracy: 0.9583 - val_loss: 0.5430 - val_accuracy: 0.8417\n",
            "Epoch 399/500\n",
            "480/480 [==============================] - 2s 3ms/step - loss: 0.0673 - accuracy: 0.9583 - val_loss: 0.9993 - val_accuracy: 0.7917\n",
            "Epoch 400/500\n",
            "480/480 [==============================] - 2s 3ms/step - loss: 0.0636 - accuracy: 0.9542 - val_loss: 0.9987 - val_accuracy: 0.7917\n",
            "Epoch 401/500\n",
            "480/480 [==============================] - 2s 4ms/step - loss: 0.0491 - accuracy: 0.9604 - val_loss: 0.6446 - val_accuracy: 0.8333\n",
            "Epoch 402/500\n",
            "480/480 [==============================] - 2s 3ms/step - loss: 0.0564 - accuracy: 0.9646 - val_loss: 0.8905 - val_accuracy: 0.7917\n",
            "Epoch 403/500\n",
            "480/480 [==============================] - 2s 3ms/step - loss: 0.0447 - accuracy: 0.9708 - val_loss: 0.7338 - val_accuracy: 0.8250\n",
            "Epoch 404/500\n",
            "480/480 [==============================] - 2s 3ms/step - loss: 0.0423 - accuracy: 0.9750 - val_loss: 0.5510 - val_accuracy: 0.8333\n",
            "Epoch 405/500\n",
            "480/480 [==============================] - 2s 3ms/step - loss: 0.0493 - accuracy: 0.9688 - val_loss: 0.4466 - val_accuracy: 0.8750\n",
            "Epoch 406/500\n",
            "480/480 [==============================] - 2s 3ms/step - loss: 0.0470 - accuracy: 0.9646 - val_loss: 0.4840 - val_accuracy: 0.8583\n",
            "Epoch 407/500\n",
            "480/480 [==============================] - 2s 4ms/step - loss: 0.0487 - accuracy: 0.9667 - val_loss: 0.4795 - val_accuracy: 0.8667\n",
            "Epoch 408/500\n",
            "480/480 [==============================] - 2s 3ms/step - loss: 0.0553 - accuracy: 0.9688 - val_loss: 0.7647 - val_accuracy: 0.8250\n",
            "Epoch 409/500\n",
            "480/480 [==============================] - 2s 4ms/step - loss: 0.0570 - accuracy: 0.9625 - val_loss: 0.6842 - val_accuracy: 0.8250\n",
            "Epoch 410/500\n",
            "480/480 [==============================] - 2s 3ms/step - loss: 0.0517 - accuracy: 0.9646 - val_loss: 0.6439 - val_accuracy: 0.8250\n",
            "Epoch 411/500\n",
            "480/480 [==============================] - 2s 4ms/step - loss: 0.0462 - accuracy: 0.9708 - val_loss: 0.5371 - val_accuracy: 0.8417\n",
            "Epoch 412/500\n",
            "480/480 [==============================] - 2s 3ms/step - loss: 0.0750 - accuracy: 0.9500 - val_loss: 0.6744 - val_accuracy: 0.8250\n",
            "Epoch 413/500\n",
            "480/480 [==============================] - 2s 3ms/step - loss: 0.0442 - accuracy: 0.9729 - val_loss: 0.8439 - val_accuracy: 0.8000\n",
            "Epoch 414/500\n",
            "480/480 [==============================] - 2s 4ms/step - loss: 0.0456 - accuracy: 0.9708 - val_loss: 0.9141 - val_accuracy: 0.8000\n",
            "Epoch 415/500\n",
            "480/480 [==============================] - 2s 3ms/step - loss: 0.0624 - accuracy: 0.9604 - val_loss: 0.5705 - val_accuracy: 0.8583\n",
            "Epoch 416/500\n",
            "480/480 [==============================] - 2s 3ms/step - loss: 0.0533 - accuracy: 0.9646 - val_loss: 0.5993 - val_accuracy: 0.8667\n",
            "Epoch 417/500\n",
            "480/480 [==============================] - 2s 3ms/step - loss: 0.0496 - accuracy: 0.9688 - val_loss: 0.5970 - val_accuracy: 0.8333\n",
            "Epoch 418/500\n",
            "480/480 [==============================] - 2s 3ms/step - loss: 0.0612 - accuracy: 0.9604 - val_loss: 1.2523 - val_accuracy: 0.7917\n",
            "Epoch 419/500\n",
            "480/480 [==============================] - 2s 3ms/step - loss: 0.0625 - accuracy: 0.9688 - val_loss: 1.1693 - val_accuracy: 0.7667\n",
            "Epoch 420/500\n",
            "480/480 [==============================] - 2s 4ms/step - loss: 0.0436 - accuracy: 0.9812 - val_loss: 0.7560 - val_accuracy: 0.8083\n",
            "Epoch 421/500\n",
            "480/480 [==============================] - 2s 3ms/step - loss: 0.0712 - accuracy: 0.9583 - val_loss: 0.7499 - val_accuracy: 0.7917\n",
            "Epoch 422/500\n",
            "480/480 [==============================] - 2s 3ms/step - loss: 0.0542 - accuracy: 0.9646 - val_loss: 0.6581 - val_accuracy: 0.8250\n",
            "Epoch 423/500\n",
            "480/480 [==============================] - 2s 3ms/step - loss: 0.0817 - accuracy: 0.9583 - val_loss: 1.2230 - val_accuracy: 0.7417\n",
            "Epoch 424/500\n",
            "480/480 [==============================] - 2s 3ms/step - loss: 0.1402 - accuracy: 0.9333 - val_loss: 1.4203 - val_accuracy: 0.7083\n",
            "Epoch 425/500\n",
            "480/480 [==============================] - 2s 3ms/step - loss: 0.1045 - accuracy: 0.9438 - val_loss: 0.4183 - val_accuracy: 0.8583\n",
            "Epoch 426/500\n",
            "480/480 [==============================] - 2s 3ms/step - loss: 0.1218 - accuracy: 0.9417 - val_loss: 1.2466 - val_accuracy: 0.7833\n",
            "Epoch 427/500\n",
            "480/480 [==============================] - 2s 4ms/step - loss: 0.1923 - accuracy: 0.9000 - val_loss: 5.0039 - val_accuracy: 0.5833\n",
            "Epoch 428/500\n",
            "480/480 [==============================] - 2s 3ms/step - loss: 0.1592 - accuracy: 0.9375 - val_loss: 0.9044 - val_accuracy: 0.7917\n",
            "Epoch 429/500\n",
            "480/480 [==============================] - 2s 3ms/step - loss: 0.0764 - accuracy: 0.9646 - val_loss: 1.3725 - val_accuracy: 0.7333\n",
            "Epoch 430/500\n",
            "480/480 [==============================] - 2s 4ms/step - loss: 0.0848 - accuracy: 0.9479 - val_loss: 1.0859 - val_accuracy: 0.8000\n",
            "Epoch 431/500\n",
            "480/480 [==============================] - 2s 4ms/step - loss: 0.0736 - accuracy: 0.9583 - val_loss: 1.0328 - val_accuracy: 0.8333\n",
            "Epoch 432/500\n",
            "480/480 [==============================] - 2s 3ms/step - loss: 0.0896 - accuracy: 0.9417 - val_loss: 0.8920 - val_accuracy: 0.7750\n",
            "Epoch 433/500\n",
            "480/480 [==============================] - 2s 4ms/step - loss: 0.0484 - accuracy: 0.9792 - val_loss: 0.7533 - val_accuracy: 0.8167\n",
            "Epoch 434/500\n",
            "480/480 [==============================] - 2s 3ms/step - loss: 0.0494 - accuracy: 0.9708 - val_loss: 0.6727 - val_accuracy: 0.8167\n",
            "Epoch 435/500\n",
            "480/480 [==============================] - 2s 3ms/step - loss: 0.0584 - accuracy: 0.9708 - val_loss: 1.1196 - val_accuracy: 0.7667\n",
            "Epoch 436/500\n",
            "480/480 [==============================] - 2s 3ms/step - loss: 0.0808 - accuracy: 0.9521 - val_loss: 0.7435 - val_accuracy: 0.8083\n",
            "Epoch 437/500\n",
            "480/480 [==============================] - 2s 4ms/step - loss: 0.0583 - accuracy: 0.9688 - val_loss: 1.2323 - val_accuracy: 0.7500\n",
            "Epoch 438/500\n",
            "480/480 [==============================] - 2s 3ms/step - loss: 0.0573 - accuracy: 0.9667 - val_loss: 0.6776 - val_accuracy: 0.8083\n",
            "Epoch 439/500\n",
            "480/480 [==============================] - 2s 3ms/step - loss: 0.0660 - accuracy: 0.9646 - val_loss: 2.4213 - val_accuracy: 0.6167\n",
            "Epoch 440/500\n",
            "480/480 [==============================] - 2s 3ms/step - loss: 0.1026 - accuracy: 0.9458 - val_loss: 0.9331 - val_accuracy: 0.8417\n",
            "Epoch 441/500\n",
            "480/480 [==============================] - 2s 3ms/step - loss: 0.0734 - accuracy: 0.9583 - val_loss: 0.5546 - val_accuracy: 0.8667\n",
            "Epoch 442/500\n",
            "480/480 [==============================] - 2s 3ms/step - loss: 0.0667 - accuracy: 0.9542 - val_loss: 0.6639 - val_accuracy: 0.8083\n",
            "Epoch 443/500\n",
            "480/480 [==============================] - 2s 3ms/step - loss: 0.0610 - accuracy: 0.9688 - val_loss: 1.6362 - val_accuracy: 0.7250\n",
            "Epoch 444/500\n",
            "480/480 [==============================] - 2s 3ms/step - loss: 0.0530 - accuracy: 0.9667 - val_loss: 0.9440 - val_accuracy: 0.7583\n",
            "Epoch 445/500\n",
            "480/480 [==============================] - 2s 3ms/step - loss: 0.0732 - accuracy: 0.9625 - val_loss: 0.9013 - val_accuracy: 0.7917\n",
            "Epoch 446/500\n",
            "480/480 [==============================] - 2s 3ms/step - loss: 0.0857 - accuracy: 0.9542 - val_loss: 0.7377 - val_accuracy: 0.8250\n",
            "Epoch 447/500\n",
            "480/480 [==============================] - 2s 3ms/step - loss: 0.0896 - accuracy: 0.9563 - val_loss: 1.4934 - val_accuracy: 0.7250\n",
            "Epoch 448/500\n",
            "480/480 [==============================] - 2s 3ms/step - loss: 0.1000 - accuracy: 0.9438 - val_loss: 0.7249 - val_accuracy: 0.8167\n",
            "Epoch 449/500\n",
            "480/480 [==============================] - 2s 3ms/step - loss: 0.0650 - accuracy: 0.9542 - val_loss: 0.9740 - val_accuracy: 0.8083\n",
            "Epoch 450/500\n",
            "480/480 [==============================] - 2s 3ms/step - loss: 0.0588 - accuracy: 0.9667 - val_loss: 0.6727 - val_accuracy: 0.8500\n",
            "Epoch 451/500\n",
            "480/480 [==============================] - 2s 3ms/step - loss: 0.0714 - accuracy: 0.9500 - val_loss: 1.4948 - val_accuracy: 0.7167\n",
            "Epoch 452/500\n",
            "480/480 [==============================] - 2s 3ms/step - loss: 0.0888 - accuracy: 0.9375 - val_loss: 1.5090 - val_accuracy: 0.7917\n",
            "Epoch 453/500\n",
            "480/480 [==============================] - 2s 3ms/step - loss: 0.0759 - accuracy: 0.9542 - val_loss: 0.6761 - val_accuracy: 0.8500\n",
            "Epoch 454/500\n",
            "480/480 [==============================] - 2s 3ms/step - loss: 0.0698 - accuracy: 0.9521 - val_loss: 1.1793 - val_accuracy: 0.7667\n",
            "Epoch 455/500\n",
            "480/480 [==============================] - 2s 3ms/step - loss: 0.0637 - accuracy: 0.9625 - val_loss: 0.7674 - val_accuracy: 0.8417\n",
            "Epoch 456/500\n",
            "480/480 [==============================] - 2s 3ms/step - loss: 0.0668 - accuracy: 0.9563 - val_loss: 0.5310 - val_accuracy: 0.8333\n",
            "Epoch 457/500\n",
            "480/480 [==============================] - 2s 3ms/step - loss: 0.0546 - accuracy: 0.9688 - val_loss: 0.5506 - val_accuracy: 0.8417\n",
            "Epoch 458/500\n",
            "480/480 [==============================] - 2s 3ms/step - loss: 0.0659 - accuracy: 0.9583 - val_loss: 0.5533 - val_accuracy: 0.8250\n",
            "Epoch 459/500\n",
            "480/480 [==============================] - 2s 3ms/step - loss: 0.0505 - accuracy: 0.9646 - val_loss: 0.5672 - val_accuracy: 0.8417\n",
            "Epoch 460/500\n",
            "480/480 [==============================] - 2s 3ms/step - loss: 0.0364 - accuracy: 0.9812 - val_loss: 0.6380 - val_accuracy: 0.8250\n",
            "Epoch 461/500\n",
            "480/480 [==============================] - 2s 3ms/step - loss: 0.0556 - accuracy: 0.9688 - val_loss: 0.5957 - val_accuracy: 0.8417\n",
            "Epoch 462/500\n",
            "480/480 [==============================] - 2s 3ms/step - loss: 0.0630 - accuracy: 0.9604 - val_loss: 0.5857 - val_accuracy: 0.8333\n",
            "Epoch 463/500\n",
            "480/480 [==============================] - 2s 3ms/step - loss: 0.0704 - accuracy: 0.9583 - val_loss: 0.5674 - val_accuracy: 0.8417\n",
            "Epoch 464/500\n",
            "480/480 [==============================] - 2s 3ms/step - loss: 0.0669 - accuracy: 0.9521 - val_loss: 0.5829 - val_accuracy: 0.8333\n",
            "Epoch 465/500\n",
            "480/480 [==============================] - 2s 3ms/step - loss: 0.0548 - accuracy: 0.9625 - val_loss: 0.6896 - val_accuracy: 0.8250\n",
            "Epoch 466/500\n",
            "480/480 [==============================] - 2s 3ms/step - loss: 0.0544 - accuracy: 0.9750 - val_loss: 0.6580 - val_accuracy: 0.8250\n",
            "Epoch 467/500\n",
            "480/480 [==============================] - 2s 3ms/step - loss: 0.0572 - accuracy: 0.9625 - val_loss: 0.5991 - val_accuracy: 0.8417\n",
            "Epoch 468/500\n",
            "480/480 [==============================] - 2s 3ms/step - loss: 0.0687 - accuracy: 0.9521 - val_loss: 0.6035 - val_accuracy: 0.8333\n",
            "Epoch 469/500\n",
            "480/480 [==============================] - 2s 3ms/step - loss: 0.0629 - accuracy: 0.9604 - val_loss: 0.8805 - val_accuracy: 0.8083\n",
            "Epoch 470/500\n",
            "480/480 [==============================] - 2s 3ms/step - loss: 0.0721 - accuracy: 0.9458 - val_loss: 0.7385 - val_accuracy: 0.8250\n",
            "Epoch 471/500\n",
            "480/480 [==============================] - 2s 3ms/step - loss: 0.0571 - accuracy: 0.9646 - val_loss: 0.6113 - val_accuracy: 0.8333\n",
            "Epoch 472/500\n",
            "480/480 [==============================] - 2s 3ms/step - loss: 0.1009 - accuracy: 0.9333 - val_loss: 0.7451 - val_accuracy: 0.8167\n",
            "Epoch 473/500\n",
            "480/480 [==============================] - 2s 3ms/step - loss: 0.0857 - accuracy: 0.9438 - val_loss: 1.1910 - val_accuracy: 0.7333\n",
            "Epoch 474/500\n",
            "480/480 [==============================] - 2s 3ms/step - loss: 0.0637 - accuracy: 0.9500 - val_loss: 1.0363 - val_accuracy: 0.7583\n",
            "Epoch 475/500\n",
            "480/480 [==============================] - 2s 3ms/step - loss: 0.0565 - accuracy: 0.9563 - val_loss: 0.7077 - val_accuracy: 0.8250\n",
            "Epoch 476/500\n",
            "480/480 [==============================] - 2s 3ms/step - loss: 0.0599 - accuracy: 0.9583 - val_loss: 0.7216 - val_accuracy: 0.8167\n",
            "Epoch 477/500\n",
            "480/480 [==============================] - 2s 3ms/step - loss: 0.0526 - accuracy: 0.9646 - val_loss: 0.8382 - val_accuracy: 0.8000\n",
            "Epoch 478/500\n",
            "480/480 [==============================] - 2s 3ms/step - loss: 0.0590 - accuracy: 0.9688 - val_loss: 1.0425 - val_accuracy: 0.7750\n",
            "Epoch 479/500\n",
            "480/480 [==============================] - 2s 3ms/step - loss: 0.0540 - accuracy: 0.9688 - val_loss: 0.7157 - val_accuracy: 0.8250\n",
            "Epoch 480/500\n",
            "480/480 [==============================] - 2s 3ms/step - loss: 0.0395 - accuracy: 0.9729 - val_loss: 0.6080 - val_accuracy: 0.8417\n",
            "Epoch 481/500\n",
            "480/480 [==============================] - 2s 3ms/step - loss: 0.0608 - accuracy: 0.9583 - val_loss: 0.5783 - val_accuracy: 0.8333\n",
            "Epoch 482/500\n",
            "480/480 [==============================] - 2s 3ms/step - loss: 0.0388 - accuracy: 0.9771 - val_loss: 0.5658 - val_accuracy: 0.8417\n",
            "Epoch 483/500\n",
            "480/480 [==============================] - 2s 3ms/step - loss: 0.0532 - accuracy: 0.9625 - val_loss: 0.6165 - val_accuracy: 0.8583\n",
            "Epoch 484/500\n",
            "480/480 [==============================] - 2s 3ms/step - loss: 0.0702 - accuracy: 0.9542 - val_loss: 0.5996 - val_accuracy: 0.8500\n",
            "Epoch 485/500\n",
            "480/480 [==============================] - 2s 3ms/step - loss: 0.0446 - accuracy: 0.9688 - val_loss: 0.6060 - val_accuracy: 0.8417\n",
            "Epoch 486/500\n",
            "480/480 [==============================] - 2s 3ms/step - loss: 0.0525 - accuracy: 0.9688 - val_loss: 0.6022 - val_accuracy: 0.8417\n",
            "Epoch 487/500\n",
            "480/480 [==============================] - 2s 3ms/step - loss: 0.0627 - accuracy: 0.9542 - val_loss: 0.6438 - val_accuracy: 0.8417\n",
            "Epoch 488/500\n",
            "480/480 [==============================] - 2s 4ms/step - loss: 0.0616 - accuracy: 0.9563 - val_loss: 0.6829 - val_accuracy: 0.8500\n",
            "Epoch 489/500\n",
            "480/480 [==============================] - 2s 3ms/step - loss: 0.0537 - accuracy: 0.9750 - val_loss: 0.6856 - val_accuracy: 0.8417\n",
            "Epoch 490/500\n",
            "480/480 [==============================] - 2s 3ms/step - loss: 0.0570 - accuracy: 0.9563 - val_loss: 0.7893 - val_accuracy: 0.8333\n",
            "Epoch 491/500\n",
            "480/480 [==============================] - 2s 3ms/step - loss: 0.0742 - accuracy: 0.9563 - val_loss: 0.7354 - val_accuracy: 0.8333\n",
            "Epoch 492/500\n",
            "480/480 [==============================] - 2s 3ms/step - loss: 0.0688 - accuracy: 0.9521 - val_loss: 0.7591 - val_accuracy: 0.8333\n",
            "Epoch 493/500\n",
            "480/480 [==============================] - 2s 3ms/step - loss: 0.0414 - accuracy: 0.9750 - val_loss: 0.6915 - val_accuracy: 0.8167\n",
            "Epoch 494/500\n",
            "480/480 [==============================] - 2s 3ms/step - loss: 0.0597 - accuracy: 0.9667 - val_loss: 0.7154 - val_accuracy: 0.8333\n",
            "Epoch 495/500\n",
            "480/480 [==============================] - 2s 3ms/step - loss: 0.0456 - accuracy: 0.9625 - val_loss: 0.7237 - val_accuracy: 0.8500\n",
            "Epoch 496/500\n",
            "480/480 [==============================] - 2s 3ms/step - loss: 0.0557 - accuracy: 0.9688 - val_loss: 0.7315 - val_accuracy: 0.8250\n",
            "Epoch 497/500\n",
            "480/480 [==============================] - 2s 3ms/step - loss: 0.0637 - accuracy: 0.9521 - val_loss: 0.7765 - val_accuracy: 0.8250\n",
            "Epoch 498/500\n",
            "480/480 [==============================] - 2s 3ms/step - loss: 0.0489 - accuracy: 0.9771 - val_loss: 0.8303 - val_accuracy: 0.8167\n",
            "Epoch 499/500\n",
            "480/480 [==============================] - 2s 3ms/step - loss: 0.0475 - accuracy: 0.9708 - val_loss: 0.9627 - val_accuracy: 0.8083\n",
            "Epoch 500/500\n",
            "480/480 [==============================] - 2s 3ms/step - loss: 0.0534 - accuracy: 0.9688 - val_loss: 0.8467 - val_accuracy: 0.8167\n"
          ],
          "name": "stdout"
        }
      ]
    },
    {
      "cell_type": "code",
      "metadata": {
        "id": "96xZodFXfYJo",
        "colab_type": "code",
        "colab": {
          "base_uri": "https://localhost:8080/",
          "height": 34
        },
        "outputId": "736ec71d-6ee2-4676-e26d-090cc22dead2"
      },
      "source": [
        "model.evaluate(X_test, Y_test, verbose=0)"
      ],
      "execution_count": 71,
      "outputs": [
        {
          "output_type": "execute_result",
          "data": {
            "text/plain": [
              "[0.8466851572195689, 0.8166666626930237]"
            ]
          },
          "metadata": {
            "tags": []
          },
          "execution_count": 71
        }
      ]
    },
    {
      "cell_type": "code",
      "metadata": {
        "id": "x55pVbsNfYmO",
        "colab_type": "code",
        "colab": {}
      },
      "source": [
        "model_json = model.to_json()\n",
        "if not os.path.isdir(args.output):\n",
        "    os.makedirs(args.output)\n",
        "with open(os.path.join(args.output, '3dcnnmodel.json'), 'w') as json_file:\n",
        "    json_file.write(model_json)\n",
        "model.save_weights(os.path.join(args.output, '3dcnnmodel.hd5'))\n"
      ],
      "execution_count": 72,
      "outputs": []
    },
    {
      "cell_type": "code",
      "metadata": {
        "id": "cMCO5NEBfZNm",
        "colab_type": "code",
        "colab": {
          "base_uri": "https://localhost:8080/",
          "height": 50
        },
        "outputId": "67badc66-aba3-495e-d3af-1c7af4a9de64"
      },
      "source": [
        "loss, acc = model.evaluate(X_test, Y_test, verbose=0)\n",
        "print('Test loss:', loss)\n",
        "print('Test accuracy:', acc)"
      ],
      "execution_count": 73,
      "outputs": [
        {
          "output_type": "stream",
          "text": [
            "Test loss: 0.8466851572195689\n",
            "Test accuracy: 0.8166666626930237\n"
          ],
          "name": "stdout"
        }
      ]
    },
    {
      "cell_type": "code",
      "metadata": {
        "id": "hRccxg_-fYke",
        "colab_type": "code",
        "colab": {}
      },
      "source": [
        "save_history(history, args.output)"
      ],
      "execution_count": 74,
      "outputs": []
    },
    {
      "cell_type": "code",
      "metadata": {
        "id": "APT2awOzfYHd",
        "colab_type": "code",
        "colab": {
          "base_uri": "https://localhost:8080/",
          "height": 295
        },
        "outputId": "160b7981-f45e-4ca1-b7a5-f02e37261263"
      },
      "source": [
        "plt.plot(history.history['accuracy'], marker='.')\n",
        "plt.plot(history.history['val_accuracy'], marker='.')\n",
        "plt.title('model accuracy')\n",
        "plt.xlabel('epoch')\n",
        "plt.ylabel('accuracy')\n",
        "plt.grid()\n",
        "plt.legend(['accuracy', 'val_accuracy'], loc='lower right')\n",
        "plt.savefig(os.path.join(args.output, 'model_accuracy.png'))\n",
        "plt.show()"
      ],
      "execution_count": 75,
      "outputs": [
        {
          "output_type": "display_data",
          "data": {
            "image/png": "[encoded data removed]",
            "text/plain": [
              "<Figure size 432x288 with 1 Axes>"
            ]
          },
          "metadata": {
            "tags": [],
            "needs_background": "light"
          }
        }
      ]
    },
    {
      "cell_type": "code",
      "metadata": {
        "id": "AQPiarWUnoDT",
        "colab_type": "code",
        "colab": {
          "base_uri": "https://localhost:8080/",
          "height": 295
        },
        "outputId": "0940c2bc-940a-436f-a59e-38bcdd2e7850"
      },
      "source": [
        "plt.plot(history.history['loss'], marker='.')\n",
        "plt.plot(history.history['val_loss'], marker='.')\n",
        "plt.title('model loss')\n",
        "plt.xlabel('epoch')\n",
        "plt.ylabel('loss')\n",
        "plt.grid()\n",
        "plt.legend(['loss', 'val_loss'], loc='upper right')\n",
        "plt.savefig(os.path.join(args.output, 'model_loss.png'))\n",
        "plt.show()"
      ],
      "execution_count": 76,
      "outputs": [
        {
          "output_type": "display_data",
          "data": {
            "image/png": "[encoded data removed]",
            "text/plain": [
              "<Figure size 432x288 with 1 Axes>"
            ]
          },
          "metadata": {
            "tags": [],
            "needs_background": "light"
          }
        }
      ]
    },
    {
      "cell_type": "code",
      "metadata": {
        "id": "jAW63revyC8H",
        "colab_type": "code",
        "colab": {
          "base_uri": "https://localhost:8080/",
          "height": 67
        },
        "outputId": "725972f4-288b-4f39-d818-45402b5062e8"
      },
      "source": [
        "# Prepare data for prediction\n",
        "img_rows, img_cols, frames = 32, 32, args.depth\n",
        "channel = 3 if args.color else 1\n",
        "vid3d = Videoto3D(img_rows, img_cols, frames)\n",
        "video='/content/drive/My Drive/Parking Videos/gettyimages-1135712026-640_adpp1.mp4'\n",
        "test_data = vid3d.video3d(video, color=args.color, skip=args.skip)\n",
        "t = np.expand_dims(test_data, axis=0)\n",
        "print(t.shape)\n",
        "td = np.array(t).transpose((0, 2, 3, 1, 4))\n",
        "print(td.shape)\n",
        "ls = [test_data]"
      ],
      "execution_count": 94,
      "outputs": [
        {
          "output_type": "stream",
          "text": [
            "test  /content/drive/My Drive/Parking Videos/gettyimages-1135712026-640_adpp1.mp4\n",
            "(1, 12, 32, 32, 3)\n",
            "(1, 32, 32, 12, 3)\n"
          ],
          "name": "stdout"
        }
      ]
    },
    {
      "cell_type": "code",
      "metadata": {
        "id": "DKcrCcTtxGRB",
        "colab_type": "code",
        "colab": {
          "base_uri": "https://localhost:8080/",
          "height": 50
        },
        "outputId": "8ff9bb23-9d5c-4d33-bd92-5fa272157375"
      },
      "source": [
        "from keras.models import load_model\n",
        "from keras.models import model_from_json\n",
        "import json\n",
        "with open(os.path.join(args.output, '3dcnnmodel.json'),'r') as f:\n",
        "    print(type(f))\n",
        "    for i in f:\n",
        "      print(type(i))\n",
        "      model_json = i\n",
        "      break\n",
        "\n",
        "model = model_from_json(model_json)\n",
        "model.load_weights(os.path.join(args.output, '3dcnnmodel.hd5'))"
      ],
      "execution_count": 95,
      "outputs": [
        {
          "output_type": "stream",
          "text": [
            "<class '_io.TextIOWrapper'>\n",
            "<class 'str'>\n"
          ],
          "name": "stdout"
        }
      ]
    },
    {
      "cell_type": "code",
      "metadata": {
        "id": "HkrYFJ-9B0HI",
        "colab_type": "code",
        "colab": {
          "base_uri": "https://localhost:8080/",
          "height": 34
        },
        "outputId": "5098fed9-0895-46c7-bf8f-f0c010877b9e"
      },
      "source": [
        "# Predict.\n",
        "predictions = model.predict(td)\n",
        "print(predictions)"
      ],
      "execution_count": 96,
      "outputs": [
        {
          "output_type": "stream",
          "text": [
            "[[9.9999821e-01 1.7140914e-06 7.1565282e-08]]\n"
          ],
          "name": "stdout"
        }
      ]
    },
    {
      "cell_type": "code",
      "metadata": {
        "id": "ipb-Gg5Uy4k4",
        "colab_type": "code",
        "colab": {
          "base_uri": "https://localhost:8080/",
          "height": 35
        },
        "outputId": "a8994e46-38ab-4a70-a5c6-65e21e2fb1e1"
      },
      "source": [
        "# Process predicted result\n",
        "class_names = ['Parking','No_Parking','Car running']\n",
        "class_names[np.argmax(predictions)]"
      ],
      "execution_count": 97,
      "outputs": [
        {
          "output_type": "execute_result",
          "data": {
            "application/vnd.google.colaboratory.intrinsic": {
              "type": "string"
            },
            "text/plain": [
              "'Parking'"
            ]
          },
          "metadata": {
            "tags": []
          },
          "execution_count": 97
        }
      ]
    },
    {
      "cell_type": "code",
      "metadata": {
        "id": "jBL_rg2HLw3g",
        "colab_type": "code",
        "colab": {
          "base_uri": "https://localhost:8080/",
          "height": 119
        },
        "outputId": "2bfdab17-1523-4bc0-943a-1187ba94173e"
      },
      "source": [
        "# Python program to write \n",
        "# text on video \n",
        "'''''\n",
        "from google.colab.patches import cv2_imshow\n",
        "import cv2\n",
        "import cv2 \n",
        "import matplotlib.pyplot as plt\n",
        "\n",
        "cap = cv2.VideoCapture(video) \n",
        "\n",
        "while(True): \n",
        "\t\n",
        "\t# Capture frames in the video \n",
        "\tret, frame = cap.read() \n",
        "\n",
        "\t# describe the type of font \n",
        "\t# to be used. \n",
        "\tfont = cv2.FONT_HERSHEY_SIMPLEX \n",
        "\n",
        "\t# Use putText() method for \n",
        "\t# inserting text on video \n",
        "\tcv2.putText(frame, \n",
        "\t\t\t\tclass_names[np.argmax(predictions)], \n",
        "\t\t\t\t(50, 50), \n",
        "\t\t\t\tfont, 1, \n",
        "\t\t\t\t(0, 255, 255), \n",
        "\t\t\t\t2, \n",
        "\t\t\t\tcv2.LINE_4) \n",
        "\n",
        "\t# Display the resulting frame \n",
        "\tcv2_imshow(frame) \n",
        "\n",
        "\t# creating 'q' as the quit \n",
        "\t# button for the video \n",
        "\tif cv2.waitKey(1) & 0xFF == ord('q'): \n",
        "\t\tbreak\n",
        "\n",
        "# release the cap object \n",
        "cap.release() \n",
        "# close all windows \n",
        "cv2.destroyAllWindows() \n",
        "'''''"
      ],
      "execution_count": 81,
      "outputs": [
        {
          "output_type": "execute_result",
          "data": {
            "application/vnd.google.colaboratory.intrinsic": {
              "type": "string"
            },
            "text/plain": [
              "\"''\\nfrom google.colab.patches import cv2_imshow\\nimport cv2\\nimport cv2 \\nimport matplotlib.pyplot as plt\\n\\ncap = cv2.VideoCapture(video) \\n\\nwhile(True): \\n\\t\\n\\t# Capture frames in the video \\n\\tret, frame = cap.read() \\n\\n\\t# describe the type of font \\n\\t# to be used. \\n\\tfont = cv2.FONT_HERSHEY_SIMPLEX \\n\\n\\t# Use putText() method for \\n\\t# inserting text on video \\n\\tcv2.putText(frame, \\n\\t\\t\\t\\tclass_names[np.argmax(predictions)], \\n\\t\\t\\t\\t(50, 50), \\n\\t\\t\\t\\tfont, 1, \\n\\t\\t\\t\\t(0, 255, 255), \\n\\t\\t\\t\\t2, \\n\\t\\t\\t\\tcv2.LINE_4) \\n\\n\\t# Display the resulting frame \\n\\tcv2_imshow(frame) \\n\\n\\t# creating 'q' as the quit \\n\\t# button for the video \\n\\tif cv2.waitKey(1) & 0xFF == ord('q'): \\n\\t\\tbreak\\n\\n# release the cap object \\ncap.release() \\n# close all windows \\ncv2.destroyAllWindows() \\n\""
            ]
          },
          "metadata": {
            "tags": []
          },
          "execution_count": 81
        }
      ]
    }
  ]
}