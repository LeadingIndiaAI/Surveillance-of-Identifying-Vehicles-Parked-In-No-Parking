{
  "nbformat": 4,
  "nbformat_minor": 0,
  "metadata": {
    "colab": {
      "name": "3DCNN.ipynb",
      "provenance": [],
      "collapsed_sections": [],
      "include_colab_link": true
    },
    "kernelspec": {
      "name": "python3",
      "display_name": "Python 3"
    },
    "accelerator": "GPU"
  },
  "cells": [
    {
      "cell_type": "markdown",
      "metadata": {
        "id": "view-in-github",
        "colab_type": "text"
      },
      "source": [
        "<a href=\"https://colab.research.google.com/github/PoonamMagadum/Parking-Classification/blob/master/3DCNN.ipynb\" target=\"_parent\"><img src=\"https://colab.research.google.com/assets/colab-badge.svg\" alt=\"Open In Colab\"/></a>"
      ]
    },
    {
      "cell_type": "markdown",
      "metadata": {
        "id": "ko4uyqHugXKY",
        "colab_type": "text"
      },
      "source": [
        ""
      ]
    },
    {
      "cell_type": "code",
      "metadata": {
        "id": "W2pcw_5_9Ybr",
        "colab_type": "code",
        "colab": {
          "base_uri": "https://localhost:8080/",
          "height": 34
        },
        "outputId": "1e1ee644-1091-45b1-93c0-23b04157bf6c"
      },
      "source": [
        "from google.colab import drive\n",
        "drive.mount('/content/drive')"
      ],
      "execution_count": 98,
      "outputs": [
        {
          "output_type": "stream",
          "text": [
            "Drive already mounted at /content/drive; to attempt to forcibly remount, call drive.mount(\"/content/drive\", force_remount=True).\n"
          ],
          "name": "stdout"
        }
      ]
    },
    {
      "cell_type": "code",
      "metadata": {
        "id": "AcX2EdehmR9Q",
        "colab_type": "code",
        "colab": {}
      },
      "source": [
        "import argparse\n",
        "import os\n",
        "import matplotlib\n",
        "matplotlib.use('AGG')\n",
        "import matplotlib.pyplot as plt\n",
        "import numpy as np\n",
        "from keras.datasets import cifar10\n",
        "from keras.layers import (Activation, Conv3D, Dense, Dropout, Flatten, MaxPooling3D, BatchNormalization)\n",
        "from keras.layers.advanced_activations import LeakyReLU\n",
        "from keras.losses import categorical_crossentropy\n",
        "from keras.models import Sequential\n",
        "from keras.optimizers import Adam\n",
        "from keras.utils import np_utils\n",
        "from keras import regularizers\n",
        "from keras.utils.vis_utils import plot_model\n",
        "from sklearn.model_selection import train_test_split\n",
        "from tqdm import tqdm\n",
        "import numpy as np\n",
        "import cv2\n",
        "from easydict import EasyDict\n",
        "%matplotlib inline"
      ],
      "execution_count": 99,
      "outputs": []
    },
    {
      "cell_type": "markdown",
      "metadata": {
        "id": "mACm9smI7f6k",
        "colab_type": "text"
      },
      "source": [
        ""
      ]
    },
    {
      "cell_type": "code",
      "metadata": {
        "id": "Uu8K5u8Pm2ty",
        "colab_type": "code",
        "colab": {}
      },
      "source": [
        "class Videoto3D:\n",
        "\n",
        "    def __init__(self, width, height, depth):\n",
        "        self.width = width\n",
        "        self.height = height\n",
        "        self.depth = depth\n",
        "\n",
        "    def video3d(self, filename, color=False, skip=True):\n",
        "        print(\"test \",filename)\n",
        "        cap = cv2.VideoCapture(filename)\n",
        "        nframe = cap.get(cv2.CAP_PROP_FRAME_COUNT)\n",
        "        if skip:\n",
        "            frames = [x * nframe / self.depth for x in range(self.depth)]\n",
        "        else:\n",
        "            frames = [x for x in range(self.depth)]\n",
        "        framearray = []\n",
        "\n",
        "        for i in range(self.depth):\n",
        "            cap.set(cv2.CAP_PROP_POS_FRAMES, frames[i])\n",
        "            ret, frame = cap.read()\n",
        "            frame = cv2.resize(frame, (self.height, self.width))\n",
        "            if color:\n",
        "                framearray.append(frame)\n",
        "            else:\n",
        "                framearray.append(cv2.cvtColor(frame, cv2.COLOR_BGR2GRAY))\n",
        "\n",
        "        cap.release()\n",
        "        return np.array(framearray)\n",
        "\n",
        "    def get_UCF_classname(self, filename):\n",
        "        return filename[filename.find('_') + 1:filename.find('_', 2)]\n"
      ],
      "execution_count": 100,
      "outputs": []
    },
    {
      "cell_type": "code",
      "metadata": {
        "id": "_PrSR8JEnBbh",
        "colab_type": "code",
        "colab": {}
      },
      "source": [
        "def save_history(history, result_dir):\n",
        "    loss = history.history['loss']\n",
        "    acc = history.history['accuracy']\n",
        "    val_loss = history.history['val_loss']\n",
        "    val_acc = history.history['val_accuracy']\n",
        "    nb_epoch = len(acc)\n",
        "\n",
        "    with open(os.path.join(result_dir, 'result.txt'), 'w') as fp:\n",
        "        fp.write('epoch\\tloss\\tacc\\tval_loss\\tval_acc\\n')\n",
        "        for i in range(nb_epoch):\n",
        "            fp.write('{}\\t{}\\t{}\\t{}\\t{}\\n'.format(\n",
        "                i, loss[i], acc[i], val_loss[i], val_acc[i]))"
      ],
      "execution_count": 101,
      "outputs": []
    },
    {
      "cell_type": "code",
      "metadata": {
        "id": "ngKs-iyOnDAr",
        "colab_type": "code",
        "colab": {}
      },
      "source": [
        "\n",
        "def loaddata(video_dir, vid3d, nclass, result_dir, color=False, skip=True):\n",
        "    folders = os.listdir(video_dir)\n",
        "    X = []\n",
        "    labels = []\n",
        "    labellist = []\n",
        "\n",
        "    for folder in folders:\n",
        "      files = os.listdir(video_dir+\"/\"+folder)\n",
        "      pbar = tqdm(total=len(files))\n",
        "      for filename in files:\n",
        "          pbar.update(1)\n",
        "          if filename == '.DS_Store':\n",
        "              continue\n",
        "          name = os.path.join(video_dir+\"/\"+folder, filename)\n",
        "          # label = vid3d.get_UCF_classname(folder)\n",
        "          label = folder\n",
        "          if label not in labellist:\n",
        "              if len(labellist) >= nclass:\n",
        "                  continue\n",
        "              labellist.append(label)\n",
        "          labels.append(label)\n",
        "          X.append(vid3d.video3d(name, color=color, skip=skip))\n",
        "\n",
        "      pbar.close()\n",
        "    with open(os.path.join(result_dir, 'classes.txt'), 'w') as fp:\n",
        "        for i in range(len(labellist)):\n",
        "            fp.write('{}\\n'.format(labellist[i]))\n",
        "\n",
        "    for num, label in enumerate(labellist):\n",
        "        for i in range(len(labels)):\n",
        "            if label == labels[i]:\n",
        "                labels[i] = num\n",
        "    if color:\n",
        "        return np.array(X).transpose((0, 2, 3, 4, 1)), labels\n",
        "    else:\n",
        "        return np.array(X).transpose((0, 2, 3, 1)), labels\n"
      ],
      "execution_count": 102,
      "outputs": []
    },
    {
      "cell_type": "code",
      "metadata": {
        "id": "_GQgcsupcuWk",
        "colab_type": "code",
        "colab": {}
      },
      "source": [
        "args = EasyDict({\n",
        "    \"batch\": 32,\n",
        "    \"epoch\": 500,\n",
        "    \"videos\":'/content/drive/My Drive/dataset',\n",
        "    \"nclass\":3,\n",
        "    \"color\":True,\n",
        "    \"skip\":False,\n",
        "    \"depth\":12,\n",
        "    \"output\": '/content/drive/My Drive/Parking Videos/result3' \n",
        "})"
      ],
      "execution_count": 103,
      "outputs": []
    },
    {
      "cell_type": "code",
      "metadata": {
        "id": "EKf0nGbreO-d",
        "colab_type": "code",
        "colab": {
          "base_uri": "https://localhost:8080/",
          "height": 1000
        },
        "outputId": "ef2890c9-d163-4c15-d3e8-73d4f436de9e"
      },
      "source": [
        "img_rows, img_cols, frames = 32, 32, args.depth\n",
        "channel = 3 if args.color else 1\n",
        "fname_npz = args.output+'/dataset_{}_{}_{}.npz'.format(\n",
        "    args.nclass, args.depth, args.skip)\n",
        "\n",
        "\n",
        "vid3d = Videoto3D(img_rows, img_cols, frames)\n",
        "nb_classes = args.nclass\n",
        "if os.path.exists(fname_npz):\n",
        "    loadeddata = np.load(fname_npz)\n",
        "    X, Y = loadeddata[\"X\"], loadeddata[\"Y\"]\n",
        "else:\n",
        "    x, y = loaddata(args.videos, vid3d, args.nclass,\n",
        "                    args.output, args.color, args.skip)\n",
        "    X = x.reshape((x.shape[0], img_rows, img_cols, frames, channel))\n",
        "    Y = np_utils.to_categorical(y, nb_classes)\n",
        "\n",
        "    X = X.astype('float32')\n",
        "    np.savez(fname_npz, X=X, Y=Y)\n",
        "    print('Saved dataset to dataset.npz.')\n",
        "print('X_shape:{}\\nY_shape:{}'.format(X.shape, Y.shape))"
      ],
      "execution_count": 104,
      "outputs": [
        {
          "output_type": "stream",
          "text": [
            "\n",
            "\n",
            "  0%|          | 0/200 [00:00<?, ?it/s]\u001b[A\u001b[A\n",
            "\n",
            "  1%|          | 2/200 [00:00<00:11, 17.36it/s]\u001b[A\u001b[A"
          ],
          "name": "stderr"
        },
        {
          "output_type": "stream",
          "text": [
            "test  /content/drive/My Drive/dataset/Parking/videoplayback (1).mp4\n",
            "test  /content/drive/My Drive/dataset/Parking/How To- Easy Parking 90°.mp4\n"
          ],
          "name": "stdout"
        },
        {
          "output_type": "stream",
          "text": [
            "\n",
            "\n",
            "  2%|▏         | 3/200 [00:00<00:25,  7.64it/s]\u001b[A\u001b[A\n",
            "\n",
            "  2%|▎         | 5/200 [00:00<00:23,  8.27it/s]\u001b[A\u001b[A"
          ],
          "name": "stderr"
        },
        {
          "output_type": "stream",
          "text": [
            "test  /content/drive/My Drive/dataset/Parking/Video 2020-06-06 at 7.29.01 PM.mp4\n",
            "test  /content/drive/My Drive/dataset/Parking/Video 2020-06-06 at 7.28.51 PM.mp4\n",
            "test  /content/drive/My Drive/dataset/Parking/car_parking.mp4\n"
          ],
          "name": "stdout"
        },
        {
          "output_type": "stream",
          "text": [
            "\n",
            "\n",
            "  3%|▎         | 6/200 [00:01<01:06,  2.91it/s]\u001b[A\u001b[A"
          ],
          "name": "stderr"
        },
        {
          "output_type": "stream",
          "text": [
            "test  /content/drive/My Drive/dataset/Parking/Forward Bay Parking Manoeuvre - 2020 UK .mp4\n"
          ],
          "name": "stdout"
        },
        {
          "output_type": "stream",
          "text": [
            "\n",
            "\n",
            "  4%|▎         | 7/200 [00:02<01:24,  2.30it/s]\u001b[A\u001b[A"
          ],
          "name": "stderr"
        },
        {
          "output_type": "stream",
          "text": [
            "test  /content/drive/My Drive/dataset/Parking/Practice Parallel parking.mp4\n"
          ],
          "name": "stdout"
        },
        {
          "output_type": "stream",
          "text": [
            "\n",
            "\n",
            "  4%|▍         | 8/200 [00:02<01:34,  2.03it/s]\u001b[A\u001b[A"
          ],
          "name": "stderr"
        },
        {
          "output_type": "stream",
          "text": [
            "test  /content/drive/My Drive/dataset/Parking/Tesla Self Parking.mp4\n"
          ],
          "name": "stdout"
        },
        {
          "output_type": "stream",
          "text": [
            "\n",
            "\n",
            "  4%|▍         | 9/200 [00:03<01:40,  1.89it/s]\u001b[A\u001b[A"
          ],
          "name": "stderr"
        },
        {
          "output_type": "stream",
          "text": [
            "test  /content/drive/My Drive/dataset/Parking/video (1) (1).mp4\n"
          ],
          "name": "stdout"
        },
        {
          "output_type": "stream",
          "text": [
            "\n",
            "\n",
            "  5%|▌         | 10/200 [00:03<01:30,  2.11it/s]\u001b[A\u001b[A"
          ],
          "name": "stderr"
        },
        {
          "output_type": "stream",
          "text": [
            "test  /content/drive/My Drive/dataset/Parking/video (1).mp4\n"
          ],
          "name": "stdout"
        },
        {
          "output_type": "stream",
          "text": [
            "\n",
            "\n",
            "  6%|▌         | 11/200 [00:04<01:22,  2.30it/s]\u001b[A\u001b[A"
          ],
          "name": "stderr"
        },
        {
          "output_type": "stream",
          "text": [
            "test  /content/drive/My Drive/dataset/Parking/video (5) (1).mp4\n"
          ],
          "name": "stdout"
        },
        {
          "output_type": "stream",
          "text": [
            "\n",
            "\n",
            "  6%|▌         | 12/200 [00:04<01:16,  2.46it/s]\u001b[A\u001b[A"
          ],
          "name": "stderr"
        },
        {
          "output_type": "stream",
          "text": [
            "test  /content/drive/My Drive/dataset/Parking/video (5).mp4\n"
          ],
          "name": "stdout"
        },
        {
          "output_type": "stream",
          "text": [
            "\n",
            "\n",
            "  6%|▋         | 13/200 [00:04<01:12,  2.59it/s]\u001b[A\u001b[A"
          ],
          "name": "stderr"
        },
        {
          "output_type": "stream",
          "text": [
            "test  /content/drive/My Drive/dataset/Parking/Tesla Self Parking(1).mp4\n"
          ],
          "name": "stdout"
        },
        {
          "output_type": "stream",
          "text": [
            "\n",
            "\n",
            "  7%|▋         | 14/200 [00:05<01:24,  2.21it/s]\u001b[A\u001b[A"
          ],
          "name": "stderr"
        },
        {
          "output_type": "stream",
          "text": [
            "test  /content/drive/My Drive/dataset/Parking/HOW TO PARK A CAR.mp4\n"
          ],
          "name": "stdout"
        },
        {
          "output_type": "stream",
          "text": [
            "\n",
            "\n",
            "  8%|▊         | 15/200 [00:05<01:33,  1.97it/s]\u001b[A\u001b[A"
          ],
          "name": "stderr"
        },
        {
          "output_type": "stream",
          "text": [
            "test  /content/drive/My Drive/dataset/Parking/video (3) (1).mp4\n"
          ],
          "name": "stdout"
        },
        {
          "output_type": "stream",
          "text": [
            "\n",
            "\n",
            "  8%|▊         | 16/200 [00:06<01:23,  2.20it/s]\u001b[A\u001b[A"
          ],
          "name": "stderr"
        },
        {
          "output_type": "stream",
          "text": [
            "test  /content/drive/My Drive/dataset/Parking/video (3).mp4\n"
          ],
          "name": "stdout"
        },
        {
          "output_type": "stream",
          "text": [
            "\n",
            "\n",
            "  8%|▊         | 17/200 [00:06<01:16,  2.39it/s]\u001b[A\u001b[A"
          ],
          "name": "stderr"
        },
        {
          "output_type": "stream",
          "text": [
            "test  /content/drive/My Drive/dataset/Parking/video (4) (1).mp4\n"
          ],
          "name": "stdout"
        },
        {
          "output_type": "stream",
          "text": [
            "\n",
            "\n",
            "  9%|▉         | 18/200 [00:07<01:14,  2.44it/s]\u001b[A\u001b[A"
          ],
          "name": "stderr"
        },
        {
          "output_type": "stream",
          "text": [
            "test  /content/drive/My Drive/dataset/Parking/video (4).mp4\n"
          ],
          "name": "stdout"
        },
        {
          "output_type": "stream",
          "text": [
            "\n",
            "\n",
            " 10%|▉         | 19/200 [00:07<01:13,  2.48it/s]\u001b[A\u001b[A"
          ],
          "name": "stderr"
        },
        {
          "output_type": "stream",
          "text": [
            "test  /content/drive/My Drive/dataset/Parking/video (2).mp4\n"
          ],
          "name": "stdout"
        },
        {
          "output_type": "stream",
          "text": [
            "\n",
            "\n",
            " 10%|█         | 20/200 [00:07<01:08,  2.62it/s]\u001b[A\u001b[A"
          ],
          "name": "stderr"
        },
        {
          "output_type": "stream",
          "text": [
            "test  /content/drive/My Drive/dataset/Parking/video (6).mp4\n"
          ],
          "name": "stdout"
        },
        {
          "output_type": "stream",
          "text": [
            "\n",
            "\n",
            " 10%|█         | 21/200 [00:08<01:06,  2.69it/s]\u001b[A\u001b[A"
          ],
          "name": "stderr"
        },
        {
          "output_type": "stream",
          "text": [
            "test  /content/drive/My Drive/dataset/Parking/Justice for Illegal Parking.mp4\n"
          ],
          "name": "stdout"
        },
        {
          "output_type": "stream",
          "text": [
            "\n",
            "\n",
            " 11%|█         | 22/200 [00:08<01:27,  2.03it/s]\u001b[A\u001b[A"
          ],
          "name": "stderr"
        },
        {
          "output_type": "stream",
          "text": [
            "test  /content/drive/My Drive/dataset/Parking/BMW X6 M Sport Parking Assist .mp4\n"
          ],
          "name": "stdout"
        },
        {
          "output_type": "stream",
          "text": [
            "\n",
            "\n",
            " 12%|█▏        | 23/200 [00:09<01:43,  1.71it/s]\u001b[A\u001b[A"
          ],
          "name": "stderr"
        },
        {
          "output_type": "stream",
          "text": [
            "test  /content/drive/My Drive/dataset/Parking/Parking in Japan!.mp4\n"
          ],
          "name": "stdout"
        },
        {
          "output_type": "stream",
          "text": [
            "\n",
            "\n",
            " 12%|█▏        | 24/200 [00:10<01:40,  1.75it/s]\u001b[A\u001b[A"
          ],
          "name": "stderr"
        },
        {
          "output_type": "stream",
          "text": [
            "test  /content/drive/My Drive/dataset/Parking/How To Park.mp4\n"
          ],
          "name": "stdout"
        },
        {
          "output_type": "stream",
          "text": [
            "\n",
            "\n",
            " 12%|█▎        | 25/200 [00:10<01:38,  1.78it/s]\u001b[A\u001b[A"
          ],
          "name": "stderr"
        },
        {
          "output_type": "stream",
          "text": [
            "test  /content/drive/My Drive/dataset/Parking/How To Park(1).mp4\n"
          ],
          "name": "stdout"
        },
        {
          "output_type": "stream",
          "text": [
            "\n",
            "\n",
            " 13%|█▎        | 26/200 [00:11<01:35,  1.82it/s]\u001b[A\u001b[A"
          ],
          "name": "stderr"
        },
        {
          "output_type": "stream",
          "text": [
            "test  /content/drive/My Drive/dataset/Parking/[ENG_-_CC]_Parking_Undur_Reverse_Parking_[Pemula](480p) (online-video-cutter.com).mp4\n"
          ],
          "name": "stdout"
        },
        {
          "output_type": "stream",
          "text": [
            "\n",
            "\n",
            " 14%|█▎        | 27/200 [00:11<01:18,  2.20it/s]\u001b[A\u001b[A\n",
            "\n",
            " 14%|█▍        | 28/200 [00:11<01:04,  2.68it/s]\u001b[A\u001b[A"
          ],
          "name": "stderr"
        },
        {
          "output_type": "stream",
          "text": [
            "test  /content/drive/My Drive/dataset/Parking/[ENG_-_CC]_Parking_Undur_Reverse_Parking_[Pemula](480p) (online-video-cutter.com) (1).mp4\n",
            "test  /content/drive/My Drive/dataset/Parking/[ENG_-_CC]_Parking_Undur_Reverse_Parking_[Pemula](480p) (online-video-cutter.com) (2).mp4\n"
          ],
          "name": "stdout"
        },
        {
          "output_type": "stream",
          "text": [
            "\n",
            "\n",
            " 14%|█▍        | 29/200 [00:11<00:54,  3.13it/s]\u001b[A\u001b[A"
          ],
          "name": "stderr"
        },
        {
          "output_type": "stream",
          "text": [
            "test  /content/drive/My Drive/dataset/Parking/90_parking_Dubai_driving_test(1080p) (online-video-cutter.com).mp4\n"
          ],
          "name": "stdout"
        },
        {
          "output_type": "stream",
          "text": [
            "\n",
            "\n",
            " 15%|█▌        | 30/200 [00:13<01:38,  1.72it/s]\u001b[A\u001b[A"
          ],
          "name": "stderr"
        },
        {
          "output_type": "stream",
          "text": [
            "test  /content/drive/My Drive/dataset/Parking/90_parking_Dubai_driving_test(1080p) (online-video-cutter.com) (1).mp4\n"
          ],
          "name": "stdout"
        },
        {
          "output_type": "stream",
          "text": [
            "\n",
            "\n",
            " 16%|█▌        | 31/200 [00:14<02:06,  1.34it/s]\u001b[A\u001b[A"
          ],
          "name": "stderr"
        },
        {
          "output_type": "stream",
          "text": [
            "test  /content/drive/My Drive/dataset/Parking/Handicapped_Parking_Karma(480p) (online-video-cutter.com).mp4\n"
          ],
          "name": "stdout"
        },
        {
          "output_type": "stream",
          "text": [
            "\n",
            "\n",
            " 16%|█▌        | 32/200 [00:14<01:45,  1.59it/s]\u001b[A\u001b[A"
          ],
          "name": "stderr"
        },
        {
          "output_type": "stream",
          "text": [
            "test  /content/drive/My Drive/dataset/Parking/How_to_CORRECT_REVERSE_PARKING_Toronto_Drivers(480p) (online-video-cutter.com).mp4\n"
          ],
          "name": "stdout"
        },
        {
          "output_type": "stream",
          "text": [
            "\n",
            "\n",
            " 16%|█▋        | 33/200 [00:14<01:24,  1.98it/s]\u001b[A\u001b[A"
          ],
          "name": "stderr"
        },
        {
          "output_type": "stream",
          "text": [
            "test  /content/drive/My Drive/dataset/Parking/PARKING_SPOT_REVENGE(1080p) (online-video-cutter.com).mp4\n"
          ],
          "name": "stdout"
        },
        {
          "output_type": "stream",
          "text": [
            "\n",
            "\n",
            " 17%|█▋        | 34/200 [00:15<01:51,  1.49it/s]\u001b[A\u001b[A\n",
            "\n",
            " 18%|█▊        | 35/200 [00:16<01:27,  1.89it/s]\u001b[A\u001b[A"
          ],
          "name": "stderr"
        },
        {
          "output_type": "stream",
          "text": [
            "test  /content/drive/My Drive/dataset/Parking/Parking_Trouble_in_Croatia-Must_See!(360p) (online-video-cutter.com).mp4\n",
            "test  /content/drive/My Drive/dataset/Parking/PlacePod_IoT_Smart_Parking_Sensor_from_PNI_Sensor_Corporation(360p) (online-video-cutter.com).mp4\n"
          ],
          "name": "stdout"
        },
        {
          "output_type": "stream",
          "text": [
            "\n",
            "\n",
            " 18%|█▊        | 37/200 [00:16<01:06,  2.44it/s]\u001b[A\u001b[A"
          ],
          "name": "stderr"
        },
        {
          "output_type": "stream",
          "text": [
            "test  /content/drive/My Drive/dataset/Parking/Reverse_Parking_Test_90_Degree_With_Cones_by_Mona_0559654847_UAE_Abu_dhabi(360p) (online-video-cutter.com).mp4\n"
          ],
          "name": "stdout"
        },
        {
          "output_type": "stream",
          "text": [
            "\n",
            "\n",
            " 19%|█▉        | 38/200 [00:16<01:03,  2.56it/s]\u001b[A\u001b[A"
          ],
          "name": "stderr"
        },
        {
          "output_type": "stream",
          "text": [
            "test  /content/drive/My Drive/dataset/Parking/u0026_Tutorial_of_the_Reverse_Bay_Parking_Manoeuvre_for_the_UK_driving_test(480p) (online-video-cutter.com) (1).mp4\n",
            "test  /content/drive/My Drive/dataset/Parking/FAPS H.264 PC-DVR CCTV Security Surveillance Camera Video of Parking Lot Overview ( 480 X 480 ).mp4\n"
          ],
          "name": "stdout"
        },
        {
          "output_type": "stream",
          "text": [
            "\n",
            "\n",
            " 20%|█▉        | 39/200 [00:16<00:55,  2.89it/s]\u001b[A\u001b[A"
          ],
          "name": "stderr"
        },
        {
          "output_type": "stream",
          "text": [
            "test  /content/drive/My Drive/dataset/Parking/CCTV Video of a parking lot ( 360 X 360 ).mp4\n",
            "test  /content/drive/My Drive/dataset/Parking/FUNNY WOMAN DRIVER PARKING FAIL ( 480 X 480 ).mp4\n"
          ],
          "name": "stdout"
        },
        {
          "output_type": "stream",
          "text": [
            "\n",
            "\n",
            " 20%|██        | 41/200 [00:17<00:46,  3.39it/s]\u001b[A\u001b[A\n",
            "\n",
            " 21%|██        | 42/200 [00:17<00:40,  3.91it/s]\u001b[A\u001b[A"
          ],
          "name": "stderr"
        },
        {
          "output_type": "stream",
          "text": [
            "test  /content/drive/My Drive/dataset/Parking/Parking Dataset ( 480 X 480 ).mp4\n",
            "test  /content/drive/My Drive/dataset/Parking/Walmart Security Footage - Parking Lot (Angie Cornett) ( 360 X 320 ).mp4\n",
            "test  /content/drive/My Drive/dataset/Parking/BLK-HDPTZ12 Security Camera Parkng Lot Surveillance Video ( 720 X 720 ).mp4\n"
          ],
          "name": "stdout"
        },
        {
          "output_type": "stream",
          "text": [
            "\n",
            "\n",
            " 22%|██▏       | 44/200 [00:18<00:45,  3.46it/s]\u001b[A\u001b[A"
          ],
          "name": "stderr"
        },
        {
          "output_type": "stream",
          "text": [
            "test  /content/drive/My Drive/dataset/Parking/bB_2nd_Gen_Stance_Nation_Nagasaki_2019_Parking_Lot_Raw_Video(360p) (online-video-cutter.com).mp4\n"
          ],
          "name": "stdout"
        },
        {
          "output_type": "stream",
          "text": [
            "\n",
            "\n",
            " 22%|██▎       | 45/200 [00:18<00:41,  3.75it/s]\u001b[A\u001b[A"
          ],
          "name": "stderr"
        },
        {
          "output_type": "stream",
          "text": [
            "test  /content/drive/My Drive/dataset/Parking/bB_2nd_Gen_Stance_Nation_Nagasaki_2019_Parking_Lot_Raw_Video(360p) (online-video-cutter.com) (1).mp4\n"
          ],
          "name": "stdout"
        },
        {
          "output_type": "stream",
          "text": [
            "\n",
            "\n",
            " 23%|██▎       | 46/200 [00:18<00:38,  3.99it/s]\u001b[A\u001b[A"
          ],
          "name": "stderr"
        },
        {
          "output_type": "stream",
          "text": [
            "test  /content/drive/My Drive/dataset/Parking/Como_pasar_el_examen_de_reversa_en_el_MVA(720p) (online-video-cutter.com).mp4\n"
          ],
          "name": "stdout"
        },
        {
          "output_type": "stream",
          "text": [
            "\n",
            "\n",
            " 24%|██▎       | 47/200 [00:19<00:49,  3.08it/s]\u001b[A\u001b[A"
          ],
          "name": "stderr"
        },
        {
          "output_type": "stream",
          "text": [
            "test  /content/drive/My Drive/dataset/Parking/Como_pasar_el_examen_de_reversa_en_el_MVA(720p) (online-video-cutter.com) (1).mp4\n"
          ],
          "name": "stdout"
        },
        {
          "output_type": "stream",
          "text": [
            "\n",
            "\n",
            " 24%|██▍       | 48/200 [00:19<00:56,  2.71it/s]\u001b[A\u001b[A"
          ],
          "name": "stderr"
        },
        {
          "output_type": "stream",
          "text": [
            "test  /content/drive/My Drive/dataset/Parking/Como_pasar_el_examen_de_reversa_en_el_MVA(720p) (online-video-cutter.com) (2).mp4\n"
          ],
          "name": "stdout"
        },
        {
          "output_type": "stream",
          "text": [
            "\n",
            "\n",
            " 24%|██▍       | 49/200 [00:20<01:06,  2.27it/s]\u001b[A\u001b[A"
          ],
          "name": "stderr"
        },
        {
          "output_type": "stream",
          "text": [
            "test  /content/drive/My Drive/dataset/Parking/2019_Japanese_Classic_Car_Parking_Lot_Show(360p) (online-video-cutter.com) (1).mp4\n"
          ],
          "name": "stdout"
        },
        {
          "output_type": "stream",
          "text": [
            "\n",
            "\n",
            " 25%|██▌       | 50/200 [00:20<00:58,  2.58it/s]\u001b[A\u001b[A"
          ],
          "name": "stderr"
        },
        {
          "output_type": "stream",
          "text": [
            "test  /content/drive/My Drive/dataset/Parking/2019_Japanese_Classic_Car_Parking_Lot_Show(360p) (online-video-cutter.com) (2).mp4\n"
          ],
          "name": "stdout"
        },
        {
          "output_type": "stream",
          "text": [
            "\n",
            "\n",
            " 26%|██▌       | 51/200 [00:20<00:51,  2.89it/s]\u001b[A\u001b[A"
          ],
          "name": "stderr"
        },
        {
          "output_type": "stream",
          "text": [
            "test  /content/drive/My Drive/dataset/Parking/2019_Japanese_Classic_Car_Parking_Lot_Show(360p) (online-video-cutter.com) (3).mp4\n"
          ],
          "name": "stdout"
        },
        {
          "output_type": "stream",
          "text": [
            "\n",
            "\n",
            " 26%|██▌       | 52/200 [00:20<00:46,  3.15it/s]\u001b[A\u001b[A"
          ],
          "name": "stderr"
        },
        {
          "output_type": "stream",
          "text": [
            "test  /content/drive/My Drive/dataset/Parking/2019_Japanese_Classic_Car_Parking_Lot_Show(360p) (online-video-cutter.com) (4).mp4\n"
          ],
          "name": "stdout"
        },
        {
          "output_type": "stream",
          "text": [
            "\n",
            "\n",
            " 26%|██▋       | 53/200 [00:21<00:44,  3.32it/s]\u001b[A\u001b[A"
          ],
          "name": "stderr"
        },
        {
          "output_type": "stream",
          "text": [
            "test  /content/drive/My Drive/dataset/Parking/Driving_test_at_Arfa_Tower,_Lahore_for_issuing_driving_license(1080p) (online-video-cutter.com).mp4\n"
          ],
          "name": "stdout"
        },
        {
          "output_type": "stream",
          "text": [
            "\n",
            "\n",
            " 27%|██▋       | 54/200 [00:22<01:40,  1.45it/s]\u001b[A\u001b[A"
          ],
          "name": "stderr"
        },
        {
          "output_type": "stream",
          "text": [
            "test  /content/drive/My Drive/dataset/Parking/2019_Japanese_Classic_Car_Parking_Lot_Show(360p) (online-video-cutter.com) (5).mp4\n"
          ],
          "name": "stdout"
        },
        {
          "output_type": "stream",
          "text": [
            "\n",
            "\n",
            " 28%|██▊       | 55/200 [00:23<01:21,  1.78it/s]\u001b[A\u001b[A"
          ],
          "name": "stderr"
        },
        {
          "output_type": "stream",
          "text": [
            "test  /content/drive/My Drive/dataset/Parking/2019_Japanese_Classic_Car_Parking_Lot_Show(360p) (online-video-cutter.com) (6).mp4\n"
          ],
          "name": "stdout"
        },
        {
          "output_type": "stream",
          "text": [
            "\n",
            "\n",
            " 28%|██▊       | 56/200 [00:23<01:06,  2.17it/s]\u001b[A\u001b[A\n",
            "\n",
            " 28%|██▊       | 57/200 [00:23<00:54,  2.64it/s]\u001b[A\u001b[A"
          ],
          "name": "stderr"
        },
        {
          "output_type": "stream",
          "text": [
            "test  /content/drive/My Drive/dataset/Parking/2019_Japanese_Classic_Car_Parking_Lot_Show(360p) (online-video-cutter.com) (7).mp4\n",
            "test  /content/drive/My Drive/dataset/Parking/2019_Japanese_Classic_Car_Parking_Lot_Show(360p) (online-video-cutter.com) (8).mp4\n"
          ],
          "name": "stdout"
        },
        {
          "output_type": "stream",
          "text": [
            "\n",
            "\n",
            " 29%|██▉       | 58/200 [00:23<00:45,  3.09it/s]\u001b[A\u001b[A"
          ],
          "name": "stderr"
        },
        {
          "output_type": "stream",
          "text": [
            "test  /content/drive/My Drive/dataset/Parking/2019_Japanese_Classic_Car_Parking_Lot_Show(360p) (online-video-cutter.com) (9).mp4\n"
          ],
          "name": "stdout"
        },
        {
          "output_type": "stream",
          "text": [
            "\n",
            "\n",
            " 30%|██▉       | 59/200 [00:23<00:42,  3.33it/s]\u001b[A\u001b[A\n",
            "\n",
            " 30%|███       | 60/200 [00:24<00:38,  3.67it/s]"
          ],
          "name": "stderr"
        },
        {
          "output_type": "stream",
          "text": [
            "test  /content/drive/My Drive/dataset/Parking/2019_Japanese_Classic_Car_Parking_Lot_Show(360p) (online-video-cutter.com) (10).mp4\n"
          ],
          "name": "stdout"
        },
        {
          "output_type": "stream",
          "text": [
            "\u001b[A\u001b[A"
          ],
          "name": "stderr"
        },
        {
          "output_type": "stream",
          "text": [
            "test  /content/drive/My Drive/dataset/Parking/2019_Japanese_Classic_Car_Parking_Lot_Show(360p) (online-video-cutter.com) (11).mp4\n"
          ],
          "name": "stdout"
        },
        {
          "output_type": "stream",
          "text": [
            "\n",
            "\n",
            " 30%|███       | 61/200 [00:24<00:36,  3.83it/s]\u001b[A\u001b[A"
          ],
          "name": "stderr"
        },
        {
          "output_type": "stream",
          "text": [
            "test  /content/drive/My Drive/dataset/Parking/2019_Japanese_Classic_Car_Parking_Lot_Show(360p) (online-video-cutter.com) (12).mp4\n"
          ],
          "name": "stdout"
        },
        {
          "output_type": "stream",
          "text": [
            "\n",
            "\n",
            " 31%|███       | 62/200 [00:24<00:35,  3.90it/s]\u001b[A\u001b[A"
          ],
          "name": "stderr"
        },
        {
          "output_type": "stream",
          "text": [
            "test  /content/drive/My Drive/dataset/Parking/2019_Japanese_Classic_Car_Parking_Lot_Show(360p) (online-video-cutter.com) (13).mp4\n"
          ],
          "name": "stdout"
        },
        {
          "output_type": "stream",
          "text": [
            "\n",
            "\n",
            " 32%|███▏      | 63/200 [00:24<00:34,  3.97it/s]\u001b[A\u001b[A\n",
            "\n",
            " 32%|███▏      | 64/200 [00:24<00:31,  4.38it/s]\u001b[A\u001b[A"
          ],
          "name": "stderr"
        },
        {
          "output_type": "stream",
          "text": [
            "test  /content/drive/My Drive/dataset/Parking/E46_at_School_Parking_Lot_in_Georgia,_USA(360p) (online-video-cutter.com).mp4\n",
            "test  /content/drive/My Drive/dataset/Parking/NA_Roadster_Miata_Stance_Nation_Nagasaki_2019_Parking_Lot_Raw_Video(360p) (online-video-cutter.com).mp4\n"
          ],
          "name": "stdout"
        },
        {
          "output_type": "stream",
          "text": [
            "\n",
            "\n",
            " 32%|███▎      | 65/200 [00:25<00:31,  4.30it/s]\u001b[A\u001b[A"
          ],
          "name": "stderr"
        },
        {
          "output_type": "stream",
          "text": [
            "test  /content/drive/My Drive/dataset/Parking/Japanese_Classic_Cars_Stance_Nation_Nagasaki_2019_Parking_Lot_Raw_Video_1(360p) (online-video-cutter.com).mp4\n"
          ],
          "name": "stdout"
        },
        {
          "output_type": "stream",
          "text": [
            "\n",
            "\n",
            " 33%|███▎      | 66/200 [00:25<00:30,  4.39it/s]\u001b[A\u001b[A"
          ],
          "name": "stderr"
        },
        {
          "output_type": "stream",
          "text": [
            "test  /content/drive/My Drive/dataset/Parking/Japanese_Classic_Cars_Stance_Nation_Nagasaki_2019_Parking_Lot_Raw_Video_1(360p) (online-video-cutter.com) (1).mp4\n"
          ],
          "name": "stdout"
        },
        {
          "output_type": "stream",
          "text": [
            "\n",
            "\n",
            " 34%|███▎      | 67/200 [00:25<00:30,  4.41it/s]\u001b[A\u001b[A\n",
            "\n",
            " 34%|███▍      | 68/200 [00:25<00:28,  4.65it/s]\u001b[A\u001b[A"
          ],
          "name": "stderr"
        },
        {
          "output_type": "stream",
          "text": [
            "test  /content/drive/My Drive/dataset/Parking/SLEEPERS_GARAGE　ウチのNA8C_ロードスター最終型。(360p) (online-video-cutter.com).mp4\n",
            "test  /content/drive/My Drive/dataset/Parking/SLEEPERS_GARAGE　ウチのNA8C_ロードスター最終型。(360p) (online-video-cutter.com) (1).mp4\n"
          ],
          "name": "stdout"
        },
        {
          "output_type": "stream",
          "text": [
            "\n",
            "\n",
            " 34%|███▍      | 69/200 [00:26<00:28,  4.64it/s]\u001b[A\u001b[A"
          ],
          "name": "stderr"
        },
        {
          "output_type": "stream",
          "text": [
            "test  /content/drive/My Drive/dataset/Parking/SLEEPERS_GARAGE　ウチのNA8C_ロードスター最終型。(360p) (online-video-cutter.com) (2).mp4\n"
          ],
          "name": "stdout"
        },
        {
          "output_type": "stream",
          "text": [
            "\n",
            "\n",
            " 35%|███▌      | 70/200 [00:26<00:28,  4.59it/s]\u001b[A\u001b[A\n",
            "\n",
            " 36%|███▌      | 71/200 [00:26<00:25,  5.16it/s]\u001b[A\u001b[A"
          ],
          "name": "stderr"
        },
        {
          "output_type": "stream",
          "text": [
            "test  /content/drive/My Drive/dataset/Parking/gettyimages-1154009934-640_adpp4.mp4\n",
            "test  /content/drive/My Drive/dataset/Parking/gettyimages-1154009934-640_adpp1.mp4\n"
          ],
          "name": "stdout"
        },
        {
          "output_type": "stream",
          "text": [
            "\n",
            "\n",
            " 36%|███▌      | 72/200 [00:26<00:22,  5.58it/s]\u001b[A\u001b[A\n",
            "\n",
            " 36%|███▋      | 73/200 [00:26<00:22,  5.71it/s]\u001b[A\u001b[A"
          ],
          "name": "stderr"
        },
        {
          "output_type": "stream",
          "text": [
            "test  /content/drive/My Drive/dataset/Parking/gettyimages-1154009934-640_adpp2.mp4\n",
            "test  /content/drive/My Drive/dataset/Parking/gettyimages-1154009934-640_adpp3.mp4\n"
          ],
          "name": "stdout"
        },
        {
          "output_type": "stream",
          "text": [
            "\n",
            "\n",
            " 37%|███▋      | 74/200 [00:26<00:21,  5.92it/s]\u001b[A\u001b[A\n",
            "\n",
            " 38%|███▊      | 75/200 [00:27<00:20,  6.14it/s]\u001b[A\u001b[A"
          ],
          "name": "stderr"
        },
        {
          "output_type": "stream",
          "text": [
            "test  /content/drive/My Drive/dataset/Parking/gettyimages-1154009934-640_adpp.mp4\n",
            "test  /content/drive/My Drive/dataset/Parking/Black people sure love handicapped parking spots. (online-video-cutter.com).mp4\n"
          ],
          "name": "stdout"
        },
        {
          "output_type": "stream",
          "text": [
            "\n",
            "\n",
            " 38%|███▊      | 76/200 [00:27<00:36,  3.44it/s]\u001b[A\u001b[A"
          ],
          "name": "stderr"
        },
        {
          "output_type": "stream",
          "text": [
            "test  /content/drive/My Drive/dataset/Parking/Learn How To Park... On the left side of the road!! WITH GTA V!! (online-video-cutter.com).mp4\n"
          ],
          "name": "stdout"
        },
        {
          "output_type": "stream",
          "text": [
            "\n",
            "\n",
            " 38%|███▊      | 77/200 [00:28<00:55,  2.22it/s]\u001b[A\u001b[A"
          ],
          "name": "stderr"
        },
        {
          "output_type": "stream",
          "text": [
            "test  /content/drive/My Drive/dataset/Parking/Daikoku Futo - Real Jdm car meet in japan (online-video-cutter.com).mp4\n"
          ],
          "name": "stdout"
        },
        {
          "output_type": "stream",
          "text": [
            "\n",
            "\n",
            " 39%|███▉      | 78/200 [00:29<00:59,  2.05it/s]\u001b[A\u001b[A"
          ],
          "name": "stderr"
        },
        {
          "output_type": "stream",
          "text": [
            "test  /content/drive/My Drive/dataset/Parking/Daikoku Futo - Real Jdm car meet in japan (online-video-cutter.com) (1).mp4\n"
          ],
          "name": "stdout"
        },
        {
          "output_type": "stream",
          "text": [
            "\n",
            "\n",
            " 40%|███▉      | 79/200 [00:29<01:01,  1.97it/s]\u001b[A\u001b[A"
          ],
          "name": "stderr"
        },
        {
          "output_type": "stream",
          "text": [
            "test  /content/drive/My Drive/dataset/Parking/Daikoku Futo - Real Jdm car meet in japan (online-video-cutter.com) (2).mp4\n"
          ],
          "name": "stdout"
        },
        {
          "output_type": "stream",
          "text": [
            "\n",
            "\n",
            " 40%|████      | 80/200 [00:30<01:03,  1.90it/s]\u001b[A\u001b[A"
          ],
          "name": "stderr"
        },
        {
          "output_type": "stream",
          "text": [
            "test  /content/drive/My Drive/dataset/Parking/Daikoku Futo - Real Jdm car meet in japan (online-video-cutter.com) (3).mp4\n"
          ],
          "name": "stdout"
        },
        {
          "output_type": "stream",
          "text": [
            "\n",
            "\n",
            " 40%|████      | 81/200 [00:30<01:04,  1.83it/s]\u001b[A\u001b[A"
          ],
          "name": "stderr"
        },
        {
          "output_type": "stream",
          "text": [
            "test  /content/drive/My Drive/dataset/Parking/Daikoku Futo - Real Jdm car meet in japan (online-video-cutter.com) (4).mp4\n"
          ],
          "name": "stdout"
        },
        {
          "output_type": "stream",
          "text": [
            "\n",
            "\n",
            " 41%|████      | 82/200 [00:31<01:07,  1.76it/s]\u001b[A\u001b[A"
          ],
          "name": "stderr"
        },
        {
          "output_type": "stream",
          "text": [
            "test  /content/drive/My Drive/dataset/Parking/Daikoku Futo - Real Jdm car meet in japan (online-video-cutter.com) (5).mp4\n"
          ],
          "name": "stdout"
        },
        {
          "output_type": "stream",
          "text": [
            "\n",
            "\n",
            " 42%|████▏     | 83/200 [00:31<01:06,  1.75it/s]\u001b[A\u001b[A"
          ],
          "name": "stderr"
        },
        {
          "output_type": "stream",
          "text": [
            "test  /content/drive/My Drive/dataset/Parking/Daikoku Futo - Real Jdm car meet in japan (online-video-cutter.com) (6).mp4\n"
          ],
          "name": "stdout"
        },
        {
          "output_type": "stream",
          "text": [
            "\n",
            "\n",
            " 42%|████▏     | 84/200 [00:32<01:05,  1.78it/s]\u001b[A\u001b[A"
          ],
          "name": "stderr"
        },
        {
          "output_type": "stream",
          "text": [
            "test  /content/drive/My Drive/dataset/Parking/Daikoku Futo - Real Jdm car meet in japan (online-video-cutter.com) (7).mp4\n"
          ],
          "name": "stdout"
        },
        {
          "output_type": "stream",
          "text": [
            "\n",
            "\n",
            " 42%|████▎     | 85/200 [00:33<01:04,  1.78it/s]\u001b[A\u001b[A"
          ],
          "name": "stderr"
        },
        {
          "output_type": "stream",
          "text": [
            "test  /content/drive/My Drive/dataset/Parking/Daikoku Futo - Real Jdm car meet in japan (online-video-cutter.com) (8).mp4\n"
          ],
          "name": "stdout"
        },
        {
          "output_type": "stream",
          "text": [
            "\n",
            "\n",
            " 43%|████▎     | 86/200 [00:33<01:04,  1.76it/s]\u001b[A\u001b[A"
          ],
          "name": "stderr"
        },
        {
          "output_type": "stream",
          "text": [
            "test  /content/drive/My Drive/dataset/Parking/Daikoku Futo - Real Jdm car meet in japan (online-video-cutter.com) (9).mp4\n"
          ],
          "name": "stdout"
        },
        {
          "output_type": "stream",
          "text": [
            "\n",
            "\n",
            " 44%|████▎     | 87/200 [00:34<01:06,  1.70it/s]\u001b[A\u001b[A"
          ],
          "name": "stderr"
        },
        {
          "output_type": "stream",
          "text": [
            "test  /content/drive/My Drive/dataset/Parking/Daikoku Futo - Real Jdm car meet in japan (online-video-cutter.com) (10).mp4\n"
          ],
          "name": "stdout"
        },
        {
          "output_type": "stream",
          "text": [
            "\n",
            "\n",
            " 44%|████▍     | 88/200 [00:34<01:07,  1.65it/s]\u001b[A\u001b[A"
          ],
          "name": "stderr"
        },
        {
          "output_type": "stream",
          "text": [
            "test  /content/drive/My Drive/dataset/Parking/Daikoku Futo - Real Jdm car meet in japan (online-video-cutter.com) (11).mp4\n"
          ],
          "name": "stdout"
        },
        {
          "output_type": "stream",
          "text": [
            "\n",
            "\n",
            " 44%|████▍     | 89/200 [00:35<01:07,  1.65it/s]\u001b[A\u001b[A"
          ],
          "name": "stderr"
        },
        {
          "output_type": "stream",
          "text": [
            "test  /content/drive/My Drive/dataset/Parking/CRAZY Midnight Hong Kong JDM Car Meet! (online-video-cutter.com).mp4\n"
          ],
          "name": "stdout"
        },
        {
          "output_type": "stream",
          "text": [
            "\n",
            "\n",
            " 45%|████▌     | 90/200 [00:36<01:08,  1.61it/s]\u001b[A\u001b[A"
          ],
          "name": "stderr"
        },
        {
          "output_type": "stream",
          "text": [
            "test  /content/drive/My Drive/dataset/Parking/CRAZY Midnight Hong Kong JDM Car Meet! (online-video-cutter.com) (1).mp4\n"
          ],
          "name": "stdout"
        },
        {
          "output_type": "stream",
          "text": [
            "\n",
            "\n",
            " 46%|████▌     | 91/200 [00:36<01:10,  1.55it/s]\u001b[A\u001b[A"
          ],
          "name": "stderr"
        },
        {
          "output_type": "stream",
          "text": [
            "test  /content/drive/My Drive/dataset/Parking/CRAZY Midnight Hong Kong JDM Car Meet! (online-video-cutter.com) (2).mp4\n"
          ],
          "name": "stdout"
        },
        {
          "output_type": "stream",
          "text": [
            "\n",
            "\n",
            " 46%|████▌     | 92/200 [00:37<01:08,  1.58it/s]\u001b[A\u001b[A"
          ],
          "name": "stderr"
        },
        {
          "output_type": "stream",
          "text": [
            "test  /content/drive/My Drive/dataset/Parking/CRAZY Midnight Hong Kong JDM Car Meet! (online-video-cutter.com) (3).mp4\n"
          ],
          "name": "stdout"
        },
        {
          "output_type": "stream",
          "text": [
            "\n",
            "\n",
            " 46%|████▋     | 93/200 [00:38<01:08,  1.56it/s]\u001b[A\u001b[A"
          ],
          "name": "stderr"
        },
        {
          "output_type": "stream",
          "text": [
            "test  /content/drive/My Drive/dataset/Parking/CRAZY Midnight Hong Kong JDM Car Meet! (online-video-cutter.com) (4).mp4\n"
          ],
          "name": "stdout"
        },
        {
          "output_type": "stream",
          "text": [
            "\n",
            "\n",
            " 47%|████▋     | 94/200 [00:38<01:08,  1.54it/s]\u001b[A\u001b[A"
          ],
          "name": "stderr"
        },
        {
          "output_type": "stream",
          "text": [
            "test  /content/drive/My Drive/dataset/Parking/CRAZY Midnight Hong Kong JDM Car Meet! (online-video-cutter.com) (5).mp4\n"
          ],
          "name": "stdout"
        },
        {
          "output_type": "stream",
          "text": [
            "\n",
            "\n",
            " 48%|████▊     | 95/200 [00:39<01:09,  1.51it/s]\u001b[A\u001b[A"
          ],
          "name": "stderr"
        },
        {
          "output_type": "stream",
          "text": [
            "test  /content/drive/My Drive/dataset/Parking/CRAZY Midnight Hong Kong JDM Car Meet! (online-video-cutter.com) (6).mp4\n"
          ],
          "name": "stdout"
        },
        {
          "output_type": "stream",
          "text": [
            "\n",
            "\n",
            " 48%|████▊     | 96/200 [00:40<01:09,  1.49it/s]\u001b[A\u001b[A"
          ],
          "name": "stderr"
        },
        {
          "output_type": "stream",
          "text": [
            "test  /content/drive/My Drive/dataset/Parking/CRAZY Midnight Hong Kong JDM Car Meet! (online-video-cutter.com) (7).mp4\n"
          ],
          "name": "stdout"
        },
        {
          "output_type": "stream",
          "text": [
            "\n",
            "\n",
            " 48%|████▊     | 97/200 [00:40<01:09,  1.48it/s]\u001b[A\u001b[A"
          ],
          "name": "stderr"
        },
        {
          "output_type": "stream",
          "text": [
            "test  /content/drive/My Drive/dataset/Parking/CRAZY Midnight Hong Kong JDM Car Meet! (online-video-cutter.com) (8).mp4\n"
          ],
          "name": "stdout"
        },
        {
          "output_type": "stream",
          "text": [
            "\n",
            "\n",
            " 49%|████▉     | 98/200 [00:41<01:09,  1.48it/s]\u001b[A\u001b[A"
          ],
          "name": "stderr"
        },
        {
          "output_type": "stream",
          "text": [
            "test  /content/drive/My Drive/dataset/Parking/CRAZY Midnight Hong Kong JDM Car Meet! (online-video-cutter.com) (9).mp4\n"
          ],
          "name": "stdout"
        },
        {
          "output_type": "stream",
          "text": [
            "\n",
            "\n",
            " 50%|████▉     | 99/200 [00:42<01:09,  1.46it/s]\u001b[A\u001b[A"
          ],
          "name": "stderr"
        },
        {
          "output_type": "stream",
          "text": [
            "test  /content/drive/My Drive/dataset/Parking/How To Make Parallel Parking In A Parking Space - Car Parking Lesson - City Car Trainers 8056256498 (online-video-cutter.com).mp4\n"
          ],
          "name": "stdout"
        },
        {
          "output_type": "stream",
          "text": [
            "\n",
            "\n",
            " 50%|█████     | 100/200 [00:42<01:09,  1.45it/s]\u001b[A\u001b[A"
          ],
          "name": "stderr"
        },
        {
          "output_type": "stream",
          "text": [
            "test  /content/drive/My Drive/dataset/Parking/How To Make Parallel Parking In A Parking Space - Car Parking Lesson - City Car Trainers 8056256498 (online-video-cutter.com) (1).mp4\n"
          ],
          "name": "stdout"
        },
        {
          "output_type": "stream",
          "text": [
            "\n",
            "\n",
            " 50%|█████     | 101/200 [00:43<01:07,  1.47it/s]\u001b[A\u001b[A\n",
            "\n",
            " 51%|█████     | 102/200 [00:43<00:50,  1.94it/s]\u001b[A\u001b[A"
          ],
          "name": "stderr"
        },
        {
          "output_type": "stream",
          "text": [
            "test  /content/drive/My Drive/dataset/Parking/vidclip1.mp4\n",
            "test  /content/drive/My Drive/dataset/Parking/vidclip2.mp4\n"
          ],
          "name": "stdout"
        },
        {
          "output_type": "stream",
          "text": [
            "\n",
            "\n",
            " 52%|█████▏    | 103/200 [00:44<00:43,  2.23it/s]\u001b[A\u001b[A\n",
            "\n",
            " 52%|█████▏    | 104/200 [00:44<00:33,  2.89it/s]\u001b[A\u001b[A"
          ],
          "name": "stderr"
        },
        {
          "output_type": "stream",
          "text": [
            "test  /content/drive/My Drive/dataset/Parking/vidclip3.mp4\n",
            "test  /content/drive/My Drive/dataset/Parking/vidclip4.mp4\n"
          ],
          "name": "stdout"
        },
        {
          "output_type": "stream",
          "text": [
            "\n",
            "\n",
            " 52%|█████▎    | 105/200 [00:44<00:27,  3.42it/s]\u001b[A\u001b[A"
          ],
          "name": "stderr"
        },
        {
          "output_type": "stream",
          "text": [
            "test  /content/drive/My Drive/dataset/Parking/vidclip5.mp4\n"
          ],
          "name": "stdout"
        },
        {
          "output_type": "stream",
          "text": [
            "\n",
            "\n",
            " 53%|█████▎    | 106/200 [00:45<00:42,  2.19it/s]\u001b[A\u001b[A"
          ],
          "name": "stderr"
        },
        {
          "output_type": "stream",
          "text": [
            "test  /content/drive/My Drive/dataset/Parking/vidclip6.mp4\n"
          ],
          "name": "stdout"
        },
        {
          "output_type": "stream",
          "text": [
            "\n",
            "\n",
            " 54%|█████▎    | 107/200 [00:45<00:47,  1.98it/s]\u001b[A\u001b[A"
          ],
          "name": "stderr"
        },
        {
          "output_type": "stream",
          "text": [
            "test  /content/drive/My Drive/dataset/Parking/vidclip7.mp4\n"
          ],
          "name": "stdout"
        },
        {
          "output_type": "stream",
          "text": [
            "\n",
            "\n",
            " 54%|█████▍    | 108/200 [00:46<00:50,  1.84it/s]\u001b[A\u001b[A"
          ],
          "name": "stderr"
        },
        {
          "output_type": "stream",
          "text": [
            "test  /content/drive/My Drive/dataset/Parking/vidclip8.mp4\n"
          ],
          "name": "stdout"
        },
        {
          "output_type": "stream",
          "text": [
            "\n",
            "\n",
            " 55%|█████▍    | 109/200 [00:47<00:52,  1.75it/s]\u001b[A\u001b[A"
          ],
          "name": "stderr"
        },
        {
          "output_type": "stream",
          "text": [
            "test  /content/drive/My Drive/dataset/Parking/vidclip9.mp4\n"
          ],
          "name": "stdout"
        },
        {
          "output_type": "stream",
          "text": [
            "\n",
            "\n",
            " 55%|█████▌    | 110/200 [00:47<00:47,  1.88it/s]\u001b[A\u001b[A"
          ],
          "name": "stderr"
        },
        {
          "output_type": "stream",
          "text": [
            "test  /content/drive/My Drive/dataset/Parking/vidclip10.mp4\n"
          ],
          "name": "stdout"
        },
        {
          "output_type": "stream",
          "text": [
            "\n",
            "\n",
            " 56%|█████▌    | 111/200 [00:47<00:44,  1.98it/s]\u001b[A\u001b[A"
          ],
          "name": "stderr"
        },
        {
          "output_type": "stream",
          "text": [
            "test  /content/drive/My Drive/dataset/Parking/vidclip11.mp4\n"
          ],
          "name": "stdout"
        },
        {
          "output_type": "stream",
          "text": [
            "\n",
            "\n",
            " 56%|█████▌    | 112/200 [00:48<00:42,  2.07it/s]\u001b[A\u001b[A"
          ],
          "name": "stderr"
        },
        {
          "output_type": "stream",
          "text": [
            "test  /content/drive/My Drive/dataset/Parking/vidclip12.mp4\n"
          ],
          "name": "stdout"
        },
        {
          "output_type": "stream",
          "text": [
            "\n",
            "\n",
            " 56%|█████▋    | 113/200 [00:48<00:41,  2.12it/s]\u001b[A\u001b[A"
          ],
          "name": "stderr"
        },
        {
          "output_type": "stream",
          "text": [
            "test  /content/drive/My Drive/dataset/Parking/vidclip13.mp4\n"
          ],
          "name": "stdout"
        },
        {
          "output_type": "stream",
          "text": [
            "\n",
            "\n",
            " 57%|█████▋    | 114/200 [00:49<00:43,  1.99it/s]\u001b[A\u001b[A"
          ],
          "name": "stderr"
        },
        {
          "output_type": "stream",
          "text": [
            "test  /content/drive/My Drive/dataset/Parking/vidclip14.mp4\n"
          ],
          "name": "stdout"
        },
        {
          "output_type": "stream",
          "text": [
            "\n",
            "\n",
            " 57%|█████▊    | 115/200 [00:50<00:46,  1.84it/s]\u001b[A\u001b[A"
          ],
          "name": "stderr"
        },
        {
          "output_type": "stream",
          "text": [
            "test  /content/drive/My Drive/dataset/Parking/vidclip15.mp4\n"
          ],
          "name": "stdout"
        },
        {
          "output_type": "stream",
          "text": [
            "\n",
            "\n",
            " 58%|█████▊    | 116/200 [00:50<00:43,  1.92it/s]\u001b[A\u001b[A"
          ],
          "name": "stderr"
        },
        {
          "output_type": "stream",
          "text": [
            "test  /content/drive/My Drive/dataset/Parking/vidclip16.mp4\n"
          ],
          "name": "stdout"
        },
        {
          "output_type": "stream",
          "text": [
            "\n",
            "\n",
            " 58%|█████▊    | 117/200 [00:50<00:41,  2.01it/s]\u001b[A\u001b[A"
          ],
          "name": "stderr"
        },
        {
          "output_type": "stream",
          "text": [
            "test  /content/drive/My Drive/dataset/Parking/vidclip17.mp4\n"
          ],
          "name": "stdout"
        },
        {
          "output_type": "stream",
          "text": [
            "\n",
            "\n",
            " 59%|█████▉    | 118/200 [00:51<00:40,  2.02it/s]\u001b[A\u001b[A"
          ],
          "name": "stderr"
        },
        {
          "output_type": "stream",
          "text": [
            "test  /content/drive/My Drive/dataset/Parking/vidclip18.mp4\n"
          ],
          "name": "stdout"
        },
        {
          "output_type": "stream",
          "text": [
            "\n",
            "\n",
            " 60%|█████▉    | 119/200 [00:51<00:39,  2.03it/s]\u001b[A\u001b[A"
          ],
          "name": "stderr"
        },
        {
          "output_type": "stream",
          "text": [
            "test  /content/drive/My Drive/dataset/Parking/vidclip19.mp4\n"
          ],
          "name": "stdout"
        },
        {
          "output_type": "stream",
          "text": [
            "\n",
            "\n",
            " 60%|██████    | 120/200 [00:52<00:38,  2.09it/s]\u001b[A\u001b[A"
          ],
          "name": "stderr"
        },
        {
          "output_type": "stream",
          "text": [
            "test  /content/drive/My Drive/dataset/Parking/vidclip20.mp4\n"
          ],
          "name": "stdout"
        },
        {
          "output_type": "stream",
          "text": [
            "\n",
            "\n",
            " 60%|██████    | 121/200 [00:52<00:36,  2.14it/s]\u001b[A\u001b[A"
          ],
          "name": "stderr"
        },
        {
          "output_type": "stream",
          "text": [
            "test  /content/drive/My Drive/dataset/Parking/vidclip21.mp4\n"
          ],
          "name": "stdout"
        },
        {
          "output_type": "stream",
          "text": [
            "\n",
            "\n",
            " 61%|██████    | 122/200 [00:53<00:43,  1.81it/s]\u001b[A\u001b[A"
          ],
          "name": "stderr"
        },
        {
          "output_type": "stream",
          "text": [
            "test  /content/drive/My Drive/dataset/Parking/vidclip22.mp4\n"
          ],
          "name": "stdout"
        },
        {
          "output_type": "stream",
          "text": [
            "\n",
            "\n",
            " 62%|██████▏   | 123/200 [00:54<00:46,  1.64it/s]\u001b[A\u001b[A"
          ],
          "name": "stderr"
        },
        {
          "output_type": "stream",
          "text": [
            "test  /content/drive/My Drive/dataset/Parking/vidclip23.mp4\n"
          ],
          "name": "stdout"
        },
        {
          "output_type": "stream",
          "text": [
            "\n",
            "\n",
            " 62%|██████▏   | 124/200 [00:54<00:44,  1.71it/s]\u001b[A\u001b[A"
          ],
          "name": "stderr"
        },
        {
          "output_type": "stream",
          "text": [
            "test  /content/drive/My Drive/dataset/Parking/vidclip24.mp4\n"
          ],
          "name": "stdout"
        },
        {
          "output_type": "stream",
          "text": [
            "\n",
            "\n",
            " 62%|██████▎   | 125/200 [00:55<00:42,  1.75it/s]\u001b[A\u001b[A"
          ],
          "name": "stderr"
        },
        {
          "output_type": "stream",
          "text": [
            "test  /content/drive/My Drive/dataset/Parking/vidclip25.mp4\n"
          ],
          "name": "stdout"
        },
        {
          "output_type": "stream",
          "text": [
            "\n",
            "\n",
            " 63%|██████▎   | 126/200 [00:55<00:41,  1.79it/s]\u001b[A\u001b[A\n",
            "\n",
            " 64%|██████▎   | 127/200 [00:56<00:32,  2.23it/s]\u001b[A\u001b[A"
          ],
          "name": "stderr"
        },
        {
          "output_type": "stream",
          "text": [
            "test  /content/drive/My Drive/dataset/Parking/vidclip26.mp4\n",
            "test  /content/drive/My Drive/dataset/Parking/vidclip27.mp4\n"
          ],
          "name": "stdout"
        },
        {
          "output_type": "stream",
          "text": [
            "\n",
            "\n",
            " 64%|██████▍   | 128/200 [00:56<00:26,  2.75it/s]\u001b[A\u001b[A\n",
            "\n",
            " 64%|██████▍   | 129/200 [00:56<00:21,  3.30it/s]\u001b[A\u001b[A"
          ],
          "name": "stderr"
        },
        {
          "output_type": "stream",
          "text": [
            "test  /content/drive/My Drive/dataset/Parking/vidclip28.mp4\n",
            "test  /content/drive/My Drive/dataset/Parking/vidclip29.mp4\n"
          ],
          "name": "stdout"
        },
        {
          "output_type": "stream",
          "text": [
            "\n",
            "\n",
            " 65%|██████▌   | 130/200 [00:57<00:39,  1.79it/s]\u001b[A\u001b[A"
          ],
          "name": "stderr"
        },
        {
          "output_type": "stream",
          "text": [
            "test  /content/drive/My Drive/dataset/Parking/vidclip30.mp4\n"
          ],
          "name": "stdout"
        },
        {
          "output_type": "stream",
          "text": [
            "\n",
            "\n",
            " 66%|██████▌   | 131/200 [00:58<00:50,  1.37it/s]\u001b[A\u001b[A"
          ],
          "name": "stderr"
        },
        {
          "output_type": "stream",
          "text": [
            "test  /content/drive/My Drive/dataset/Parking/vidclip31.mp4\n"
          ],
          "name": "stdout"
        },
        {
          "output_type": "stream",
          "text": [
            "\n",
            "\n",
            " 66%|██████▌   | 132/200 [00:59<00:41,  1.65it/s]\u001b[A\u001b[A"
          ],
          "name": "stderr"
        },
        {
          "output_type": "stream",
          "text": [
            "test  /content/drive/My Drive/dataset/Parking/vidclip32.mp4\n"
          ],
          "name": "stdout"
        },
        {
          "output_type": "stream",
          "text": [
            "\n",
            "\n",
            " 66%|██████▋   | 133/200 [00:59<00:32,  2.04it/s]\u001b[A\u001b[A"
          ],
          "name": "stderr"
        },
        {
          "output_type": "stream",
          "text": [
            "test  /content/drive/My Drive/dataset/Parking/vidclip33.mp4\n"
          ],
          "name": "stdout"
        },
        {
          "output_type": "stream",
          "text": [
            "\n",
            "\n",
            " 67%|██████▋   | 134/200 [01:00<00:43,  1.51it/s]\u001b[A\u001b[A\n",
            "\n",
            " 68%|██████▊   | 135/200 [01:00<00:33,  1.94it/s]\u001b[A\u001b[A"
          ],
          "name": "stderr"
        },
        {
          "output_type": "stream",
          "text": [
            "test  /content/drive/My Drive/dataset/Parking/vidclip34.mp4\n",
            "test  /content/drive/My Drive/dataset/Parking/vidclip35.mp4\n"
          ],
          "name": "stdout"
        },
        {
          "output_type": "stream",
          "text": [
            "\n",
            "\n",
            " 68%|██████▊   | 137/200 [01:00<00:24,  2.53it/s]\u001b[A\u001b[A"
          ],
          "name": "stderr"
        },
        {
          "output_type": "stream",
          "text": [
            "test  /content/drive/My Drive/dataset/Parking/vidclip36.mp4\n",
            "test  /content/drive/My Drive/dataset/Parking/vidclip37.mp4\n"
          ],
          "name": "stdout"
        },
        {
          "output_type": "stream",
          "text": [
            "\n",
            "\n",
            " 69%|██████▉   | 138/200 [01:00<00:22,  2.75it/s]\u001b[A\u001b[A"
          ],
          "name": "stderr"
        },
        {
          "output_type": "stream",
          "text": [
            "test  /content/drive/My Drive/dataset/Parking/vidclip38.mp4\n"
          ],
          "name": "stdout"
        },
        {
          "output_type": "stream",
          "text": [
            "\n",
            "\n",
            " 70%|██████▉   | 139/200 [01:01<00:19,  3.11it/s]\u001b[A\u001b[A\n",
            "\n",
            " 70%|███████   | 140/200 [01:01<00:15,  3.88it/s]\u001b[A\u001b[A"
          ],
          "name": "stderr"
        },
        {
          "output_type": "stream",
          "text": [
            "test  /content/drive/My Drive/dataset/Parking/vidclip39.mp4\n",
            "test  /content/drive/My Drive/dataset/Parking/vidclip40.mp4\n"
          ],
          "name": "stdout"
        },
        {
          "output_type": "stream",
          "text": [
            "\n",
            "\n",
            " 70%|███████   | 141/200 [01:01<00:15,  3.75it/s]\u001b[A\u001b[A\n",
            "\n",
            " 71%|███████   | 142/200 [01:01<00:13,  4.22it/s]\u001b[A\u001b[A"
          ],
          "name": "stderr"
        },
        {
          "output_type": "stream",
          "text": [
            "test  /content/drive/My Drive/dataset/Parking/vidclip41.mp4\n",
            "test  /content/drive/My Drive/dataset/Parking/vidclip42.mp4\n"
          ],
          "name": "stdout"
        },
        {
          "output_type": "stream",
          "text": [
            "\n",
            "\n",
            " 72%|███████▏  | 143/200 [01:01<00:12,  4.53it/s]\u001b[A\u001b[A"
          ],
          "name": "stderr"
        },
        {
          "output_type": "stream",
          "text": [
            "test  /content/drive/My Drive/dataset/Parking/vidclip43.mp4\n"
          ],
          "name": "stdout"
        },
        {
          "output_type": "stream",
          "text": [
            "\n",
            "\n",
            " 72%|███████▏  | 144/200 [01:02<00:18,  2.98it/s]\u001b[A\u001b[A\n",
            "\n",
            " 72%|███████▎  | 145/200 [01:02<00:16,  3.38it/s]\u001b[A\u001b[A"
          ],
          "name": "stderr"
        },
        {
          "output_type": "stream",
          "text": [
            "test  /content/drive/My Drive/dataset/Parking/vidclip44.mp4\n"
          ],
          "name": "stdout"
        },
        {
          "output_type": "stream",
          "text": [
            "\n",
            "\n",
            " 73%|███████▎  | 146/200 [01:02<00:14,  3.73it/s]"
          ],
          "name": "stderr"
        },
        {
          "output_type": "stream",
          "text": [
            "test  /content/drive/My Drive/dataset/Parking/vidclip45.mp4\n"
          ],
          "name": "stdout"
        },
        {
          "output_type": "stream",
          "text": [
            "\u001b[A\u001b[A"
          ],
          "name": "stderr"
        },
        {
          "output_type": "stream",
          "text": [
            "test  /content/drive/My Drive/dataset/Parking/vidclip46.mp4\n"
          ],
          "name": "stdout"
        },
        {
          "output_type": "stream",
          "text": [
            "\n",
            "\n",
            " 74%|███████▎  | 147/200 [01:03<00:18,  2.93it/s]\u001b[A\u001b[A"
          ],
          "name": "stderr"
        },
        {
          "output_type": "stream",
          "text": [
            "test  /content/drive/My Drive/dataset/Parking/vidclip47.mp4\n"
          ],
          "name": "stdout"
        },
        {
          "output_type": "stream",
          "text": [
            "\n",
            "\n",
            " 74%|███████▍  | 148/200 [01:03<00:19,  2.63it/s]\u001b[A\u001b[A"
          ],
          "name": "stderr"
        },
        {
          "output_type": "stream",
          "text": [
            "test  /content/drive/My Drive/dataset/Parking/vidclip48.mp4\n"
          ],
          "name": "stdout"
        },
        {
          "output_type": "stream",
          "text": [
            "\n",
            "\n",
            " 74%|███████▍  | 149/200 [01:04<00:22,  2.24it/s]\u001b[A\u001b[A"
          ],
          "name": "stderr"
        },
        {
          "output_type": "stream",
          "text": [
            "test  /content/drive/My Drive/dataset/Parking/vidclip49.mp4\n"
          ],
          "name": "stdout"
        },
        {
          "output_type": "stream",
          "text": [
            "\n",
            "\n",
            " 75%|███████▌  | 150/200 [01:04<00:19,  2.59it/s]\u001b[A\u001b[A"
          ],
          "name": "stderr"
        },
        {
          "output_type": "stream",
          "text": [
            "test  /content/drive/My Drive/dataset/Parking/vidclip50.mp4\n"
          ],
          "name": "stdout"
        },
        {
          "output_type": "stream",
          "text": [
            "\n",
            "\n",
            " 76%|███████▌  | 151/200 [01:05<00:16,  2.96it/s]\u001b[A\u001b[A"
          ],
          "name": "stderr"
        },
        {
          "output_type": "stream",
          "text": [
            "test  /content/drive/My Drive/dataset/Parking/vidclip51.mp4\n"
          ],
          "name": "stdout"
        },
        {
          "output_type": "stream",
          "text": [
            "\n",
            "\n",
            " 76%|███████▌  | 152/200 [01:05<00:15,  3.20it/s]\u001b[A\u001b[A"
          ],
          "name": "stderr"
        },
        {
          "output_type": "stream",
          "text": [
            "test  /content/drive/My Drive/dataset/Parking/vidclip52.mp4\n"
          ],
          "name": "stdout"
        },
        {
          "output_type": "stream",
          "text": [
            "\n",
            "\n",
            " 76%|███████▋  | 153/200 [01:05<00:13,  3.43it/s]\u001b[A\u001b[A"
          ],
          "name": "stderr"
        },
        {
          "output_type": "stream",
          "text": [
            "test  /content/drive/My Drive/dataset/Parking/vidclip53.mp4\n"
          ],
          "name": "stdout"
        },
        {
          "output_type": "stream",
          "text": [
            "\n",
            "\n",
            " 77%|███████▋  | 154/200 [01:07<00:30,  1.50it/s]\u001b[A\u001b[A"
          ],
          "name": "stderr"
        },
        {
          "output_type": "stream",
          "text": [
            "test  /content/drive/My Drive/dataset/Parking/vidclip54.mp4\n"
          ],
          "name": "stdout"
        },
        {
          "output_type": "stream",
          "text": [
            "\n",
            "\n",
            " 78%|███████▊  | 155/200 [01:07<00:24,  1.83it/s]\u001b[A\u001b[A"
          ],
          "name": "stderr"
        },
        {
          "output_type": "stream",
          "text": [
            "test  /content/drive/My Drive/dataset/Parking/vidclip55.mp4\n"
          ],
          "name": "stdout"
        },
        {
          "output_type": "stream",
          "text": [
            "\n",
            "\n",
            " 78%|███████▊  | 156/200 [01:07<00:19,  2.23it/s]\u001b[A\u001b[A\n",
            "\n",
            " 78%|███████▊  | 157/200 [01:07<00:15,  2.71it/s]\u001b[A\u001b[A"
          ],
          "name": "stderr"
        },
        {
          "output_type": "stream",
          "text": [
            "test  /content/drive/My Drive/dataset/Parking/vidclip56.mp4\n",
            "test  /content/drive/My Drive/dataset/Parking/vidclip57.mp4\n"
          ],
          "name": "stdout"
        },
        {
          "output_type": "stream",
          "text": [
            "\n",
            "\n",
            " 79%|███████▉  | 158/200 [01:07<00:13,  3.22it/s]\u001b[A\u001b[A"
          ],
          "name": "stderr"
        },
        {
          "output_type": "stream",
          "text": [
            "test  /content/drive/My Drive/dataset/Parking/vidclip58.mp4\n"
          ],
          "name": "stdout"
        },
        {
          "output_type": "stream",
          "text": [
            "\n",
            "\n",
            " 80%|███████▉  | 159/200 [01:08<00:11,  3.52it/s]\u001b[A\u001b[A"
          ],
          "name": "stderr"
        },
        {
          "output_type": "stream",
          "text": [
            "test  /content/drive/My Drive/dataset/Parking/vidclip59.mp4\n"
          ],
          "name": "stdout"
        },
        {
          "output_type": "stream",
          "text": [
            "\n",
            "\n",
            " 80%|████████  | 160/200 [01:08<00:10,  3.82it/s]\u001b[A\u001b[A"
          ],
          "name": "stderr"
        },
        {
          "output_type": "stream",
          "text": [
            "test  /content/drive/My Drive/dataset/Parking/vidclip60.mp4\n"
          ],
          "name": "stdout"
        },
        {
          "output_type": "stream",
          "text": [
            "\n",
            "\n",
            " 80%|████████  | 161/200 [01:08<00:09,  4.05it/s]\u001b[A\u001b[A"
          ],
          "name": "stderr"
        },
        {
          "output_type": "stream",
          "text": [
            "test  /content/drive/My Drive/dataset/Parking/vidclip61.mp4\n"
          ],
          "name": "stdout"
        },
        {
          "output_type": "stream",
          "text": [
            "\n",
            "\n",
            " 81%|████████  | 162/200 [01:08<00:09,  4.21it/s]\u001b[A\u001b[A"
          ],
          "name": "stderr"
        },
        {
          "output_type": "stream",
          "text": [
            "test  /content/drive/My Drive/dataset/Parking/vidclip62.mp4\n"
          ],
          "name": "stdout"
        },
        {
          "output_type": "stream",
          "text": [
            "\n",
            "\n",
            " 82%|████████▏ | 163/200 [01:09<00:08,  4.22it/s]\u001b[A\u001b[A\n",
            "\n",
            " 82%|████████▏ | 164/200 [01:09<00:07,  4.67it/s]\u001b[A\u001b[A"
          ],
          "name": "stderr"
        },
        {
          "output_type": "stream",
          "text": [
            "test  /content/drive/My Drive/dataset/Parking/vidclip63.mp4\n",
            "test  /content/drive/My Drive/dataset/Parking/vidclip64.mp4\n"
          ],
          "name": "stdout"
        },
        {
          "output_type": "stream",
          "text": [
            "\n",
            "\n",
            " 82%|████████▎ | 165/200 [01:09<00:07,  4.65it/s]\u001b[A\u001b[A"
          ],
          "name": "stderr"
        },
        {
          "output_type": "stream",
          "text": [
            "test  /content/drive/My Drive/dataset/Parking/vidclip65.mp4\n"
          ],
          "name": "stdout"
        },
        {
          "output_type": "stream",
          "text": [
            "\n",
            "\n",
            " 83%|████████▎ | 166/200 [01:09<00:07,  4.63it/s]\u001b[A\u001b[A"
          ],
          "name": "stderr"
        },
        {
          "output_type": "stream",
          "text": [
            "test  /content/drive/My Drive/dataset/Parking/vidclip66.mp4\n"
          ],
          "name": "stdout"
        },
        {
          "output_type": "stream",
          "text": [
            "\n",
            "\n",
            " 84%|████████▎ | 167/200 [01:09<00:07,  4.59it/s]\u001b[A\u001b[A\n",
            "\n",
            " 84%|████████▍ | 168/200 [01:10<00:06,  4.82it/s]\u001b[A\u001b[A"
          ],
          "name": "stderr"
        },
        {
          "output_type": "stream",
          "text": [
            "test  /content/drive/My Drive/dataset/Parking/vidclip67.mp4\n",
            "test  /content/drive/My Drive/dataset/Parking/vidclip68.mp4\n"
          ],
          "name": "stdout"
        },
        {
          "output_type": "stream",
          "text": [
            "\n",
            "\n",
            " 84%|████████▍ | 169/200 [01:10<00:06,  4.81it/s]\u001b[A\u001b[A"
          ],
          "name": "stderr"
        },
        {
          "output_type": "stream",
          "text": [
            "test  /content/drive/My Drive/dataset/Parking/vidclip69.mp4\n"
          ],
          "name": "stdout"
        },
        {
          "output_type": "stream",
          "text": [
            "\n",
            "\n",
            " 85%|████████▌ | 170/200 [01:10<00:06,  4.66it/s]\u001b[A\u001b[A"
          ],
          "name": "stderr"
        },
        {
          "output_type": "stream",
          "text": [
            "test  /content/drive/My Drive/dataset/Parking/vidclip70.mp4\n"
          ],
          "name": "stdout"
        },
        {
          "output_type": "stream",
          "text": [
            "\n",
            "\n",
            " 86%|████████▌ | 171/200 [01:10<00:06,  4.53it/s]\u001b[A\u001b[A"
          ],
          "name": "stderr"
        },
        {
          "output_type": "stream",
          "text": [
            "test  /content/drive/My Drive/dataset/Parking/vidclip71.mp4\n"
          ],
          "name": "stdout"
        },
        {
          "output_type": "stream",
          "text": [
            "\n",
            "\n",
            " 86%|████████▌ | 172/200 [01:10<00:06,  4.45it/s]\u001b[A\u001b[A"
          ],
          "name": "stderr"
        },
        {
          "output_type": "stream",
          "text": [
            "test  /content/drive/My Drive/dataset/Parking/vidclip72.mp4\n"
          ],
          "name": "stdout"
        },
        {
          "output_type": "stream",
          "text": [
            "\n",
            "\n",
            " 86%|████████▋ | 173/200 [01:11<00:06,  4.32it/s]\u001b[A\u001b[A"
          ],
          "name": "stderr"
        },
        {
          "output_type": "stream",
          "text": [
            "test  /content/drive/My Drive/dataset/Parking/vidclip73.mp4\n"
          ],
          "name": "stdout"
        },
        {
          "output_type": "stream",
          "text": [
            "\n",
            "\n",
            " 87%|████████▋ | 174/200 [01:11<00:06,  4.14it/s]\u001b[A\u001b[A"
          ],
          "name": "stderr"
        },
        {
          "output_type": "stream",
          "text": [
            "test  /content/drive/My Drive/dataset/Parking/vidclip74.mp4\n"
          ],
          "name": "stdout"
        },
        {
          "output_type": "stream",
          "text": [
            "\n",
            "\n",
            " 88%|████████▊ | 175/200 [01:11<00:06,  4.05it/s]\u001b[A\u001b[A"
          ],
          "name": "stderr"
        },
        {
          "output_type": "stream",
          "text": [
            "test  /content/drive/My Drive/dataset/Parking/vidclip75.mp4\n"
          ],
          "name": "stdout"
        },
        {
          "output_type": "stream",
          "text": [
            "\n",
            "\n",
            " 88%|████████▊ | 176/200 [01:12<00:08,  2.92it/s]\u001b[A\u001b[A"
          ],
          "name": "stderr"
        },
        {
          "output_type": "stream",
          "text": [
            "test  /content/drive/My Drive/dataset/Parking/vidclip76.mp4\n"
          ],
          "name": "stdout"
        },
        {
          "output_type": "stream",
          "text": [
            "\n",
            "\n",
            " 88%|████████▊ | 177/200 [01:13<00:10,  2.12it/s]\u001b[A\u001b[A"
          ],
          "name": "stderr"
        },
        {
          "output_type": "stream",
          "text": [
            "test  /content/drive/My Drive/dataset/Parking/vidclip77.mp4\n"
          ],
          "name": "stdout"
        },
        {
          "output_type": "stream",
          "text": [
            "\n",
            "\n",
            " 89%|████████▉ | 178/200 [01:13<00:10,  2.01it/s]\u001b[A\u001b[A"
          ],
          "name": "stderr"
        },
        {
          "output_type": "stream",
          "text": [
            "test  /content/drive/My Drive/dataset/Parking/vidclip78.mp4\n"
          ],
          "name": "stdout"
        },
        {
          "output_type": "stream",
          "text": [
            "\n",
            "\n",
            " 90%|████████▉ | 179/200 [01:14<00:10,  1.98it/s]\u001b[A\u001b[A"
          ],
          "name": "stderr"
        },
        {
          "output_type": "stream",
          "text": [
            "test  /content/drive/My Drive/dataset/Parking/vidclip79.mp4\n"
          ],
          "name": "stdout"
        },
        {
          "output_type": "stream",
          "text": [
            "\n",
            "\n",
            " 90%|█████████ | 180/200 [01:14<00:10,  1.92it/s]\u001b[A\u001b[A"
          ],
          "name": "stderr"
        },
        {
          "output_type": "stream",
          "text": [
            "test  /content/drive/My Drive/dataset/Parking/vidclip80.mp4\n"
          ],
          "name": "stdout"
        },
        {
          "output_type": "stream",
          "text": [
            "\n",
            "\n",
            " 90%|█████████ | 181/200 [01:15<00:10,  1.89it/s]\u001b[A\u001b[A"
          ],
          "name": "stderr"
        },
        {
          "output_type": "stream",
          "text": [
            "test  /content/drive/My Drive/dataset/Parking/vidclip81.mp4\n"
          ],
          "name": "stdout"
        },
        {
          "output_type": "stream",
          "text": [
            "\n",
            "\n",
            " 91%|█████████ | 182/200 [01:15<00:09,  1.83it/s]\u001b[A\u001b[A"
          ],
          "name": "stderr"
        },
        {
          "output_type": "stream",
          "text": [
            "test  /content/drive/My Drive/dataset/Parking/vidclip82.mp4\n"
          ],
          "name": "stdout"
        },
        {
          "output_type": "stream",
          "text": [
            "\n",
            "\n",
            " 92%|█████████▏| 183/200 [01:16<00:09,  1.81it/s]\u001b[A\u001b[A"
          ],
          "name": "stderr"
        },
        {
          "output_type": "stream",
          "text": [
            "test  /content/drive/My Drive/dataset/Parking/vidclip83.mp4\n"
          ],
          "name": "stdout"
        },
        {
          "output_type": "stream",
          "text": [
            "\n",
            "\n",
            " 92%|█████████▏| 184/200 [01:16<00:08,  1.82it/s]\u001b[A\u001b[A"
          ],
          "name": "stderr"
        },
        {
          "output_type": "stream",
          "text": [
            "test  /content/drive/My Drive/dataset/Parking/vidclip84.mp4\n"
          ],
          "name": "stdout"
        },
        {
          "output_type": "stream",
          "text": [
            "\n",
            "\n",
            " 92%|█████████▎| 185/200 [01:17<00:08,  1.82it/s]\u001b[A\u001b[A"
          ],
          "name": "stderr"
        },
        {
          "output_type": "stream",
          "text": [
            "test  /content/drive/My Drive/dataset/Parking/vidclip85.mp4\n"
          ],
          "name": "stdout"
        },
        {
          "output_type": "stream",
          "text": [
            "\n",
            "\n",
            " 93%|█████████▎| 186/200 [01:18<00:07,  1.80it/s]\u001b[A\u001b[A"
          ],
          "name": "stderr"
        },
        {
          "output_type": "stream",
          "text": [
            "test  /content/drive/My Drive/dataset/Parking/vidclip86.mp4\n"
          ],
          "name": "stdout"
        },
        {
          "output_type": "stream",
          "text": [
            "\n",
            "\n",
            " 94%|█████████▎| 187/200 [01:18<00:07,  1.74it/s]\u001b[A\u001b[A"
          ],
          "name": "stderr"
        },
        {
          "output_type": "stream",
          "text": [
            "test  /content/drive/My Drive/dataset/Parking/vidclip87.mp4\n"
          ],
          "name": "stdout"
        },
        {
          "output_type": "stream",
          "text": [
            "\n",
            "\n",
            " 94%|█████████▍| 188/200 [01:19<00:07,  1.71it/s]\u001b[A\u001b[A"
          ],
          "name": "stderr"
        },
        {
          "output_type": "stream",
          "text": [
            "test  /content/drive/My Drive/dataset/Parking/vidclip88.mp4\n"
          ],
          "name": "stdout"
        },
        {
          "output_type": "stream",
          "text": [
            "\n",
            "\n",
            " 94%|█████████▍| 189/200 [01:19<00:06,  1.72it/s]\u001b[A\u001b[A"
          ],
          "name": "stderr"
        },
        {
          "output_type": "stream",
          "text": [
            "test  /content/drive/My Drive/dataset/Parking/vidclip89.mp4\n"
          ],
          "name": "stdout"
        },
        {
          "output_type": "stream",
          "text": [
            "\n",
            "\n",
            " 95%|█████████▌| 190/200 [01:20<00:05,  1.70it/s]\u001b[A\u001b[A"
          ],
          "name": "stderr"
        },
        {
          "output_type": "stream",
          "text": [
            "test  /content/drive/My Drive/dataset/Parking/vidclip90.mp4\n"
          ],
          "name": "stdout"
        },
        {
          "output_type": "stream",
          "text": [
            "\n",
            "\n",
            " 96%|█████████▌| 191/200 [01:21<00:05,  1.64it/s]\u001b[A\u001b[A"
          ],
          "name": "stderr"
        },
        {
          "output_type": "stream",
          "text": [
            "test  /content/drive/My Drive/dataset/Parking/vidclip91.mp4\n"
          ],
          "name": "stdout"
        },
        {
          "output_type": "stream",
          "text": [
            "\n",
            "\n",
            " 96%|█████████▌| 192/200 [01:21<00:04,  1.64it/s]\u001b[A\u001b[A"
          ],
          "name": "stderr"
        },
        {
          "output_type": "stream",
          "text": [
            "test  /content/drive/My Drive/dataset/Parking/vidclip92.mp4\n"
          ],
          "name": "stdout"
        },
        {
          "output_type": "stream",
          "text": [
            "\n",
            "\n",
            " 96%|█████████▋| 193/200 [01:22<00:04,  1.64it/s]\u001b[A\u001b[A"
          ],
          "name": "stderr"
        },
        {
          "output_type": "stream",
          "text": [
            "test  /content/drive/My Drive/dataset/Parking/vidclip93.mp4\n"
          ],
          "name": "stdout"
        },
        {
          "output_type": "stream",
          "text": [
            "\n",
            "\n",
            " 97%|█████████▋| 194/200 [01:22<00:03,  1.62it/s]\u001b[A\u001b[A"
          ],
          "name": "stderr"
        },
        {
          "output_type": "stream",
          "text": [
            "test  /content/drive/My Drive/dataset/Parking/vidclip94.mp4\n"
          ],
          "name": "stdout"
        },
        {
          "output_type": "stream",
          "text": [
            "\n",
            "\n",
            " 98%|█████████▊| 195/200 [01:23<00:03,  1.60it/s]\u001b[A\u001b[A"
          ],
          "name": "stderr"
        },
        {
          "output_type": "stream",
          "text": [
            "test  /content/drive/My Drive/dataset/Parking/vidclip95.mp4\n"
          ],
          "name": "stdout"
        },
        {
          "output_type": "stream",
          "text": [
            "\n",
            "\n",
            " 98%|█████████▊| 196/200 [01:24<00:02,  1.58it/s]\u001b[A\u001b[A"
          ],
          "name": "stderr"
        },
        {
          "output_type": "stream",
          "text": [
            "test  /content/drive/My Drive/dataset/Parking/vidclip96.mp4\n"
          ],
          "name": "stdout"
        },
        {
          "output_type": "stream",
          "text": [
            "\n",
            "\n",
            " 98%|█████████▊| 197/200 [01:24<00:01,  1.57it/s]\u001b[A\u001b[A"
          ],
          "name": "stderr"
        },
        {
          "output_type": "stream",
          "text": [
            "test  /content/drive/My Drive/dataset/Parking/vidclip97.mp4\n"
          ],
          "name": "stdout"
        },
        {
          "output_type": "stream",
          "text": [
            "\n",
            "\n",
            " 99%|█████████▉| 198/200 [01:25<00:01,  1.58it/s]\u001b[A\u001b[A"
          ],
          "name": "stderr"
        },
        {
          "output_type": "stream",
          "text": [
            "test  /content/drive/My Drive/dataset/Parking/vidclip98.mp4\n"
          ],
          "name": "stdout"
        },
        {
          "output_type": "stream",
          "text": [
            "\n",
            "\n",
            "100%|█████████▉| 199/200 [01:26<00:00,  1.55it/s]\u001b[A\u001b[A"
          ],
          "name": "stderr"
        },
        {
          "output_type": "stream",
          "text": [
            "test  /content/drive/My Drive/dataset/Parking/vidclip99.mp4\n"
          ],
          "name": "stdout"
        },
        {
          "output_type": "stream",
          "text": [
            "\n",
            "\n",
            "100%|██████████| 200/200 [01:26<00:00,  1.55it/s]\u001b[A\u001b[A"
          ],
          "name": "stderr"
        },
        {
          "output_type": "stream",
          "text": [
            "test  /content/drive/My Drive/dataset/Parking/vidclip100.mp4\n"
          ],
          "name": "stdout"
        },
        {
          "output_type": "stream",
          "text": [
            "\r100%|██████████| 200/200 [01:27<00:00,  2.29it/s]\n",
            "\n",
            "\n",
            "  0%|          | 0/200 [00:00<?, ?it/s]\u001b[A\u001b[A\n",
            "\n",
            "  1%|          | 2/200 [00:00<00:19, 10.41it/s]\u001b[A\u001b[A"
          ],
          "name": "stderr"
        },
        {
          "output_type": "stream",
          "text": [
            "test  /content/drive/My Drive/dataset/No_Parking/ISLab-04.mp4\n"
          ],
          "name": "stdout"
        },
        {
          "output_type": "stream",
          "text": [
            "\n",
            "\n",
            "  2%|▏         | 3/200 [00:00<00:25,  7.62it/s]\u001b[A\u001b[A\n",
            "\n",
            "  2%|▏         | 4/200 [00:00<00:29,  6.54it/s]"
          ],
          "name": "stderr"
        },
        {
          "output_type": "stream",
          "text": [
            "test  /content/drive/My Drive/dataset/No_Parking/ISLab-05.mp4\n",
            "test  /content/drive/My Drive/dataset/No_Parking/ISLab-06.mp4\n"
          ],
          "name": "stdout"
        },
        {
          "output_type": "stream",
          "text": [
            "\u001b[A\u001b[A\n",
            "\n",
            "  2%|▎         | 5/200 [00:00<00:32,  6.07it/s]\u001b[A\u001b[A"
          ],
          "name": "stderr"
        },
        {
          "output_type": "stream",
          "text": [
            "test  /content/drive/My Drive/dataset/No_Parking/ISLab-07.mp4\n",
            "test  /content/drive/My Drive/dataset/No_Parking/ISLab-08.mp4\n"
          ],
          "name": "stdout"
        },
        {
          "output_type": "stream",
          "text": [
            "\n",
            "\n",
            "  3%|▎         | 6/200 [00:00<00:33,  5.75it/s]\u001b[A\u001b[A\n",
            "\n",
            "  4%|▎         | 7/200 [00:01<00:34,  5.57it/s]\u001b[A\u001b[A"
          ],
          "name": "stderr"
        },
        {
          "output_type": "stream",
          "text": [
            "test  /content/drive/My Drive/dataset/No_Parking/ISLab-09.mp4\n",
            "test  /content/drive/My Drive/dataset/No_Parking/ISLab-10.mp4\n"
          ],
          "name": "stdout"
        },
        {
          "output_type": "stream",
          "text": [
            "\n",
            "\n",
            "  4%|▍         | 8/200 [00:01<00:35,  5.41it/s]\u001b[A\u001b[A\n",
            "\n",
            "  4%|▍         | 9/200 [00:01<00:35,  5.40it/s]\u001b[A\u001b[A"
          ],
          "name": "stderr"
        },
        {
          "output_type": "stream",
          "text": [
            "test  /content/drive/My Drive/dataset/No_Parking/ISLab-11.mp4\n",
            "test  /content/drive/My Drive/dataset/No_Parking/ISLab-12.mp4\n"
          ],
          "name": "stdout"
        },
        {
          "output_type": "stream",
          "text": [
            "\n",
            "\n",
            "  5%|▌         | 10/200 [00:01<00:35,  5.41it/s]\u001b[A\u001b[A\n",
            "\n",
            "  6%|▌         | 11/200 [00:01<00:31,  5.97it/s]\u001b[A\u001b[A"
          ],
          "name": "stderr"
        },
        {
          "output_type": "stream",
          "text": [
            "test  /content/drive/My Drive/dataset/No_Parking/ISLab-15.mp4\n",
            "test  /content/drive/My Drive/dataset/No_Parking/ISLab-16.mp4\n"
          ],
          "name": "stdout"
        },
        {
          "output_type": "stream",
          "text": [
            "\n",
            "\n",
            "  6%|▌         | 12/200 [00:02<00:30,  6.17it/s]\u001b[A\u001b[A\n",
            "\n",
            "  6%|▋         | 13/200 [00:02<00:31,  5.86it/s]\u001b[A\u001b[A"
          ],
          "name": "stderr"
        },
        {
          "output_type": "stream",
          "text": [
            "test  /content/drive/My Drive/dataset/No_Parking/ISLab-13.mp4\n",
            "test  /content/drive/My Drive/dataset/No_Parking/VID_20200605_113022.mp4\n"
          ],
          "name": "stdout"
        },
        {
          "output_type": "stream",
          "text": [
            "\n",
            "\n",
            "  7%|▋         | 14/200 [00:03<01:57,  1.58it/s]\u001b[A\u001b[A"
          ],
          "name": "stderr"
        },
        {
          "output_type": "stream",
          "text": [
            "test  /content/drive/My Drive/dataset/No_Parking/videoplayback (2).mp4\n",
            "test  /content/drive/My Drive/dataset/No_Parking/Parked Illegally Blocking the Emergency lane.mp4\n"
          ],
          "name": "stdout"
        },
        {
          "output_type": "stream",
          "text": [
            "\n",
            "\n",
            "  8%|▊         | 16/200 [00:04<01:41,  1.82it/s]\u001b[A\u001b[A"
          ],
          "name": "stderr"
        },
        {
          "output_type": "stream",
          "text": [
            "test  /content/drive/My Drive/dataset/No_Parking/Parked Illegally Blocking.mp4\n"
          ],
          "name": "stdout"
        },
        {
          "output_type": "stream",
          "text": [
            "\n",
            "\n",
            "  8%|▊         | 17/200 [00:05<01:45,  1.74it/s]\u001b[A\u001b[A"
          ],
          "name": "stderr"
        },
        {
          "output_type": "stream",
          "text": [
            "test  /content/drive/My Drive/dataset/No_Parking/car no parking.mp4\n"
          ],
          "name": "stdout"
        },
        {
          "output_type": "stream",
          "text": [
            "\n",
            "\n",
            "  9%|▉         | 18/200 [00:05<01:47,  1.70it/s]\u001b[A\u001b[A\n",
            "\n",
            " 10%|▉         | 19/200 [00:06<01:24,  2.15it/s]\u001b[A\u001b[A"
          ],
          "name": "stderr"
        },
        {
          "output_type": "stream",
          "text": [
            "test  /content/drive/My Drive/dataset/No_Parking/repaet_VfoQ48mj_sNLk.mp4\n",
            "test  /content/drive/My Drive/dataset/No_Parking/Reverse Parallel Parking Manoeuvre.mp4\n"
          ],
          "name": "stdout"
        },
        {
          "output_type": "stream",
          "text": [
            "\n",
            "\n",
            " 10%|█         | 20/200 [00:06<01:42,  1.76it/s]\u001b[A\u001b[A"
          ],
          "name": "stderr"
        },
        {
          "output_type": "stream",
          "text": [
            "test  /content/drive/My Drive/dataset/No_Parking/Reverse Parallel Parking Manoeuvre(1).mp4\n"
          ],
          "name": "stdout"
        },
        {
          "output_type": "stream",
          "text": [
            "\n",
            "\n",
            " 10%|█         | 21/200 [00:07<01:52,  1.59it/s]\u001b[A\u001b[A"
          ],
          "name": "stderr"
        },
        {
          "output_type": "stream",
          "text": [
            "test  /content/drive/My Drive/dataset/No_Parking/Parallel Parking - Reverse Park between.mp4\n"
          ],
          "name": "stdout"
        },
        {
          "output_type": "stream",
          "text": [
            "\n",
            "\n",
            " 11%|█         | 22/200 [00:08<01:46,  1.66it/s]\u001b[A\u001b[A"
          ],
          "name": "stderr"
        },
        {
          "output_type": "stream",
          "text": [
            "test  /content/drive/My Drive/dataset/No_Parking/How to do Overnight Parking-Park for Overnight .mp4\n"
          ],
          "name": "stdout"
        },
        {
          "output_type": "stream",
          "text": [
            "\n",
            "\n",
            " 12%|█▏        | 23/200 [00:08<01:43,  1.72it/s]\u001b[A\u001b[A"
          ],
          "name": "stderr"
        },
        {
          "output_type": "stream",
          "text": [
            "test  /content/drive/My Drive/dataset/No_Parking/How To Park Downhill.mp4\n"
          ],
          "name": "stdout"
        },
        {
          "output_type": "stream",
          "text": [
            "\n",
            "\n",
            " 12%|█▏        | 24/200 [00:09<01:45,  1.66it/s]\u001b[A\u001b[A\n",
            "\n",
            " 12%|█▎        | 25/200 [00:09<01:20,  2.18it/s]\u001b[A\u001b[A"
          ],
          "name": "stderr"
        },
        {
          "output_type": "stream",
          "text": [
            "test  /content/drive/My Drive/dataset/No_Parking/ISLab-01 (online-video-cutter.com).mp4\n",
            "test  /content/drive/My Drive/dataset/No_Parking/ISLab-14 (online-video-cutter.com).mp4\n"
          ],
          "name": "stdout"
        },
        {
          "output_type": "stream",
          "text": [
            "\n",
            "\n",
            " 13%|█▎        | 26/200 [00:09<01:09,  2.50it/s]\u001b[A\u001b[A"
          ],
          "name": "stderr"
        },
        {
          "output_type": "stream",
          "text": [
            "test  /content/drive/My Drive/dataset/No_Parking/ISLab-14 (online-video-cutter.com) (1).mp4\n"
          ],
          "name": "stdout"
        },
        {
          "output_type": "stream",
          "text": [
            "\n",
            "\n",
            " 14%|█▎        | 27/200 [00:10<01:05,  2.66it/s]\u001b[A\u001b[A"
          ],
          "name": "stderr"
        },
        {
          "output_type": "stream",
          "text": [
            "test  /content/drive/My Drive/dataset/No_Parking/Forgery Car Parking ( 720 X 720 ).mp4\n"
          ],
          "name": "stdout"
        },
        {
          "output_type": "stream",
          "text": [
            "\n",
            "\n",
            " 14%|█▍        | 28/200 [00:10<01:25,  2.01it/s]\u001b[A\u001b[A\n",
            "\n",
            " 14%|█▍        | 29/200 [00:11<01:09,  2.45it/s]\u001b[A\u001b[A"
          ],
          "name": "stderr"
        },
        {
          "output_type": "stream",
          "text": [
            "test  /content/drive/My Drive/dataset/No_Parking/2019_Japanese_Classic_Car_Parking_Lot_Show(360p) (online-video-cutter.com).mp4\n",
            "test  /content/drive/My Drive/dataset/No_Parking/Japanese_Classic_Cars_Stance_Nation_Nagasaki_2019_Parking_Lot_Raw_Video_1(360p) (online-video-cutter.com) (2).mp4\n"
          ],
          "name": "stdout"
        },
        {
          "output_type": "stream",
          "text": [
            "\n",
            "\n",
            " 15%|█▌        | 30/200 [00:11<01:01,  2.76it/s]\u001b[A\u001b[A"
          ],
          "name": "stderr"
        },
        {
          "output_type": "stream",
          "text": [
            "test  /content/drive/My Drive/dataset/No_Parking/Japanese_Classic_Cars_Stance_Nation_Nagasaki_2019_Parking_Lot_Raw_Video_1(360p) (online-video-cutter.com) (3).mp4\n"
          ],
          "name": "stdout"
        },
        {
          "output_type": "stream",
          "text": [
            "\n",
            "\n",
            " 16%|█▌        | 31/200 [00:11<00:55,  3.07it/s]\u001b[A\u001b[A"
          ],
          "name": "stderr"
        },
        {
          "output_type": "stream",
          "text": [
            "test  /content/drive/My Drive/dataset/No_Parking/Cops Educate Illegal Parking Violator's, Round #2 (online-video-cutter.com).mp4\n"
          ],
          "name": "stdout"
        },
        {
          "output_type": "stream",
          "text": [
            "\n",
            "\n",
            " 16%|█▌        | 32/200 [00:12<01:09,  2.42it/s]\u001b[A\u001b[A"
          ],
          "name": "stderr"
        },
        {
          "output_type": "stream",
          "text": [
            "test  /content/drive/My Drive/dataset/No_Parking/Cops Educate Illegal Parking Violator's, Round #2 (online-video-cutter.com) (1).mp4\n"
          ],
          "name": "stdout"
        },
        {
          "output_type": "stream",
          "text": [
            "\n",
            "\n",
            " 16%|█▋        | 33/200 [00:12<01:22,  2.02it/s]\u001b[A\u001b[A"
          ],
          "name": "stderr"
        },
        {
          "output_type": "stream",
          "text": [
            "test  /content/drive/My Drive/dataset/No_Parking/Cops Educate Illegal Parking Violator's, Round #2 (online-video-cutter.com) (2).mp4\n"
          ],
          "name": "stdout"
        },
        {
          "output_type": "stream",
          "text": [
            "\n",
            "\n",
            " 17%|█▋        | 34/200 [00:13<01:32,  1.80it/s]\u001b[A\u001b[A"
          ],
          "name": "stderr"
        },
        {
          "output_type": "stream",
          "text": [
            "test  /content/drive/My Drive/dataset/No_Parking/Cops Educate Illegal Parking Violator's, Round #2 (online-video-cutter.com) (3).mp4\n"
          ],
          "name": "stdout"
        },
        {
          "output_type": "stream",
          "text": [
            "\n",
            "\n",
            " 18%|█▊        | 35/200 [00:14<01:35,  1.72it/s]\u001b[A\u001b[A"
          ],
          "name": "stderr"
        },
        {
          "output_type": "stream",
          "text": [
            "test  /content/drive/My Drive/dataset/No_Parking/Cops Educate Illegal Parking Violator's, Round #2 (online-video-cutter.com) (4).mp4\n"
          ],
          "name": "stdout"
        },
        {
          "output_type": "stream",
          "text": [
            "\n",
            "\n",
            " 18%|█▊        | 36/200 [00:14<01:38,  1.66it/s]\u001b[A\u001b[A"
          ],
          "name": "stderr"
        },
        {
          "output_type": "stream",
          "text": [
            "test  /content/drive/My Drive/dataset/No_Parking/Illegal parking violator is 'Special because Mamma says so' (online-video-cutter.com).mp4\n"
          ],
          "name": "stdout"
        },
        {
          "output_type": "stream",
          "text": [
            "\n",
            "\n",
            " 18%|█▊        | 37/200 [00:15<01:44,  1.57it/s]\u001b[A\u001b[A"
          ],
          "name": "stderr"
        },
        {
          "output_type": "stream",
          "text": [
            "test  /content/drive/My Drive/dataset/No_Parking/Illegal parking violator is 'Special because Mamma says so' (online-video-cutter.com) (1).mp4\n"
          ],
          "name": "stdout"
        },
        {
          "output_type": "stream",
          "text": [
            "\n",
            "\n",
            " 19%|█▉        | 38/200 [00:16<01:42,  1.58it/s]\u001b[A\u001b[A"
          ],
          "name": "stderr"
        },
        {
          "output_type": "stream",
          "text": [
            "test  /content/drive/My Drive/dataset/No_Parking/Illegal Parking Pulls Racist Card..SURPRISE ENDING (online-video-cutter.com).mp4\n"
          ],
          "name": "stdout"
        },
        {
          "output_type": "stream",
          "text": [
            "\n",
            "\n",
            " 20%|█▉        | 39/200 [00:16<01:44,  1.54it/s]\u001b[A\u001b[A"
          ],
          "name": "stderr"
        },
        {
          "output_type": "stream",
          "text": [
            "test  /content/drive/My Drive/dataset/No_Parking/Illegal Parking Pulls Racist Card..SURPRISE ENDING (online-video-cutter.com) (1).mp4\n"
          ],
          "name": "stdout"
        },
        {
          "output_type": "stream",
          "text": [
            "\n",
            "\n",
            " 20%|██        | 40/200 [00:17<01:41,  1.58it/s]\u001b[A\u001b[A"
          ],
          "name": "stderr"
        },
        {
          "output_type": "stream",
          "text": [
            "test  /content/drive/My Drive/dataset/No_Parking/Illegal Parking Pulls Racist Card..SURPRISE ENDING (online-video-cutter.com) (2).mp4\n"
          ],
          "name": "stdout"
        },
        {
          "output_type": "stream",
          "text": [
            "\n",
            "\n",
            " 20%|██        | 41/200 [00:18<01:50,  1.44it/s]\u001b[A\u001b[A"
          ],
          "name": "stderr"
        },
        {
          "output_type": "stream",
          "text": [
            "test  /content/drive/My Drive/dataset/No_Parking/Illegal Parking Pulls Racist Card..SURPRISE ENDING (online-video-cutter.com) (3).mp4\n"
          ],
          "name": "stdout"
        },
        {
          "output_type": "stream",
          "text": [
            "\n",
            "\n",
            " 21%|██        | 42/200 [00:18<01:34,  1.66it/s]\u001b[A\u001b[A"
          ],
          "name": "stderr"
        },
        {
          "output_type": "stream",
          "text": [
            "test  /content/drive/My Drive/dataset/No_Parking/Angry Illegal Driver returns to the scene of the crime!! (online-video-cutter.com).mp4\n"
          ],
          "name": "stdout"
        },
        {
          "output_type": "stream",
          "text": [
            "\n",
            "\n",
            " 22%|██▏       | 43/200 [00:19<01:38,  1.60it/s]\u001b[A\u001b[A"
          ],
          "name": "stderr"
        },
        {
          "output_type": "stream",
          "text": [
            "test  /content/drive/My Drive/dataset/No_Parking/Angry Illegal Driver returns to the scene of the crime!!.mp4\n"
          ],
          "name": "stdout"
        },
        {
          "output_type": "stream",
          "text": [
            "\n",
            "\n",
            " 22%|██▏       | 44/200 [00:20<01:38,  1.59it/s]\u001b[A\u001b[A"
          ],
          "name": "stderr"
        },
        {
          "output_type": "stream",
          "text": [
            "test  /content/drive/My Drive/dataset/No_Parking/Angry Illegal Driver returns to the scene of the crime!!1.mp4\n"
          ],
          "name": "stdout"
        },
        {
          "output_type": "stream",
          "text": [
            "\n",
            "\n",
            " 22%|██▎       | 45/200 [00:20<01:38,  1.57it/s]\u001b[A\u001b[A"
          ],
          "name": "stderr"
        },
        {
          "output_type": "stream",
          "text": [
            "test  /content/drive/My Drive/dataset/No_Parking/Angry Illegal Driver returns to the scene of the crime!! (online-video-cutter.com) (3).mp4\n"
          ],
          "name": "stdout"
        },
        {
          "output_type": "stream",
          "text": [
            "\n",
            "\n",
            " 23%|██▎       | 46/200 [00:21<01:39,  1.55it/s]\u001b[A\u001b[A"
          ],
          "name": "stderr"
        },
        {
          "output_type": "stream",
          "text": [
            "test  /content/drive/My Drive/dataset/No_Parking/Angry Illegal Driver returns to the scene of the crime!! (online-video-cutter.com) (4).mp4\n"
          ],
          "name": "stdout"
        },
        {
          "output_type": "stream",
          "text": [
            "\n",
            "\n",
            " 24%|██▎       | 47/200 [00:22<01:41,  1.51it/s]\u001b[A\u001b[A"
          ],
          "name": "stderr"
        },
        {
          "output_type": "stream",
          "text": [
            "test  /content/drive/My Drive/dataset/No_Parking/Angry Illegal Driver returns to the scene of the crime!! (online-video-cutter.com) (5).mp4\n"
          ],
          "name": "stdout"
        },
        {
          "output_type": "stream",
          "text": [
            "\n",
            "\n",
            " 24%|██▍       | 48/200 [00:22<01:35,  1.59it/s]\u001b[A\u001b[A"
          ],
          "name": "stderr"
        },
        {
          "output_type": "stream",
          "text": [
            "test  /content/drive/My Drive/dataset/No_Parking/Angry Illegal Driver returns to the scene of the crime!! (online-video-cutter.com) (6).mp4\n"
          ],
          "name": "stdout"
        },
        {
          "output_type": "stream",
          "text": [
            "\n",
            "\n",
            " 24%|██▍       | 49/200 [00:23<01:35,  1.59it/s]\u001b[A\u001b[A"
          ],
          "name": "stderr"
        },
        {
          "output_type": "stream",
          "text": [
            "test  /content/drive/My Drive/dataset/No_Parking/Illegally Parked Driver & an ANGRY UPS manager, Can't Get it together (online-video-cutter.com).mp4\n"
          ],
          "name": "stdout"
        },
        {
          "output_type": "stream",
          "text": [
            "\n",
            "\n",
            " 25%|██▌       | 50/200 [00:23<01:33,  1.61it/s]\u001b[A\u001b[A"
          ],
          "name": "stderr"
        },
        {
          "output_type": "stream",
          "text": [
            "test  /content/drive/My Drive/dataset/No_Parking/Illegally Parked Driver & an ANGRY UPS manager, Can't Get it together (online-video-cutter.com) (1).mp4\n"
          ],
          "name": "stdout"
        },
        {
          "output_type": "stream",
          "text": [
            "\n",
            "\n",
            " 26%|██▌       | 51/200 [00:24<01:39,  1.49it/s]\u001b[A\u001b[A"
          ],
          "name": "stderr"
        },
        {
          "output_type": "stream",
          "text": [
            "test  /content/drive/My Drive/dataset/No_Parking/Illegally Parked Driver & an ANGRY UPS manager, Can't Get it together (online-video-cutter.com) (2).mp4\n"
          ],
          "name": "stdout"
        },
        {
          "output_type": "stream",
          "text": [
            "\n",
            "\n",
            " 26%|██▌       | 52/200 [00:25<01:42,  1.44it/s]\u001b[A\u001b[A"
          ],
          "name": "stderr"
        },
        {
          "output_type": "stream",
          "text": [
            "test  /content/drive/My Drive/dataset/No_Parking/Illegally Parked Driver & an ANGRY UPS manager, Can't Get it together (online-video-cutter.com) (3).mp4\n"
          ],
          "name": "stdout"
        },
        {
          "output_type": "stream",
          "text": [
            "\n",
            "\n",
            " 26%|██▋       | 53/200 [00:25<01:36,  1.52it/s]\u001b[A\u001b[A"
          ],
          "name": "stderr"
        },
        {
          "output_type": "stream",
          "text": [
            "test  /content/drive/My Drive/dataset/No_Parking/Illegally Parked Driver & an ANGRY UPS manager, Can't Get it together (online-video-cutter.com) (4).mp4\n"
          ],
          "name": "stdout"
        },
        {
          "output_type": "stream",
          "text": [
            "\n",
            "\n",
            " 27%|██▋       | 54/200 [00:26<01:34,  1.54it/s]\u001b[A\u001b[A"
          ],
          "name": "stderr"
        },
        {
          "output_type": "stream",
          "text": [
            "test  /content/drive/My Drive/dataset/No_Parking/Illegally Parked Driver & an ANGRY UPS manager, Can't Get it together (online-video-cutter.com) (5).mp4\n"
          ],
          "name": "stdout"
        },
        {
          "output_type": "stream",
          "text": [
            "\n",
            "\n",
            " 28%|██▊       | 55/200 [00:27<01:35,  1.51it/s]\u001b[A\u001b[A"
          ],
          "name": "stderr"
        },
        {
          "output_type": "stream",
          "text": [
            "test  /content/drive/My Drive/dataset/No_Parking/Illegally Parked Driver & an ANGRY UPS manager, Can't Get it together (online-video-cutter.com) (6).mp4\n"
          ],
          "name": "stdout"
        },
        {
          "output_type": "stream",
          "text": [
            "\n",
            "\n",
            " 28%|██▊       | 56/200 [00:27<01:34,  1.52it/s]\u001b[A\u001b[A"
          ],
          "name": "stderr"
        },
        {
          "output_type": "stream",
          "text": [
            "test  /content/drive/My Drive/dataset/No_Parking/Illegally Parked Driver & an ANGRY UPS manager, Can't Get it together (online-video-cutter.com) (7).mp4\n"
          ],
          "name": "stdout"
        },
        {
          "output_type": "stream",
          "text": [
            "\n",
            "\n",
            " 28%|██▊       | 57/200 [00:28<01:34,  1.52it/s]\u001b[A\u001b[A"
          ],
          "name": "stderr"
        },
        {
          "output_type": "stream",
          "text": [
            "test  /content/drive/My Drive/dataset/No_Parking/'Im Lazy' Illegal Parking Violator OWNS IT!! (online-video-cutter.com).mp4\n"
          ],
          "name": "stdout"
        },
        {
          "output_type": "stream",
          "text": [
            "\n",
            "\n",
            " 29%|██▉       | 58/200 [00:29<01:34,  1.50it/s]\u001b[A\u001b[A"
          ],
          "name": "stderr"
        },
        {
          "output_type": "stream",
          "text": [
            "test  /content/drive/My Drive/dataset/No_Parking/'Im Lazy' Illegal Parking Violator OWNS IT!! (online-video-cutter.com) (1).mp4\n"
          ],
          "name": "stdout"
        },
        {
          "output_type": "stream",
          "text": [
            "\n",
            "\n",
            " 30%|██▉       | 59/200 [00:29<01:36,  1.46it/s]\u001b[A\u001b[A"
          ],
          "name": "stderr"
        },
        {
          "output_type": "stream",
          "text": [
            "test  /content/drive/My Drive/dataset/No_Parking/'Im Lazy' Illegal Parking Violator OWNS IT!! (online-video-cutter.com) (2).mp4\n"
          ],
          "name": "stdout"
        },
        {
          "output_type": "stream",
          "text": [
            "\n",
            "\n",
            " 30%|███       | 60/200 [00:30<01:34,  1.48it/s]\u001b[A\u001b[A"
          ],
          "name": "stderr"
        },
        {
          "output_type": "stream",
          "text": [
            "test  /content/drive/My Drive/dataset/No_Parking/'Im Lazy' Illegal Parking Violator OWNS IT!! (online-video-cutter.com) (3).mp4\n"
          ],
          "name": "stdout"
        },
        {
          "output_type": "stream",
          "text": [
            "\n",
            "\n",
            " 30%|███       | 61/200 [00:31<01:31,  1.52it/s]\u001b[A\u001b[A"
          ],
          "name": "stderr"
        },
        {
          "output_type": "stream",
          "text": [
            "test  /content/drive/My Drive/dataset/No_Parking/'Im Lazy' Illegal Parking Violator OWNS IT!! (online-video-cutter.com) (4).mp4\n"
          ],
          "name": "stdout"
        },
        {
          "output_type": "stream",
          "text": [
            "\n",
            "\n",
            " 31%|███       | 62/200 [00:31<01:29,  1.54it/s]\u001b[A\u001b[A"
          ],
          "name": "stderr"
        },
        {
          "output_type": "stream",
          "text": [
            "test  /content/drive/My Drive/dataset/No_Parking/'Im Lazy' Illegal Parking Violator OWNS IT!! (online-video-cutter.com) (5).mp4\n"
          ],
          "name": "stdout"
        },
        {
          "output_type": "stream",
          "text": [
            "\n",
            "\n",
            " 32%|███▏      | 63/200 [00:32<01:30,  1.51it/s]\u001b[A\u001b[A"
          ],
          "name": "stderr"
        },
        {
          "output_type": "stream",
          "text": [
            "test  /content/drive/My Drive/dataset/No_Parking/'Im Lazy' Illegal Parking Violator OWNS IT!! (online-video-cutter.com) (6).mp4\n"
          ],
          "name": "stdout"
        },
        {
          "output_type": "stream",
          "text": [
            "\n",
            "\n",
            " 32%|███▏      | 64/200 [00:33<01:32,  1.48it/s]\u001b[A\u001b[A"
          ],
          "name": "stderr"
        },
        {
          "output_type": "stream",
          "text": [
            "test  /content/drive/My Drive/dataset/No_Parking/'Mind your Business' Angry Florida Driver #2 (online-video-cutter.com).mp4\n"
          ],
          "name": "stdout"
        },
        {
          "output_type": "stream",
          "text": [
            "\n",
            "\n",
            " 32%|███▎      | 65/200 [00:34<01:32,  1.46it/s]\u001b[A\u001b[A"
          ],
          "name": "stderr"
        },
        {
          "output_type": "stream",
          "text": [
            "test  /content/drive/My Drive/dataset/No_Parking/'Mind your Business' Angry Florida Driver #2 (online-video-cutter.com) (1).mp4\n"
          ],
          "name": "stdout"
        },
        {
          "output_type": "stream",
          "text": [
            "\n",
            "\n",
            " 33%|███▎      | 66/200 [00:34<01:31,  1.47it/s]\u001b[A\u001b[A"
          ],
          "name": "stderr"
        },
        {
          "output_type": "stream",
          "text": [
            "test  /content/drive/My Drive/dataset/No_Parking/Picking up cars which are parked on no parking.. (online-video-cutter.com).mp4\n"
          ],
          "name": "stdout"
        },
        {
          "output_type": "stream",
          "text": [
            "\n",
            "\n",
            " 34%|███▎      | 67/200 [00:34<01:14,  1.77it/s]\u001b[A\u001b[A"
          ],
          "name": "stderr"
        },
        {
          "output_type": "stream",
          "text": [
            "test  /content/drive/My Drive/dataset/No_Parking/videoplayback (online-video-cutter.com).mp4\n"
          ],
          "name": "stdout"
        },
        {
          "output_type": "stream",
          "text": [
            "\n",
            "\n",
            " 34%|███▍      | 68/200 [00:35<01:01,  2.16it/s]\u001b[A\u001b[A\n",
            "\n",
            " 34%|███▍      | 69/200 [00:35<00:50,  2.61it/s]\u001b[A\u001b[A"
          ],
          "name": "stderr"
        },
        {
          "output_type": "stream",
          "text": [
            "test  /content/drive/My Drive/dataset/No_Parking/videoplayback (online-video-cutter.com) (1).mp4\n",
            "test  /content/drive/My Drive/dataset/No_Parking/videoplayback (online-video-cutter.com) (2).mp4\n"
          ],
          "name": "stdout"
        },
        {
          "output_type": "stream",
          "text": [
            "\n",
            "\n",
            " 35%|███▌      | 70/200 [00:35<00:42,  3.03it/s]\u001b[A\u001b[A\n",
            "\n",
            " 36%|███▌      | 71/200 [00:35<00:37,  3.43it/s]\u001b[A\u001b[A"
          ],
          "name": "stderr"
        },
        {
          "output_type": "stream",
          "text": [
            "test  /content/drive/My Drive/dataset/No_Parking/videoplayback (online-video-cutter.com) (3).mp4\n"
          ],
          "name": "stdout"
        },
        {
          "output_type": "stream",
          "text": [
            "\n",
            "\n",
            " 36%|███▌      | 72/200 [00:36<00:52,  2.43it/s]\u001b[A\u001b[A"
          ],
          "name": "stderr"
        },
        {
          "output_type": "stream",
          "text": [
            "test  /content/drive/My Drive/dataset/No_Parking/Parked Illegally, Crazy Lady Backward Driving in Tampa. (online-video-cutter.com).mp4\n",
            "test  /content/drive/My Drive/dataset/No_Parking/Parked Illegally, Crazy Lady Backward Driving in Tampa. (online-video-cutter.com) (1).mp4\n"
          ],
          "name": "stdout"
        },
        {
          "output_type": "stream",
          "text": [
            "\n",
            "\n",
            " 36%|███▋      | 73/200 [00:37<01:04,  1.98it/s]\u001b[A\u001b[A"
          ],
          "name": "stderr"
        },
        {
          "output_type": "stream",
          "text": [
            "test  /content/drive/My Drive/dataset/No_Parking/Parked Illegally, Crazy Lady Backward Driving in Tampa. (online-video-cutter.com) (2).mp4\n"
          ],
          "name": "stdout"
        },
        {
          "output_type": "stream",
          "text": [
            "\n",
            "\n",
            " 37%|███▋      | 74/200 [00:37<01:13,  1.71it/s]\u001b[A\u001b[A"
          ],
          "name": "stderr"
        },
        {
          "output_type": "stream",
          "text": [
            "test  /content/drive/My Drive/dataset/No_Parking/Parked Illegally, Crazy Lady Backward Driving in Tampa. (online-video-cutter.com) (3).mp4\n"
          ],
          "name": "stdout"
        },
        {
          "output_type": "stream",
          "text": [
            "\n",
            "\n",
            " 38%|███▊      | 75/200 [00:38<01:15,  1.66it/s]\u001b[A\u001b[A"
          ],
          "name": "stderr"
        },
        {
          "output_type": "stream",
          "text": [
            "test  /content/drive/My Drive/dataset/No_Parking/Parked Illegally, Crazy Lady Backward Driving in Tampa. (online-video-cutter.com) (4).mp4\n"
          ],
          "name": "stdout"
        },
        {
          "output_type": "stream",
          "text": [
            "\n",
            "\n",
            " 38%|███▊      | 76/200 [00:39<01:19,  1.56it/s]\u001b[A\u001b[A"
          ],
          "name": "stderr"
        },
        {
          "output_type": "stream",
          "text": [
            "test  /content/drive/My Drive/dataset/No_Parking/We Tried Warning Them. Some Won't Listen. (online-video-cutter.com).mp4\n"
          ],
          "name": "stdout"
        },
        {
          "output_type": "stream",
          "text": [
            "\n",
            "\n",
            " 38%|███▊      | 77/200 [00:39<01:14,  1.66it/s]\u001b[A\u001b[A"
          ],
          "name": "stderr"
        },
        {
          "output_type": "stream",
          "text": [
            "test  /content/drive/My Drive/dataset/No_Parking/We Tried Warning Them. Some Won't Listen. (online-video-cutter.com) (1).mp4\n"
          ],
          "name": "stdout"
        },
        {
          "output_type": "stream",
          "text": [
            "\n",
            "\n",
            " 39%|███▉      | 78/200 [00:40<01:07,  1.81it/s]\u001b[A\u001b[A"
          ],
          "name": "stderr"
        },
        {
          "output_type": "stream",
          "text": [
            "test  /content/drive/My Drive/dataset/No_Parking/Drive- How to reverse parallel park (online-video-cutter.com).mp4\n"
          ],
          "name": "stdout"
        },
        {
          "output_type": "stream",
          "text": [
            "\n",
            "\n",
            " 40%|███▉      | 79/200 [00:40<01:04,  1.86it/s]\u001b[A\u001b[A"
          ],
          "name": "stderr"
        },
        {
          "output_type": "stream",
          "text": [
            "test  /content/drive/My Drive/dataset/No_Parking/Drive- How to reverse parallel park (online-video-cutter.com) (1).mp4\n"
          ],
          "name": "stdout"
        },
        {
          "output_type": "stream",
          "text": [
            "\n",
            "\n",
            " 40%|████      | 80/200 [00:41<01:08,  1.75it/s]\u001b[A\u001b[A"
          ],
          "name": "stderr"
        },
        {
          "output_type": "stream",
          "text": [
            "test  /content/drive/My Drive/dataset/No_Parking/Drive- How to reverse parallel park (online-video-cutter.com) (2).mp4\n"
          ],
          "name": "stdout"
        },
        {
          "output_type": "stream",
          "text": [
            "\n",
            "\n",
            " 40%|████      | 81/200 [00:42<01:09,  1.71it/s]\u001b[A\u001b[A"
          ],
          "name": "stderr"
        },
        {
          "output_type": "stream",
          "text": [
            "test  /content/drive/My Drive/dataset/No_Parking/Drive- How to reverse parallel park (online-video-cutter.com) (3).mp4\n"
          ],
          "name": "stdout"
        },
        {
          "output_type": "stream",
          "text": [
            "\n",
            "\n",
            " 41%|████      | 82/200 [00:42<01:08,  1.72it/s]\u001b[A\u001b[A"
          ],
          "name": "stderr"
        },
        {
          "output_type": "stream",
          "text": [
            "test  /content/drive/My Drive/dataset/No_Parking/Taiwan dangerous parking- 3-road intersection blocked by multiple illegally parked cars. (online-video-cutter.com).mp4\n"
          ],
          "name": "stdout"
        },
        {
          "output_type": "stream",
          "text": [
            "\n",
            "\n",
            " 42%|████▏     | 83/200 [00:43<01:05,  1.78it/s]\u001b[A\u001b[A"
          ],
          "name": "stderr"
        },
        {
          "output_type": "stream",
          "text": [
            "test  /content/drive/My Drive/dataset/No_Parking/Taiwan dangerous parking- 3-road intersection blocked by multiple illegally parked cars. (online-video-cutter.com) (1).mp4\n"
          ],
          "name": "stdout"
        },
        {
          "output_type": "stream",
          "text": [
            "\n",
            "\n",
            " 42%|████▏     | 84/200 [00:43<01:12,  1.61it/s]\u001b[A\u001b[A"
          ],
          "name": "stderr"
        },
        {
          "output_type": "stream",
          "text": [
            "test  /content/drive/My Drive/dataset/No_Parking/Taiwan dangerous parking- 3-road intersection blocked by multiple illegally parked cars. (online-video-cutter.com) (2).mp4\n"
          ],
          "name": "stdout"
        },
        {
          "output_type": "stream",
          "text": [
            "\n",
            "\n",
            " 42%|████▎     | 85/200 [00:44<01:15,  1.53it/s]\u001b[A\u001b[A"
          ],
          "name": "stderr"
        },
        {
          "output_type": "stream",
          "text": [
            "test  /content/drive/My Drive/dataset/No_Parking/Workers Move Legally Parked Car With A Forklift! (online-video-cutter.com).mp4\n"
          ],
          "name": "stdout"
        },
        {
          "output_type": "stream",
          "text": [
            "\n",
            "\n",
            " 43%|████▎     | 86/200 [00:45<01:12,  1.56it/s]\u001b[A\u001b[A"
          ],
          "name": "stderr"
        },
        {
          "output_type": "stream",
          "text": [
            "test  /content/drive/My Drive/dataset/No_Parking/Illegal parking is 'ok' with emergency Lights & Customer Privileges (online-video-cutter.com).mp4\n"
          ],
          "name": "stdout"
        },
        {
          "output_type": "stream",
          "text": [
            "\n",
            "\n",
            " 44%|████▎     | 87/200 [00:45<01:12,  1.55it/s]\u001b[A\u001b[A"
          ],
          "name": "stderr"
        },
        {
          "output_type": "stream",
          "text": [
            "test  /content/drive/My Drive/dataset/No_Parking/Illegal parking is 'ok' with emergency Lights & Customer Privileges (online-video-cutter.com) (1).mp4\n"
          ],
          "name": "stdout"
        },
        {
          "output_type": "stream",
          "text": [
            "\n",
            "\n",
            " 44%|████▍     | 88/200 [00:46<01:14,  1.51it/s]\u001b[A\u001b[A"
          ],
          "name": "stderr"
        },
        {
          "output_type": "stream",
          "text": [
            "test  /content/drive/My Drive/dataset/No_Parking/Illegal parking is 'ok' with emergency Lights & Customer Privileges (online-video-cutter.com) (2).mp4\n"
          ],
          "name": "stdout"
        },
        {
          "output_type": "stream",
          "text": [
            "\n",
            "\n",
            " 44%|████▍     | 89/200 [00:47<01:15,  1.47it/s]\u001b[A\u001b[A"
          ],
          "name": "stderr"
        },
        {
          "output_type": "stream",
          "text": [
            "test  /content/drive/My Drive/dataset/No_Parking/Illegal parking is 'ok' with emergency Lights & Customer Privileges (online-video-cutter.com) (3).mp4\n"
          ],
          "name": "stdout"
        },
        {
          "output_type": "stream",
          "text": [
            "\n",
            "\n",
            " 45%|████▌     | 90/200 [00:47<01:13,  1.51it/s]\u001b[A\u001b[A"
          ],
          "name": "stderr"
        },
        {
          "output_type": "stream",
          "text": [
            "test  /content/drive/My Drive/dataset/No_Parking/Illegal parking is 'ok' with emergency Lights & Customer Privileges (online-video-cutter.com) (4).mp4\n"
          ],
          "name": "stdout"
        },
        {
          "output_type": "stream",
          "text": [
            "\n",
            "\n",
            " 46%|████▌     | 91/200 [00:48<01:13,  1.48it/s]\u001b[A\u001b[A"
          ],
          "name": "stderr"
        },
        {
          "output_type": "stream",
          "text": [
            "test  /content/drive/My Drive/dataset/No_Parking/So many Illegal parking Idiots...So little time (online-video-cutter.com).mp4\n"
          ],
          "name": "stdout"
        },
        {
          "output_type": "stream",
          "text": [
            "\n",
            "\n",
            " 46%|████▌     | 92/200 [00:49<01:15,  1.42it/s]\u001b[A\u001b[A"
          ],
          "name": "stderr"
        },
        {
          "output_type": "stream",
          "text": [
            "test  /content/drive/My Drive/dataset/No_Parking/So many Illegal parking Idiots...So little time (online-video-cutter.com) (1).mp4\n"
          ],
          "name": "stdout"
        },
        {
          "output_type": "stream",
          "text": [
            "\n",
            "\n",
            " 46%|████▋     | 93/200 [00:50<01:17,  1.38it/s]\u001b[A\u001b[A"
          ],
          "name": "stderr"
        },
        {
          "output_type": "stream",
          "text": [
            "test  /content/drive/My Drive/dataset/No_Parking/So many Illegal parking Idiots...So little time (online-video-cutter.com) (2).mp4\n"
          ],
          "name": "stdout"
        },
        {
          "output_type": "stream",
          "text": [
            "\n",
            "\n",
            " 47%|████▋     | 94/200 [00:50<01:16,  1.38it/s]\u001b[A\u001b[A"
          ],
          "name": "stderr"
        },
        {
          "output_type": "stream",
          "text": [
            "test  /content/drive/My Drive/dataset/No_Parking/So many Illegal parking Idiots...So little time (online-video-cutter.com) (3).mp4\n"
          ],
          "name": "stdout"
        },
        {
          "output_type": "stream",
          "text": [
            "\n",
            "\n",
            " 48%|████▊     | 95/200 [00:51<01:16,  1.36it/s]\u001b[A\u001b[A"
          ],
          "name": "stderr"
        },
        {
          "output_type": "stream",
          "text": [
            "test  /content/drive/My Drive/dataset/No_Parking/So many Illegal parking Idiots...So little time (online-video-cutter.com) (4).mp4\n"
          ],
          "name": "stdout"
        },
        {
          "output_type": "stream",
          "text": [
            "\n",
            "\n",
            " 48%|████▊     | 96/200 [00:52<01:05,  1.59it/s]\u001b[A\u001b[A\n",
            "\n"
          ],
          "name": "stderr"
        },
        {
          "output_type": "stream",
          "text": [
            "test  /content/drive/My Drive/dataset/No_Parking/So many Illegal parking Idiots...So little time (online-video-cutter.com) (5).mp4\n"
          ],
          "name": "stdout"
        },
        {
          "output_type": "stream",
          "text": [
            "\r 48%|████▊     | 97/200 [00:52<00:51,  2.00it/s]\u001b[A\u001b[A"
          ],
          "name": "stderr"
        },
        {
          "output_type": "stream",
          "text": [
            "test  /content/drive/My Drive/dataset/No_Parking/So many Illegal parking Idiots...So little time (online-video-cutter.com) (6).mp4\n"
          ],
          "name": "stdout"
        },
        {
          "output_type": "stream",
          "text": [
            "\n",
            "\n",
            " 49%|████▉     | 98/200 [00:52<00:45,  2.22it/s]\u001b[A\u001b[A"
          ],
          "name": "stderr"
        },
        {
          "output_type": "stream",
          "text": [
            "test  /content/drive/My Drive/dataset/No_Parking/So many Illegal parking Idiots...So little time (online-video-cutter.com) (7).mp4\n"
          ],
          "name": "stdout"
        },
        {
          "output_type": "stream",
          "text": [
            "\n",
            "\n",
            " 50%|████▉     | 99/200 [00:53<00:51,  1.95it/s]\u001b[A\u001b[A"
          ],
          "name": "stderr"
        },
        {
          "output_type": "stream",
          "text": [
            "test  /content/drive/My Drive/dataset/No_Parking/So many Illegal parking Idiots...So little time (online-video-cutter.com) (8).mp4\n"
          ],
          "name": "stdout"
        },
        {
          "output_type": "stream",
          "text": [
            "\n",
            "\n",
            " 50%|█████     | 100/200 [00:53<00:56,  1.78it/s]\u001b[A\u001b[A"
          ],
          "name": "stderr"
        },
        {
          "output_type": "stream",
          "text": [
            "test  /content/drive/My Drive/dataset/No_Parking/So many Illegal parking Idiots...So little time (online-video-cutter.com) (9).mp4\n"
          ],
          "name": "stdout"
        },
        {
          "output_type": "stream",
          "text": [
            "\n",
            "\n",
            " 50%|█████     | 101/200 [00:54<00:58,  1.68it/s]\u001b[A\u001b[A"
          ],
          "name": "stderr"
        },
        {
          "output_type": "stream",
          "text": [
            "test  /content/drive/My Drive/dataset/No_Parking/vid1.mp4\n"
          ],
          "name": "stdout"
        },
        {
          "output_type": "stream",
          "text": [
            "\n",
            "\n",
            " 51%|█████     | 102/200 [00:54<00:47,  2.07it/s]\u001b[A\u001b[A"
          ],
          "name": "stderr"
        },
        {
          "output_type": "stream",
          "text": [
            "test  /content/drive/My Drive/dataset/No_Parking/vid2.mp4\n"
          ],
          "name": "stdout"
        },
        {
          "output_type": "stream",
          "text": [
            "\n",
            "\n",
            " 52%|█████▏    | 103/200 [00:55<00:39,  2.47it/s]\u001b[A\u001b[A"
          ],
          "name": "stderr"
        },
        {
          "output_type": "stream",
          "text": [
            "test  /content/drive/My Drive/dataset/No_Parking/vid3.mp4\n"
          ],
          "name": "stdout"
        },
        {
          "output_type": "stream",
          "text": [
            "\n",
            "\n",
            " 52%|█████▏    | 104/200 [00:55<00:33,  2.86it/s]\u001b[A\u001b[A\n",
            "\n",
            " 52%|█████▎    | 105/200 [00:55<00:28,  3.30it/s]\u001b[A\u001b[A"
          ],
          "name": "stderr"
        },
        {
          "output_type": "stream",
          "text": [
            "test  /content/drive/My Drive/dataset/No_Parking/vid4.mp4\n",
            "test  /content/drive/My Drive/dataset/No_Parking/vid5.mp4\n"
          ],
          "name": "stdout"
        },
        {
          "output_type": "stream",
          "text": [
            "\n",
            "\n",
            " 53%|█████▎    | 106/200 [00:55<00:25,  3.67it/s]\u001b[A\u001b[A\n",
            "\n",
            " 54%|█████▎    | 107/200 [00:55<00:23,  3.98it/s]"
          ],
          "name": "stderr"
        },
        {
          "output_type": "stream",
          "text": [
            "test  /content/drive/My Drive/dataset/No_Parking/vid6.mp4\n"
          ],
          "name": "stdout"
        },
        {
          "output_type": "stream",
          "text": [
            "\u001b[A\u001b[A\n",
            "\n",
            " 54%|█████▍    | 108/200 [00:56<00:21,  4.27it/s]\u001b[A\u001b[A"
          ],
          "name": "stderr"
        },
        {
          "output_type": "stream",
          "text": [
            "test  /content/drive/My Drive/dataset/No_Parking/vid7.mp4\n",
            "test  /content/drive/My Drive/dataset/No_Parking/vid8.mp4\n"
          ],
          "name": "stdout"
        },
        {
          "output_type": "stream",
          "text": [
            "\n",
            "\n",
            " 55%|█████▍    | 109/200 [00:56<00:20,  4.44it/s]\u001b[A\u001b[A\n",
            "\n",
            " 55%|█████▌    | 110/200 [00:56<00:19,  4.63it/s]\u001b[A\u001b[A"
          ],
          "name": "stderr"
        },
        {
          "output_type": "stream",
          "text": [
            "test  /content/drive/My Drive/dataset/No_Parking/vid9.mp4\n",
            "test  /content/drive/My Drive/dataset/No_Parking/vid10.mp4\n"
          ],
          "name": "stdout"
        },
        {
          "output_type": "stream",
          "text": [
            "\n",
            "\n",
            " 56%|█████▌    | 111/200 [00:56<00:17,  5.19it/s]\u001b[A\u001b[A\n",
            "\n",
            " 56%|█████▌    | 112/200 [00:56<00:16,  5.39it/s]\u001b[A\u001b[A"
          ],
          "name": "stderr"
        },
        {
          "output_type": "stream",
          "text": [
            "test  /content/drive/My Drive/dataset/No_Parking/vid11.mp4\n",
            "test  /content/drive/My Drive/dataset/No_Parking/vid12.mp4\n"
          ],
          "name": "stdout"
        },
        {
          "output_type": "stream",
          "text": [
            "\n",
            "\n",
            " 56%|█████▋    | 113/200 [00:56<00:16,  5.20it/s]\u001b[A\u001b[A"
          ],
          "name": "stderr"
        },
        {
          "output_type": "stream",
          "text": [
            "test  /content/drive/My Drive/dataset/No_Parking/vid13.mp4\n"
          ],
          "name": "stdout"
        },
        {
          "output_type": "stream",
          "text": [
            "\n",
            "\n",
            " 57%|█████▋    | 114/200 [00:58<00:40,  2.13it/s]\u001b[A\u001b[A"
          ],
          "name": "stderr"
        },
        {
          "output_type": "stream",
          "text": [
            "test  /content/drive/My Drive/dataset/No_Parking/vid14.mp4\n",
            "test  /content/drive/My Drive/dataset/No_Parking/vid15.mp4\n"
          ],
          "name": "stdout"
        },
        {
          "output_type": "stream",
          "text": [
            "\n",
            "\n",
            " 58%|█████▊    | 116/200 [00:58<00:35,  2.34it/s]\u001b[A\u001b[A"
          ],
          "name": "stderr"
        },
        {
          "output_type": "stream",
          "text": [
            "test  /content/drive/My Drive/dataset/No_Parking/vid16.mp4\n"
          ],
          "name": "stdout"
        },
        {
          "output_type": "stream",
          "text": [
            "\n",
            "\n",
            " 58%|█████▊    | 117/200 [00:59<00:40,  2.06it/s]\u001b[A\u001b[A"
          ],
          "name": "stderr"
        },
        {
          "output_type": "stream",
          "text": [
            "test  /content/drive/My Drive/dataset/No_Parking/vid17.mp4\n"
          ],
          "name": "stdout"
        },
        {
          "output_type": "stream",
          "text": [
            "\n",
            "\n",
            " 59%|█████▉    | 118/200 [00:59<00:42,  1.94it/s]\u001b[A\u001b[A\n",
            "\n",
            " 60%|█████▉    | 119/200 [01:00<00:33,  2.43it/s]\u001b[A\u001b[A"
          ],
          "name": "stderr"
        },
        {
          "output_type": "stream",
          "text": [
            "test  /content/drive/My Drive/dataset/No_Parking/vid18.mp4\n",
            "test  /content/drive/My Drive/dataset/No_Parking/vid19.mp4\n"
          ],
          "name": "stdout"
        },
        {
          "output_type": "stream",
          "text": [
            "\n",
            "\n",
            " 60%|██████    | 120/200 [01:00<00:40,  1.96it/s]\u001b[A\u001b[A"
          ],
          "name": "stderr"
        },
        {
          "output_type": "stream",
          "text": [
            "test  /content/drive/My Drive/dataset/No_Parking/vid20.mp4\n"
          ],
          "name": "stdout"
        },
        {
          "output_type": "stream",
          "text": [
            "\n",
            "\n",
            " 60%|██████    | 121/200 [01:01<00:45,  1.74it/s]\u001b[A\u001b[A"
          ],
          "name": "stderr"
        },
        {
          "output_type": "stream",
          "text": [
            "test  /content/drive/My Drive/dataset/No_Parking/vid21.mp4\n"
          ],
          "name": "stdout"
        },
        {
          "output_type": "stream",
          "text": [
            "\n",
            "\n",
            " 61%|██████    | 122/200 [01:02<00:43,  1.77it/s]\u001b[A\u001b[A"
          ],
          "name": "stderr"
        },
        {
          "output_type": "stream",
          "text": [
            "test  /content/drive/My Drive/dataset/No_Parking/vid22.mp4\n"
          ],
          "name": "stdout"
        },
        {
          "output_type": "stream",
          "text": [
            "\n",
            "\n",
            " 62%|██████▏   | 123/200 [01:02<00:42,  1.80it/s]\u001b[A\u001b[A"
          ],
          "name": "stderr"
        },
        {
          "output_type": "stream",
          "text": [
            "test  /content/drive/My Drive/dataset/No_Parking/vid23.mp4\n"
          ],
          "name": "stdout"
        },
        {
          "output_type": "stream",
          "text": [
            "\n",
            "\n",
            " 62%|██████▏   | 124/200 [01:03<00:43,  1.74it/s]\u001b[A\u001b[A\n",
            "\n",
            " 62%|██████▎   | 125/200 [01:03<00:33,  2.26it/s]\u001b[A\u001b[A"
          ],
          "name": "stderr"
        },
        {
          "output_type": "stream",
          "text": [
            "test  /content/drive/My Drive/dataset/No_Parking/vid24.mp4\n",
            "test  /content/drive/My Drive/dataset/No_Parking/vid25.mp4\n"
          ],
          "name": "stdout"
        },
        {
          "output_type": "stream",
          "text": [
            "\n",
            "\n",
            " 63%|██████▎   | 126/200 [01:03<00:28,  2.59it/s]\u001b[A\u001b[A"
          ],
          "name": "stderr"
        },
        {
          "output_type": "stream",
          "text": [
            "test  /content/drive/My Drive/dataset/No_Parking/vid26.mp4\n"
          ],
          "name": "stdout"
        },
        {
          "output_type": "stream",
          "text": [
            "\n",
            "\n",
            " 64%|██████▎   | 127/200 [01:03<00:26,  2.79it/s]\u001b[A\u001b[A"
          ],
          "name": "stderr"
        },
        {
          "output_type": "stream",
          "text": [
            "test  /content/drive/My Drive/dataset/No_Parking/vid27.mp4\n"
          ],
          "name": "stdout"
        },
        {
          "output_type": "stream",
          "text": [
            "\n",
            "\n",
            " 64%|██████▍   | 128/200 [01:04<00:34,  2.10it/s]\u001b[A\u001b[A\n",
            "\n",
            " 64%|██████▍   | 129/200 [01:04<00:27,  2.55it/s]\u001b[A\u001b[A"
          ],
          "name": "stderr"
        },
        {
          "output_type": "stream",
          "text": [
            "test  /content/drive/My Drive/dataset/No_Parking/vid28.mp4\n",
            "test  /content/drive/My Drive/dataset/No_Parking/vid29.mp4\n"
          ],
          "name": "stdout"
        },
        {
          "output_type": "stream",
          "text": [
            "\n",
            "\n",
            " 65%|██████▌   | 130/200 [01:05<00:24,  2.83it/s]\u001b[A\u001b[A"
          ],
          "name": "stderr"
        },
        {
          "output_type": "stream",
          "text": [
            "test  /content/drive/My Drive/dataset/No_Parking/vid30.mp4\n"
          ],
          "name": "stdout"
        },
        {
          "output_type": "stream",
          "text": [
            "\n",
            "\n",
            " 66%|██████▌   | 131/200 [01:05<00:21,  3.16it/s]\u001b[A\u001b[A"
          ],
          "name": "stderr"
        },
        {
          "output_type": "stream",
          "text": [
            "test  /content/drive/My Drive/dataset/No_Parking/vid31.mp4\n"
          ],
          "name": "stdout"
        },
        {
          "output_type": "stream",
          "text": [
            "\n",
            "\n",
            " 66%|██████▌   | 132/200 [01:06<00:27,  2.51it/s]\u001b[A\u001b[A"
          ],
          "name": "stderr"
        },
        {
          "output_type": "stream",
          "text": [
            "test  /content/drive/My Drive/dataset/No_Parking/vid32.mp4\n"
          ],
          "name": "stdout"
        },
        {
          "output_type": "stream",
          "text": [
            "\n",
            "\n",
            " 66%|██████▋   | 133/200 [01:06<00:31,  2.14it/s]\u001b[A\u001b[A"
          ],
          "name": "stderr"
        },
        {
          "output_type": "stream",
          "text": [
            "test  /content/drive/My Drive/dataset/No_Parking/vid33.mp4\n"
          ],
          "name": "stdout"
        },
        {
          "output_type": "stream",
          "text": [
            "\n",
            "\n",
            " 67%|██████▋   | 134/200 [01:07<00:34,  1.90it/s]\u001b[A\u001b[A"
          ],
          "name": "stderr"
        },
        {
          "output_type": "stream",
          "text": [
            "test  /content/drive/My Drive/dataset/No_Parking/vid34.mp4\n"
          ],
          "name": "stdout"
        },
        {
          "output_type": "stream",
          "text": [
            "\n",
            "\n",
            " 68%|██████▊   | 135/200 [01:07<00:35,  1.82it/s]\u001b[A\u001b[A"
          ],
          "name": "stderr"
        },
        {
          "output_type": "stream",
          "text": [
            "test  /content/drive/My Drive/dataset/No_Parking/vid35.mp4\n"
          ],
          "name": "stdout"
        },
        {
          "output_type": "stream",
          "text": [
            "\n",
            "\n",
            " 68%|██████▊   | 136/200 [01:08<00:36,  1.78it/s]\u001b[A\u001b[A"
          ],
          "name": "stderr"
        },
        {
          "output_type": "stream",
          "text": [
            "test  /content/drive/My Drive/dataset/No_Parking/vid36.mp4\n"
          ],
          "name": "stdout"
        },
        {
          "output_type": "stream",
          "text": [
            "\n",
            "\n",
            " 68%|██████▊   | 137/200 [01:09<00:37,  1.69it/s]\u001b[A\u001b[A"
          ],
          "name": "stderr"
        },
        {
          "output_type": "stream",
          "text": [
            "test  /content/drive/My Drive/dataset/No_Parking/vid37.mp4\n"
          ],
          "name": "stdout"
        },
        {
          "output_type": "stream",
          "text": [
            "\n",
            "\n",
            " 69%|██████▉   | 138/200 [01:09<00:36,  1.69it/s]\u001b[A\u001b[A"
          ],
          "name": "stderr"
        },
        {
          "output_type": "stream",
          "text": [
            "test  /content/drive/My Drive/dataset/No_Parking/vid38.mp4\n"
          ],
          "name": "stdout"
        },
        {
          "output_type": "stream",
          "text": [
            "\n",
            "\n",
            " 70%|██████▉   | 139/200 [01:10<00:36,  1.66it/s]\u001b[A\u001b[A"
          ],
          "name": "stderr"
        },
        {
          "output_type": "stream",
          "text": [
            "test  /content/drive/My Drive/dataset/No_Parking/vid39.mp4\n"
          ],
          "name": "stdout"
        },
        {
          "output_type": "stream",
          "text": [
            "\n",
            "\n",
            " 70%|███████   | 140/200 [01:10<00:35,  1.71it/s]\u001b[A\u001b[A"
          ],
          "name": "stderr"
        },
        {
          "output_type": "stream",
          "text": [
            "test  /content/drive/My Drive/dataset/No_Parking/vid40.mp4\n"
          ],
          "name": "stdout"
        },
        {
          "output_type": "stream",
          "text": [
            "\n",
            "\n",
            " 70%|███████   | 141/200 [01:11<00:37,  1.57it/s]\u001b[A\u001b[A"
          ],
          "name": "stderr"
        },
        {
          "output_type": "stream",
          "text": [
            "test  /content/drive/My Drive/dataset/No_Parking/vid41.mp4\n"
          ],
          "name": "stdout"
        },
        {
          "output_type": "stream",
          "text": [
            "\n",
            "\n",
            " 71%|███████   | 142/200 [01:12<00:31,  1.82it/s]\u001b[A\u001b[A"
          ],
          "name": "stderr"
        },
        {
          "output_type": "stream",
          "text": [
            "test  /content/drive/My Drive/dataset/No_Parking/vid42.mp4\n"
          ],
          "name": "stdout"
        },
        {
          "output_type": "stream",
          "text": [
            "\n",
            "\n",
            " 72%|███████▏  | 143/200 [01:12<00:33,  1.70it/s]\u001b[A\u001b[A"
          ],
          "name": "stderr"
        },
        {
          "output_type": "stream",
          "text": [
            "test  /content/drive/My Drive/dataset/No_Parking/vid43.mp4\n"
          ],
          "name": "stdout"
        },
        {
          "output_type": "stream",
          "text": [
            "\n",
            "\n",
            " 72%|███████▏  | 144/200 [01:13<00:33,  1.68it/s]\u001b[A\u001b[A"
          ],
          "name": "stderr"
        },
        {
          "output_type": "stream",
          "text": [
            "test  /content/drive/My Drive/dataset/No_Parking/vid44.mp4\n"
          ],
          "name": "stdout"
        },
        {
          "output_type": "stream",
          "text": [
            "\n",
            "\n",
            " 72%|███████▎  | 145/200 [01:13<00:33,  1.66it/s]\u001b[A\u001b[A"
          ],
          "name": "stderr"
        },
        {
          "output_type": "stream",
          "text": [
            "test  /content/drive/My Drive/dataset/No_Parking/vid45.mp4\n"
          ],
          "name": "stdout"
        },
        {
          "output_type": "stream",
          "text": [
            "\n",
            "\n",
            " 73%|███████▎  | 146/200 [01:14<00:32,  1.64it/s]\u001b[A\u001b[A"
          ],
          "name": "stderr"
        },
        {
          "output_type": "stream",
          "text": [
            "test  /content/drive/My Drive/dataset/No_Parking/vid46.mp4\n"
          ],
          "name": "stdout"
        },
        {
          "output_type": "stream",
          "text": [
            "\n",
            "\n",
            " 74%|███████▎  | 147/200 [01:15<00:32,  1.63it/s]\u001b[A\u001b[A"
          ],
          "name": "stderr"
        },
        {
          "output_type": "stream",
          "text": [
            "test  /content/drive/My Drive/dataset/No_Parking/vid47.mp4\n"
          ],
          "name": "stdout"
        },
        {
          "output_type": "stream",
          "text": [
            "\n",
            "\n",
            " 74%|███████▍  | 148/200 [01:15<00:30,  1.68it/s]\u001b[A\u001b[A"
          ],
          "name": "stderr"
        },
        {
          "output_type": "stream",
          "text": [
            "test  /content/drive/My Drive/dataset/No_Parking/vid48.mp4\n"
          ],
          "name": "stdout"
        },
        {
          "output_type": "stream",
          "text": [
            "\n",
            "\n",
            " 74%|███████▍  | 149/200 [01:16<00:30,  1.68it/s]\u001b[A\u001b[A"
          ],
          "name": "stderr"
        },
        {
          "output_type": "stream",
          "text": [
            "test  /content/drive/My Drive/dataset/No_Parking/vid49.mp4\n"
          ],
          "name": "stdout"
        },
        {
          "output_type": "stream",
          "text": [
            "\n",
            "\n",
            " 75%|███████▌  | 150/200 [01:16<00:29,  1.68it/s]\u001b[A\u001b[A"
          ],
          "name": "stderr"
        },
        {
          "output_type": "stream",
          "text": [
            "test  /content/drive/My Drive/dataset/No_Parking/vid50.mp4\n"
          ],
          "name": "stdout"
        },
        {
          "output_type": "stream",
          "text": [
            "\n",
            "\n",
            " 76%|███████▌  | 151/200 [01:17<00:31,  1.57it/s]\u001b[A\u001b[A"
          ],
          "name": "stderr"
        },
        {
          "output_type": "stream",
          "text": [
            "test  /content/drive/My Drive/dataset/No_Parking/vid51.mp4\n"
          ],
          "name": "stdout"
        },
        {
          "output_type": "stream",
          "text": [
            "\n",
            "\n",
            " 76%|███████▌  | 152/200 [01:18<00:31,  1.52it/s]\u001b[A\u001b[A"
          ],
          "name": "stderr"
        },
        {
          "output_type": "stream",
          "text": [
            "test  /content/drive/My Drive/dataset/No_Parking/vid52.mp4\n"
          ],
          "name": "stdout"
        },
        {
          "output_type": "stream",
          "text": [
            "\n",
            "\n",
            " 76%|███████▋  | 153/200 [01:18<00:29,  1.60it/s]\u001b[A\u001b[A"
          ],
          "name": "stderr"
        },
        {
          "output_type": "stream",
          "text": [
            "test  /content/drive/My Drive/dataset/No_Parking/vid53.mp4\n"
          ],
          "name": "stdout"
        },
        {
          "output_type": "stream",
          "text": [
            "\n",
            "\n",
            " 77%|███████▋  | 154/200 [01:19<00:29,  1.58it/s]\u001b[A\u001b[A"
          ],
          "name": "stderr"
        },
        {
          "output_type": "stream",
          "text": [
            "test  /content/drive/My Drive/dataset/No_Parking/vid54.mp4\n"
          ],
          "name": "stdout"
        },
        {
          "output_type": "stream",
          "text": [
            "\n",
            "\n",
            " 78%|███████▊  | 155/200 [01:20<00:28,  1.56it/s]\u001b[A\u001b[A"
          ],
          "name": "stderr"
        },
        {
          "output_type": "stream",
          "text": [
            "test  /content/drive/My Drive/dataset/No_Parking/vid55.mp4\n"
          ],
          "name": "stdout"
        },
        {
          "output_type": "stream",
          "text": [
            "\n",
            "\n",
            " 78%|███████▊  | 156/200 [01:20<00:27,  1.57it/s]\u001b[A\u001b[A"
          ],
          "name": "stderr"
        },
        {
          "output_type": "stream",
          "text": [
            "test  /content/drive/My Drive/dataset/No_Parking/vid56.mp4\n"
          ],
          "name": "stdout"
        },
        {
          "output_type": "stream",
          "text": [
            "\n",
            "\n",
            " 78%|███████▊  | 157/200 [01:21<00:27,  1.55it/s]\u001b[A\u001b[A"
          ],
          "name": "stderr"
        },
        {
          "output_type": "stream",
          "text": [
            "test  /content/drive/My Drive/dataset/No_Parking/vid57.mp4\n"
          ],
          "name": "stdout"
        },
        {
          "output_type": "stream",
          "text": [
            "\n",
            "\n",
            " 79%|███████▉  | 158/200 [01:22<00:27,  1.53it/s]\u001b[A\u001b[A"
          ],
          "name": "stderr"
        },
        {
          "output_type": "stream",
          "text": [
            "test  /content/drive/My Drive/dataset/No_Parking/vid58.mp4\n"
          ],
          "name": "stdout"
        },
        {
          "output_type": "stream",
          "text": [
            "\n",
            "\n",
            " 80%|███████▉  | 159/200 [01:22<00:27,  1.49it/s]\u001b[A\u001b[A"
          ],
          "name": "stderr"
        },
        {
          "output_type": "stream",
          "text": [
            "test  /content/drive/My Drive/dataset/No_Parking/vid59.mp4\n"
          ],
          "name": "stdout"
        },
        {
          "output_type": "stream",
          "text": [
            "\n",
            "\n",
            " 80%|████████  | 160/200 [01:23<00:26,  1.50it/s]\u001b[A\u001b[A"
          ],
          "name": "stderr"
        },
        {
          "output_type": "stream",
          "text": [
            "test  /content/drive/My Drive/dataset/No_Parking/vid60.mp4\n"
          ],
          "name": "stdout"
        },
        {
          "output_type": "stream",
          "text": [
            "\n",
            "\n",
            " 80%|████████  | 161/200 [01:24<00:25,  1.54it/s]\u001b[A\u001b[A"
          ],
          "name": "stderr"
        },
        {
          "output_type": "stream",
          "text": [
            "test  /content/drive/My Drive/dataset/No_Parking/vid61.mp4\n"
          ],
          "name": "stdout"
        },
        {
          "output_type": "stream",
          "text": [
            "\n",
            "\n",
            " 81%|████████  | 162/200 [01:24<00:24,  1.57it/s]\u001b[A\u001b[A"
          ],
          "name": "stderr"
        },
        {
          "output_type": "stream",
          "text": [
            "test  /content/drive/My Drive/dataset/No_Parking/vid62.mp4\n"
          ],
          "name": "stdout"
        },
        {
          "output_type": "stream",
          "text": [
            "\n",
            "\n",
            " 82%|████████▏ | 163/200 [01:25<00:23,  1.56it/s]\u001b[A\u001b[A"
          ],
          "name": "stderr"
        },
        {
          "output_type": "stream",
          "text": [
            "test  /content/drive/My Drive/dataset/No_Parking/vid63.mp4\n"
          ],
          "name": "stdout"
        },
        {
          "output_type": "stream",
          "text": [
            "\n",
            "\n",
            " 82%|████████▏ | 164/200 [01:26<00:23,  1.53it/s]\u001b[A\u001b[A"
          ],
          "name": "stderr"
        },
        {
          "output_type": "stream",
          "text": [
            "test  /content/drive/My Drive/dataset/No_Parking/vid64.mp4\n"
          ],
          "name": "stdout"
        },
        {
          "output_type": "stream",
          "text": [
            "\n",
            "\n",
            " 82%|████████▎ | 165/200 [01:26<00:22,  1.53it/s]\u001b[A\u001b[A"
          ],
          "name": "stderr"
        },
        {
          "output_type": "stream",
          "text": [
            "test  /content/drive/My Drive/dataset/No_Parking/vid65.mp4\n"
          ],
          "name": "stdout"
        },
        {
          "output_type": "stream",
          "text": [
            "\n",
            "\n",
            " 83%|████████▎ | 166/200 [01:27<00:22,  1.54it/s]\u001b[A\u001b[A"
          ],
          "name": "stderr"
        },
        {
          "output_type": "stream",
          "text": [
            "test  /content/drive/My Drive/dataset/No_Parking/vid66.mp4\n"
          ],
          "name": "stdout"
        },
        {
          "output_type": "stream",
          "text": [
            "\n",
            "\n",
            " 84%|████████▎ | 167/200 [01:27<00:17,  1.87it/s]\u001b[A\u001b[A"
          ],
          "name": "stderr"
        },
        {
          "output_type": "stream",
          "text": [
            "test  /content/drive/My Drive/dataset/No_Parking/vid67.mp4\n"
          ],
          "name": "stdout"
        },
        {
          "output_type": "stream",
          "text": [
            "\n",
            "\n",
            " 84%|████████▍ | 168/200 [01:27<00:14,  2.28it/s]\u001b[A\u001b[A\n",
            "\n",
            " 84%|████████▍ | 169/200 [01:28<00:11,  2.78it/s]\u001b[A\u001b[A"
          ],
          "name": "stderr"
        },
        {
          "output_type": "stream",
          "text": [
            "test  /content/drive/My Drive/dataset/No_Parking/vid68.mp4\n",
            "test  /content/drive/My Drive/dataset/No_Parking/vid69.mp4\n"
          ],
          "name": "stdout"
        },
        {
          "output_type": "stream",
          "text": [
            "\n",
            "\n",
            " 85%|████████▌ | 170/200 [01:28<00:09,  3.24it/s]\u001b[A\u001b[A\n",
            "\n",
            " 86%|████████▌ | 171/200 [01:28<00:08,  3.62it/s]\u001b[A\u001b[A"
          ],
          "name": "stderr"
        },
        {
          "output_type": "stream",
          "text": [
            "test  /content/drive/My Drive/dataset/No_Parking/vid70.mp4\n",
            "test  /content/drive/My Drive/dataset/No_Parking/vid71.mp4\n"
          ],
          "name": "stdout"
        },
        {
          "output_type": "stream",
          "text": [
            "\n",
            "\n",
            " 86%|████████▌ | 172/200 [01:29<00:11,  2.54it/s]\u001b[A\u001b[A"
          ],
          "name": "stderr"
        },
        {
          "output_type": "stream",
          "text": [
            "test  /content/drive/My Drive/dataset/No_Parking/vid72.mp4\n"
          ],
          "name": "stdout"
        },
        {
          "output_type": "stream",
          "text": [
            "\n",
            "\n",
            " 86%|████████▋ | 173/200 [01:29<00:13,  2.07it/s]\u001b[A\u001b[A"
          ],
          "name": "stderr"
        },
        {
          "output_type": "stream",
          "text": [
            "test  /content/drive/My Drive/dataset/No_Parking/vid73.mp4\n"
          ],
          "name": "stdout"
        },
        {
          "output_type": "stream",
          "text": [
            "\n",
            "\n",
            " 87%|████████▋ | 174/200 [01:30<00:14,  1.80it/s]\u001b[A\u001b[A"
          ],
          "name": "stderr"
        },
        {
          "output_type": "stream",
          "text": [
            "test  /content/drive/My Drive/dataset/No_Parking/vid74.mp4\n"
          ],
          "name": "stdout"
        },
        {
          "output_type": "stream",
          "text": [
            "\n",
            "\n",
            " 88%|████████▊ | 175/200 [01:31<00:14,  1.72it/s]\u001b[A\u001b[A"
          ],
          "name": "stderr"
        },
        {
          "output_type": "stream",
          "text": [
            "test  /content/drive/My Drive/dataset/No_Parking/vid75.mp4\n"
          ],
          "name": "stdout"
        },
        {
          "output_type": "stream",
          "text": [
            "\n",
            "\n",
            " 88%|████████▊ | 176/200 [01:31<00:14,  1.62it/s]\u001b[A\u001b[A"
          ],
          "name": "stderr"
        },
        {
          "output_type": "stream",
          "text": [
            "test  /content/drive/My Drive/dataset/No_Parking/vid76.mp4\n"
          ],
          "name": "stdout"
        },
        {
          "output_type": "stream",
          "text": [
            "\n",
            "\n",
            " 88%|████████▊ | 177/200 [01:32<00:13,  1.71it/s]\u001b[A\u001b[A"
          ],
          "name": "stderr"
        },
        {
          "output_type": "stream",
          "text": [
            "test  /content/drive/My Drive/dataset/No_Parking/vid77.mp4\n"
          ],
          "name": "stdout"
        },
        {
          "output_type": "stream",
          "text": [
            "\n",
            "\n",
            " 89%|████████▉ | 178/200 [01:32<00:12,  1.81it/s]\u001b[A\u001b[A"
          ],
          "name": "stderr"
        },
        {
          "output_type": "stream",
          "text": [
            "test  /content/drive/My Drive/dataset/No_Parking/vid78.mp4\n"
          ],
          "name": "stdout"
        },
        {
          "output_type": "stream",
          "text": [
            "\n",
            "\n",
            " 90%|████████▉ | 179/200 [01:33<00:11,  1.85it/s]\u001b[A\u001b[A"
          ],
          "name": "stderr"
        },
        {
          "output_type": "stream",
          "text": [
            "test  /content/drive/My Drive/dataset/No_Parking/vid79.mp4\n"
          ],
          "name": "stdout"
        },
        {
          "output_type": "stream",
          "text": [
            "\n",
            "\n",
            " 90%|█████████ | 180/200 [01:34<00:11,  1.78it/s]\u001b[A\u001b[A"
          ],
          "name": "stderr"
        },
        {
          "output_type": "stream",
          "text": [
            "test  /content/drive/My Drive/dataset/No_Parking/vid80.mp4\n"
          ],
          "name": "stdout"
        },
        {
          "output_type": "stream",
          "text": [
            "\n",
            "\n",
            " 90%|█████████ | 181/200 [01:34<00:10,  1.73it/s]\u001b[A\u001b[A"
          ],
          "name": "stderr"
        },
        {
          "output_type": "stream",
          "text": [
            "test  /content/drive/My Drive/dataset/No_Parking/vid81.mp4\n"
          ],
          "name": "stdout"
        },
        {
          "output_type": "stream",
          "text": [
            "\n",
            "\n",
            " 91%|█████████ | 182/200 [01:35<00:10,  1.74it/s]\u001b[A\u001b[A"
          ],
          "name": "stderr"
        },
        {
          "output_type": "stream",
          "text": [
            "test  /content/drive/My Drive/dataset/No_Parking/vid82.mp4\n"
          ],
          "name": "stdout"
        },
        {
          "output_type": "stream",
          "text": [
            "\n",
            "\n",
            " 92%|█████████▏| 183/200 [01:35<00:09,  1.82it/s]\u001b[A\u001b[A"
          ],
          "name": "stderr"
        },
        {
          "output_type": "stream",
          "text": [
            "test  /content/drive/My Drive/dataset/No_Parking/vid83.mp4\n"
          ],
          "name": "stdout"
        },
        {
          "output_type": "stream",
          "text": [
            "\n",
            "\n",
            " 92%|█████████▏| 184/200 [01:36<00:09,  1.67it/s]\u001b[A\u001b[A"
          ],
          "name": "stderr"
        },
        {
          "output_type": "stream",
          "text": [
            "test  /content/drive/My Drive/dataset/No_Parking/vid84.mp4\n"
          ],
          "name": "stdout"
        },
        {
          "output_type": "stream",
          "text": [
            "\n",
            "\n",
            " 92%|█████████▎| 185/200 [01:37<00:09,  1.60it/s]\u001b[A\u001b[A"
          ],
          "name": "stderr"
        },
        {
          "output_type": "stream",
          "text": [
            "test  /content/drive/My Drive/dataset/No_Parking/vid85.mp4\n"
          ],
          "name": "stdout"
        },
        {
          "output_type": "stream",
          "text": [
            "\n",
            "\n",
            " 93%|█████████▎| 186/200 [01:37<00:08,  1.65it/s]\u001b[A\u001b[A"
          ],
          "name": "stderr"
        },
        {
          "output_type": "stream",
          "text": [
            "test  /content/drive/My Drive/dataset/No_Parking/vid86.mp4\n"
          ],
          "name": "stdout"
        },
        {
          "output_type": "stream",
          "text": [
            "\n",
            "\n",
            " 94%|█████████▎| 187/200 [01:38<00:07,  1.64it/s]\u001b[A\u001b[A"
          ],
          "name": "stderr"
        },
        {
          "output_type": "stream",
          "text": [
            "test  /content/drive/My Drive/dataset/No_Parking/vid87.mp4\n"
          ],
          "name": "stdout"
        },
        {
          "output_type": "stream",
          "text": [
            "\n",
            "\n",
            " 94%|█████████▍| 188/200 [01:38<00:07,  1.60it/s]\u001b[A\u001b[A"
          ],
          "name": "stderr"
        },
        {
          "output_type": "stream",
          "text": [
            "test  /content/drive/My Drive/dataset/No_Parking/vid88.mp4\n"
          ],
          "name": "stdout"
        },
        {
          "output_type": "stream",
          "text": [
            "\n",
            "\n",
            " 94%|█████████▍| 189/200 [01:39<00:06,  1.57it/s]\u001b[A\u001b[A"
          ],
          "name": "stderr"
        },
        {
          "output_type": "stream",
          "text": [
            "test  /content/drive/My Drive/dataset/No_Parking/vid89.mp4\n"
          ],
          "name": "stdout"
        },
        {
          "output_type": "stream",
          "text": [
            "\n",
            "\n",
            " 95%|█████████▌| 190/200 [01:40<00:06,  1.59it/s]\u001b[A\u001b[A"
          ],
          "name": "stderr"
        },
        {
          "output_type": "stream",
          "text": [
            "test  /content/drive/My Drive/dataset/No_Parking/vid90.mp4\n"
          ],
          "name": "stdout"
        },
        {
          "output_type": "stream",
          "text": [
            "\n",
            "\n",
            " 96%|█████████▌| 191/200 [01:40<00:05,  1.56it/s]\u001b[A\u001b[A"
          ],
          "name": "stderr"
        },
        {
          "output_type": "stream",
          "text": [
            "test  /content/drive/My Drive/dataset/No_Parking/vid91.mp4\n"
          ],
          "name": "stdout"
        },
        {
          "output_type": "stream",
          "text": [
            "\n",
            "\n",
            " 96%|█████████▌| 192/200 [01:41<00:05,  1.48it/s]\u001b[A\u001b[A"
          ],
          "name": "stderr"
        },
        {
          "output_type": "stream",
          "text": [
            "test  /content/drive/My Drive/dataset/No_Parking/vid92.mp4\n"
          ],
          "name": "stdout"
        },
        {
          "output_type": "stream",
          "text": [
            "\n",
            "\n",
            " 96%|█████████▋| 193/200 [01:42<00:04,  1.44it/s]\u001b[A\u001b[A"
          ],
          "name": "stderr"
        },
        {
          "output_type": "stream",
          "text": [
            "test  /content/drive/My Drive/dataset/No_Parking/vid93.mp4\n"
          ],
          "name": "stdout"
        },
        {
          "output_type": "stream",
          "text": [
            "\n",
            "\n",
            " 97%|█████████▋| 194/200 [01:43<00:04,  1.46it/s]\u001b[A\u001b[A"
          ],
          "name": "stderr"
        },
        {
          "output_type": "stream",
          "text": [
            "test  /content/drive/My Drive/dataset/No_Parking/vid94.mp4\n"
          ],
          "name": "stdout"
        },
        {
          "output_type": "stream",
          "text": [
            "\n",
            "\n",
            " 98%|█████████▊| 195/200 [01:43<00:03,  1.45it/s]\u001b[A\u001b[A"
          ],
          "name": "stderr"
        },
        {
          "output_type": "stream",
          "text": [
            "test  /content/drive/My Drive/dataset/No_Parking/vid95.mp4\n"
          ],
          "name": "stdout"
        },
        {
          "output_type": "stream",
          "text": [
            "\n",
            "\n",
            " 98%|█████████▊| 196/200 [01:44<00:02,  1.69it/s]\u001b[A\u001b[A\n",
            "\n",
            " 98%|█████████▊| 197/200 [01:44<00:01,  2.13it/s]\u001b[A\u001b[A"
          ],
          "name": "stderr"
        },
        {
          "output_type": "stream",
          "text": [
            "test  /content/drive/My Drive/dataset/No_Parking/vid96.mp4\n",
            "test  /content/drive/My Drive/dataset/No_Parking/vid97.mp4\n"
          ],
          "name": "stdout"
        },
        {
          "output_type": "stream",
          "text": [
            "\n",
            "\n",
            " 99%|█████████▉| 198/200 [01:44<00:00,  2.38it/s]\u001b[A\u001b[A"
          ],
          "name": "stderr"
        },
        {
          "output_type": "stream",
          "text": [
            "test  /content/drive/My Drive/dataset/No_Parking/vid98.mp4\n"
          ],
          "name": "stdout"
        },
        {
          "output_type": "stream",
          "text": [
            "\n",
            "\n",
            "100%|█████████▉| 199/200 [01:45<00:00,  2.06it/s]\u001b[A\u001b[A"
          ],
          "name": "stderr"
        },
        {
          "output_type": "stream",
          "text": [
            "test  /content/drive/My Drive/dataset/No_Parking/vid99.mp4\n"
          ],
          "name": "stdout"
        },
        {
          "output_type": "stream",
          "text": [
            "\n",
            "\n",
            "100%|██████████| 200/200 [01:45<00:00,  1.89it/s]\u001b[A\u001b[A"
          ],
          "name": "stderr"
        },
        {
          "output_type": "stream",
          "text": [
            "test  /content/drive/My Drive/dataset/No_Parking/vid100.mp4\n"
          ],
          "name": "stdout"
        },
        {
          "output_type": "stream",
          "text": [
            "\r100%|██████████| 200/200 [01:46<00:00,  1.88it/s]\n",
            "\n",
            "\n",
            "  0%|          | 0/200 [00:00<?, ?it/s]\u001b[A\u001b[A"
          ],
          "name": "stderr"
        },
        {
          "output_type": "stream",
          "text": [
            "test  /content/drive/My Drive/dataset/Car Running/Cars in Motion- The Rolling Shot Supercut - HALCYON (4K)2.mp4\n"
          ],
          "name": "stdout"
        },
        {
          "output_type": "stream",
          "text": [
            "\n",
            "\n",
            "  1%|          | 2/200 [00:00<00:26,  7.49it/s]\u001b[A\u001b[A"
          ],
          "name": "stderr"
        },
        {
          "output_type": "stream",
          "text": [
            "test  /content/drive/My Drive/dataset/Car Running/(HD) Exotic Car Run (Cop Trouble)-Lamborghini LP640, Rossion Q1, Superleggera and MORE (online-video-cutter.com).mp4\n"
          ],
          "name": "stdout"
        },
        {
          "output_type": "stream",
          "text": [
            "\n",
            "\n",
            "  2%|▏         | 3/200 [00:00<01:00,  3.28it/s]\u001b[A\u001b[A"
          ],
          "name": "stderr"
        },
        {
          "output_type": "stream",
          "text": [
            "test  /content/drive/My Drive/dataset/Car Running/(HD) Exotic Car Run (Cop Trouble)-Lamborghini LP640, Rossion Q1, Superleggera and MORE (online-video-cutter.com) (2).mp4\n"
          ],
          "name": "stdout"
        },
        {
          "output_type": "stream",
          "text": [
            "\n",
            "\n",
            "  2%|▏         | 4/200 [00:01<01:24,  2.32it/s]\u001b[A\u001b[A"
          ],
          "name": "stderr"
        },
        {
          "output_type": "stream",
          "text": [
            "test  /content/drive/My Drive/dataset/Car Running/(HD) Exotic Car Run (Cop Trouble)-Lamborghini LP640, Rossion Q1, Superleggera and MORE (online-video-cutter.com) (3).mp4\n"
          ],
          "name": "stdout"
        },
        {
          "output_type": "stream",
          "text": [
            "\n",
            "\n",
            "  2%|▎         | 5/200 [00:02<01:41,  1.93it/s]\u001b[A\u001b[A"
          ],
          "name": "stderr"
        },
        {
          "output_type": "stream",
          "text": [
            "test  /content/drive/My Drive/dataset/Car Running/(HD) Exotic Car Run (Cop Trouble)-Lamborghini LP640, Rossion Q1, Superleggera and MORE (online-video-cutter.com) (4).mp4\n"
          ],
          "name": "stdout"
        },
        {
          "output_type": "stream",
          "text": [
            "\n",
            "\n",
            "  3%|▎         | 6/200 [00:03<01:53,  1.71it/s]\u001b[A\u001b[A"
          ],
          "name": "stderr"
        },
        {
          "output_type": "stream",
          "text": [
            "test  /content/drive/My Drive/dataset/Car Running/Bugatti Veyron 16.4 1001 HP vs BMW M5 E34 Turbo by AG [Uncut 4k ONE TAKE] (online-video-cutter.com).mp4\n"
          ],
          "name": "stdout"
        },
        {
          "output_type": "stream",
          "text": [
            "\n",
            "\n",
            "  4%|▎         | 7/200 [00:03<01:55,  1.67it/s]\u001b[A\u001b[A"
          ],
          "name": "stderr"
        },
        {
          "output_type": "stream",
          "text": [
            "test  /content/drive/My Drive/dataset/Car Running/Bugatti Veyron 16.4 1001 HP vs BMW M5 E34 Turbo by AG [Uncut 4k ONE TAKE] (online-video-cutter.com) (1).mp4\n"
          ],
          "name": "stdout"
        },
        {
          "output_type": "stream",
          "text": [
            "\n",
            "\n",
            "  4%|▍         | 8/200 [00:04<01:57,  1.63it/s]\u001b[A\u001b[A"
          ],
          "name": "stderr"
        },
        {
          "output_type": "stream",
          "text": [
            "test  /content/drive/My Drive/dataset/Car Running/Devil SRT - Ferrada Wheels - SchwaaFilms (4K) (online-video-cutter.com).mp4\n"
          ],
          "name": "stdout"
        },
        {
          "output_type": "stream",
          "text": [
            "\n",
            "\n",
            "  4%|▍         | 9/200 [00:05<01:55,  1.65it/s]\u001b[A\u001b[A"
          ],
          "name": "stderr"
        },
        {
          "output_type": "stream",
          "text": [
            "test  /content/drive/My Drive/dataset/Car Running/Devil SRT - Ferrada Wheels - SchwaaFilms (4K) (online-video-cutter.com) (1).mp4\n"
          ],
          "name": "stdout"
        },
        {
          "output_type": "stream",
          "text": [
            "\n",
            "\n",
            "  5%|▌         | 10/200 [00:05<01:45,  1.80it/s]\u001b[A\u001b[A"
          ],
          "name": "stderr"
        },
        {
          "output_type": "stream",
          "text": [
            "test  /content/drive/My Drive/dataset/Car Running/Devil SRT - Ferrada Wheels - SchwaaFilms (4K) (online-video-cutter.com) (2).mp4\n"
          ],
          "name": "stdout"
        },
        {
          "output_type": "stream",
          "text": [
            "\n",
            "\n",
            "  6%|▌         | 11/200 [00:05<01:42,  1.84it/s]\u001b[A\u001b[A"
          ],
          "name": "stderr"
        },
        {
          "output_type": "stream",
          "text": [
            "test  /content/drive/My Drive/dataset/Car Running/Devil SRT - Ferrada Wheels - SchwaaFilms (4K) (online-video-cutter.com) (3).mp4\n"
          ],
          "name": "stdout"
        },
        {
          "output_type": "stream",
          "text": [
            "\n",
            "\n",
            "  6%|▌         | 12/200 [00:06<01:37,  1.93it/s]\u001b[A\u001b[A"
          ],
          "name": "stderr"
        },
        {
          "output_type": "stream",
          "text": [
            "test  /content/drive/My Drive/dataset/Car Running/F.O.O.L - Highway (online-video-cutter.com).mp4\n"
          ],
          "name": "stdout"
        },
        {
          "output_type": "stream",
          "text": [
            "\n",
            "\n",
            "  6%|▋         | 13/200 [00:06<01:36,  1.94it/s]\u001b[A\u001b[A"
          ],
          "name": "stderr"
        },
        {
          "output_type": "stream",
          "text": [
            "test  /content/drive/My Drive/dataset/Car Running/F.O.O.L - Highway (online-video-cutter.com) (1).mp4\n"
          ],
          "name": "stdout"
        },
        {
          "output_type": "stream",
          "text": [
            "\n",
            "\n",
            "  7%|▋         | 14/200 [00:07<01:37,  1.92it/s]\u001b[A\u001b[A"
          ],
          "name": "stderr"
        },
        {
          "output_type": "stream",
          "text": [
            "test  /content/drive/My Drive/dataset/Car Running/F.O.O.L - Highway (online-video-cutter.com) (2).mp4\n"
          ],
          "name": "stdout"
        },
        {
          "output_type": "stream",
          "text": [
            "\n",
            "\n",
            "  8%|▊         | 15/200 [00:08<01:42,  1.81it/s]\u001b[A\u001b[A"
          ],
          "name": "stderr"
        },
        {
          "output_type": "stream",
          "text": [
            "test  /content/drive/My Drive/dataset/Car Running/F.O.O.L - Highway (online-video-cutter.com) (3).mp4\n"
          ],
          "name": "stdout"
        },
        {
          "output_type": "stream",
          "text": [
            "\n",
            "\n",
            "  8%|▊         | 16/200 [00:08<01:34,  1.96it/s]\u001b[A\u001b[A"
          ],
          "name": "stderr"
        },
        {
          "output_type": "stream",
          "text": [
            "test  /content/drive/My Drive/dataset/Car Running/Kia SELTOS in Action - High Speed 140+ kmph - Chased by HEXA (online-video-cutter.com).mp4\n"
          ],
          "name": "stdout"
        },
        {
          "output_type": "stream",
          "text": [
            "\n",
            "\n",
            "  8%|▊         | 17/200 [00:09<01:45,  1.74it/s]\u001b[A\u001b[A"
          ],
          "name": "stderr"
        },
        {
          "output_type": "stream",
          "text": [
            "test  /content/drive/My Drive/dataset/Car Running/Kia SELTOS in Action - High Speed 140+ kmph - Chased by HEXA (online-video-cutter.com) (1).mp4\n"
          ],
          "name": "stdout"
        },
        {
          "output_type": "stream",
          "text": [
            "\n",
            "\n",
            "  9%|▉         | 18/200 [00:09<01:51,  1.63it/s]\u001b[A\u001b[A"
          ],
          "name": "stderr"
        },
        {
          "output_type": "stream",
          "text": [
            "test  /content/drive/My Drive/dataset/Car Running/Kia SELTOS in Action - High Speed 140+ kmph - Chased by HEXA (online-video-cutter.com) (2).mp4\n"
          ],
          "name": "stdout"
        },
        {
          "output_type": "stream",
          "text": [
            "\n",
            "\n",
            " 10%|▉         | 19/200 [00:10<01:52,  1.60it/s]\u001b[A\u001b[A"
          ],
          "name": "stderr"
        },
        {
          "output_type": "stream",
          "text": [
            "test  /content/drive/My Drive/dataset/Car Running/Kia SELTOS in Action - High Speed 140+ kmph - Chased by HEXA (online-video-cutter.com) (3).mp4\n"
          ],
          "name": "stdout"
        },
        {
          "output_type": "stream",
          "text": [
            "\n",
            "\n",
            " 10%|█         | 20/200 [00:11<01:56,  1.54it/s]\u001b[A\u001b[A"
          ],
          "name": "stderr"
        },
        {
          "output_type": "stream",
          "text": [
            "test  /content/drive/My Drive/dataset/Car Running/Kia SELTOS in Action - High Speed 140+ kmph - Chased by HEXA (online-video-cutter.com) (4).mp4\n"
          ],
          "name": "stdout"
        },
        {
          "output_type": "stream",
          "text": [
            "\n",
            "\n",
            " 10%|█         | 21/200 [00:11<01:52,  1.59it/s]\u001b[A\u001b[A"
          ],
          "name": "stderr"
        },
        {
          "output_type": "stream",
          "text": [
            "test  /content/drive/My Drive/dataset/Car Running/Kia SELTOS in Action - High Speed 140+ kmph - Chased by HEXA (online-video-cutter.com) (5).mp4\n"
          ],
          "name": "stdout"
        },
        {
          "output_type": "stream",
          "text": [
            "\n",
            "\n",
            " 11%|█         | 22/200 [00:12<01:53,  1.57it/s]\u001b[A\u001b[A"
          ],
          "name": "stderr"
        },
        {
          "output_type": "stream",
          "text": [
            "test  /content/drive/My Drive/dataset/Car Running/Kia SELTOS in Action - High Speed 140+ kmph - Chased by HEXA (online-video-cutter.com) (6).mp4\n"
          ],
          "name": "stdout"
        },
        {
          "output_type": "stream",
          "text": [
            "\n",
            "\n",
            " 12%|█▏        | 23/200 [00:13<01:50,  1.60it/s]\u001b[A\u001b[A"
          ],
          "name": "stderr"
        },
        {
          "output_type": "stream",
          "text": [
            "test  /content/drive/My Drive/dataset/Car Running/Mini Cooper Race Car - 1978 (online-video-cutter.com).mp4\n"
          ],
          "name": "stdout"
        },
        {
          "output_type": "stream",
          "text": [
            "\n",
            "\n",
            " 12%|█▏        | 24/200 [00:13<01:45,  1.67it/s]\u001b[A\u001b[A"
          ],
          "name": "stderr"
        },
        {
          "output_type": "stream",
          "text": [
            "test  /content/drive/My Drive/dataset/Car Running/Mini Cooper Race Car - 1978 (online-video-cutter.com) (1).mp4\n"
          ],
          "name": "stdout"
        },
        {
          "output_type": "stream",
          "text": [
            "\n",
            "\n",
            " 12%|█▎        | 25/200 [00:14<01:48,  1.62it/s]\u001b[A\u001b[A"
          ],
          "name": "stderr"
        },
        {
          "output_type": "stream",
          "text": [
            "test  /content/drive/My Drive/dataset/Car Running/Mini Cooper Race Car - 1978 (online-video-cutter.com) (2).mp4\n"
          ],
          "name": "stdout"
        },
        {
          "output_type": "stream",
          "text": [
            "\n",
            "\n",
            " 13%|█▎        | 26/200 [00:14<01:44,  1.67it/s]\u001b[A\u001b[A"
          ],
          "name": "stderr"
        },
        {
          "output_type": "stream",
          "text": [
            "test  /content/drive/My Drive/dataset/Car Running/Ollie's 360BHP B16 Turbo Mini --) (online-video-cutter.com).mp4\n"
          ],
          "name": "stdout"
        },
        {
          "output_type": "stream",
          "text": [
            "\n",
            "\n",
            " 14%|█▎        | 27/200 [00:15<01:43,  1.67it/s]\u001b[A\u001b[A"
          ],
          "name": "stderr"
        },
        {
          "output_type": "stream",
          "text": [
            "test  /content/drive/My Drive/dataset/Car Running/Ollie's 360BHP B16 Turbo Mini --) (online-video-cutter.com) (1).mp4\n"
          ],
          "name": "stdout"
        },
        {
          "output_type": "stream",
          "text": [
            "\n",
            "\n",
            " 14%|█▍        | 28/200 [00:16<01:47,  1.61it/s]\u001b[A\u001b[A"
          ],
          "name": "stderr"
        },
        {
          "output_type": "stream",
          "text": [
            "test  /content/drive/My Drive/dataset/Car Running/Ollie's 360BHP B16 Turbo Mini --) (online-video-cutter.com) (2).mp4\n"
          ],
          "name": "stdout"
        },
        {
          "output_type": "stream",
          "text": [
            "\n",
            "\n",
            " 14%|█▍        | 29/200 [00:16<01:45,  1.62it/s]\u001b[A\u001b[A"
          ],
          "name": "stderr"
        },
        {
          "output_type": "stream",
          "text": [
            "test  /content/drive/My Drive/dataset/Car Running/Rich kids of MUMBAI take over Worli Sea face (INDIA)!!! (online-video-cutter.com).mp4\n"
          ],
          "name": "stdout"
        },
        {
          "output_type": "stream",
          "text": [
            "\n",
            "\n",
            " 15%|█▌        | 30/200 [00:17<01:41,  1.68it/s]\u001b[A\u001b[A"
          ],
          "name": "stderr"
        },
        {
          "output_type": "stream",
          "text": [
            "test  /content/drive/My Drive/dataset/Car Running/Rich kids of MUMBAI take over Worli Sea face (INDIA)!!! (online-video-cutter.com) (1).mp4\n"
          ],
          "name": "stdout"
        },
        {
          "output_type": "stream",
          "text": [
            "\n",
            "\n",
            " 16%|█▌        | 31/200 [00:18<01:49,  1.55it/s]\u001b[A\u001b[A"
          ],
          "name": "stderr"
        },
        {
          "output_type": "stream",
          "text": [
            "test  /content/drive/My Drive/dataset/Car Running/Sasha Fierce M3 - SchwaaFilms (4K) (online-video-cutter.com).mp4\n"
          ],
          "name": "stdout"
        },
        {
          "output_type": "stream",
          "text": [
            "\n",
            "\n",
            " 16%|█▌        | 32/200 [00:18<01:57,  1.43it/s]\u001b[A\u001b[A"
          ],
          "name": "stderr"
        },
        {
          "output_type": "stream",
          "text": [
            "test  /content/drive/My Drive/dataset/Car Running/Sasha Fierce M3 - SchwaaFilms (4K) (online-video-cutter.com) (1).mp4\n"
          ],
          "name": "stdout"
        },
        {
          "output_type": "stream",
          "text": [
            "\n",
            "\n",
            " 16%|█▋        | 33/200 [00:19<01:48,  1.54it/s]\u001b[A\u001b[A"
          ],
          "name": "stderr"
        },
        {
          "output_type": "stream",
          "text": [
            "test  /content/drive/My Drive/dataset/Car Running/Sasha Fierce M3 - SchwaaFilms (4K) (online-video-cutter.com) (2).mp4\n"
          ],
          "name": "stdout"
        },
        {
          "output_type": "stream",
          "text": [
            "\n",
            "\n",
            " 17%|█▋        | 34/200 [00:20<01:44,  1.60it/s]\u001b[A\u001b[A"
          ],
          "name": "stderr"
        },
        {
          "output_type": "stream",
          "text": [
            "test  /content/drive/My Drive/dataset/Car Running/The all-new BMW 7 Series. Official launch film. (online-video-cutter.com).mp4\n"
          ],
          "name": "stdout"
        },
        {
          "output_type": "stream",
          "text": [
            "\n",
            "\n",
            " 18%|█▊        | 35/200 [00:20<01:36,  1.70it/s]\u001b[A\u001b[A"
          ],
          "name": "stderr"
        },
        {
          "output_type": "stream",
          "text": [
            "test  /content/drive/My Drive/dataset/Car Running/The all-new BMW 7 Series. Official launch film. (online-video-cutter.com) (1).mp4\n"
          ],
          "name": "stdout"
        },
        {
          "output_type": "stream",
          "text": [
            "\n",
            "\n",
            " 18%|█▊        | 36/200 [00:21<01:38,  1.67it/s]\u001b[A\u001b[A"
          ],
          "name": "stderr"
        },
        {
          "output_type": "stream",
          "text": [
            "test  /content/drive/My Drive/dataset/Car Running/The all-new BMW 7 Series. Official launch film. (online-video-cutter.com) (2).mp4\n"
          ],
          "name": "stdout"
        },
        {
          "output_type": "stream",
          "text": [
            "\n",
            "\n",
            " 18%|█▊        | 37/200 [00:21<01:37,  1.67it/s]\u001b[A\u001b[A"
          ],
          "name": "stderr"
        },
        {
          "output_type": "stream",
          "text": [
            "test  /content/drive/My Drive/dataset/Car Running/The all-new BMW 7 Series. Official launch film. (online-video-cutter.com) (3).mp4\n"
          ],
          "name": "stdout"
        },
        {
          "output_type": "stream",
          "text": [
            "\n",
            "\n",
            " 19%|█▉        | 38/200 [00:22<01:29,  1.81it/s]\u001b[A\u001b[A"
          ],
          "name": "stderr"
        },
        {
          "output_type": "stream",
          "text": [
            "test  /content/drive/My Drive/dataset/Car Running/The all-new BMW 7 Series. Official launch film. (online-video-cutter.com) (4).mp4\n"
          ],
          "name": "stdout"
        },
        {
          "output_type": "stream",
          "text": [
            "\n",
            "\n",
            " 20%|█▉        | 39/200 [00:22<01:35,  1.69it/s]\u001b[A\u001b[A"
          ],
          "name": "stderr"
        },
        {
          "output_type": "stream",
          "text": [
            "test  /content/drive/My Drive/dataset/Car Running/The Best Of Street Drifting (online-video-cutter.com).mp4\n"
          ],
          "name": "stdout"
        },
        {
          "output_type": "stream",
          "text": [
            "\n",
            "\n",
            " 20%|██        | 40/200 [00:23<01:32,  1.74it/s]\u001b[A\u001b[A"
          ],
          "name": "stderr"
        },
        {
          "output_type": "stream",
          "text": [
            "test  /content/drive/My Drive/dataset/Car Running/The Best Of Street Drifting (online-video-cutter.com) (1).mp4\n"
          ],
          "name": "stdout"
        },
        {
          "output_type": "stream",
          "text": [
            "\n",
            "\n",
            " 20%|██        | 41/200 [00:24<01:33,  1.71it/s]\u001b[A\u001b[A"
          ],
          "name": "stderr"
        },
        {
          "output_type": "stream",
          "text": [
            "test  /content/drive/My Drive/dataset/Car Running/The Best Of Street Drifting (online-video-cutter.com) (2).mp4\n"
          ],
          "name": "stdout"
        },
        {
          "output_type": "stream",
          "text": [
            "\n",
            "\n",
            " 21%|██        | 42/200 [00:24<01:29,  1.77it/s]\u001b[A\u001b[A"
          ],
          "name": "stderr"
        },
        {
          "output_type": "stream",
          "text": [
            "test  /content/drive/My Drive/dataset/Car Running/The Best Of Street Drifting (online-video-cutter.com) (3).mp4\n"
          ],
          "name": "stdout"
        },
        {
          "output_type": "stream",
          "text": [
            "\n",
            "\n",
            " 22%|██▏       | 43/200 [00:25<01:33,  1.68it/s]\u001b[A\u001b[A"
          ],
          "name": "stderr"
        },
        {
          "output_type": "stream",
          "text": [
            "test  /content/drive/My Drive/dataset/Car Running/Mercedes C-Class.mp4\n"
          ],
          "name": "stdout"
        },
        {
          "output_type": "stream",
          "text": [
            "\n",
            "\n",
            " 22%|██▏       | 44/200 [00:26<02:05,  1.25it/s]\u001b[A\u001b[A"
          ],
          "name": "stderr"
        },
        {
          "output_type": "stream",
          "text": [
            "test  /content/drive/My Drive/dataset/Car Running/Mercedes Benz On The Road.mp4\n"
          ],
          "name": "stdout"
        },
        {
          "output_type": "stream",
          "text": [
            "\n",
            "\n",
            " 22%|██▎       | 45/200 [00:27<02:28,  1.04it/s]\u001b[A\u001b[A"
          ],
          "name": "stderr"
        },
        {
          "output_type": "stream",
          "text": [
            "test  /content/drive/My Drive/dataset/Car Running/Pexels Videos 2099568.mp4\n"
          ],
          "name": "stdout"
        },
        {
          "output_type": "stream",
          "text": [
            "\n",
            "\n",
            " 23%|██▎       | 46/200 [00:28<02:28,  1.04it/s]\u001b[A\u001b[A"
          ],
          "name": "stderr"
        },
        {
          "output_type": "stream",
          "text": [
            "test  /content/drive/My Drive/dataset/Car Running/Pexels Videos 2053100.mp4\n"
          ],
          "name": "stdout"
        },
        {
          "output_type": "stream",
          "text": [
            "\n",
            "\n",
            " 24%|██▎       | 47/200 [00:33<05:25,  2.13s/it]\u001b[A\u001b[A"
          ],
          "name": "stderr"
        },
        {
          "output_type": "stream",
          "text": [
            "test  /content/drive/My Drive/dataset/Car Running/Pexels Videos 1572442.mp4\n"
          ],
          "name": "stdout"
        },
        {
          "output_type": "stream",
          "text": [
            "\n",
            "\n",
            " 24%|██▍       | 48/200 [00:36<05:49,  2.30s/it]\u001b[A\u001b[A"
          ],
          "name": "stderr"
        },
        {
          "output_type": "stream",
          "text": [
            "test  /content/drive/My Drive/dataset/Car Running/video (9).mp4\n"
          ],
          "name": "stdout"
        },
        {
          "output_type": "stream",
          "text": [
            "\n",
            "\n",
            " 24%|██▍       | 49/200 [00:43<09:09,  3.64s/it]\u001b[A\u001b[A"
          ],
          "name": "stderr"
        },
        {
          "output_type": "stream",
          "text": [
            "test  /content/drive/My Drive/dataset/Car Running/Pexels Videos 1572547.mp4\n"
          ],
          "name": "stdout"
        },
        {
          "output_type": "stream",
          "text": [
            "\n",
            "\n",
            " 25%|██▌       | 50/200 [00:46<08:35,  3.44s/it]\u001b[A\u001b[A"
          ],
          "name": "stderr"
        },
        {
          "output_type": "stream",
          "text": [
            "test  /content/drive/My Drive/dataset/Car Running/Pexels Videos 1572432.mp4\n"
          ],
          "name": "stdout"
        },
        {
          "output_type": "stream",
          "text": [
            "\n",
            "\n",
            " 26%|██▌       | 51/200 [00:48<07:58,  3.21s/it]\u001b[A\u001b[A"
          ],
          "name": "stderr"
        },
        {
          "output_type": "stream",
          "text": [
            "test  /content/drive/My Drive/dataset/Car Running/Pexels Videos 4721.mp4\n"
          ],
          "name": "stdout"
        },
        {
          "output_type": "stream",
          "text": [
            "\n",
            "\n",
            " 26%|██▌       | 52/200 [00:50<06:37,  2.69s/it]\u001b[A\u001b[A"
          ],
          "name": "stderr"
        },
        {
          "output_type": "stream",
          "text": [
            "test  /content/drive/My Drive/dataset/Car Running/Pexels Videos 1572315.mp4\n"
          ],
          "name": "stdout"
        },
        {
          "output_type": "stream",
          "text": [
            "\n",
            "\n",
            " 26%|██▋       | 53/200 [00:52<06:39,  2.71s/it]\u001b[A\u001b[A"
          ],
          "name": "stderr"
        },
        {
          "output_type": "stream",
          "text": [
            "test  /content/drive/My Drive/dataset/Car Running/video (1) (1).mp4\n"
          ],
          "name": "stdout"
        },
        {
          "output_type": "stream",
          "text": [
            "\n",
            "\n",
            " 27%|██▋       | 54/200 [00:58<08:59,  3.70s/it]\u001b[A\u001b[A"
          ],
          "name": "stderr"
        },
        {
          "output_type": "stream",
          "text": [
            "test  /content/drive/My Drive/dataset/Car Running/Video Of New Car Model.mp4\n"
          ],
          "name": "stdout"
        },
        {
          "output_type": "stream",
          "text": [
            "\n",
            "\n",
            " 28%|██▊       | 55/200 [00:59<06:33,  2.71s/it]\u001b[A\u001b[A"
          ],
          "name": "stderr"
        },
        {
          "output_type": "stream",
          "text": [
            "test  /content/drive/My Drive/dataset/Car Running/Pexels Videos 2103099.mp4\n"
          ],
          "name": "stdout"
        },
        {
          "output_type": "stream",
          "text": [
            "\n",
            "\n",
            " 28%|██▊       | 56/200 [01:05<08:50,  3.68s/it]\u001b[A\u001b[A"
          ],
          "name": "stderr"
        },
        {
          "output_type": "stream",
          "text": [
            "test  /content/drive/My Drive/dataset/Car Running/Pexels Videos 2880.mp4\n"
          ],
          "name": "stdout"
        },
        {
          "output_type": "stream",
          "text": [
            "\n",
            "\n",
            " 28%|██▊       | 57/200 [01:06<06:58,  2.93s/it]\u001b[A\u001b[A"
          ],
          "name": "stderr"
        },
        {
          "output_type": "stream",
          "text": [
            "test  /content/drive/My Drive/dataset/Car Running/video (2) (1).mp4\n"
          ],
          "name": "stdout"
        },
        {
          "output_type": "stream",
          "text": [
            "\n",
            "\n",
            " 29%|██▉       | 58/200 [01:07<05:41,  2.40s/it]\u001b[A\u001b[A"
          ],
          "name": "stderr"
        },
        {
          "output_type": "stream",
          "text": [
            "test  /content/drive/My Drive/dataset/Car Running/video (3).mp4\n"
          ],
          "name": "stdout"
        },
        {
          "output_type": "stream",
          "text": [
            "\n",
            "\n",
            " 30%|██▉       | 59/200 [01:08<04:20,  1.85s/it]\u001b[A\u001b[A"
          ],
          "name": "stderr"
        },
        {
          "output_type": "stream",
          "text": [
            "test  /content/drive/My Drive/dataset/Car Running/video (4).mp4\n"
          ],
          "name": "stdout"
        },
        {
          "output_type": "stream",
          "text": [
            "\n",
            "\n",
            " 30%|███       | 60/200 [01:09<03:56,  1.69s/it]\u001b[A\u001b[A"
          ],
          "name": "stderr"
        },
        {
          "output_type": "stream",
          "text": [
            "test  /content/drive/My Drive/dataset/Car Running/Busy Street In New York.mp4\n"
          ],
          "name": "stdout"
        },
        {
          "output_type": "stream",
          "text": [
            "\n",
            "\n",
            " 30%|███       | 61/200 [01:11<03:47,  1.63s/it]\u001b[A\u001b[A"
          ],
          "name": "stderr"
        },
        {
          "output_type": "stream",
          "text": [
            "test  /content/drive/My Drive/dataset/Car Running/Cars On Highway.mp4\n"
          ],
          "name": "stdout"
        },
        {
          "output_type": "stream",
          "text": [
            "\n",
            "\n",
            " 31%|███       | 62/200 [01:12<03:37,  1.58s/it]\u001b[A\u001b[A"
          ],
          "name": "stderr"
        },
        {
          "output_type": "stream",
          "text": [
            "test  /content/drive/My Drive/dataset/Car Running/video (5).mp4\n"
          ],
          "name": "stdout"
        },
        {
          "output_type": "stream",
          "text": [
            "\n",
            "\n",
            " 32%|███▏      | 63/200 [01:13<03:31,  1.54s/it]\u001b[A\u001b[A"
          ],
          "name": "stderr"
        },
        {
          "output_type": "stream",
          "text": [
            "test  /content/drive/My Drive/dataset/Car Running/Pexels Videos 4516.mp4\n"
          ],
          "name": "stdout"
        },
        {
          "output_type": "stream",
          "text": [
            "\n",
            "\n",
            " 32%|███▏      | 64/200 [01:15<03:15,  1.43s/it]\u001b[A\u001b[A"
          ],
          "name": "stderr"
        },
        {
          "output_type": "stream",
          "text": [
            "test  /content/drive/My Drive/dataset/Car Running/video (8).mp4\n"
          ],
          "name": "stdout"
        },
        {
          "output_type": "stream",
          "text": [
            "\n",
            "\n",
            " 32%|███▎      | 65/200 [01:16<03:06,  1.38s/it]\u001b[A\u001b[A"
          ],
          "name": "stderr"
        },
        {
          "output_type": "stream",
          "text": [
            "test  /content/drive/My Drive/dataset/Car Running/video (7).mp4\n"
          ],
          "name": "stdout"
        },
        {
          "output_type": "stream",
          "text": [
            "\n",
            "\n",
            " 33%|███▎      | 66/200 [01:17<03:10,  1.42s/it]\u001b[A\u001b[A"
          ],
          "name": "stderr"
        },
        {
          "output_type": "stream",
          "text": [
            "test  /content/drive/My Drive/dataset/Car Running/video (6).mp4\n"
          ],
          "name": "stdout"
        },
        {
          "output_type": "stream",
          "text": [
            "\n",
            "\n",
            " 34%|███▎      | 67/200 [01:25<07:25,  3.35s/it]\u001b[A\u001b[A"
          ],
          "name": "stderr"
        },
        {
          "output_type": "stream",
          "text": [
            "test  /content/drive/My Drive/dataset/Car Running/vidclip1.mp4\n"
          ],
          "name": "stdout"
        },
        {
          "output_type": "stream",
          "text": [
            "\n",
            "\n",
            " 34%|███▍      | 68/200 [01:26<05:37,  2.55s/it]\u001b[A\u001b[A"
          ],
          "name": "stderr"
        },
        {
          "output_type": "stream",
          "text": [
            "test  /content/drive/My Drive/dataset/Car Running/vidclip2.mp4\n"
          ],
          "name": "stdout"
        },
        {
          "output_type": "stream",
          "text": [
            "\n",
            "\n",
            " 34%|███▍      | 69/200 [01:27<04:21,  2.00s/it]\u001b[A\u001b[A"
          ],
          "name": "stderr"
        },
        {
          "output_type": "stream",
          "text": [
            "test  /content/drive/My Drive/dataset/Car Running/vidclip3.mp4\n"
          ],
          "name": "stdout"
        },
        {
          "output_type": "stream",
          "text": [
            "\n",
            "\n",
            " 35%|███▌      | 70/200 [01:27<03:28,  1.61s/it]\u001b[A\u001b[A"
          ],
          "name": "stderr"
        },
        {
          "output_type": "stream",
          "text": [
            "test  /content/drive/My Drive/dataset/Car Running/vidclip4.mp4\n"
          ],
          "name": "stdout"
        },
        {
          "output_type": "stream",
          "text": [
            "\n",
            "\n",
            " 36%|███▌      | 71/200 [01:28<02:50,  1.32s/it]\u001b[A\u001b[A"
          ],
          "name": "stderr"
        },
        {
          "output_type": "stream",
          "text": [
            "test  /content/drive/My Drive/dataset/Car Running/vidclip5.mp4\n"
          ],
          "name": "stdout"
        },
        {
          "output_type": "stream",
          "text": [
            "\n",
            "\n",
            " 36%|███▌      | 72/200 [01:29<02:23,  1.12s/it]\u001b[A\u001b[A"
          ],
          "name": "stderr"
        },
        {
          "output_type": "stream",
          "text": [
            "test  /content/drive/My Drive/dataset/Car Running/vidclip6.mp4\n"
          ],
          "name": "stdout"
        },
        {
          "output_type": "stream",
          "text": [
            "\n",
            "\n",
            " 36%|███▋      | 73/200 [01:29<02:03,  1.03it/s]\u001b[A\u001b[A"
          ],
          "name": "stderr"
        },
        {
          "output_type": "stream",
          "text": [
            "test  /content/drive/My Drive/dataset/Car Running/vidclip7.mp4\n"
          ],
          "name": "stdout"
        },
        {
          "output_type": "stream",
          "text": [
            "\n",
            "\n",
            " 37%|███▋      | 74/200 [01:30<01:50,  1.14it/s]\u001b[A\u001b[A"
          ],
          "name": "stderr"
        },
        {
          "output_type": "stream",
          "text": [
            "test  /content/drive/My Drive/dataset/Car Running/vidclip8.mp4\n"
          ],
          "name": "stdout"
        },
        {
          "output_type": "stream",
          "text": [
            "\n",
            "\n",
            " 38%|███▊      | 75/200 [01:30<01:37,  1.28it/s]\u001b[A\u001b[A"
          ],
          "name": "stderr"
        },
        {
          "output_type": "stream",
          "text": [
            "test  /content/drive/My Drive/dataset/Car Running/vidclip9.mp4\n"
          ],
          "name": "stdout"
        },
        {
          "output_type": "stream",
          "text": [
            "\n",
            "\n",
            " 38%|███▊      | 76/200 [01:31<01:23,  1.48it/s]\u001b[A\u001b[A"
          ],
          "name": "stderr"
        },
        {
          "output_type": "stream",
          "text": [
            "test  /content/drive/My Drive/dataset/Car Running/vidclip10.mp4\n"
          ],
          "name": "stdout"
        },
        {
          "output_type": "stream",
          "text": [
            "\n",
            "\n",
            " 38%|███▊      | 77/200 [01:31<01:15,  1.62it/s]\u001b[A\u001b[A"
          ],
          "name": "stderr"
        },
        {
          "output_type": "stream",
          "text": [
            "test  /content/drive/My Drive/dataset/Car Running/vidclip11.mp4\n"
          ],
          "name": "stdout"
        },
        {
          "output_type": "stream",
          "text": [
            "\n",
            "\n",
            " 39%|███▉      | 78/200 [01:32<01:09,  1.75it/s]\u001b[A\u001b[A"
          ],
          "name": "stderr"
        },
        {
          "output_type": "stream",
          "text": [
            "test  /content/drive/My Drive/dataset/Car Running/vidclip12.mp4\n"
          ],
          "name": "stdout"
        },
        {
          "output_type": "stream",
          "text": [
            "\n",
            "\n",
            " 40%|███▉      | 79/200 [01:32<01:06,  1.83it/s]\u001b[A\u001b[A"
          ],
          "name": "stderr"
        },
        {
          "output_type": "stream",
          "text": [
            "test  /content/drive/My Drive/dataset/Car Running/vidclip13.mp4\n"
          ],
          "name": "stdout"
        },
        {
          "output_type": "stream",
          "text": [
            "\n",
            "\n",
            " 40%|████      | 80/200 [01:33<01:05,  1.82it/s]\u001b[A\u001b[A"
          ],
          "name": "stderr"
        },
        {
          "output_type": "stream",
          "text": [
            "test  /content/drive/My Drive/dataset/Car Running/vidclip14.mp4\n"
          ],
          "name": "stdout"
        },
        {
          "output_type": "stream",
          "text": [
            "\n",
            "\n",
            " 40%|████      | 81/200 [01:33<01:05,  1.80it/s]\u001b[A\u001b[A"
          ],
          "name": "stderr"
        },
        {
          "output_type": "stream",
          "text": [
            "test  /content/drive/My Drive/dataset/Car Running/vidclip15.mp4\n"
          ],
          "name": "stdout"
        },
        {
          "output_type": "stream",
          "text": [
            "\n",
            "\n",
            " 41%|████      | 82/200 [01:34<01:00,  1.94it/s]\u001b[A\u001b[A"
          ],
          "name": "stderr"
        },
        {
          "output_type": "stream",
          "text": [
            "test  /content/drive/My Drive/dataset/Car Running/vidclip16.mp4\n"
          ],
          "name": "stdout"
        },
        {
          "output_type": "stream",
          "text": [
            "\n",
            "\n",
            " 42%|████▏     | 83/200 [01:35<01:06,  1.76it/s]\u001b[A\u001b[A"
          ],
          "name": "stderr"
        },
        {
          "output_type": "stream",
          "text": [
            "test  /content/drive/My Drive/dataset/Car Running/vidclip17.mp4\n"
          ],
          "name": "stdout"
        },
        {
          "output_type": "stream",
          "text": [
            "\n",
            "\n",
            " 42%|████▏     | 84/200 [01:35<01:09,  1.68it/s]\u001b[A\u001b[A"
          ],
          "name": "stderr"
        },
        {
          "output_type": "stream",
          "text": [
            "test  /content/drive/My Drive/dataset/Car Running/vidclip18.mp4\n"
          ],
          "name": "stdout"
        },
        {
          "output_type": "stream",
          "text": [
            "\n",
            "\n",
            " 42%|████▎     | 85/200 [01:36<01:11,  1.62it/s]\u001b[A\u001b[A"
          ],
          "name": "stderr"
        },
        {
          "output_type": "stream",
          "text": [
            "test  /content/drive/My Drive/dataset/Car Running/vidclip19.mp4\n"
          ],
          "name": "stdout"
        },
        {
          "output_type": "stream",
          "text": [
            "\n",
            "\n",
            " 43%|████▎     | 86/200 [01:37<01:12,  1.58it/s]\u001b[A\u001b[A"
          ],
          "name": "stderr"
        },
        {
          "output_type": "stream",
          "text": [
            "test  /content/drive/My Drive/dataset/Car Running/vidclip20.mp4\n"
          ],
          "name": "stdout"
        },
        {
          "output_type": "stream",
          "text": [
            "\n",
            "\n",
            " 44%|████▎     | 87/200 [01:37<01:08,  1.66it/s]\u001b[A\u001b[A"
          ],
          "name": "stderr"
        },
        {
          "output_type": "stream",
          "text": [
            "test  /content/drive/My Drive/dataset/Car Running/vidclip21.mp4\n"
          ],
          "name": "stdout"
        },
        {
          "output_type": "stream",
          "text": [
            "\n",
            "\n",
            " 44%|████▍     | 88/200 [01:38<01:09,  1.61it/s]\u001b[A\u001b[A"
          ],
          "name": "stderr"
        },
        {
          "output_type": "stream",
          "text": [
            "test  /content/drive/My Drive/dataset/Car Running/vidclip22.mp4\n"
          ],
          "name": "stdout"
        },
        {
          "output_type": "stream",
          "text": [
            "\n",
            "\n",
            " 44%|████▍     | 89/200 [01:38<01:06,  1.66it/s]\u001b[A\u001b[A"
          ],
          "name": "stderr"
        },
        {
          "output_type": "stream",
          "text": [
            "test  /content/drive/My Drive/dataset/Car Running/vidclip23.mp4\n"
          ],
          "name": "stdout"
        },
        {
          "output_type": "stream",
          "text": [
            "\n",
            "\n",
            " 45%|████▌     | 90/200 [01:39<01:04,  1.71it/s]\u001b[A\u001b[A"
          ],
          "name": "stderr"
        },
        {
          "output_type": "stream",
          "text": [
            "test  /content/drive/My Drive/dataset/Car Running/vidclip24.mp4\n"
          ],
          "name": "stdout"
        },
        {
          "output_type": "stream",
          "text": [
            "\n",
            "\n",
            " 46%|████▌     | 91/200 [01:39<01:04,  1.68it/s]\u001b[A\u001b[A"
          ],
          "name": "stderr"
        },
        {
          "output_type": "stream",
          "text": [
            "test  /content/drive/My Drive/dataset/Car Running/vidclip25.mp4\n"
          ],
          "name": "stdout"
        },
        {
          "output_type": "stream",
          "text": [
            "\n",
            "\n",
            " 46%|████▌     | 92/200 [01:40<01:02,  1.72it/s]\u001b[A\u001b[A"
          ],
          "name": "stderr"
        },
        {
          "output_type": "stream",
          "text": [
            "test  /content/drive/My Drive/dataset/Car Running/vidclip26.mp4\n"
          ],
          "name": "stdout"
        },
        {
          "output_type": "stream",
          "text": [
            "\n",
            "\n",
            " 46%|████▋     | 93/200 [01:41<01:00,  1.77it/s]\u001b[A\u001b[A"
          ],
          "name": "stderr"
        },
        {
          "output_type": "stream",
          "text": [
            "test  /content/drive/My Drive/dataset/Car Running/vidclip27.mp4\n"
          ],
          "name": "stdout"
        },
        {
          "output_type": "stream",
          "text": [
            "\n",
            "\n",
            " 47%|████▋     | 94/200 [01:41<01:01,  1.72it/s]\u001b[A\u001b[A"
          ],
          "name": "stderr"
        },
        {
          "output_type": "stream",
          "text": [
            "test  /content/drive/My Drive/dataset/Car Running/vidclip28.mp4\n"
          ],
          "name": "stdout"
        },
        {
          "output_type": "stream",
          "text": [
            "\n",
            "\n",
            " 48%|████▊     | 95/200 [01:42<01:01,  1.70it/s]\u001b[A\u001b[A"
          ],
          "name": "stderr"
        },
        {
          "output_type": "stream",
          "text": [
            "test  /content/drive/My Drive/dataset/Car Running/vidclip29.mp4\n"
          ],
          "name": "stdout"
        },
        {
          "output_type": "stream",
          "text": [
            "\n",
            "\n",
            " 48%|████▊     | 96/200 [01:42<00:59,  1.76it/s]\u001b[A\u001b[A"
          ],
          "name": "stderr"
        },
        {
          "output_type": "stream",
          "text": [
            "test  /content/drive/My Drive/dataset/Car Running/vidclip30.mp4\n"
          ],
          "name": "stdout"
        },
        {
          "output_type": "stream",
          "text": [
            "\n",
            "\n",
            " 48%|████▊     | 97/200 [01:43<01:02,  1.65it/s]\u001b[A\u001b[A"
          ],
          "name": "stderr"
        },
        {
          "output_type": "stream",
          "text": [
            "test  /content/drive/My Drive/dataset/Car Running/vidclip31.mp4\n"
          ],
          "name": "stdout"
        },
        {
          "output_type": "stream",
          "text": [
            "\n",
            "\n",
            " 49%|████▉     | 98/200 [01:44<01:07,  1.51it/s]\u001b[A\u001b[A"
          ],
          "name": "stderr"
        },
        {
          "output_type": "stream",
          "text": [
            "test  /content/drive/My Drive/dataset/Car Running/vidclip32.mp4\n"
          ],
          "name": "stdout"
        },
        {
          "output_type": "stream",
          "text": [
            "\n",
            "\n",
            " 50%|████▉     | 99/200 [01:44<01:02,  1.62it/s]\u001b[A\u001b[A"
          ],
          "name": "stderr"
        },
        {
          "output_type": "stream",
          "text": [
            "test  /content/drive/My Drive/dataset/Car Running/vidclip33.mp4\n"
          ],
          "name": "stdout"
        },
        {
          "output_type": "stream",
          "text": [
            "\n",
            "\n",
            " 50%|█████     | 100/200 [01:45<00:59,  1.67it/s]\u001b[A\u001b[A"
          ],
          "name": "stderr"
        },
        {
          "output_type": "stream",
          "text": [
            "test  /content/drive/My Drive/dataset/Car Running/vidclip34.mp4\n"
          ],
          "name": "stdout"
        },
        {
          "output_type": "stream",
          "text": [
            "\n",
            "\n",
            " 50%|█████     | 101/200 [01:45<00:56,  1.77it/s]\u001b[A\u001b[A"
          ],
          "name": "stderr"
        },
        {
          "output_type": "stream",
          "text": [
            "test  /content/drive/My Drive/dataset/Car Running/vidclip35.mp4\n"
          ],
          "name": "stdout"
        },
        {
          "output_type": "stream",
          "text": [
            "\n",
            "\n",
            " 51%|█████     | 102/200 [01:46<00:56,  1.74it/s]\u001b[A\u001b[A"
          ],
          "name": "stderr"
        },
        {
          "output_type": "stream",
          "text": [
            "test  /content/drive/My Drive/dataset/Car Running/vidclip36.mp4\n"
          ],
          "name": "stdout"
        },
        {
          "output_type": "stream",
          "text": [
            "\n",
            "\n",
            " 52%|█████▏    | 103/200 [01:47<00:56,  1.73it/s]\u001b[A\u001b[A"
          ],
          "name": "stderr"
        },
        {
          "output_type": "stream",
          "text": [
            "test  /content/drive/My Drive/dataset/Car Running/vidclip37.mp4\n"
          ],
          "name": "stdout"
        },
        {
          "output_type": "stream",
          "text": [
            "\n",
            "\n",
            " 52%|█████▏    | 104/200 [01:47<00:51,  1.88it/s]\u001b[A\u001b[A"
          ],
          "name": "stderr"
        },
        {
          "output_type": "stream",
          "text": [
            "test  /content/drive/My Drive/dataset/Car Running/vidclip38.mp4\n"
          ],
          "name": "stdout"
        },
        {
          "output_type": "stream",
          "text": [
            "\n",
            "\n",
            " 52%|█████▎    | 105/200 [01:48<00:53,  1.78it/s]\u001b[A\u001b[A"
          ],
          "name": "stderr"
        },
        {
          "output_type": "stream",
          "text": [
            "test  /content/drive/My Drive/dataset/Car Running/vidclip39.mp4\n"
          ],
          "name": "stdout"
        },
        {
          "output_type": "stream",
          "text": [
            "\n",
            "\n",
            " 53%|█████▎    | 106/200 [01:48<00:51,  1.81it/s]\u001b[A\u001b[A"
          ],
          "name": "stderr"
        },
        {
          "output_type": "stream",
          "text": [
            "test  /content/drive/My Drive/dataset/Car Running/vidclip40.mp4\n"
          ],
          "name": "stdout"
        },
        {
          "output_type": "stream",
          "text": [
            "\n",
            "\n",
            " 54%|█████▎    | 107/200 [01:49<00:51,  1.80it/s]\u001b[A\u001b[A"
          ],
          "name": "stderr"
        },
        {
          "output_type": "stream",
          "text": [
            "test  /content/drive/My Drive/dataset/Car Running/vidclip41.mp4\n"
          ],
          "name": "stdout"
        },
        {
          "output_type": "stream",
          "text": [
            "\n",
            "\n",
            " 54%|█████▍    | 108/200 [01:49<00:50,  1.82it/s]\u001b[A\u001b[A"
          ],
          "name": "stderr"
        },
        {
          "output_type": "stream",
          "text": [
            "test  /content/drive/My Drive/dataset/Car Running/vidclip42.mp4\n"
          ],
          "name": "stdout"
        },
        {
          "output_type": "stream",
          "text": [
            "\n",
            "\n",
            " 55%|█████▍    | 109/200 [01:50<00:52,  1.75it/s]\u001b[A\u001b[A"
          ],
          "name": "stderr"
        },
        {
          "output_type": "stream",
          "text": [
            "test  /content/drive/My Drive/dataset/Car Running/vidclip43.mp4\n"
          ],
          "name": "stdout"
        },
        {
          "output_type": "stream",
          "text": [
            "\n",
            "\n",
            " 55%|█████▌    | 110/200 [01:51<01:13,  1.23it/s]\u001b[A\u001b[A"
          ],
          "name": "stderr"
        },
        {
          "output_type": "stream",
          "text": [
            "test  /content/drive/My Drive/dataset/Car Running/vidclip44.mp4\n"
          ],
          "name": "stdout"
        },
        {
          "output_type": "stream",
          "text": [
            "\n",
            "\n",
            " 56%|█████▌    | 111/200 [01:53<01:29,  1.01s/it]\u001b[A\u001b[A"
          ],
          "name": "stderr"
        },
        {
          "output_type": "stream",
          "text": [
            "test  /content/drive/My Drive/dataset/Car Running/vidclip45.mp4\n"
          ],
          "name": "stdout"
        },
        {
          "output_type": "stream",
          "text": [
            "\n",
            "\n",
            " 56%|█████▌    | 112/200 [01:54<01:29,  1.01s/it]\u001b[A\u001b[A"
          ],
          "name": "stderr"
        },
        {
          "output_type": "stream",
          "text": [
            "test  /content/drive/My Drive/dataset/Car Running/vidclip46.mp4\n"
          ],
          "name": "stdout"
        },
        {
          "output_type": "stream",
          "text": [
            "\n",
            "\n",
            " 56%|█████▋    | 113/200 [01:58<03:04,  2.12s/it]\u001b[A\u001b[A"
          ],
          "name": "stderr"
        },
        {
          "output_type": "stream",
          "text": [
            "test  /content/drive/My Drive/dataset/Car Running/vidclip47.mp4\n"
          ],
          "name": "stdout"
        },
        {
          "output_type": "stream",
          "text": [
            "\n",
            "\n",
            " 57%|█████▋    | 114/200 [02:01<03:19,  2.32s/it]\u001b[A\u001b[A"
          ],
          "name": "stderr"
        },
        {
          "output_type": "stream",
          "text": [
            "test  /content/drive/My Drive/dataset/Car Running/vidclip48.mp4\n"
          ],
          "name": "stdout"
        },
        {
          "output_type": "stream",
          "text": [
            "\n",
            "\n",
            " 57%|█████▊    | 115/200 [02:08<05:05,  3.60s/it]\u001b[A\u001b[A"
          ],
          "name": "stderr"
        },
        {
          "output_type": "stream",
          "text": [
            "test  /content/drive/My Drive/dataset/Car Running/vidclip49.mp4\n"
          ],
          "name": "stdout"
        },
        {
          "output_type": "stream",
          "text": [
            "\n",
            "\n",
            " 58%|█████▊    | 116/200 [02:10<04:38,  3.31s/it]\u001b[A\u001b[A"
          ],
          "name": "stderr"
        },
        {
          "output_type": "stream",
          "text": [
            "test  /content/drive/My Drive/dataset/Car Running/vidclip50.mp4\n"
          ],
          "name": "stdout"
        },
        {
          "output_type": "stream",
          "text": [
            "\n",
            "\n",
            " 58%|█████▊    | 117/200 [02:13<04:11,  3.03s/it]\u001b[A\u001b[A"
          ],
          "name": "stderr"
        },
        {
          "output_type": "stream",
          "text": [
            "test  /content/drive/My Drive/dataset/Car Running/vidclip51.mp4\n"
          ],
          "name": "stdout"
        },
        {
          "output_type": "stream",
          "text": [
            "\n",
            "\n",
            " 59%|█████▉    | 118/200 [02:14<03:23,  2.49s/it]\u001b[A\u001b[A"
          ],
          "name": "stderr"
        },
        {
          "output_type": "stream",
          "text": [
            "test  /content/drive/My Drive/dataset/Car Running/vidclip52.mp4\n"
          ],
          "name": "stdout"
        },
        {
          "output_type": "stream",
          "text": [
            "\n",
            "\n",
            " 60%|█████▉    | 119/200 [02:16<03:17,  2.44s/it]\u001b[A\u001b[A"
          ],
          "name": "stderr"
        },
        {
          "output_type": "stream",
          "text": [
            "test  /content/drive/My Drive/dataset/Car Running/vidclip53.mp4\n"
          ],
          "name": "stdout"
        },
        {
          "output_type": "stream",
          "text": [
            "\n",
            "\n",
            " 60%|██████    | 120/200 [02:22<04:41,  3.52s/it]\u001b[A\u001b[A"
          ],
          "name": "stderr"
        },
        {
          "output_type": "stream",
          "text": [
            "test  /content/drive/My Drive/dataset/Car Running/vidclip54.mp4\n"
          ],
          "name": "stdout"
        },
        {
          "output_type": "stream",
          "text": [
            "\n",
            "\n",
            " 60%|██████    | 121/200 [02:23<03:24,  2.59s/it]\u001b[A\u001b[A"
          ],
          "name": "stderr"
        },
        {
          "output_type": "stream",
          "text": [
            "test  /content/drive/My Drive/dataset/Car Running/vidclip55.mp4\n"
          ],
          "name": "stdout"
        },
        {
          "output_type": "stream",
          "text": [
            "\n",
            "\n",
            " 61%|██████    | 122/200 [02:28<04:25,  3.40s/it]\u001b[A\u001b[A"
          ],
          "name": "stderr"
        },
        {
          "output_type": "stream",
          "text": [
            "test  /content/drive/My Drive/dataset/Car Running/vidclip56.mp4\n"
          ],
          "name": "stdout"
        },
        {
          "output_type": "stream",
          "text": [
            "\n",
            "\n",
            " 62%|██████▏   | 123/200 [02:29<03:30,  2.74s/it]\u001b[A\u001b[A"
          ],
          "name": "stderr"
        },
        {
          "output_type": "stream",
          "text": [
            "test  /content/drive/My Drive/dataset/Car Running/vidclip57.mp4\n"
          ],
          "name": "stdout"
        },
        {
          "output_type": "stream",
          "text": [
            "\n",
            "\n",
            " 62%|██████▏   | 124/200 [02:30<02:50,  2.25s/it]\u001b[A\u001b[A"
          ],
          "name": "stderr"
        },
        {
          "output_type": "stream",
          "text": [
            "test  /content/drive/My Drive/dataset/Car Running/vidclip58.mp4\n"
          ],
          "name": "stdout"
        },
        {
          "output_type": "stream",
          "text": [
            "\n",
            "\n",
            " 62%|██████▎   | 125/200 [02:31<02:10,  1.73s/it]\u001b[A\u001b[A"
          ],
          "name": "stderr"
        },
        {
          "output_type": "stream",
          "text": [
            "test  /content/drive/My Drive/dataset/Car Running/vidclip59.mp4\n"
          ],
          "name": "stdout"
        },
        {
          "output_type": "stream",
          "text": [
            "\n",
            "\n",
            " 63%|██████▎   | 126/200 [02:32<01:57,  1.59s/it]\u001b[A\u001b[A"
          ],
          "name": "stderr"
        },
        {
          "output_type": "stream",
          "text": [
            "test  /content/drive/My Drive/dataset/Car Running/vidclip60.mp4\n"
          ],
          "name": "stdout"
        },
        {
          "output_type": "stream",
          "text": [
            "\n",
            "\n",
            " 64%|██████▎   | 127/200 [02:34<01:55,  1.58s/it]\u001b[A\u001b[A"
          ],
          "name": "stderr"
        },
        {
          "output_type": "stream",
          "text": [
            "test  /content/drive/My Drive/dataset/Car Running/vidclip61.mp4\n"
          ],
          "name": "stdout"
        },
        {
          "output_type": "stream",
          "text": [
            "\n",
            "\n",
            " 64%|██████▍   | 128/200 [02:35<01:49,  1.52s/it]\u001b[A\u001b[A"
          ],
          "name": "stderr"
        },
        {
          "output_type": "stream",
          "text": [
            "test  /content/drive/My Drive/dataset/Car Running/vidclip62.mp4\n"
          ],
          "name": "stdout"
        },
        {
          "output_type": "stream",
          "text": [
            "\n",
            "\n",
            " 64%|██████▍   | 129/200 [02:37<01:45,  1.48s/it]\u001b[A\u001b[A"
          ],
          "name": "stderr"
        },
        {
          "output_type": "stream",
          "text": [
            "test  /content/drive/My Drive/dataset/Car Running/vidclip63.mp4\n"
          ],
          "name": "stdout"
        },
        {
          "output_type": "stream",
          "text": [
            "\n",
            "\n",
            " 65%|██████▌   | 130/200 [02:38<01:36,  1.38s/it]\u001b[A\u001b[A"
          ],
          "name": "stderr"
        },
        {
          "output_type": "stream",
          "text": [
            "test  /content/drive/My Drive/dataset/Car Running/vidclip64.mp4\n"
          ],
          "name": "stdout"
        },
        {
          "output_type": "stream",
          "text": [
            "\n",
            "\n",
            " 66%|██████▌   | 131/200 [02:39<01:36,  1.39s/it]\u001b[A\u001b[A"
          ],
          "name": "stderr"
        },
        {
          "output_type": "stream",
          "text": [
            "test  /content/drive/My Drive/dataset/Car Running/vidclip65.mp4\n"
          ],
          "name": "stdout"
        },
        {
          "output_type": "stream",
          "text": [
            "\n",
            "\n",
            " 66%|██████▌   | 132/200 [02:41<01:37,  1.44s/it]\u001b[A\u001b[A"
          ],
          "name": "stderr"
        },
        {
          "output_type": "stream",
          "text": [
            "test  /content/drive/My Drive/dataset/Car Running/vidclip66.mp4\n"
          ],
          "name": "stdout"
        },
        {
          "output_type": "stream",
          "text": [
            "\n",
            "\n",
            " 66%|██████▋   | 133/200 [02:49<03:49,  3.42s/it]\u001b[A\u001b[A"
          ],
          "name": "stderr"
        },
        {
          "output_type": "stream",
          "text": [
            "test  /content/drive/My Drive/dataset/Car Running/production ID_3786669.mp4\n"
          ],
          "name": "stdout"
        },
        {
          "output_type": "stream",
          "text": [
            "\n",
            "\n",
            " 67%|██████▋   | 134/200 [02:50<03:02,  2.77s/it]\u001b[A\u001b[A"
          ],
          "name": "stderr"
        },
        {
          "output_type": "stream",
          "text": [
            "test  /content/drive/My Drive/dataset/Car Running/production ID_4347879.mp4\n"
          ],
          "name": "stdout"
        },
        {
          "output_type": "stream",
          "text": [
            "\n",
            "\n",
            " 68%|██████▊   | 135/200 [02:57<04:19,  3.99s/it]\u001b[A\u001b[A"
          ],
          "name": "stderr"
        },
        {
          "output_type": "stream",
          "text": [
            "test  /content/drive/My Drive/dataset/Car Running/Pexels Videos 1198818.mp4\n"
          ],
          "name": "stdout"
        },
        {
          "output_type": "stream",
          "text": [
            "\n",
            "\n",
            " 68%|██████▊   | 136/200 [02:58<03:23,  3.18s/it]\u001b[A\u001b[A"
          ],
          "name": "stderr"
        },
        {
          "output_type": "stream",
          "text": [
            "test  /content/drive/My Drive/dataset/Car Running/production ID_4132531.mp4\n"
          ],
          "name": "stdout"
        },
        {
          "output_type": "stream",
          "text": [
            "\n",
            "\n",
            " 68%|██████▊   | 137/200 [03:00<02:49,  2.70s/it]\u001b[A\u001b[A"
          ],
          "name": "stderr"
        },
        {
          "output_type": "stream",
          "text": [
            "test  /content/drive/My Drive/dataset/Car Running/video.mp4\n"
          ],
          "name": "stdout"
        },
        {
          "output_type": "stream",
          "text": [
            "\n",
            "\n",
            " 69%|██████▉   | 138/200 [03:01<02:23,  2.31s/it]\u001b[A\u001b[A"
          ],
          "name": "stderr"
        },
        {
          "output_type": "stream",
          "text": [
            "test  /content/drive/My Drive/dataset/Car Running/production ID_3987752.mp4\n"
          ],
          "name": "stdout"
        },
        {
          "output_type": "stream",
          "text": [
            "\n",
            "\n",
            " 70%|██████▉   | 139/200 [03:02<02:03,  2.02s/it]\u001b[A\u001b[A"
          ],
          "name": "stderr"
        },
        {
          "output_type": "stream",
          "text": [
            "test  /content/drive/My Drive/dataset/Car Running/video (1).mp4\n"
          ],
          "name": "stdout"
        },
        {
          "output_type": "stream",
          "text": [
            "\n",
            "\n",
            " 70%|███████   | 140/200 [03:04<01:47,  1.79s/it]\u001b[A\u001b[A"
          ],
          "name": "stderr"
        },
        {
          "output_type": "stream",
          "text": [
            "test  /content/drive/My Drive/dataset/Car Running/Pexels Videos 1572342.mp4\n"
          ],
          "name": "stdout"
        },
        {
          "output_type": "stream",
          "text": [
            "\n",
            "\n",
            " 70%|███████   | 141/200 [03:06<02:04,  2.11s/it]\u001b[A\u001b[A"
          ],
          "name": "stderr"
        },
        {
          "output_type": "stream",
          "text": [
            "test  /content/drive/My Drive/dataset/Car Running/video (2).mp4\n"
          ],
          "name": "stdout"
        },
        {
          "output_type": "stream",
          "text": [
            "\n",
            "\n",
            " 71%|███████   | 142/200 [03:12<02:58,  3.07s/it]\u001b[A\u001b[A"
          ],
          "name": "stderr"
        },
        {
          "output_type": "stream",
          "text": [
            "test  /content/drive/My Drive/dataset/Car Running/cut (online-video-cutter.com).mp4\n"
          ],
          "name": "stdout"
        },
        {
          "output_type": "stream",
          "text": [
            "\n",
            "\n",
            " 72%|███████▏  | 143/200 [03:14<02:32,  2.68s/it]\u001b[A\u001b[A"
          ],
          "name": "stderr"
        },
        {
          "output_type": "stream",
          "text": [
            "test  /content/drive/My Drive/dataset/Car Running/cut (online-video-cutter.com) (1).mp4\n"
          ],
          "name": "stdout"
        },
        {
          "output_type": "stream",
          "text": [
            "\n",
            "\n",
            " 72%|███████▏  | 144/200 [03:15<02:07,  2.29s/it]\u001b[A\u001b[A"
          ],
          "name": "stderr"
        },
        {
          "output_type": "stream",
          "text": [
            "test  /content/drive/My Drive/dataset/Car Running/cut (online-video-cutter.com) (2).mp4\n"
          ],
          "name": "stdout"
        },
        {
          "output_type": "stream",
          "text": [
            "\n",
            "\n",
            " 72%|███████▎  | 145/200 [03:16<01:46,  1.94s/it]\u001b[A\u001b[A"
          ],
          "name": "stderr"
        },
        {
          "output_type": "stream",
          "text": [
            "test  /content/drive/My Drive/dataset/Car Running/cut1 (online-video-cutter.com).mp4\n"
          ],
          "name": "stdout"
        },
        {
          "output_type": "stream",
          "text": [
            "\n",
            "\n",
            " 73%|███████▎  | 146/200 [03:22<02:55,  3.24s/it]\u001b[A\u001b[A"
          ],
          "name": "stderr"
        },
        {
          "output_type": "stream",
          "text": [
            "test  /content/drive/My Drive/dataset/Car Running/cut1 (online-video-cutter.com) (1).mp4\n"
          ],
          "name": "stdout"
        },
        {
          "output_type": "stream",
          "text": [
            "\n",
            "\n",
            " 74%|███████▎  | 147/200 [03:29<03:38,  4.11s/it]\u001b[A\u001b[A"
          ],
          "name": "stderr"
        },
        {
          "output_type": "stream",
          "text": [
            "test  /content/drive/My Drive/dataset/Car Running/cut2 (online-video-cutter.com).mp4\n"
          ],
          "name": "stdout"
        },
        {
          "output_type": "stream",
          "text": [
            "\n",
            "\n",
            " 74%|███████▍  | 148/200 [03:30<02:51,  3.29s/it]\u001b[A\u001b[A"
          ],
          "name": "stderr"
        },
        {
          "output_type": "stream",
          "text": [
            "test  /content/drive/My Drive/dataset/Car Running/cut2 (online-video-cutter.com) (1).mp4\n"
          ],
          "name": "stdout"
        },
        {
          "output_type": "stream",
          "text": [
            "\n",
            "\n",
            " 74%|███████▍  | 149/200 [03:31<02:18,  2.71s/it]\u001b[A\u001b[A"
          ],
          "name": "stderr"
        },
        {
          "output_type": "stream",
          "text": [
            "test  /content/drive/My Drive/dataset/Car Running/cut2 (online-video-cutter.com) (2).mp4\n"
          ],
          "name": "stdout"
        },
        {
          "output_type": "stream",
          "text": [
            "\n",
            "\n",
            " 75%|███████▌  | 150/200 [03:33<01:54,  2.28s/it]\u001b[A\u001b[A"
          ],
          "name": "stderr"
        },
        {
          "output_type": "stream",
          "text": [
            "test  /content/drive/My Drive/dataset/Car Running/cut2 (online-video-cutter.com) (3).mp4\n"
          ],
          "name": "stdout"
        },
        {
          "output_type": "stream",
          "text": [
            "\n",
            "\n",
            " 76%|███████▌  | 151/200 [03:34<01:38,  2.00s/it]\u001b[A\u001b[A"
          ],
          "name": "stderr"
        },
        {
          "output_type": "stream",
          "text": [
            "test  /content/drive/My Drive/dataset/Car Running/cut3 (online-video-cutter.com).mp4\n"
          ],
          "name": "stdout"
        },
        {
          "output_type": "stream",
          "text": [
            "\n",
            "\n",
            " 76%|███████▌  | 152/200 [03:38<02:10,  2.73s/it]\u001b[A\u001b[A"
          ],
          "name": "stderr"
        },
        {
          "output_type": "stream",
          "text": [
            "test  /content/drive/My Drive/dataset/Car Running/cut3 (online-video-cutter.com) (1).mp4\n"
          ],
          "name": "stdout"
        },
        {
          "output_type": "stream",
          "text": [
            "\n",
            "\n",
            " 76%|███████▋  | 153/200 [03:43<02:38,  3.37s/it]\u001b[A\u001b[A"
          ],
          "name": "stderr"
        },
        {
          "output_type": "stream",
          "text": [
            "test  /content/drive/My Drive/dataset/Car Running/cut3 (online-video-cutter.com) (2).mp4\n"
          ],
          "name": "stdout"
        },
        {
          "output_type": "stream",
          "text": [
            "\n",
            "\n",
            " 77%|███████▋  | 154/200 [03:48<02:50,  3.70s/it]\u001b[A\u001b[A"
          ],
          "name": "stderr"
        },
        {
          "output_type": "stream",
          "text": [
            "test  /content/drive/My Drive/dataset/Car Running/vid14.mp4\n"
          ],
          "name": "stdout"
        },
        {
          "output_type": "stream",
          "text": [
            "\n",
            "\n",
            " 78%|███████▊  | 155/200 [03:54<03:20,  4.45s/it]\u001b[A\u001b[A"
          ],
          "name": "stderr"
        },
        {
          "output_type": "stream",
          "text": [
            "test  /content/drive/My Drive/dataset/Car Running/vid15.mp4\n"
          ],
          "name": "stdout"
        },
        {
          "output_type": "stream",
          "text": [
            "\n",
            "\n",
            " 78%|███████▊  | 156/200 [03:55<02:34,  3.51s/it]\u001b[A\u001b[A"
          ],
          "name": "stderr"
        },
        {
          "output_type": "stream",
          "text": [
            "test  /content/drive/My Drive/dataset/Car Running/vid16.mp4\n"
          ],
          "name": "stdout"
        },
        {
          "output_type": "stream",
          "text": [
            "\n",
            "\n",
            " 78%|███████▊  | 157/200 [03:56<02:02,  2.85s/it]\u001b[A\u001b[A"
          ],
          "name": "stderr"
        },
        {
          "output_type": "stream",
          "text": [
            "test  /content/drive/My Drive/dataset/Car Running/vid17.mp4\n"
          ],
          "name": "stdout"
        },
        {
          "output_type": "stream",
          "text": [
            "\n",
            "\n",
            " 79%|███████▉  | 158/200 [03:58<01:39,  2.36s/it]\u001b[A\u001b[A"
          ],
          "name": "stderr"
        },
        {
          "output_type": "stream",
          "text": [
            "test  /content/drive/My Drive/dataset/Car Running/vid18.mp4\n"
          ],
          "name": "stdout"
        },
        {
          "output_type": "stream",
          "text": [
            "\n",
            "\n",
            " 80%|███████▉  | 159/200 [03:59<01:23,  2.04s/it]\u001b[A\u001b[A"
          ],
          "name": "stderr"
        },
        {
          "output_type": "stream",
          "text": [
            "test  /content/drive/My Drive/dataset/Car Running/vid19.mp4\n"
          ],
          "name": "stdout"
        },
        {
          "output_type": "stream",
          "text": [
            "\n",
            "\n",
            " 80%|████████  | 160/200 [04:03<01:50,  2.76s/it]\u001b[A\u001b[A"
          ],
          "name": "stderr"
        },
        {
          "output_type": "stream",
          "text": [
            "test  /content/drive/My Drive/dataset/Car Running/vid20.mp4\n"
          ],
          "name": "stdout"
        },
        {
          "output_type": "stream",
          "text": [
            "\n",
            "\n",
            " 80%|████████  | 161/200 [04:08<02:13,  3.42s/it]\u001b[A\u001b[A"
          ],
          "name": "stderr"
        },
        {
          "output_type": "stream",
          "text": [
            "test  /content/drive/My Drive/dataset/Car Running/vid21.mp4\n"
          ],
          "name": "stdout"
        },
        {
          "output_type": "stream",
          "text": [
            "\n",
            "\n",
            " 81%|████████  | 162/200 [04:13<02:23,  3.77s/it]\u001b[A\u001b[A"
          ],
          "name": "stderr"
        },
        {
          "output_type": "stream",
          "text": [
            "test  /content/drive/My Drive/dataset/Car Running/Cars in Motion- The Rolling Shot Supercut - HALCYON (4K)8.mp4\n"
          ],
          "name": "stdout"
        },
        {
          "output_type": "stream",
          "text": [
            "\n",
            "\n",
            " 82%|████████▏ | 163/200 [04:13<01:40,  2.73s/it]\u001b[A\u001b[A"
          ],
          "name": "stderr"
        },
        {
          "output_type": "stream",
          "text": [
            "test  /content/drive/My Drive/dataset/Car Running/Cars in Motion- The Rolling Shot Supercut - HALCYON (4K)7.mp4\n"
          ],
          "name": "stdout"
        },
        {
          "output_type": "stream",
          "text": [
            "\n",
            "\n",
            " 82%|████████▏ | 164/200 [04:14<01:12,  2.01s/it]\u001b[A\u001b[A"
          ],
          "name": "stderr"
        },
        {
          "output_type": "stream",
          "text": [
            "test  /content/drive/My Drive/dataset/Car Running/Cars in Motion- The Rolling Shot Supercut - HALCYON (4K)10.mp4\n"
          ],
          "name": "stdout"
        },
        {
          "output_type": "stream",
          "text": [
            "\n",
            "\n",
            " 82%|████████▎ | 165/200 [04:14<00:52,  1.50s/it]\u001b[A\u001b[A"
          ],
          "name": "stderr"
        },
        {
          "output_type": "stream",
          "text": [
            "test  /content/drive/My Drive/dataset/Car Running/Cars in Motion- The Rolling Shot Supercut - HALCYON (4K)101.mp4\n"
          ],
          "name": "stdout"
        },
        {
          "output_type": "stream",
          "text": [
            "\n",
            "\n",
            " 83%|████████▎ | 166/200 [04:14<00:39,  1.15s/it]\u001b[A\u001b[A"
          ],
          "name": "stderr"
        },
        {
          "output_type": "stream",
          "text": [
            "test  /content/drive/My Drive/dataset/Car Running/Cars in Motion- The Rolling Shot Supercut - HALCYON (4K)9.mp4\n"
          ],
          "name": "stdout"
        },
        {
          "output_type": "stream",
          "text": [
            "\n",
            "\n",
            " 84%|████████▎ | 167/200 [04:14<00:29,  1.13it/s]\u001b[A\u001b[A"
          ],
          "name": "stderr"
        },
        {
          "output_type": "stream",
          "text": [
            "test  /content/drive/My Drive/dataset/Car Running/2018 Infiniti QX80 Review — Cars.com.mp4\n"
          ],
          "name": "stdout"
        },
        {
          "output_type": "stream",
          "text": [
            "\n",
            "\n",
            " 84%|████████▍ | 168/200 [04:15<00:22,  1.44it/s]\u001b[A\u001b[A"
          ],
          "name": "stderr"
        },
        {
          "output_type": "stream",
          "text": [
            "test  /content/drive/My Drive/dataset/Car Running/Cars in Motion- The Rolling Shot Supercut - HALCYON (4K)4.mp4\n"
          ],
          "name": "stdout"
        },
        {
          "output_type": "stream",
          "text": [
            "\n",
            "\n",
            " 84%|████████▍ | 169/200 [04:15<00:17,  1.79it/s]\u001b[A\u001b[A"
          ],
          "name": "stderr"
        },
        {
          "output_type": "stream",
          "text": [
            "test  /content/drive/My Drive/dataset/Car Running/Cars in Motion- The Rolling Shot Supercut - HALCYON (4K)3.mp4\n"
          ],
          "name": "stdout"
        },
        {
          "output_type": "stream",
          "text": [
            "\n",
            "\n",
            " 85%|████████▌ | 170/200 [04:15<00:14,  2.11it/s]\u001b[A\u001b[A"
          ],
          "name": "stderr"
        },
        {
          "output_type": "stream",
          "text": [
            "test  /content/drive/My Drive/dataset/Car Running/Cars in Motion- The Rolling Shot Supercut - HALCYON (4K)6.mp4\n"
          ],
          "name": "stdout"
        },
        {
          "output_type": "stream",
          "text": [
            "\n",
            "\n",
            " 86%|████████▌ | 171/200 [04:16<00:11,  2.44it/s]\u001b[A\u001b[A"
          ],
          "name": "stderr"
        },
        {
          "output_type": "stream",
          "text": [
            "test  /content/drive/My Drive/dataset/Car Running/Cars in Motion- The Rolling Shot Supercut - HALCYON (4K).mp4\n"
          ],
          "name": "stdout"
        },
        {
          "output_type": "stream",
          "text": [
            "\n",
            "\n",
            " 86%|████████▌ | 172/200 [04:16<00:09,  2.82it/s]\u001b[A\u001b[A"
          ],
          "name": "stderr"
        },
        {
          "output_type": "stream",
          "text": [
            "test  /content/drive/My Drive/dataset/Car Running/Cars in Motion- The Rolling Shot Supercut - HALCYON (4K)5.mp4\n"
          ],
          "name": "stdout"
        },
        {
          "output_type": "stream",
          "text": [
            "\n",
            "\n",
            " 86%|████████▋ | 173/200 [04:16<00:10,  2.63it/s]\u001b[A\u001b[A"
          ],
          "name": "stderr"
        },
        {
          "output_type": "stream",
          "text": [
            "test  /content/drive/My Drive/dataset/Car Running/Cars in Motion- The Rolling Shot Supercut - HALCYON (4K)1.mp4\n"
          ],
          "name": "stdout"
        },
        {
          "output_type": "stream",
          "text": [
            "\n",
            "\n",
            " 87%|████████▋ | 174/200 [04:16<00:09,  2.79it/s]\u001b[A\u001b[A"
          ],
          "name": "stderr"
        },
        {
          "output_type": "stream",
          "text": [
            "test  /content/drive/My Drive/dataset/Car Running/vid1.mp4\n"
          ],
          "name": "stdout"
        },
        {
          "output_type": "stream",
          "text": [
            "\n",
            "\n",
            " 88%|████████▊ | 175/200 [04:17<00:10,  2.36it/s]\u001b[A\u001b[A"
          ],
          "name": "stderr"
        },
        {
          "output_type": "stream",
          "text": [
            "test  /content/drive/My Drive/dataset/Car Running/vid2.mp4\n"
          ],
          "name": "stdout"
        },
        {
          "output_type": "stream",
          "text": [
            "\n",
            "\n",
            " 88%|████████▊ | 176/200 [04:18<00:11,  2.11it/s]\u001b[A\u001b[A"
          ],
          "name": "stderr"
        },
        {
          "output_type": "stream",
          "text": [
            "test  /content/drive/My Drive/dataset/Car Running/vid3.mp4\n"
          ],
          "name": "stdout"
        },
        {
          "output_type": "stream",
          "text": [
            "\n",
            "\n",
            " 88%|████████▊ | 177/200 [04:18<00:11,  2.00it/s]\u001b[A\u001b[A"
          ],
          "name": "stderr"
        },
        {
          "output_type": "stream",
          "text": [
            "test  /content/drive/My Drive/dataset/Car Running/vid4.mp4\n"
          ],
          "name": "stdout"
        },
        {
          "output_type": "stream",
          "text": [
            "\n",
            "\n",
            " 89%|████████▉ | 178/200 [04:19<00:11,  1.84it/s]\u001b[A\u001b[A"
          ],
          "name": "stderr"
        },
        {
          "output_type": "stream",
          "text": [
            "test  /content/drive/My Drive/dataset/Car Running/vid5.mp4\n"
          ],
          "name": "stdout"
        },
        {
          "output_type": "stream",
          "text": [
            "\n",
            "\n",
            " 90%|████████▉ | 179/200 [04:19<00:11,  1.87it/s]\u001b[A\u001b[A"
          ],
          "name": "stderr"
        },
        {
          "output_type": "stream",
          "text": [
            "test  /content/drive/My Drive/dataset/Car Running/vid6.mp4\n"
          ],
          "name": "stdout"
        },
        {
          "output_type": "stream",
          "text": [
            "\n",
            "\n",
            " 90%|█████████ | 180/200 [04:20<00:10,  1.94it/s]\u001b[A\u001b[A"
          ],
          "name": "stderr"
        },
        {
          "output_type": "stream",
          "text": [
            "test  /content/drive/My Drive/dataset/Car Running/vid7.mp4\n"
          ],
          "name": "stdout"
        },
        {
          "output_type": "stream",
          "text": [
            "\n",
            "\n",
            " 90%|█████████ | 181/200 [04:20<00:09,  1.97it/s]\u001b[A\u001b[A"
          ],
          "name": "stderr"
        },
        {
          "output_type": "stream",
          "text": [
            "test  /content/drive/My Drive/dataset/Car Running/vid8.mp4\n"
          ],
          "name": "stdout"
        },
        {
          "output_type": "stream",
          "text": [
            "\n",
            "\n",
            " 91%|█████████ | 182/200 [04:21<00:09,  1.97it/s]\u001b[A\u001b[A"
          ],
          "name": "stderr"
        },
        {
          "output_type": "stream",
          "text": [
            "test  /content/drive/My Drive/dataset/Car Running/vid9.mp4\n"
          ],
          "name": "stdout"
        },
        {
          "output_type": "stream",
          "text": [
            "\n",
            "\n",
            " 92%|█████████▏| 183/200 [04:21<00:08,  2.03it/s]\u001b[A\u001b[A"
          ],
          "name": "stderr"
        },
        {
          "output_type": "stream",
          "text": [
            "test  /content/drive/My Drive/dataset/Car Running/vid10.mp4\n"
          ],
          "name": "stdout"
        },
        {
          "output_type": "stream",
          "text": [
            "\n",
            "\n",
            " 92%|█████████▏| 184/200 [04:22<00:07,  2.09it/s]\u001b[A\u001b[A"
          ],
          "name": "stderr"
        },
        {
          "output_type": "stream",
          "text": [
            "test  /content/drive/My Drive/dataset/Car Running/vid11.mp4\n"
          ],
          "name": "stdout"
        },
        {
          "output_type": "stream",
          "text": [
            "\n",
            "\n",
            " 92%|█████████▎| 185/200 [04:22<00:07,  2.01it/s]\u001b[A\u001b[A"
          ],
          "name": "stderr"
        },
        {
          "output_type": "stream",
          "text": [
            "test  /content/drive/My Drive/dataset/Car Running/vid12.mp4\n"
          ],
          "name": "stdout"
        },
        {
          "output_type": "stream",
          "text": [
            "\n",
            "\n",
            " 93%|█████████▎| 186/200 [04:23<00:08,  1.69it/s]\u001b[A\u001b[A"
          ],
          "name": "stderr"
        },
        {
          "output_type": "stream",
          "text": [
            "test  /content/drive/My Drive/dataset/Car Running/vid13.mp4\n"
          ],
          "name": "stdout"
        },
        {
          "output_type": "stream",
          "text": [
            "\n",
            "\n",
            " 94%|█████████▎| 187/200 [04:24<00:08,  1.45it/s]\u001b[A\u001b[A"
          ],
          "name": "stderr"
        },
        {
          "output_type": "stream",
          "text": [
            "test  /content/drive/My Drive/dataset/Car Running/car_run.mp4\n"
          ],
          "name": "stdout"
        },
        {
          "output_type": "stream",
          "text": [
            "\n",
            "\n",
            " 94%|█████████▍| 188/200 [04:25<00:08,  1.41it/s]\u001b[A\u001b[A"
          ],
          "name": "stderr"
        },
        {
          "output_type": "stream",
          "text": [
            "test  /content/drive/My Drive/dataset/Car Running/Copy of (HD) Exotic Car Run (Cop Trouble)-Lamborghini LP640, Rossion Q1, Superleggera and MORE (online-video-cutter.com) (4).mp4\n"
          ],
          "name": "stdout"
        },
        {
          "output_type": "stream",
          "text": [
            "\n",
            "\n",
            " 94%|█████████▍| 189/200 [04:26<00:07,  1.40it/s]\u001b[A\u001b[A"
          ],
          "name": "stderr"
        },
        {
          "output_type": "stream",
          "text": [
            "test  /content/drive/My Drive/dataset/Car Running/Copy of Cars On Highway.mp4\n"
          ],
          "name": "stdout"
        },
        {
          "output_type": "stream",
          "text": [
            "\n",
            "\n",
            " 95%|█████████▌| 190/200 [04:27<00:09,  1.06it/s]\u001b[A\u001b[A"
          ],
          "name": "stderr"
        },
        {
          "output_type": "stream",
          "text": [
            "test  /content/drive/My Drive/dataset/Car Running/Copy of Cars in Motion- The Rolling Shot Supercut - HALCYON (4K)101.mp4\n"
          ],
          "name": "stdout"
        },
        {
          "output_type": "stream",
          "text": [
            "\n",
            "\n",
            " 96%|█████████▌| 191/200 [04:27<00:06,  1.31it/s]\u001b[A\u001b[A"
          ],
          "name": "stderr"
        },
        {
          "output_type": "stream",
          "text": [
            "test  /content/drive/My Drive/dataset/Car Running/Copy of Cars in Motion- The Rolling Shot Supercut - HALCYON (4K)9.mp4\n"
          ],
          "name": "stdout"
        },
        {
          "output_type": "stream",
          "text": [
            "\n",
            "\n",
            " 96%|█████████▌| 192/200 [04:28<00:04,  1.63it/s]\u001b[A\u001b[A"
          ],
          "name": "stderr"
        },
        {
          "output_type": "stream",
          "text": [
            "test  /content/drive/My Drive/dataset/Car Running/Copy of Cars in Motion- The Rolling Shot Supercut - HALCYON (4K)7.mp4\n"
          ],
          "name": "stdout"
        },
        {
          "output_type": "stream",
          "text": [
            "\n",
            "\n",
            " 96%|█████████▋| 193/200 [04:28<00:03,  1.89it/s]\u001b[A\u001b[A"
          ],
          "name": "stderr"
        },
        {
          "output_type": "stream",
          "text": [
            "test  /content/drive/My Drive/dataset/Car Running/Copy of Mercedes Benz On The Road (1).mp4\n"
          ],
          "name": "stdout"
        },
        {
          "output_type": "stream",
          "text": [
            "\n",
            "\n",
            " 97%|█████████▋| 194/200 [04:29<00:04,  1.27it/s]\u001b[A\u001b[A"
          ],
          "name": "stderr"
        },
        {
          "output_type": "stream",
          "text": [
            "test  /content/drive/My Drive/dataset/Car Running/Copy of cut (online-video-cutter.com) (1).mp4\n"
          ],
          "name": "stdout"
        },
        {
          "output_type": "stream",
          "text": [
            "\n",
            "\n",
            " 98%|█████████▊| 195/200 [04:31<00:04,  1.05it/s]\u001b[A\u001b[A"
          ],
          "name": "stderr"
        },
        {
          "output_type": "stream",
          "text": [
            "test  /content/drive/My Drive/dataset/Car Running/Copy of cut2 (online-video-cutter.com).mp4\n"
          ],
          "name": "stdout"
        },
        {
          "output_type": "stream",
          "text": [
            "\n",
            "\n",
            " 98%|█████████▊| 196/200 [04:32<00:04,  1.07s/it]\u001b[A\u001b[A"
          ],
          "name": "stderr"
        },
        {
          "output_type": "stream",
          "text": [
            "test  /content/drive/My Drive/dataset/Car Running/Copy of Mercedes Benz On The Road.mp4\n"
          ],
          "name": "stdout"
        },
        {
          "output_type": "stream",
          "text": [
            "\n",
            "\n",
            " 98%|█████████▊| 197/200 [04:33<00:03,  1.17s/it]\u001b[A\u001b[A"
          ],
          "name": "stderr"
        },
        {
          "output_type": "stream",
          "text": [
            "test  /content/drive/My Drive/dataset/Car Running/Copy of F.O.O.L - Highway (online-video-cutter.com) (1).mp4\n"
          ],
          "name": "stdout"
        },
        {
          "output_type": "stream",
          "text": [
            "\n",
            "\n",
            " 99%|█████████▉| 198/200 [04:34<00:01,  1.02it/s]\u001b[A\u001b[A"
          ],
          "name": "stderr"
        },
        {
          "output_type": "stream",
          "text": [
            "test  /content/drive/My Drive/dataset/Car Running/Copy of The Best Of Street Drifting (online-video-cutter.com) (2).mp4\n"
          ],
          "name": "stdout"
        },
        {
          "output_type": "stream",
          "text": [
            "\n",
            "\n",
            "100%|█████████▉| 199/200 [04:34<00:00,  1.18it/s]\u001b[A\u001b[A"
          ],
          "name": "stderr"
        },
        {
          "output_type": "stream",
          "text": [
            "test  /content/drive/My Drive/dataset/Car Running/Copy of Ollie's 360BHP B16 Turbo Mini --) (online-video-cutter.com) (2).mp4\n"
          ],
          "name": "stdout"
        },
        {
          "output_type": "stream",
          "text": [
            "\n",
            "\n",
            "100%|██████████| 200/200 [04:35<00:00,  1.28it/s]\u001b[A\u001b[A"
          ],
          "name": "stderr"
        },
        {
          "output_type": "stream",
          "text": [
            "test  /content/drive/My Drive/dataset/Car Running/Copy of video (1).mp4\n"
          ],
          "name": "stdout"
        },
        {
          "output_type": "stream",
          "text": [
            "\r100%|██████████| 200/200 [04:41<00:00,  1.41s/it]\n"
          ],
          "name": "stderr"
        },
        {
          "output_type": "stream",
          "text": [
            "Saved dataset to dataset.npz.\n",
            "X_shape:(600, 32, 32, 12, 3)\n",
            "Y_shape:(600, 3)\n"
          ],
          "name": "stdout"
        }
      ]
    },
    {
      "cell_type": "code",
      "metadata": {
        "id": "lzqEIlfReSeB",
        "colab_type": "code",
        "colab": {
          "base_uri": "https://localhost:8080/",
          "height": 1000
        },
        "outputId": "85a4b4ae-cd86-434e-96cb-97e52d30e23f"
      },
      "source": [
        " # Define model\n",
        "model = Sequential()\n",
        "model.add(Conv3D(32, kernel_size=(2, 2, 2), input_shape=(X.shape[1:]), padding=\"same\"))\n",
        "model.add(Activation('relu'))\n",
        "model.add(Conv3D(32, padding=\"same\", kernel_size=(2, 2, 2)))\n",
        "model.add(Activation('relu'))\n",
        "model.add(MaxPooling3D(pool_size=(2, 2, 2), padding=\"same\"))\n",
        "model.add(Dropout(0.2))\n",
        "\n",
        "model.add(Conv3D(64, padding=\"same\", kernel_size=(2, 2, 2)))\n",
        "model.add(Activation('relu'))\n",
        "model.add(Conv3D(64, padding=\"same\", kernel_size=(2, 2, 2)))\n",
        "model.add(Activation('relu'))\n",
        "model.add(MaxPooling3D(pool_size=(3, 3, 3), padding=\"same\"))\n",
        "model.add(Dropout(0.2))\n",
        "\n",
        "model.add(Conv3D(64, padding=\"same\", kernel_size=(3, 3, 3)))\n",
        "model.add(Activation('relu'))\n",
        "model.add(Conv3D(64, padding=\"same\", kernel_size=(3, 3, 3)))\n",
        "model.add(Activation('relu'))\n",
        "model.add(MaxPooling3D(pool_size=(3, 3, 3), padding=\"same\"))\n",
        "model.add(Dropout(0.2))\n",
        "\n",
        "model.add(Flatten())\n",
        "model.add(Dense(3, activation='relu'))\n",
        "model.add(BatchNormalization())\n",
        "model.add(Dropout(0.2))\n",
        "model.add(Dense(nb_classes, activation='softmax'))\n",
        "\n",
        "model.compile(loss=categorical_crossentropy,\n",
        "              optimizer=Adam(), metrics=['accuracy'])\n",
        "model.summary()\n",
        "plot_model(model, show_shapes=True,\n",
        "            to_file=os.path.join(args.output, 'model.png'))"
      ],
      "execution_count": 105,
      "outputs": [
        {
          "output_type": "stream",
          "text": [
            "Model: \"sequential_4\"\n",
            "_________________________________________________________________\n",
            "Layer (type)                 Output Shape              Param #   \n",
            "=================================================================\n",
            "conv3d_19 (Conv3D)           (None, 32, 32, 12, 32)    800       \n",
            "_________________________________________________________________\n",
            "activation_19 (Activation)   (None, 32, 32, 12, 32)    0         \n",
            "_________________________________________________________________\n",
            "conv3d_20 (Conv3D)           (None, 32, 32, 12, 32)    8224      \n",
            "_________________________________________________________________\n",
            "activation_20 (Activation)   (None, 32, 32, 12, 32)    0         \n",
            "_________________________________________________________________\n",
            "max_pooling3d_10 (MaxPooling (None, 16, 16, 6, 32)     0         \n",
            "_________________________________________________________________\n",
            "dropout_13 (Dropout)         (None, 16, 16, 6, 32)     0         \n",
            "_________________________________________________________________\n",
            "conv3d_21 (Conv3D)           (None, 16, 16, 6, 64)     16448     \n",
            "_________________________________________________________________\n",
            "activation_21 (Activation)   (None, 16, 16, 6, 64)     0         \n",
            "_________________________________________________________________\n",
            "conv3d_22 (Conv3D)           (None, 16, 16, 6, 64)     32832     \n",
            "_________________________________________________________________\n",
            "activation_22 (Activation)   (None, 16, 16, 6, 64)     0         \n",
            "_________________________________________________________________\n",
            "max_pooling3d_11 (MaxPooling (None, 6, 6, 2, 64)       0         \n",
            "_________________________________________________________________\n",
            "dropout_14 (Dropout)         (None, 6, 6, 2, 64)       0         \n",
            "_________________________________________________________________\n",
            "conv3d_23 (Conv3D)           (None, 6, 6, 2, 64)       110656    \n",
            "_________________________________________________________________\n",
            "activation_23 (Activation)   (None, 6, 6, 2, 64)       0         \n",
            "_________________________________________________________________\n",
            "conv3d_24 (Conv3D)           (None, 6, 6, 2, 64)       110656    \n",
            "_________________________________________________________________\n",
            "activation_24 (Activation)   (None, 6, 6, 2, 64)       0         \n",
            "_________________________________________________________________\n",
            "max_pooling3d_12 (MaxPooling (None, 2, 2, 1, 64)       0         \n",
            "_________________________________________________________________\n",
            "dropout_15 (Dropout)         (None, 2, 2, 1, 64)       0         \n",
            "_________________________________________________________________\n",
            "flatten_4 (Flatten)          (None, 256)               0         \n",
            "_________________________________________________________________\n",
            "dense_7 (Dense)              (None, 3)                 771       \n",
            "_________________________________________________________________\n",
            "batch_normalization_4 (Batch (None, 3)                 12        \n",
            "_________________________________________________________________\n",
            "dropout_16 (Dropout)         (None, 3)                 0         \n",
            "_________________________________________________________________\n",
            "dense_8 (Dense)              (None, 3)                 12        \n",
            "=================================================================\n",
            "Total params: 280,411\n",
            "Trainable params: 280,405\n",
            "Non-trainable params: 6\n",
            "_________________________________________________________________\n"
          ],
          "name": "stdout"
        },
        {
          "output_type": "execute_result",
          "data": {
            "image/png": "[encoded data removed]",
            "text/plain": [
              "<IPython.core.display.Image object>"
            ]
          },
          "metadata": {
            "tags": []
          },
          "execution_count": 105
        }
      ]
    },
    {
      "cell_type": "code",
      "metadata": {
        "id": "Ux5VyaKSe4lv",
        "colab_type": "code",
        "colab": {
          "base_uri": "https://localhost:8080/",
          "height": 1000
        },
        "outputId": "84e52e6f-69b4-4ffe-e9ff-c667beb2ed9f"
      },
      "source": [
        "X_train, X_test, Y_train, Y_test = train_test_split( X, Y, test_size=0.2, random_state=43)\n",
        "\n",
        "history = model.fit(X_train, Y_train, validation_data=(X_test, Y_test), batch_size=args.batch,\n",
        "                    epochs=args.epoch, verbose=1, shuffle=True)"
      ],
      "execution_count": 106,
      "outputs": [
        {
          "output_type": "stream",
          "text": [
            "Train on 480 samples, validate on 120 samples\n",
            "Epoch 1/500\n",
            "480/480 [==============================] - 2s 5ms/step - loss: 1.2452 - accuracy: 0.3479 - val_loss: 3.5317 - val_accuracy: 0.4250\n",
            "Epoch 2/500\n",
            "480/480 [==============================] - 2s 4ms/step - loss: 1.0761 - accuracy: 0.3750 - val_loss: 2.3839 - val_accuracy: 0.4250\n",
            "Epoch 3/500\n",
            "480/480 [==============================] - 2s 4ms/step - loss: 1.0827 - accuracy: 0.3875 - val_loss: 1.8321 - val_accuracy: 0.4250\n",
            "Epoch 4/500\n",
            "480/480 [==============================] - 2s 4ms/step - loss: 1.0630 - accuracy: 0.3917 - val_loss: 1.4290 - val_accuracy: 0.4250\n",
            "Epoch 5/500\n",
            "480/480 [==============================] - 2s 4ms/step - loss: 1.0772 - accuracy: 0.4000 - val_loss: 1.2442 - val_accuracy: 0.4417\n",
            "Epoch 6/500\n",
            "480/480 [==============================] - 2s 4ms/step - loss: 1.0665 - accuracy: 0.3875 - val_loss: 1.1518 - val_accuracy: 0.4583\n",
            "Epoch 7/500\n",
            "480/480 [==============================] - 2s 4ms/step - loss: 1.0488 - accuracy: 0.4375 - val_loss: 1.0799 - val_accuracy: 0.3917\n",
            "Epoch 8/500\n",
            "480/480 [==============================] - 2s 4ms/step - loss: 1.0338 - accuracy: 0.4458 - val_loss: 1.0685 - val_accuracy: 0.3750\n",
            "Epoch 9/500\n",
            "480/480 [==============================] - 2s 4ms/step - loss: 1.0390 - accuracy: 0.4104 - val_loss: 1.2500 - val_accuracy: 0.2417\n",
            "Epoch 10/500\n",
            "480/480 [==============================] - 2s 4ms/step - loss: 1.0465 - accuracy: 0.4437 - val_loss: 1.1220 - val_accuracy: 0.3583\n",
            "Epoch 11/500\n",
            "480/480 [==============================] - 2s 4ms/step - loss: 1.0163 - accuracy: 0.4479 - val_loss: 1.1309 - val_accuracy: 0.3167\n",
            "Epoch 12/500\n",
            "480/480 [==============================] - 2s 4ms/step - loss: 1.0236 - accuracy: 0.4229 - val_loss: 1.1024 - val_accuracy: 0.4167\n",
            "Epoch 13/500\n",
            "480/480 [==============================] - 2s 4ms/step - loss: 1.0506 - accuracy: 0.3958 - val_loss: 1.3422 - val_accuracy: 0.2417\n",
            "Epoch 14/500\n",
            "480/480 [==============================] - 2s 4ms/step - loss: 1.0067 - accuracy: 0.4563 - val_loss: 1.6151 - val_accuracy: 0.2417\n",
            "Epoch 15/500\n",
            "480/480 [==============================] - 2s 4ms/step - loss: 0.9902 - accuracy: 0.4563 - val_loss: 1.4016 - val_accuracy: 0.2417\n",
            "Epoch 16/500\n",
            "480/480 [==============================] - 2s 4ms/step - loss: 0.9879 - accuracy: 0.4729 - val_loss: 1.4060 - val_accuracy: 0.2417\n",
            "Epoch 17/500\n",
            "480/480 [==============================] - 2s 4ms/step - loss: 0.9602 - accuracy: 0.5042 - val_loss: 1.4154 - val_accuracy: 0.2417\n",
            "Epoch 18/500\n",
            "480/480 [==============================] - 2s 4ms/step - loss: 0.9423 - accuracy: 0.4979 - val_loss: 1.2763 - val_accuracy: 0.2417\n",
            "Epoch 19/500\n",
            "480/480 [==============================] - 2s 4ms/step - loss: 0.9258 - accuracy: 0.5146 - val_loss: 1.3508 - val_accuracy: 0.2417\n",
            "Epoch 20/500\n",
            "480/480 [==============================] - 2s 3ms/step - loss: 0.9189 - accuracy: 0.5271 - val_loss: 1.1531 - val_accuracy: 0.2417\n",
            "Epoch 21/500\n",
            "480/480 [==============================] - 2s 4ms/step - loss: 0.9255 - accuracy: 0.5125 - val_loss: 1.4010 - val_accuracy: 0.2417\n",
            "Epoch 22/500\n",
            "480/480 [==============================] - 2s 4ms/step - loss: 0.9109 - accuracy: 0.4917 - val_loss: 1.2669 - val_accuracy: 0.2417\n",
            "Epoch 23/500\n",
            "480/480 [==============================] - 2s 4ms/step - loss: 0.9109 - accuracy: 0.5396 - val_loss: 1.2941 - val_accuracy: 0.2417\n",
            "Epoch 24/500\n",
            "480/480 [==============================] - 2s 4ms/step - loss: 0.8832 - accuracy: 0.5479 - val_loss: 1.1660 - val_accuracy: 0.2750\n",
            "Epoch 25/500\n",
            "480/480 [==============================] - 2s 4ms/step - loss: 0.8821 - accuracy: 0.5375 - val_loss: 1.3022 - val_accuracy: 0.2417\n",
            "Epoch 26/500\n",
            "480/480 [==============================] - 2s 4ms/step - loss: 0.8759 - accuracy: 0.5458 - val_loss: 1.1223 - val_accuracy: 0.2667\n",
            "Epoch 27/500\n",
            "480/480 [==============================] - 2s 4ms/step - loss: 0.8756 - accuracy: 0.5479 - val_loss: 1.2591 - val_accuracy: 0.2417\n",
            "Epoch 28/500\n",
            "480/480 [==============================] - 2s 4ms/step - loss: 0.8451 - accuracy: 0.5875 - val_loss: 1.2946 - val_accuracy: 0.2417\n",
            "Epoch 29/500\n",
            "480/480 [==============================] - 2s 3ms/step - loss: 0.8254 - accuracy: 0.5875 - val_loss: 1.3724 - val_accuracy: 0.2417\n",
            "Epoch 30/500\n",
            "480/480 [==============================] - 2s 3ms/step - loss: 0.8662 - accuracy: 0.5688 - val_loss: 1.4813 - val_accuracy: 0.2417\n",
            "Epoch 31/500\n",
            "480/480 [==============================] - 2s 4ms/step - loss: 0.8214 - accuracy: 0.5771 - val_loss: 1.3738 - val_accuracy: 0.2417\n",
            "Epoch 32/500\n",
            "480/480 [==============================] - 2s 3ms/step - loss: 0.7553 - accuracy: 0.6229 - val_loss: 1.2430 - val_accuracy: 0.2417\n",
            "Epoch 33/500\n",
            "480/480 [==============================] - 2s 4ms/step - loss: 0.7621 - accuracy: 0.6583 - val_loss: 1.2859 - val_accuracy: 0.2417\n",
            "Epoch 34/500\n",
            "480/480 [==============================] - 2s 4ms/step - loss: 0.7745 - accuracy: 0.6417 - val_loss: 1.0542 - val_accuracy: 0.3583\n",
            "Epoch 35/500\n",
            "480/480 [==============================] - 2s 4ms/step - loss: 0.7419 - accuracy: 0.6500 - val_loss: 1.2045 - val_accuracy: 0.2583\n",
            "Epoch 36/500\n",
            "480/480 [==============================] - 2s 3ms/step - loss: 0.7607 - accuracy: 0.6208 - val_loss: 0.9482 - val_accuracy: 0.4583\n",
            "Epoch 37/500\n",
            "480/480 [==============================] - 2s 4ms/step - loss: 0.7041 - accuracy: 0.6979 - val_loss: 0.9449 - val_accuracy: 0.4667\n",
            "Epoch 38/500\n",
            "480/480 [==============================] - 2s 4ms/step - loss: 0.7121 - accuracy: 0.6687 - val_loss: 1.2375 - val_accuracy: 0.2583\n",
            "Epoch 39/500\n",
            "480/480 [==============================] - 2s 3ms/step - loss: 0.7454 - accuracy: 0.6396 - val_loss: 1.1701 - val_accuracy: 0.3250\n",
            "Epoch 40/500\n",
            "480/480 [==============================] - 2s 3ms/step - loss: 0.7378 - accuracy: 0.6354 - val_loss: 0.8253 - val_accuracy: 0.6667\n",
            "Epoch 41/500\n",
            "480/480 [==============================] - 2s 4ms/step - loss: 0.7171 - accuracy: 0.6562 - val_loss: 0.9802 - val_accuracy: 0.4417\n",
            "Epoch 42/500\n",
            "480/480 [==============================] - 2s 4ms/step - loss: 0.6734 - accuracy: 0.6708 - val_loss: 1.0967 - val_accuracy: 0.3500\n",
            "Epoch 43/500\n",
            "480/480 [==============================] - 2s 3ms/step - loss: 0.6972 - accuracy: 0.6646 - val_loss: 0.8673 - val_accuracy: 0.6167\n",
            "Epoch 44/500\n",
            "480/480 [==============================] - 2s 4ms/step - loss: 0.6458 - accuracy: 0.7188 - val_loss: 1.0317 - val_accuracy: 0.3833\n",
            "Epoch 45/500\n",
            "480/480 [==============================] - 2s 3ms/step - loss: 0.6681 - accuracy: 0.6792 - val_loss: 1.3320 - val_accuracy: 0.2667\n",
            "Epoch 46/500\n",
            "480/480 [==============================] - 2s 4ms/step - loss: 0.6534 - accuracy: 0.7000 - val_loss: 1.0741 - val_accuracy: 0.3417\n",
            "Epoch 47/500\n",
            "480/480 [==============================] - 2s 3ms/step - loss: 0.6142 - accuracy: 0.7417 - val_loss: 1.2070 - val_accuracy: 0.3167\n",
            "Epoch 48/500\n",
            "480/480 [==============================] - 2s 4ms/step - loss: 0.6198 - accuracy: 0.7500 - val_loss: 0.8710 - val_accuracy: 0.5250\n",
            "Epoch 49/500\n",
            "480/480 [==============================] - 2s 3ms/step - loss: 0.6481 - accuracy: 0.6938 - val_loss: 0.9730 - val_accuracy: 0.4500\n",
            "Epoch 50/500\n",
            "480/480 [==============================] - 2s 4ms/step - loss: 0.5998 - accuracy: 0.7375 - val_loss: 0.9057 - val_accuracy: 0.5167\n",
            "Epoch 51/500\n",
            "480/480 [==============================] - 2s 4ms/step - loss: 0.6207 - accuracy: 0.7125 - val_loss: 0.9830 - val_accuracy: 0.4083\n",
            "Epoch 52/500\n",
            "480/480 [==============================] - 2s 3ms/step - loss: 0.5885 - accuracy: 0.7396 - val_loss: 0.8291 - val_accuracy: 0.5417\n",
            "Epoch 53/500\n",
            "480/480 [==============================] - 2s 4ms/step - loss: 0.5932 - accuracy: 0.7229 - val_loss: 0.8260 - val_accuracy: 0.5583\n",
            "Epoch 54/500\n",
            "480/480 [==============================] - 2s 4ms/step - loss: 0.5944 - accuracy: 0.7292 - val_loss: 0.6883 - val_accuracy: 0.7000\n",
            "Epoch 55/500\n",
            "480/480 [==============================] - 2s 3ms/step - loss: 0.5941 - accuracy: 0.7396 - val_loss: 1.3378 - val_accuracy: 0.3000\n",
            "Epoch 56/500\n",
            "480/480 [==============================] - 2s 4ms/step - loss: 0.6200 - accuracy: 0.6917 - val_loss: 0.8483 - val_accuracy: 0.5667\n",
            "Epoch 57/500\n",
            "480/480 [==============================] - 2s 3ms/step - loss: 0.5738 - accuracy: 0.7479 - val_loss: 0.8584 - val_accuracy: 0.5583\n",
            "Epoch 58/500\n",
            "480/480 [==============================] - 2s 3ms/step - loss: 0.5837 - accuracy: 0.7396 - val_loss: 0.9388 - val_accuracy: 0.5000\n",
            "Epoch 59/500\n",
            "480/480 [==============================] - 2s 3ms/step - loss: 0.5954 - accuracy: 0.6979 - val_loss: 1.3476 - val_accuracy: 0.2667\n",
            "Epoch 60/500\n",
            "480/480 [==============================] - 2s 4ms/step - loss: 0.5396 - accuracy: 0.7896 - val_loss: 0.7248 - val_accuracy: 0.6583\n",
            "Epoch 61/500\n",
            "480/480 [==============================] - 2s 4ms/step - loss: 0.5823 - accuracy: 0.7333 - val_loss: 0.7638 - val_accuracy: 0.6667\n",
            "Epoch 62/500\n",
            "480/480 [==============================] - 2s 3ms/step - loss: 0.6029 - accuracy: 0.7188 - val_loss: 0.9206 - val_accuracy: 0.5000\n",
            "Epoch 63/500\n",
            "480/480 [==============================] - 2s 4ms/step - loss: 0.5697 - accuracy: 0.7667 - val_loss: 0.7618 - val_accuracy: 0.6167\n",
            "Epoch 64/500\n",
            "480/480 [==============================] - 2s 4ms/step - loss: 0.5513 - accuracy: 0.7604 - val_loss: 0.6862 - val_accuracy: 0.7083\n",
            "Epoch 65/500\n",
            "480/480 [==============================] - 2s 4ms/step - loss: 0.5619 - accuracy: 0.7604 - val_loss: 0.6405 - val_accuracy: 0.7333\n",
            "Epoch 66/500\n",
            "480/480 [==============================] - 2s 4ms/step - loss: 0.5451 - accuracy: 0.7854 - val_loss: 1.0259 - val_accuracy: 0.4583\n",
            "Epoch 67/500\n",
            "480/480 [==============================] - 2s 4ms/step - loss: 0.5903 - accuracy: 0.7250 - val_loss: 0.9001 - val_accuracy: 0.5083\n",
            "Epoch 68/500\n",
            "480/480 [==============================] - 2s 4ms/step - loss: 0.5209 - accuracy: 0.7896 - val_loss: 0.6624 - val_accuracy: 0.7417\n",
            "Epoch 69/500\n",
            "480/480 [==============================] - 2s 3ms/step - loss: 0.5522 - accuracy: 0.7583 - val_loss: 0.8066 - val_accuracy: 0.5667\n",
            "Epoch 70/500\n",
            "480/480 [==============================] - 2s 3ms/step - loss: 0.5149 - accuracy: 0.7792 - val_loss: 0.8397 - val_accuracy: 0.5000\n",
            "Epoch 71/500\n",
            "480/480 [==============================] - 2s 3ms/step - loss: 0.5519 - accuracy: 0.7750 - val_loss: 1.0456 - val_accuracy: 0.4583\n",
            "Epoch 72/500\n",
            "480/480 [==============================] - 2s 4ms/step - loss: 0.5825 - accuracy: 0.7229 - val_loss: 0.6657 - val_accuracy: 0.7083\n",
            "Epoch 73/500\n",
            "480/480 [==============================] - 2s 3ms/step - loss: 0.5363 - accuracy: 0.7771 - val_loss: 0.6193 - val_accuracy: 0.7750\n",
            "Epoch 74/500\n",
            "480/480 [==============================] - 2s 3ms/step - loss: 0.5245 - accuracy: 0.7833 - val_loss: 0.8687 - val_accuracy: 0.5667\n",
            "Epoch 75/500\n",
            "480/480 [==============================] - 2s 4ms/step - loss: 0.4938 - accuracy: 0.8208 - val_loss: 0.6090 - val_accuracy: 0.7417\n",
            "Epoch 76/500\n",
            "480/480 [==============================] - 2s 3ms/step - loss: 0.5181 - accuracy: 0.7875 - val_loss: 0.6012 - val_accuracy: 0.7583\n",
            "Epoch 77/500\n",
            "480/480 [==============================] - 2s 3ms/step - loss: 0.5201 - accuracy: 0.7583 - val_loss: 0.6745 - val_accuracy: 0.7333\n",
            "Epoch 78/500\n",
            "480/480 [==============================] - 2s 3ms/step - loss: 0.5661 - accuracy: 0.7521 - val_loss: 0.6845 - val_accuracy: 0.7167\n",
            "Epoch 79/500\n",
            "480/480 [==============================] - 2s 3ms/step - loss: 0.5113 - accuracy: 0.7979 - val_loss: 0.7614 - val_accuracy: 0.6333\n",
            "Epoch 80/500\n",
            "480/480 [==============================] - 2s 4ms/step - loss: 0.5365 - accuracy: 0.7812 - val_loss: 0.8939 - val_accuracy: 0.5417\n",
            "Epoch 81/500\n",
            "480/480 [==============================] - 2s 3ms/step - loss: 0.5309 - accuracy: 0.7667 - val_loss: 0.6104 - val_accuracy: 0.7583\n",
            "Epoch 82/500\n",
            "480/480 [==============================] - 2s 3ms/step - loss: 0.4782 - accuracy: 0.8271 - val_loss: 0.6260 - val_accuracy: 0.7667\n",
            "Epoch 83/500\n",
            "480/480 [==============================] - 2s 3ms/step - loss: 0.4841 - accuracy: 0.7979 - val_loss: 0.8354 - val_accuracy: 0.6083\n",
            "Epoch 84/500\n",
            "480/480 [==============================] - 2s 4ms/step - loss: 0.5037 - accuracy: 0.7917 - val_loss: 0.6156 - val_accuracy: 0.7333\n",
            "Epoch 85/500\n",
            "480/480 [==============================] - 2s 3ms/step - loss: 0.5090 - accuracy: 0.7896 - val_loss: 0.6151 - val_accuracy: 0.7583\n",
            "Epoch 86/500\n",
            "480/480 [==============================] - 2s 3ms/step - loss: 0.4779 - accuracy: 0.8250 - val_loss: 0.5751 - val_accuracy: 0.7750\n",
            "Epoch 87/500\n",
            "480/480 [==============================] - 2s 3ms/step - loss: 0.5170 - accuracy: 0.7875 - val_loss: 0.7245 - val_accuracy: 0.6500\n",
            "Epoch 88/500\n",
            "480/480 [==============================] - 2s 3ms/step - loss: 0.5007 - accuracy: 0.7958 - val_loss: 0.7529 - val_accuracy: 0.6417\n",
            "Epoch 89/500\n",
            "480/480 [==============================] - 2s 3ms/step - loss: 0.4707 - accuracy: 0.8146 - val_loss: 0.5822 - val_accuracy: 0.7583\n",
            "Epoch 90/500\n",
            "480/480 [==============================] - 2s 3ms/step - loss: 0.5035 - accuracy: 0.7875 - val_loss: 0.6514 - val_accuracy: 0.7667\n",
            "Epoch 91/500\n",
            "480/480 [==============================] - 2s 3ms/step - loss: 0.4740 - accuracy: 0.8250 - val_loss: 0.6179 - val_accuracy: 0.7333\n",
            "Epoch 92/500\n",
            "480/480 [==============================] - 2s 4ms/step - loss: 0.4978 - accuracy: 0.8042 - val_loss: 0.6206 - val_accuracy: 0.7500\n",
            "Epoch 93/500\n",
            "480/480 [==============================] - 2s 3ms/step - loss: 0.5243 - accuracy: 0.7625 - val_loss: 0.8350 - val_accuracy: 0.6083\n",
            "Epoch 94/500\n",
            "480/480 [==============================] - 2s 3ms/step - loss: 0.5199 - accuracy: 0.7750 - val_loss: 0.6471 - val_accuracy: 0.7167\n",
            "Epoch 95/500\n",
            "480/480 [==============================] - 2s 3ms/step - loss: 0.4873 - accuracy: 0.8000 - val_loss: 0.6591 - val_accuracy: 0.7000\n",
            "Epoch 96/500\n",
            "480/480 [==============================] - 2s 3ms/step - loss: 0.5272 - accuracy: 0.7646 - val_loss: 0.6693 - val_accuracy: 0.7083\n",
            "Epoch 97/500\n",
            "480/480 [==============================] - 2s 3ms/step - loss: 0.5169 - accuracy: 0.7750 - val_loss: 0.5693 - val_accuracy: 0.7583\n",
            "Epoch 98/500\n",
            "480/480 [==============================] - 2s 3ms/step - loss: 0.5287 - accuracy: 0.7646 - val_loss: 0.6169 - val_accuracy: 0.7250\n",
            "Epoch 99/500\n",
            "480/480 [==============================] - 2s 4ms/step - loss: 0.5044 - accuracy: 0.7833 - val_loss: 0.6048 - val_accuracy: 0.7667\n",
            "Epoch 100/500\n",
            "480/480 [==============================] - 2s 4ms/step - loss: 0.4248 - accuracy: 0.8562 - val_loss: 0.5983 - val_accuracy: 0.7333\n",
            "Epoch 101/500\n",
            "480/480 [==============================] - 2s 3ms/step - loss: 0.5171 - accuracy: 0.7688 - val_loss: 0.6100 - val_accuracy: 0.7333\n",
            "Epoch 102/500\n",
            "480/480 [==============================] - 2s 3ms/step - loss: 0.4697 - accuracy: 0.8125 - val_loss: 0.5663 - val_accuracy: 0.8167\n",
            "Epoch 103/500\n",
            "480/480 [==============================] - 2s 3ms/step - loss: 0.5009 - accuracy: 0.7771 - val_loss: 0.5595 - val_accuracy: 0.7583\n",
            "Epoch 104/500\n",
            "480/480 [==============================] - 2s 3ms/step - loss: 0.4892 - accuracy: 0.8125 - val_loss: 0.7655 - val_accuracy: 0.6333\n",
            "Epoch 105/500\n",
            "480/480 [==============================] - 2s 3ms/step - loss: 0.4750 - accuracy: 0.8083 - val_loss: 0.6724 - val_accuracy: 0.6750\n",
            "Epoch 106/500\n",
            "480/480 [==============================] - 2s 3ms/step - loss: 0.4849 - accuracy: 0.8104 - val_loss: 0.5999 - val_accuracy: 0.7333\n",
            "Epoch 107/500\n",
            "480/480 [==============================] - 2s 3ms/step - loss: 0.4415 - accuracy: 0.8292 - val_loss: 0.6061 - val_accuracy: 0.7250\n",
            "Epoch 108/500\n",
            "480/480 [==============================] - 2s 3ms/step - loss: 0.4393 - accuracy: 0.8333 - val_loss: 0.6613 - val_accuracy: 0.7083\n",
            "Epoch 109/500\n",
            "480/480 [==============================] - 2s 4ms/step - loss: 0.4725 - accuracy: 0.8167 - val_loss: 0.7341 - val_accuracy: 0.6750\n",
            "Epoch 110/500\n",
            "480/480 [==============================] - 2s 3ms/step - loss: 0.4583 - accuracy: 0.8167 - val_loss: 0.5951 - val_accuracy: 0.7167\n",
            "Epoch 111/500\n",
            "480/480 [==============================] - 2s 3ms/step - loss: 0.5224 - accuracy: 0.7708 - val_loss: 0.6963 - val_accuracy: 0.6750\n",
            "Epoch 112/500\n",
            "480/480 [==============================] - 2s 3ms/step - loss: 0.4977 - accuracy: 0.7917 - val_loss: 0.6208 - val_accuracy: 0.7500\n",
            "Epoch 113/500\n",
            "480/480 [==============================] - 2s 3ms/step - loss: 0.4829 - accuracy: 0.8062 - val_loss: 0.6006 - val_accuracy: 0.7500\n",
            "Epoch 114/500\n",
            "480/480 [==============================] - 2s 3ms/step - loss: 0.4494 - accuracy: 0.8271 - val_loss: 0.5508 - val_accuracy: 0.7500\n",
            "Epoch 115/500\n",
            "480/480 [==============================] - 2s 3ms/step - loss: 0.5028 - accuracy: 0.7958 - val_loss: 0.5441 - val_accuracy: 0.7667\n",
            "Epoch 116/500\n",
            "480/480 [==============================] - 2s 3ms/step - loss: 0.4609 - accuracy: 0.8313 - val_loss: 0.8478 - val_accuracy: 0.5667\n",
            "Epoch 117/500\n",
            "480/480 [==============================] - 2s 3ms/step - loss: 0.5152 - accuracy: 0.7875 - val_loss: 0.6218 - val_accuracy: 0.7417\n",
            "Epoch 118/500\n",
            "480/480 [==============================] - 2s 3ms/step - loss: 0.4664 - accuracy: 0.8000 - val_loss: 0.6498 - val_accuracy: 0.7500\n",
            "Epoch 119/500\n",
            "480/480 [==============================] - 2s 3ms/step - loss: 0.4670 - accuracy: 0.8000 - val_loss: 0.6593 - val_accuracy: 0.7417\n",
            "Epoch 120/500\n",
            "480/480 [==============================] - 2s 3ms/step - loss: 0.4667 - accuracy: 0.8062 - val_loss: 0.8598 - val_accuracy: 0.5833\n",
            "Epoch 121/500\n",
            "480/480 [==============================] - 2s 3ms/step - loss: 0.4972 - accuracy: 0.7917 - val_loss: 0.6054 - val_accuracy: 0.7333\n",
            "Epoch 122/500\n",
            "480/480 [==============================] - 2s 3ms/step - loss: 0.4603 - accuracy: 0.8146 - val_loss: 0.6836 - val_accuracy: 0.6750\n",
            "Epoch 123/500\n",
            "480/480 [==============================] - 2s 3ms/step - loss: 0.4423 - accuracy: 0.8250 - val_loss: 0.7359 - val_accuracy: 0.6417\n",
            "Epoch 124/500\n",
            "480/480 [==============================] - 2s 3ms/step - loss: 0.4718 - accuracy: 0.8104 - val_loss: 0.5994 - val_accuracy: 0.7583\n",
            "Epoch 125/500\n",
            "480/480 [==============================] - 2s 3ms/step - loss: 0.4694 - accuracy: 0.7958 - val_loss: 0.7964 - val_accuracy: 0.6667\n",
            "Epoch 126/500\n",
            "480/480 [==============================] - 2s 3ms/step - loss: 0.4827 - accuracy: 0.7958 - val_loss: 0.5535 - val_accuracy: 0.7500\n",
            "Epoch 127/500\n",
            "480/480 [==============================] - 2s 3ms/step - loss: 0.4127 - accuracy: 0.8479 - val_loss: 0.8153 - val_accuracy: 0.6167\n",
            "Epoch 128/500\n",
            "480/480 [==============================] - 2s 3ms/step - loss: 0.4322 - accuracy: 0.8167 - val_loss: 0.6529 - val_accuracy: 0.6833\n",
            "Epoch 129/500\n",
            "480/480 [==============================] - 2s 3ms/step - loss: 0.4297 - accuracy: 0.8375 - val_loss: 0.6079 - val_accuracy: 0.7250\n",
            "Epoch 130/500\n",
            "480/480 [==============================] - 2s 3ms/step - loss: 0.4554 - accuracy: 0.8229 - val_loss: 0.5806 - val_accuracy: 0.7500\n",
            "Epoch 131/500\n",
            "480/480 [==============================] - 2s 3ms/step - loss: 0.5083 - accuracy: 0.7854 - val_loss: 0.5636 - val_accuracy: 0.7667\n",
            "Epoch 132/500\n",
            "480/480 [==============================] - 2s 3ms/step - loss: 0.4485 - accuracy: 0.8438 - val_loss: 0.6345 - val_accuracy: 0.7167\n",
            "Epoch 133/500\n",
            "480/480 [==============================] - 2s 3ms/step - loss: 0.4428 - accuracy: 0.8271 - val_loss: 0.5681 - val_accuracy: 0.7333\n",
            "Epoch 134/500\n",
            "480/480 [==============================] - 2s 3ms/step - loss: 0.4665 - accuracy: 0.8229 - val_loss: 0.5962 - val_accuracy: 0.7417\n",
            "Epoch 135/500\n",
            "480/480 [==============================] - 2s 3ms/step - loss: 0.4345 - accuracy: 0.8208 - val_loss: 0.8009 - val_accuracy: 0.6167\n",
            "Epoch 136/500\n",
            "480/480 [==============================] - 2s 3ms/step - loss: 0.4355 - accuracy: 0.8354 - val_loss: 0.5797 - val_accuracy: 0.7500\n",
            "Epoch 137/500\n",
            "480/480 [==============================] - 2s 3ms/step - loss: 0.5013 - accuracy: 0.7771 - val_loss: 0.5433 - val_accuracy: 0.7667\n",
            "Epoch 138/500\n",
            "480/480 [==============================] - 2s 4ms/step - loss: 0.4567 - accuracy: 0.8146 - val_loss: 0.6722 - val_accuracy: 0.6583\n",
            "Epoch 139/500\n",
            "480/480 [==============================] - 2s 3ms/step - loss: 0.4609 - accuracy: 0.8250 - val_loss: 0.6204 - val_accuracy: 0.7000\n",
            "Epoch 140/500\n",
            "480/480 [==============================] - 2s 3ms/step - loss: 0.5071 - accuracy: 0.7854 - val_loss: 0.5785 - val_accuracy: 0.7667\n",
            "Epoch 141/500\n",
            "480/480 [==============================] - 2s 3ms/step - loss: 0.4067 - accuracy: 0.8354 - val_loss: 0.5909 - val_accuracy: 0.8167\n",
            "Epoch 142/500\n",
            "480/480 [==============================] - 2s 3ms/step - loss: 0.4268 - accuracy: 0.8479 - val_loss: 0.6307 - val_accuracy: 0.6833\n",
            "Epoch 143/500\n",
            "480/480 [==============================] - 2s 3ms/step - loss: 0.4866 - accuracy: 0.8104 - val_loss: 0.5940 - val_accuracy: 0.7417\n",
            "Epoch 144/500\n",
            "480/480 [==============================] - 2s 4ms/step - loss: 0.4246 - accuracy: 0.8396 - val_loss: 0.5896 - val_accuracy: 0.7083\n",
            "Epoch 145/500\n",
            "480/480 [==============================] - 2s 3ms/step - loss: 0.4343 - accuracy: 0.8271 - val_loss: 0.7012 - val_accuracy: 0.6667\n",
            "Epoch 146/500\n",
            "480/480 [==============================] - 2s 3ms/step - loss: 0.4215 - accuracy: 0.8479 - val_loss: 0.5711 - val_accuracy: 0.7250\n",
            "Epoch 147/500\n",
            "480/480 [==============================] - 2s 3ms/step - loss: 0.4891 - accuracy: 0.7917 - val_loss: 0.5687 - val_accuracy: 0.7417\n",
            "Epoch 148/500\n",
            "480/480 [==============================] - 2s 3ms/step - loss: 0.4185 - accuracy: 0.8479 - val_loss: 0.6527 - val_accuracy: 0.7250\n",
            "Epoch 149/500\n",
            "480/480 [==============================] - 2s 3ms/step - loss: 0.4264 - accuracy: 0.8438 - val_loss: 0.5270 - val_accuracy: 0.7917\n",
            "Epoch 150/500\n",
            "480/480 [==============================] - 2s 3ms/step - loss: 0.4430 - accuracy: 0.8208 - val_loss: 0.5721 - val_accuracy: 0.7667\n",
            "Epoch 151/500\n",
            "480/480 [==============================] - 2s 3ms/step - loss: 0.4601 - accuracy: 0.8250 - val_loss: 0.5539 - val_accuracy: 0.7917\n",
            "Epoch 152/500\n",
            "480/480 [==============================] - 2s 3ms/step - loss: 0.4278 - accuracy: 0.8438 - val_loss: 0.5120 - val_accuracy: 0.7917\n",
            "Epoch 153/500\n",
            "480/480 [==============================] - 2s 3ms/step - loss: 0.4820 - accuracy: 0.8083 - val_loss: 0.5770 - val_accuracy: 0.7917\n",
            "Epoch 154/500\n",
            "480/480 [==============================] - 2s 3ms/step - loss: 0.4474 - accuracy: 0.8104 - val_loss: 0.7584 - val_accuracy: 0.6333\n",
            "Epoch 155/500\n",
            "480/480 [==============================] - 2s 3ms/step - loss: 0.4872 - accuracy: 0.7917 - val_loss: 0.7524 - val_accuracy: 0.6500\n",
            "Epoch 156/500\n",
            "480/480 [==============================] - 2s 3ms/step - loss: 0.4570 - accuracy: 0.8188 - val_loss: 0.5826 - val_accuracy: 0.7667\n",
            "Epoch 157/500\n",
            "480/480 [==============================] - 2s 3ms/step - loss: 0.4302 - accuracy: 0.8500 - val_loss: 0.9535 - val_accuracy: 0.5083\n",
            "Epoch 158/500\n",
            "480/480 [==============================] - 2s 3ms/step - loss: 0.4704 - accuracy: 0.8146 - val_loss: 0.5990 - val_accuracy: 0.7583\n",
            "Epoch 159/500\n",
            "480/480 [==============================] - 2s 3ms/step - loss: 0.3795 - accuracy: 0.8687 - val_loss: 0.5584 - val_accuracy: 0.7250\n",
            "Epoch 160/500\n",
            "480/480 [==============================] - 2s 3ms/step - loss: 0.4501 - accuracy: 0.8333 - val_loss: 0.5898 - val_accuracy: 0.7167\n",
            "Epoch 161/500\n",
            "480/480 [==============================] - 2s 3ms/step - loss: 0.4525 - accuracy: 0.8188 - val_loss: 0.5538 - val_accuracy: 0.7500\n",
            "Epoch 162/500\n",
            "480/480 [==============================] - 2s 3ms/step - loss: 0.3899 - accuracy: 0.8500 - val_loss: 0.6017 - val_accuracy: 0.7000\n",
            "Epoch 163/500\n",
            "480/480 [==============================] - 2s 3ms/step - loss: 0.4639 - accuracy: 0.8062 - val_loss: 0.5815 - val_accuracy: 0.7500\n",
            "Epoch 164/500\n",
            "480/480 [==============================] - 2s 3ms/step - loss: 0.4228 - accuracy: 0.8396 - val_loss: 0.5655 - val_accuracy: 0.7417\n",
            "Epoch 165/500\n",
            "480/480 [==============================] - 2s 3ms/step - loss: 0.5255 - accuracy: 0.7854 - val_loss: 0.6406 - val_accuracy: 0.7333\n",
            "Epoch 166/500\n",
            "480/480 [==============================] - 2s 3ms/step - loss: 0.4646 - accuracy: 0.8146 - val_loss: 0.6462 - val_accuracy: 0.7000\n",
            "Epoch 167/500\n",
            "480/480 [==============================] - 2s 3ms/step - loss: 0.4596 - accuracy: 0.8146 - val_loss: 0.8688 - val_accuracy: 0.6000\n",
            "Epoch 168/500\n",
            "480/480 [==============================] - 2s 3ms/step - loss: 0.4487 - accuracy: 0.8271 - val_loss: 0.6732 - val_accuracy: 0.7417\n",
            "Epoch 169/500\n",
            "480/480 [==============================] - 2s 3ms/step - loss: 0.4663 - accuracy: 0.8021 - val_loss: 0.8340 - val_accuracy: 0.6417\n",
            "Epoch 170/500\n",
            "480/480 [==============================] - 2s 3ms/step - loss: 0.4331 - accuracy: 0.8271 - val_loss: 0.7669 - val_accuracy: 0.6500\n",
            "Epoch 171/500\n",
            "480/480 [==============================] - 2s 3ms/step - loss: 0.4102 - accuracy: 0.8562 - val_loss: 0.6317 - val_accuracy: 0.7000\n",
            "Epoch 172/500\n",
            "480/480 [==============================] - 2s 3ms/step - loss: 0.4606 - accuracy: 0.8146 - val_loss: 0.6102 - val_accuracy: 0.7583\n",
            "Epoch 173/500\n",
            "480/480 [==============================] - 2s 3ms/step - loss: 0.4640 - accuracy: 0.8104 - val_loss: 0.5879 - val_accuracy: 0.7250\n",
            "Epoch 174/500\n",
            "480/480 [==============================] - 2s 3ms/step - loss: 0.4287 - accuracy: 0.8271 - val_loss: 0.5779 - val_accuracy: 0.7000\n",
            "Epoch 175/500\n",
            "480/480 [==============================] - 2s 3ms/step - loss: 0.4139 - accuracy: 0.8375 - val_loss: 0.6000 - val_accuracy: 0.7250\n",
            "Epoch 176/500\n",
            "480/480 [==============================] - 2s 3ms/step - loss: 0.4604 - accuracy: 0.8271 - val_loss: 0.5504 - val_accuracy: 0.7667\n",
            "Epoch 177/500\n",
            "480/480 [==============================] - 2s 3ms/step - loss: 0.4311 - accuracy: 0.8333 - val_loss: 0.6210 - val_accuracy: 0.7167\n",
            "Epoch 178/500\n",
            "480/480 [==============================] - 2s 3ms/step - loss: 0.4813 - accuracy: 0.8000 - val_loss: 0.6480 - val_accuracy: 0.7250\n",
            "Epoch 179/500\n",
            "480/480 [==============================] - 2s 3ms/step - loss: 0.3866 - accuracy: 0.8687 - val_loss: 0.5478 - val_accuracy: 0.7750\n",
            "Epoch 180/500\n",
            "480/480 [==============================] - 2s 3ms/step - loss: 0.4378 - accuracy: 0.8167 - val_loss: 0.5965 - val_accuracy: 0.7333\n",
            "Epoch 181/500\n",
            "480/480 [==============================] - 2s 4ms/step - loss: 0.4002 - accuracy: 0.8479 - val_loss: 0.5348 - val_accuracy: 0.7833\n",
            "Epoch 182/500\n",
            "480/480 [==============================] - 2s 3ms/step - loss: 0.4680 - accuracy: 0.8083 - val_loss: 0.7940 - val_accuracy: 0.6250\n",
            "Epoch 183/500\n",
            "480/480 [==============================] - 2s 3ms/step - loss: 0.4586 - accuracy: 0.8146 - val_loss: 0.5425 - val_accuracy: 0.7583\n",
            "Epoch 184/500\n",
            "480/480 [==============================] - 2s 3ms/step - loss: 0.4167 - accuracy: 0.8313 - val_loss: 0.6219 - val_accuracy: 0.7500\n",
            "Epoch 185/500\n",
            "480/480 [==============================] - 2s 3ms/step - loss: 0.5021 - accuracy: 0.7937 - val_loss: 0.7916 - val_accuracy: 0.6250\n",
            "Epoch 186/500\n",
            "480/480 [==============================] - 2s 3ms/step - loss: 0.4785 - accuracy: 0.8125 - val_loss: 0.6508 - val_accuracy: 0.7250\n",
            "Epoch 187/500\n",
            "480/480 [==============================] - 2s 3ms/step - loss: 0.4118 - accuracy: 0.8333 - val_loss: 0.6263 - val_accuracy: 0.7000\n",
            "Epoch 188/500\n",
            "480/480 [==============================] - 2s 3ms/step - loss: 0.4337 - accuracy: 0.8479 - val_loss: 0.5683 - val_accuracy: 0.7417\n",
            "Epoch 189/500\n",
            "480/480 [==============================] - 2s 3ms/step - loss: 0.4925 - accuracy: 0.7688 - val_loss: 0.6297 - val_accuracy: 0.7250\n",
            "Epoch 190/500\n",
            "480/480 [==============================] - 2s 3ms/step - loss: 0.3896 - accuracy: 0.8604 - val_loss: 0.5156 - val_accuracy: 0.7583\n",
            "Epoch 191/500\n",
            "480/480 [==============================] - 2s 3ms/step - loss: 0.5084 - accuracy: 0.7708 - val_loss: 0.5861 - val_accuracy: 0.7583\n",
            "Epoch 192/500\n",
            "480/480 [==============================] - 2s 3ms/step - loss: 0.4635 - accuracy: 0.8062 - val_loss: 0.5676 - val_accuracy: 0.7167\n",
            "Epoch 193/500\n",
            "480/480 [==============================] - 2s 3ms/step - loss: 0.3758 - accuracy: 0.8687 - val_loss: 0.5422 - val_accuracy: 0.7250\n",
            "Epoch 194/500\n",
            "480/480 [==============================] - 2s 3ms/step - loss: 0.4402 - accuracy: 0.8396 - val_loss: 0.6095 - val_accuracy: 0.6917\n",
            "Epoch 195/500\n",
            "480/480 [==============================] - 2s 3ms/step - loss: 0.4127 - accuracy: 0.8479 - val_loss: 0.5685 - val_accuracy: 0.7667\n",
            "Epoch 196/500\n",
            "480/480 [==============================] - 2s 3ms/step - loss: 0.4164 - accuracy: 0.8479 - val_loss: 0.6144 - val_accuracy: 0.7083\n",
            "Epoch 197/500\n",
            "480/480 [==============================] - 2s 3ms/step - loss: 0.4458 - accuracy: 0.8104 - val_loss: 0.6303 - val_accuracy: 0.6750\n",
            "Epoch 198/500\n",
            "480/480 [==============================] - 2s 3ms/step - loss: 0.4892 - accuracy: 0.8042 - val_loss: 0.5383 - val_accuracy: 0.8167\n",
            "Epoch 199/500\n",
            "480/480 [==============================] - 2s 3ms/step - loss: 0.4693 - accuracy: 0.8062 - val_loss: 0.5422 - val_accuracy: 0.7333\n",
            "Epoch 200/500\n",
            "480/480 [==============================] - 2s 3ms/step - loss: 0.4634 - accuracy: 0.8104 - val_loss: 0.5750 - val_accuracy: 0.7833\n",
            "Epoch 201/500\n",
            "480/480 [==============================] - 2s 4ms/step - loss: 0.4751 - accuracy: 0.8188 - val_loss: 0.5552 - val_accuracy: 0.7583\n",
            "Epoch 202/500\n",
            "480/480 [==============================] - 2s 3ms/step - loss: 0.4809 - accuracy: 0.8000 - val_loss: 0.6483 - val_accuracy: 0.6917\n",
            "Epoch 203/500\n",
            "480/480 [==============================] - 2s 3ms/step - loss: 0.3800 - accuracy: 0.8708 - val_loss: 0.6474 - val_accuracy: 0.6667\n",
            "Epoch 204/500\n",
            "480/480 [==============================] - 2s 3ms/step - loss: 0.4721 - accuracy: 0.8000 - val_loss: 0.5613 - val_accuracy: 0.7333\n",
            "Epoch 205/500\n",
            "480/480 [==============================] - 2s 3ms/step - loss: 0.4030 - accuracy: 0.8604 - val_loss: 0.5442 - val_accuracy: 0.7583\n",
            "Epoch 206/500\n",
            "480/480 [==============================] - 2s 3ms/step - loss: 0.3973 - accuracy: 0.8500 - val_loss: 0.8658 - val_accuracy: 0.5833\n",
            "Epoch 207/500\n",
            "480/480 [==============================] - 2s 3ms/step - loss: 0.4242 - accuracy: 0.8292 - val_loss: 0.5804 - val_accuracy: 0.7500\n",
            "Epoch 208/500\n",
            "480/480 [==============================] - 2s 3ms/step - loss: 0.4857 - accuracy: 0.8021 - val_loss: 0.6041 - val_accuracy: 0.7083\n",
            "Epoch 209/500\n",
            "480/480 [==============================] - 2s 3ms/step - loss: 0.4182 - accuracy: 0.8375 - val_loss: 0.6451 - val_accuracy: 0.7250\n",
            "Epoch 210/500\n",
            "480/480 [==============================] - 2s 3ms/step - loss: 0.4461 - accuracy: 0.8292 - val_loss: 0.5379 - val_accuracy: 0.8000\n",
            "Epoch 211/500\n",
            "480/480 [==============================] - 2s 3ms/step - loss: 0.4204 - accuracy: 0.8396 - val_loss: 0.5239 - val_accuracy: 0.7667\n",
            "Epoch 212/500\n",
            "480/480 [==============================] - 2s 3ms/step - loss: 0.4183 - accuracy: 0.8500 - val_loss: 0.5433 - val_accuracy: 0.7667\n",
            "Epoch 213/500\n",
            "480/480 [==============================] - 2s 3ms/step - loss: 0.4181 - accuracy: 0.8417 - val_loss: 0.7494 - val_accuracy: 0.6250\n",
            "Epoch 214/500\n",
            "480/480 [==============================] - 2s 3ms/step - loss: 0.4481 - accuracy: 0.8229 - val_loss: 0.5560 - val_accuracy: 0.7417\n",
            "Epoch 215/500\n",
            "480/480 [==============================] - 2s 3ms/step - loss: 0.4492 - accuracy: 0.8271 - val_loss: 0.6071 - val_accuracy: 0.7083\n",
            "Epoch 216/500\n",
            "480/480 [==============================] - 2s 3ms/step - loss: 0.4604 - accuracy: 0.8188 - val_loss: 0.6561 - val_accuracy: 0.6833\n",
            "Epoch 217/500\n",
            "480/480 [==============================] - 2s 3ms/step - loss: 0.4286 - accuracy: 0.8333 - val_loss: 0.5560 - val_accuracy: 0.7417\n",
            "Epoch 218/500\n",
            "480/480 [==============================] - 2s 3ms/step - loss: 0.4341 - accuracy: 0.8396 - val_loss: 0.6129 - val_accuracy: 0.7083\n",
            "Epoch 219/500\n",
            "480/480 [==============================] - 2s 3ms/step - loss: 0.4405 - accuracy: 0.8250 - val_loss: 0.5608 - val_accuracy: 0.7500\n",
            "Epoch 220/500\n",
            "480/480 [==============================] - 2s 3ms/step - loss: 0.4228 - accuracy: 0.8375 - val_loss: 0.5598 - val_accuracy: 0.7167\n",
            "Epoch 221/500\n",
            "480/480 [==============================] - 2s 3ms/step - loss: 0.4264 - accuracy: 0.8271 - val_loss: 0.5870 - val_accuracy: 0.7417\n",
            "Epoch 222/500\n",
            "480/480 [==============================] - 2s 3ms/step - loss: 0.4211 - accuracy: 0.8354 - val_loss: 0.6627 - val_accuracy: 0.6833\n",
            "Epoch 223/500\n",
            "480/480 [==============================] - 2s 3ms/step - loss: 0.4495 - accuracy: 0.8125 - val_loss: 0.5595 - val_accuracy: 0.7250\n",
            "Epoch 224/500\n",
            "480/480 [==============================] - 2s 4ms/step - loss: 0.3827 - accuracy: 0.8729 - val_loss: 0.7327 - val_accuracy: 0.6583\n",
            "Epoch 225/500\n",
            "480/480 [==============================] - 2s 3ms/step - loss: 0.4256 - accuracy: 0.8396 - val_loss: 0.5883 - val_accuracy: 0.7667\n",
            "Epoch 226/500\n",
            "480/480 [==============================] - 2s 3ms/step - loss: 0.4712 - accuracy: 0.8292 - val_loss: 0.5612 - val_accuracy: 0.7333\n",
            "Epoch 227/500\n",
            "480/480 [==============================] - 2s 3ms/step - loss: 0.3991 - accuracy: 0.8438 - val_loss: 0.7017 - val_accuracy: 0.7000\n",
            "Epoch 228/500\n",
            "480/480 [==============================] - 2s 3ms/step - loss: 0.4004 - accuracy: 0.8521 - val_loss: 0.5414 - val_accuracy: 0.8000\n",
            "Epoch 229/500\n",
            "480/480 [==============================] - 2s 3ms/step - loss: 0.4450 - accuracy: 0.8188 - val_loss: 0.6058 - val_accuracy: 0.6917\n",
            "Epoch 230/500\n",
            "480/480 [==============================] - 2s 3ms/step - loss: 0.4467 - accuracy: 0.8313 - val_loss: 0.8448 - val_accuracy: 0.5917\n",
            "Epoch 231/500\n",
            "480/480 [==============================] - 2s 3ms/step - loss: 0.4304 - accuracy: 0.8313 - val_loss: 0.5978 - val_accuracy: 0.7167\n",
            "Epoch 232/500\n",
            "480/480 [==============================] - 2s 3ms/step - loss: 0.3577 - accuracy: 0.8833 - val_loss: 0.5668 - val_accuracy: 0.7583\n",
            "Epoch 233/500\n",
            "480/480 [==============================] - 2s 3ms/step - loss: 0.4897 - accuracy: 0.7937 - val_loss: 0.7068 - val_accuracy: 0.6833\n",
            "Epoch 234/500\n",
            "480/480 [==============================] - 2s 3ms/step - loss: 0.4152 - accuracy: 0.8542 - val_loss: 0.6090 - val_accuracy: 0.7417\n",
            "Epoch 235/500\n",
            "480/480 [==============================] - 2s 3ms/step - loss: 0.4349 - accuracy: 0.8292 - val_loss: 0.6311 - val_accuracy: 0.7417\n",
            "Epoch 236/500\n",
            "480/480 [==============================] - 2s 3ms/step - loss: 0.4739 - accuracy: 0.8208 - val_loss: 0.6185 - val_accuracy: 0.7083\n",
            "Epoch 237/500\n",
            "480/480 [==============================] - 2s 3ms/step - loss: 0.4143 - accuracy: 0.8521 - val_loss: 0.5580 - val_accuracy: 0.7583\n",
            "Epoch 238/500\n",
            "480/480 [==============================] - 2s 3ms/step - loss: 0.3937 - accuracy: 0.8521 - val_loss: 0.5347 - val_accuracy: 0.7583\n",
            "Epoch 239/500\n",
            "480/480 [==============================] - 2s 3ms/step - loss: 0.4632 - accuracy: 0.8292 - val_loss: 0.5465 - val_accuracy: 0.7333\n",
            "Epoch 240/500\n",
            "480/480 [==============================] - 2s 3ms/step - loss: 0.3965 - accuracy: 0.8542 - val_loss: 0.5443 - val_accuracy: 0.7917\n",
            "Epoch 241/500\n",
            "480/480 [==============================] - 2s 3ms/step - loss: 0.4147 - accuracy: 0.8438 - val_loss: 0.5884 - val_accuracy: 0.7667\n",
            "Epoch 242/500\n",
            "480/480 [==============================] - 2s 3ms/step - loss: 0.4581 - accuracy: 0.8146 - val_loss: 0.6170 - val_accuracy: 0.7500\n",
            "Epoch 243/500\n",
            "480/480 [==============================] - 2s 3ms/step - loss: 0.4690 - accuracy: 0.8146 - val_loss: 0.5847 - val_accuracy: 0.7750\n",
            "Epoch 244/500\n",
            "480/480 [==============================] - 2s 3ms/step - loss: 0.4003 - accuracy: 0.8542 - val_loss: 0.6102 - val_accuracy: 0.7083\n",
            "Epoch 245/500\n",
            "480/480 [==============================] - 2s 3ms/step - loss: 0.4634 - accuracy: 0.8125 - val_loss: 0.9971 - val_accuracy: 0.5417\n",
            "Epoch 246/500\n",
            "480/480 [==============================] - 2s 3ms/step - loss: 0.4458 - accuracy: 0.8313 - val_loss: 0.6076 - val_accuracy: 0.7333\n",
            "Epoch 247/500\n",
            "480/480 [==============================] - 2s 3ms/step - loss: 0.4319 - accuracy: 0.8375 - val_loss: 0.5282 - val_accuracy: 0.7750\n",
            "Epoch 248/500\n",
            "480/480 [==============================] - 2s 3ms/step - loss: 0.4251 - accuracy: 0.8458 - val_loss: 1.0758 - val_accuracy: 0.4667\n",
            "Epoch 249/500\n",
            "480/480 [==============================] - 2s 3ms/step - loss: 0.4380 - accuracy: 0.8417 - val_loss: 0.5511 - val_accuracy: 0.7833\n",
            "Epoch 250/500\n",
            "480/480 [==============================] - 2s 4ms/step - loss: 0.4343 - accuracy: 0.8354 - val_loss: 0.5319 - val_accuracy: 0.7667\n",
            "Epoch 251/500\n",
            "480/480 [==============================] - 2s 4ms/step - loss: 0.4270 - accuracy: 0.8417 - val_loss: 0.5210 - val_accuracy: 0.7333\n",
            "Epoch 252/500\n",
            "480/480 [==============================] - 2s 3ms/step - loss: 0.4786 - accuracy: 0.8062 - val_loss: 0.5210 - val_accuracy: 0.7917\n",
            "Epoch 253/500\n",
            "480/480 [==============================] - 2s 3ms/step - loss: 0.4454 - accuracy: 0.8313 - val_loss: 0.5287 - val_accuracy: 0.7500\n",
            "Epoch 254/500\n",
            "480/480 [==============================] - 2s 3ms/step - loss: 0.4356 - accuracy: 0.8417 - val_loss: 0.5390 - val_accuracy: 0.7750\n",
            "Epoch 255/500\n",
            "480/480 [==============================] - 2s 4ms/step - loss: 0.4506 - accuracy: 0.8292 - val_loss: 0.4991 - val_accuracy: 0.8167\n",
            "Epoch 256/500\n",
            "480/480 [==============================] - 2s 4ms/step - loss: 0.4478 - accuracy: 0.8208 - val_loss: 0.6415 - val_accuracy: 0.7333\n",
            "Epoch 257/500\n",
            "480/480 [==============================] - 2s 3ms/step - loss: 0.4504 - accuracy: 0.8208 - val_loss: 0.5925 - val_accuracy: 0.7083\n",
            "Epoch 258/500\n",
            "480/480 [==============================] - 2s 3ms/step - loss: 0.4311 - accuracy: 0.8313 - val_loss: 0.5892 - val_accuracy: 0.7250\n",
            "Epoch 259/500\n",
            "480/480 [==============================] - 2s 3ms/step - loss: 0.4350 - accuracy: 0.8208 - val_loss: 0.6089 - val_accuracy: 0.7167\n",
            "Epoch 260/500\n",
            "480/480 [==============================] - 2s 3ms/step - loss: 0.4560 - accuracy: 0.8083 - val_loss: 0.7592 - val_accuracy: 0.6500\n",
            "Epoch 261/500\n",
            "480/480 [==============================] - 2s 3ms/step - loss: 0.4285 - accuracy: 0.8500 - val_loss: 0.6301 - val_accuracy: 0.7000\n",
            "Epoch 262/500\n",
            "480/480 [==============================] - 2s 3ms/step - loss: 0.4933 - accuracy: 0.7792 - val_loss: 0.9310 - val_accuracy: 0.5167\n",
            "Epoch 263/500\n",
            "480/480 [==============================] - 2s 3ms/step - loss: 0.5021 - accuracy: 0.7896 - val_loss: 0.5688 - val_accuracy: 0.7417\n",
            "Epoch 264/500\n",
            "480/480 [==============================] - 2s 3ms/step - loss: 0.3874 - accuracy: 0.8646 - val_loss: 0.6062 - val_accuracy: 0.7250\n",
            "Epoch 265/500\n",
            "480/480 [==============================] - 2s 3ms/step - loss: 0.4420 - accuracy: 0.8146 - val_loss: 0.5316 - val_accuracy: 0.7833\n",
            "Epoch 266/500\n",
            "480/480 [==============================] - 2s 3ms/step - loss: 0.4092 - accuracy: 0.8500 - val_loss: 0.5354 - val_accuracy: 0.7667\n",
            "Epoch 267/500\n",
            "480/480 [==============================] - 2s 3ms/step - loss: 0.4462 - accuracy: 0.8167 - val_loss: 0.5540 - val_accuracy: 0.7333\n",
            "Epoch 268/500\n",
            "480/480 [==============================] - 2s 3ms/step - loss: 0.4210 - accuracy: 0.8458 - val_loss: 0.5823 - val_accuracy: 0.7833\n",
            "Epoch 269/500\n",
            "480/480 [==============================] - 2s 3ms/step - loss: 0.4242 - accuracy: 0.8333 - val_loss: 0.6230 - val_accuracy: 0.7083\n",
            "Epoch 270/500\n",
            "480/480 [==============================] - 2s 3ms/step - loss: 0.4340 - accuracy: 0.8417 - val_loss: 0.6166 - val_accuracy: 0.7917\n",
            "Epoch 271/500\n",
            "480/480 [==============================] - 2s 3ms/step - loss: 0.4169 - accuracy: 0.8458 - val_loss: 0.5664 - val_accuracy: 0.7417\n",
            "Epoch 272/500\n",
            "480/480 [==============================] - 2s 3ms/step - loss: 0.4107 - accuracy: 0.8479 - val_loss: 0.5675 - val_accuracy: 0.7250\n",
            "Epoch 273/500\n",
            "480/480 [==============================] - 2s 4ms/step - loss: 0.4271 - accuracy: 0.8354 - val_loss: 0.6630 - val_accuracy: 0.6667\n",
            "Epoch 274/500\n",
            "480/480 [==============================] - 2s 3ms/step - loss: 0.4018 - accuracy: 0.8521 - val_loss: 0.5297 - val_accuracy: 0.7333\n",
            "Epoch 275/500\n",
            "480/480 [==============================] - 2s 4ms/step - loss: 0.4215 - accuracy: 0.8458 - val_loss: 0.6215 - val_accuracy: 0.6917\n",
            "Epoch 276/500\n",
            "480/480 [==============================] - 2s 3ms/step - loss: 0.4102 - accuracy: 0.8479 - val_loss: 0.5735 - val_accuracy: 0.7333\n",
            "Epoch 277/500\n",
            "480/480 [==============================] - 2s 4ms/step - loss: 0.4079 - accuracy: 0.8438 - val_loss: 0.5905 - val_accuracy: 0.7917\n",
            "Epoch 278/500\n",
            "480/480 [==============================] - 2s 4ms/step - loss: 0.4071 - accuracy: 0.8458 - val_loss: 0.5774 - val_accuracy: 0.7500\n",
            "Epoch 279/500\n",
            "480/480 [==============================] - 2s 3ms/step - loss: 0.3635 - accuracy: 0.8792 - val_loss: 0.6428 - val_accuracy: 0.6667\n",
            "Epoch 280/500\n",
            "480/480 [==============================] - 2s 3ms/step - loss: 0.4114 - accuracy: 0.8479 - val_loss: 0.5526 - val_accuracy: 0.7250\n",
            "Epoch 281/500\n",
            "480/480 [==============================] - 2s 3ms/step - loss: 0.4727 - accuracy: 0.7979 - val_loss: 0.5430 - val_accuracy: 0.7667\n",
            "Epoch 282/500\n",
            "480/480 [==============================] - 2s 3ms/step - loss: 0.4722 - accuracy: 0.8188 - val_loss: 0.5773 - val_accuracy: 0.7417\n",
            "Epoch 283/500\n",
            "480/480 [==============================] - 2s 3ms/step - loss: 0.4556 - accuracy: 0.8021 - val_loss: 0.5887 - val_accuracy: 0.7333\n",
            "Epoch 284/500\n",
            "480/480 [==============================] - 2s 3ms/step - loss: 0.4368 - accuracy: 0.8271 - val_loss: 0.5585 - val_accuracy: 0.7583\n",
            "Epoch 285/500\n",
            "480/480 [==============================] - 2s 3ms/step - loss: 0.3886 - accuracy: 0.8583 - val_loss: 0.8580 - val_accuracy: 0.5917\n",
            "Epoch 286/500\n",
            "480/480 [==============================] - 2s 4ms/step - loss: 0.5089 - accuracy: 0.7979 - val_loss: 0.7227 - val_accuracy: 0.7333\n",
            "Epoch 287/500\n",
            "480/480 [==============================] - 2s 3ms/step - loss: 0.4487 - accuracy: 0.8313 - val_loss: 0.5356 - val_accuracy: 0.7667\n",
            "Epoch 288/500\n",
            "480/480 [==============================] - 2s 4ms/step - loss: 0.4416 - accuracy: 0.8271 - val_loss: 0.5118 - val_accuracy: 0.7750\n",
            "Epoch 289/500\n",
            "480/480 [==============================] - 2s 3ms/step - loss: 0.4310 - accuracy: 0.8500 - val_loss: 0.5576 - val_accuracy: 0.7583\n",
            "Epoch 290/500\n",
            "480/480 [==============================] - 2s 3ms/step - loss: 0.4397 - accuracy: 0.8104 - val_loss: 0.6117 - val_accuracy: 0.7083\n",
            "Epoch 291/500\n",
            "480/480 [==============================] - 2s 3ms/step - loss: 0.4801 - accuracy: 0.8021 - val_loss: 0.5814 - val_accuracy: 0.7667\n",
            "Epoch 292/500\n",
            "480/480 [==============================] - 2s 3ms/step - loss: 0.4485 - accuracy: 0.8167 - val_loss: 0.6440 - val_accuracy: 0.6833\n",
            "Epoch 293/500\n",
            "480/480 [==============================] - 2s 3ms/step - loss: 0.4725 - accuracy: 0.8250 - val_loss: 0.5526 - val_accuracy: 0.7667\n",
            "Epoch 294/500\n",
            "480/480 [==============================] - 2s 3ms/step - loss: 0.4256 - accuracy: 0.8271 - val_loss: 0.5664 - val_accuracy: 0.7583\n",
            "Epoch 295/500\n",
            "480/480 [==============================] - 2s 3ms/step - loss: 0.4103 - accuracy: 0.8583 - val_loss: 0.5914 - val_accuracy: 0.7167\n",
            "Epoch 296/500\n",
            "480/480 [==============================] - 2s 3ms/step - loss: 0.4435 - accuracy: 0.8333 - val_loss: 0.5580 - val_accuracy: 0.7750\n",
            "Epoch 297/500\n",
            "480/480 [==============================] - 2s 3ms/step - loss: 0.3948 - accuracy: 0.8583 - val_loss: 0.6083 - val_accuracy: 0.7333\n",
            "Epoch 298/500\n",
            "480/480 [==============================] - 2s 3ms/step - loss: 0.4102 - accuracy: 0.8562 - val_loss: 0.6046 - val_accuracy: 0.7000\n",
            "Epoch 299/500\n",
            "480/480 [==============================] - 2s 3ms/step - loss: 0.4186 - accuracy: 0.8375 - val_loss: 0.9385 - val_accuracy: 0.5167\n",
            "Epoch 300/500\n",
            "480/480 [==============================] - 2s 3ms/step - loss: 0.4826 - accuracy: 0.8000 - val_loss: 0.7791 - val_accuracy: 0.6583\n",
            "Epoch 301/500\n",
            "480/480 [==============================] - 2s 3ms/step - loss: 0.3900 - accuracy: 0.8583 - val_loss: 0.6350 - val_accuracy: 0.7417\n",
            "Epoch 302/500\n",
            "480/480 [==============================] - 2s 3ms/step - loss: 0.3913 - accuracy: 0.8583 - val_loss: 0.6658 - val_accuracy: 0.6750\n",
            "Epoch 303/500\n",
            "480/480 [==============================] - 2s 3ms/step - loss: 0.4277 - accuracy: 0.8479 - val_loss: 0.5596 - val_accuracy: 0.7667\n",
            "Epoch 304/500\n",
            "480/480 [==============================] - 2s 3ms/step - loss: 0.3796 - accuracy: 0.8750 - val_loss: 0.5668 - val_accuracy: 0.7667\n",
            "Epoch 305/500\n",
            "480/480 [==============================] - 2s 3ms/step - loss: 0.4070 - accuracy: 0.8521 - val_loss: 0.5670 - val_accuracy: 0.7583\n",
            "Epoch 306/500\n",
            "480/480 [==============================] - 2s 3ms/step - loss: 0.4076 - accuracy: 0.8417 - val_loss: 0.5487 - val_accuracy: 0.7500\n",
            "Epoch 307/500\n",
            "480/480 [==============================] - 2s 4ms/step - loss: 0.4341 - accuracy: 0.8479 - val_loss: 0.5539 - val_accuracy: 0.7833\n",
            "Epoch 308/500\n",
            "480/480 [==============================] - 2s 3ms/step - loss: 0.4339 - accuracy: 0.8417 - val_loss: 0.6914 - val_accuracy: 0.6417\n",
            "Epoch 309/500\n",
            "480/480 [==============================] - 2s 3ms/step - loss: 0.4476 - accuracy: 0.8125 - val_loss: 0.5573 - val_accuracy: 0.7500\n",
            "Epoch 310/500\n",
            "480/480 [==============================] - 2s 4ms/step - loss: 0.3730 - accuracy: 0.8750 - val_loss: 0.5403 - val_accuracy: 0.7833\n",
            "Epoch 311/500\n",
            "480/480 [==============================] - 2s 3ms/step - loss: 0.4069 - accuracy: 0.8542 - val_loss: 0.5249 - val_accuracy: 0.7917\n",
            "Epoch 312/500\n",
            "480/480 [==============================] - 2s 3ms/step - loss: 0.4508 - accuracy: 0.8208 - val_loss: 0.5140 - val_accuracy: 0.7917\n",
            "Epoch 313/500\n",
            "480/480 [==============================] - 2s 3ms/step - loss: 0.4215 - accuracy: 0.8396 - val_loss: 0.5636 - val_accuracy: 0.7333\n",
            "Epoch 314/500\n",
            "480/480 [==============================] - 2s 4ms/step - loss: 0.4252 - accuracy: 0.8354 - val_loss: 0.5894 - val_accuracy: 0.7250\n",
            "Epoch 315/500\n",
            "480/480 [==============================] - 2s 3ms/step - loss: 0.3853 - accuracy: 0.8625 - val_loss: 0.5939 - val_accuracy: 0.7667\n",
            "Epoch 316/500\n",
            "480/480 [==============================] - 2s 3ms/step - loss: 0.3636 - accuracy: 0.8750 - val_loss: 0.5665 - val_accuracy: 0.7750\n",
            "Epoch 317/500\n",
            "480/480 [==============================] - 2s 3ms/step - loss: 0.4321 - accuracy: 0.8375 - val_loss: 0.5502 - val_accuracy: 0.7750\n",
            "Epoch 318/500\n",
            "480/480 [==============================] - 2s 3ms/step - loss: 0.3987 - accuracy: 0.8625 - val_loss: 0.5465 - val_accuracy: 0.7917\n",
            "Epoch 319/500\n",
            "480/480 [==============================] - 2s 3ms/step - loss: 0.3963 - accuracy: 0.8687 - val_loss: 0.5147 - val_accuracy: 0.7750\n",
            "Epoch 320/500\n",
            "480/480 [==============================] - 2s 3ms/step - loss: 0.4102 - accuracy: 0.8521 - val_loss: 0.9509 - val_accuracy: 0.5333\n",
            "Epoch 321/500\n",
            "480/480 [==============================] - 2s 4ms/step - loss: 0.4681 - accuracy: 0.8021 - val_loss: 0.6681 - val_accuracy: 0.8000\n",
            "Epoch 322/500\n",
            "480/480 [==============================] - 2s 4ms/step - loss: 0.3982 - accuracy: 0.8687 - val_loss: 0.6098 - val_accuracy: 0.7333\n",
            "Epoch 323/500\n",
            "480/480 [==============================] - 2s 4ms/step - loss: 0.3837 - accuracy: 0.8646 - val_loss: 0.5808 - val_accuracy: 0.7250\n",
            "Epoch 324/500\n",
            "480/480 [==============================] - 2s 4ms/step - loss: 0.4312 - accuracy: 0.8292 - val_loss: 0.5528 - val_accuracy: 0.7667\n",
            "Epoch 325/500\n",
            "480/480 [==============================] - 2s 3ms/step - loss: 0.4492 - accuracy: 0.8125 - val_loss: 0.5895 - val_accuracy: 0.7583\n",
            "Epoch 326/500\n",
            "480/480 [==============================] - 2s 3ms/step - loss: 0.4767 - accuracy: 0.8146 - val_loss: 0.6770 - val_accuracy: 0.6417\n",
            "Epoch 327/500\n",
            "480/480 [==============================] - 2s 3ms/step - loss: 0.4108 - accuracy: 0.8604 - val_loss: 0.5808 - val_accuracy: 0.7500\n",
            "Epoch 328/500\n",
            "480/480 [==============================] - 2s 3ms/step - loss: 0.4903 - accuracy: 0.8000 - val_loss: 0.5321 - val_accuracy: 0.7333\n",
            "Epoch 329/500\n",
            "480/480 [==============================] - 2s 3ms/step - loss: 0.4475 - accuracy: 0.8271 - val_loss: 0.9118 - val_accuracy: 0.6000\n",
            "Epoch 330/500\n",
            "480/480 [==============================] - 2s 3ms/step - loss: 0.4098 - accuracy: 0.8458 - val_loss: 0.5800 - val_accuracy: 0.7417\n",
            "Epoch 331/500\n",
            "480/480 [==============================] - 2s 3ms/step - loss: 0.3658 - accuracy: 0.8667 - val_loss: 0.5649 - val_accuracy: 0.7750\n",
            "Epoch 332/500\n",
            "480/480 [==============================] - 2s 3ms/step - loss: 0.4014 - accuracy: 0.8583 - val_loss: 0.5529 - val_accuracy: 0.7583\n",
            "Epoch 333/500\n",
            "480/480 [==============================] - 2s 3ms/step - loss: 0.4556 - accuracy: 0.8313 - val_loss: 0.5143 - val_accuracy: 0.8083\n",
            "Epoch 334/500\n",
            "480/480 [==============================] - 2s 3ms/step - loss: 0.4293 - accuracy: 0.8375 - val_loss: 0.4973 - val_accuracy: 0.7917\n",
            "Epoch 335/500\n",
            "480/480 [==============================] - 2s 3ms/step - loss: 0.4351 - accuracy: 0.8271 - val_loss: 0.5427 - val_accuracy: 0.7500\n",
            "Epoch 336/500\n",
            "480/480 [==============================] - 2s 3ms/step - loss: 0.4275 - accuracy: 0.8396 - val_loss: 0.6116 - val_accuracy: 0.7167\n",
            "Epoch 337/500\n",
            "480/480 [==============================] - 2s 3ms/step - loss: 0.4035 - accuracy: 0.8542 - val_loss: 0.5054 - val_accuracy: 0.8000\n",
            "Epoch 338/500\n",
            "480/480 [==============================] - 2s 3ms/step - loss: 0.4528 - accuracy: 0.8250 - val_loss: 0.5363 - val_accuracy: 0.8000\n",
            "Epoch 339/500\n",
            "480/480 [==============================] - 2s 3ms/step - loss: 0.4599 - accuracy: 0.8104 - val_loss: 0.5203 - val_accuracy: 0.7917\n",
            "Epoch 340/500\n",
            "480/480 [==============================] - 2s 3ms/step - loss: 0.3973 - accuracy: 0.8625 - val_loss: 0.4860 - val_accuracy: 0.7833\n",
            "Epoch 341/500\n",
            "480/480 [==============================] - 2s 3ms/step - loss: 0.4270 - accuracy: 0.8333 - val_loss: 0.4958 - val_accuracy: 0.8000\n",
            "Epoch 342/500\n",
            "480/480 [==============================] - 2s 3ms/step - loss: 0.4173 - accuracy: 0.8458 - val_loss: 0.5059 - val_accuracy: 0.8083\n",
            "Epoch 343/500\n",
            "480/480 [==============================] - 2s 3ms/step - loss: 0.3738 - accuracy: 0.8521 - val_loss: 0.5288 - val_accuracy: 0.7667\n",
            "Epoch 344/500\n",
            "480/480 [==============================] - 2s 3ms/step - loss: 0.3935 - accuracy: 0.8542 - val_loss: 0.6835 - val_accuracy: 0.6417\n",
            "Epoch 345/500\n",
            "480/480 [==============================] - 2s 4ms/step - loss: 0.4462 - accuracy: 0.8313 - val_loss: 0.6773 - val_accuracy: 0.6750\n",
            "Epoch 346/500\n",
            "480/480 [==============================] - 2s 3ms/step - loss: 0.4059 - accuracy: 0.8604 - val_loss: 0.5670 - val_accuracy: 0.7917\n",
            "Epoch 347/500\n",
            "480/480 [==============================] - 2s 3ms/step - loss: 0.4593 - accuracy: 0.8208 - val_loss: 0.6642 - val_accuracy: 0.6833\n",
            "Epoch 348/500\n",
            "480/480 [==============================] - 2s 4ms/step - loss: 0.4572 - accuracy: 0.8313 - val_loss: 0.5966 - val_accuracy: 0.7083\n",
            "Epoch 349/500\n",
            "480/480 [==============================] - 2s 4ms/step - loss: 0.4244 - accuracy: 0.8417 - val_loss: 0.5090 - val_accuracy: 0.7917\n",
            "Epoch 350/500\n",
            "480/480 [==============================] - 2s 3ms/step - loss: 0.4174 - accuracy: 0.8417 - val_loss: 0.4985 - val_accuracy: 0.8167\n",
            "Epoch 351/500\n",
            "480/480 [==============================] - 2s 3ms/step - loss: 0.4273 - accuracy: 0.8396 - val_loss: 0.5563 - val_accuracy: 0.7583\n",
            "Epoch 352/500\n",
            "480/480 [==============================] - 2s 3ms/step - loss: 0.3764 - accuracy: 0.8562 - val_loss: 0.6351 - val_accuracy: 0.7083\n",
            "Epoch 353/500\n",
            "480/480 [==============================] - 2s 3ms/step - loss: 0.4098 - accuracy: 0.8479 - val_loss: 0.5423 - val_accuracy: 0.7667\n",
            "Epoch 354/500\n",
            "480/480 [==============================] - 2s 3ms/step - loss: 0.4123 - accuracy: 0.8458 - val_loss: 0.6316 - val_accuracy: 0.6667\n",
            "Epoch 355/500\n",
            "480/480 [==============================] - 2s 3ms/step - loss: 0.4099 - accuracy: 0.8479 - val_loss: 0.6792 - val_accuracy: 0.6500\n",
            "Epoch 356/500\n",
            "480/480 [==============================] - 2s 3ms/step - loss: 0.3914 - accuracy: 0.8604 - val_loss: 0.5532 - val_accuracy: 0.8167\n",
            "Epoch 357/500\n",
            "480/480 [==============================] - 2s 3ms/step - loss: 0.4219 - accuracy: 0.8438 - val_loss: 0.5895 - val_accuracy: 0.7000\n",
            "Epoch 358/500\n",
            "480/480 [==============================] - 2s 3ms/step - loss: 0.4148 - accuracy: 0.8375 - val_loss: 0.5535 - val_accuracy: 0.7667\n",
            "Epoch 359/500\n",
            "480/480 [==============================] - 2s 3ms/step - loss: 0.3929 - accuracy: 0.8479 - val_loss: 0.5428 - val_accuracy: 0.7750\n",
            "Epoch 360/500\n",
            "480/480 [==============================] - 2s 4ms/step - loss: 0.4016 - accuracy: 0.8438 - val_loss: 0.5940 - val_accuracy: 0.7333\n",
            "Epoch 361/500\n",
            "480/480 [==============================] - 2s 3ms/step - loss: 0.4087 - accuracy: 0.8396 - val_loss: 0.5286 - val_accuracy: 0.7917\n",
            "Epoch 362/500\n",
            "480/480 [==============================] - 2s 3ms/step - loss: 0.4404 - accuracy: 0.8354 - val_loss: 0.5167 - val_accuracy: 0.8250\n",
            "Epoch 363/500\n",
            "480/480 [==============================] - 2s 3ms/step - loss: 0.4362 - accuracy: 0.8417 - val_loss: 0.6497 - val_accuracy: 0.6833\n",
            "Epoch 364/500\n",
            "480/480 [==============================] - 2s 3ms/step - loss: 0.4201 - accuracy: 0.8479 - val_loss: 0.6022 - val_accuracy: 0.7167\n",
            "Epoch 365/500\n",
            "480/480 [==============================] - 2s 3ms/step - loss: 0.5214 - accuracy: 0.7854 - val_loss: 0.6584 - val_accuracy: 0.6833\n",
            "Epoch 366/500\n",
            "480/480 [==============================] - 2s 3ms/step - loss: 0.3795 - accuracy: 0.8687 - val_loss: 0.5680 - val_accuracy: 0.7667\n",
            "Epoch 367/500\n",
            "480/480 [==============================] - 2s 4ms/step - loss: 0.4053 - accuracy: 0.8604 - val_loss: 0.5426 - val_accuracy: 0.7583\n",
            "Epoch 368/500\n",
            "480/480 [==============================] - 2s 3ms/step - loss: 0.4351 - accuracy: 0.8438 - val_loss: 0.5371 - val_accuracy: 0.7667\n",
            "Epoch 369/500\n",
            "480/480 [==============================] - 2s 3ms/step - loss: 0.3868 - accuracy: 0.8646 - val_loss: 0.5796 - val_accuracy: 0.7917\n",
            "Epoch 370/500\n",
            "480/480 [==============================] - 2s 3ms/step - loss: 0.3822 - accuracy: 0.8521 - val_loss: 0.5549 - val_accuracy: 0.7750\n",
            "Epoch 371/500\n",
            "480/480 [==============================] - 2s 3ms/step - loss: 0.3948 - accuracy: 0.8500 - val_loss: 0.5560 - val_accuracy: 0.7750\n",
            "Epoch 372/500\n",
            "480/480 [==============================] - 2s 3ms/step - loss: 0.3857 - accuracy: 0.8729 - val_loss: 0.5798 - val_accuracy: 0.7500\n",
            "Epoch 373/500\n",
            "480/480 [==============================] - 2s 3ms/step - loss: 0.4746 - accuracy: 0.8062 - val_loss: 0.5880 - val_accuracy: 0.7000\n",
            "Epoch 374/500\n",
            "480/480 [==============================] - 2s 3ms/step - loss: 0.4472 - accuracy: 0.8250 - val_loss: 0.6139 - val_accuracy: 0.7167\n",
            "Epoch 375/500\n",
            "480/480 [==============================] - 2s 3ms/step - loss: 0.3772 - accuracy: 0.8708 - val_loss: 0.5675 - val_accuracy: 0.7833\n",
            "Epoch 376/500\n",
            "480/480 [==============================] - 2s 3ms/step - loss: 0.4062 - accuracy: 0.8521 - val_loss: 0.5464 - val_accuracy: 0.7750\n",
            "Epoch 377/500\n",
            "480/480 [==============================] - 2s 3ms/step - loss: 0.4064 - accuracy: 0.8458 - val_loss: 0.5519 - val_accuracy: 0.7833\n",
            "Epoch 378/500\n",
            "480/480 [==============================] - 2s 3ms/step - loss: 0.3859 - accuracy: 0.8625 - val_loss: 0.5533 - val_accuracy: 0.7750\n",
            "Epoch 379/500\n",
            "480/480 [==============================] - 2s 4ms/step - loss: 0.3937 - accuracy: 0.8542 - val_loss: 0.5389 - val_accuracy: 0.7667\n",
            "Epoch 380/500\n",
            "480/480 [==============================] - 2s 3ms/step - loss: 0.5130 - accuracy: 0.7937 - val_loss: 0.5383 - val_accuracy: 0.7917\n",
            "Epoch 381/500\n",
            "480/480 [==============================] - 2s 3ms/step - loss: 0.3751 - accuracy: 0.8583 - val_loss: 0.5501 - val_accuracy: 0.7667\n",
            "Epoch 382/500\n",
            "480/480 [==============================] - 2s 3ms/step - loss: 0.4452 - accuracy: 0.8313 - val_loss: 0.6106 - val_accuracy: 0.7417\n",
            "Epoch 383/500\n",
            "480/480 [==============================] - 2s 3ms/step - loss: 0.3948 - accuracy: 0.8542 - val_loss: 0.6189 - val_accuracy: 0.6583\n",
            "Epoch 384/500\n",
            "480/480 [==============================] - 2s 3ms/step - loss: 0.4396 - accuracy: 0.8271 - val_loss: 0.6843 - val_accuracy: 0.7667\n",
            "Epoch 385/500\n",
            "480/480 [==============================] - 2s 3ms/step - loss: 0.4703 - accuracy: 0.7875 - val_loss: 0.6634 - val_accuracy: 0.6750\n",
            "Epoch 386/500\n",
            "480/480 [==============================] - 2s 3ms/step - loss: 0.4469 - accuracy: 0.8104 - val_loss: 0.6019 - val_accuracy: 0.7250\n",
            "Epoch 387/500\n",
            "480/480 [==============================] - 2s 3ms/step - loss: 0.3814 - accuracy: 0.8625 - val_loss: 0.6649 - val_accuracy: 0.7083\n",
            "Epoch 388/500\n",
            "480/480 [==============================] - 2s 3ms/step - loss: 0.3763 - accuracy: 0.8667 - val_loss: 0.7695 - val_accuracy: 0.6250\n",
            "Epoch 389/500\n",
            "480/480 [==============================] - 2s 3ms/step - loss: 0.4214 - accuracy: 0.8354 - val_loss: 0.5996 - val_accuracy: 0.7250\n",
            "Epoch 390/500\n",
            "480/480 [==============================] - 2s 3ms/step - loss: 0.3701 - accuracy: 0.8646 - val_loss: 0.6040 - val_accuracy: 0.7333\n",
            "Epoch 391/500\n",
            "480/480 [==============================] - 2s 3ms/step - loss: 0.4448 - accuracy: 0.8396 - val_loss: 0.5637 - val_accuracy: 0.7583\n",
            "Epoch 392/500\n",
            "480/480 [==============================] - 2s 3ms/step - loss: 0.3865 - accuracy: 0.8667 - val_loss: 0.5854 - val_accuracy: 0.7750\n",
            "Epoch 393/500\n",
            "480/480 [==============================] - 2s 3ms/step - loss: 0.4355 - accuracy: 0.8292 - val_loss: 0.5772 - val_accuracy: 0.7667\n",
            "Epoch 394/500\n",
            "480/480 [==============================] - 2s 3ms/step - loss: 0.4542 - accuracy: 0.7937 - val_loss: 0.5776 - val_accuracy: 0.7583\n",
            "Epoch 395/500\n",
            "480/480 [==============================] - 2s 3ms/step - loss: 0.3700 - accuracy: 0.8813 - val_loss: 0.4816 - val_accuracy: 0.7750\n",
            "Epoch 396/500\n",
            "480/480 [==============================] - 2s 3ms/step - loss: 0.4246 - accuracy: 0.8438 - val_loss: 0.5315 - val_accuracy: 0.7667\n",
            "Epoch 397/500\n",
            "480/480 [==============================] - 2s 3ms/step - loss: 0.3849 - accuracy: 0.8542 - val_loss: 0.5557 - val_accuracy: 0.7417\n",
            "Epoch 398/500\n",
            "480/480 [==============================] - 2s 4ms/step - loss: 0.3995 - accuracy: 0.8625 - val_loss: 0.5521 - val_accuracy: 0.7750\n",
            "Epoch 399/500\n",
            "480/480 [==============================] - 2s 3ms/step - loss: 0.4111 - accuracy: 0.8458 - val_loss: 0.5732 - val_accuracy: 0.7500\n",
            "Epoch 400/500\n",
            "480/480 [==============================] - 2s 3ms/step - loss: 0.4261 - accuracy: 0.8438 - val_loss: 0.5547 - val_accuracy: 0.7500\n",
            "Epoch 401/500\n",
            "480/480 [==============================] - 2s 3ms/step - loss: 0.3327 - accuracy: 0.8896 - val_loss: 0.5663 - val_accuracy: 0.7667\n",
            "Epoch 402/500\n",
            "480/480 [==============================] - 2s 3ms/step - loss: 0.4153 - accuracy: 0.8521 - val_loss: 0.6349 - val_accuracy: 0.7333\n",
            "Epoch 403/500\n",
            "480/480 [==============================] - 2s 3ms/step - loss: 0.4628 - accuracy: 0.8208 - val_loss: 0.6268 - val_accuracy: 0.7250\n",
            "Epoch 404/500\n",
            "480/480 [==============================] - 2s 3ms/step - loss: 0.4104 - accuracy: 0.8521 - val_loss: 0.6953 - val_accuracy: 0.7000\n",
            "Epoch 405/500\n",
            "480/480 [==============================] - 2s 3ms/step - loss: 0.3927 - accuracy: 0.8625 - val_loss: 0.6882 - val_accuracy: 0.6917\n",
            "Epoch 406/500\n",
            "480/480 [==============================] - 2s 3ms/step - loss: 0.4116 - accuracy: 0.8625 - val_loss: 0.6438 - val_accuracy: 0.7417\n",
            "Epoch 407/500\n",
            "480/480 [==============================] - 2s 4ms/step - loss: 0.3254 - accuracy: 0.8875 - val_loss: 0.6201 - val_accuracy: 0.7000\n",
            "Epoch 408/500\n",
            "480/480 [==============================] - 2s 4ms/step - loss: 0.4054 - accuracy: 0.8562 - val_loss: 0.6307 - val_accuracy: 0.7083\n",
            "Epoch 409/500\n",
            "480/480 [==============================] - 2s 3ms/step - loss: 0.4258 - accuracy: 0.8333 - val_loss: 0.5721 - val_accuracy: 0.7583\n",
            "Epoch 410/500\n",
            "480/480 [==============================] - 2s 4ms/step - loss: 0.3749 - accuracy: 0.8646 - val_loss: 0.5869 - val_accuracy: 0.7000\n",
            "Epoch 411/500\n",
            "480/480 [==============================] - 2s 3ms/step - loss: 0.3997 - accuracy: 0.8604 - val_loss: 0.5618 - val_accuracy: 0.7583\n",
            "Epoch 412/500\n",
            "480/480 [==============================] - 2s 3ms/step - loss: 0.4632 - accuracy: 0.8167 - val_loss: 0.5715 - val_accuracy: 0.7667\n",
            "Epoch 413/500\n",
            "480/480 [==============================] - 2s 3ms/step - loss: 0.4488 - accuracy: 0.8125 - val_loss: 0.5831 - val_accuracy: 0.7333\n",
            "Epoch 414/500\n",
            "480/480 [==============================] - 2s 3ms/step - loss: 0.4426 - accuracy: 0.8208 - val_loss: 0.5595 - val_accuracy: 0.7833\n",
            "Epoch 415/500\n",
            "480/480 [==============================] - 2s 3ms/step - loss: 0.3805 - accuracy: 0.8625 - val_loss: 0.6830 - val_accuracy: 0.6750\n",
            "Epoch 416/500\n",
            "480/480 [==============================] - 2s 3ms/step - loss: 0.4211 - accuracy: 0.8500 - val_loss: 0.5791 - val_accuracy: 0.7583\n",
            "Epoch 417/500\n",
            "480/480 [==============================] - 2s 3ms/step - loss: 0.4136 - accuracy: 0.8521 - val_loss: 0.6242 - val_accuracy: 0.7333\n",
            "Epoch 418/500\n",
            "480/480 [==============================] - 2s 4ms/step - loss: 0.4291 - accuracy: 0.8521 - val_loss: 0.5938 - val_accuracy: 0.7667\n",
            "Epoch 419/500\n",
            "480/480 [==============================] - 2s 3ms/step - loss: 0.4183 - accuracy: 0.8417 - val_loss: 0.6177 - val_accuracy: 0.7500\n",
            "Epoch 420/500\n",
            "480/480 [==============================] - 2s 3ms/step - loss: 0.3739 - accuracy: 0.8687 - val_loss: 0.8589 - val_accuracy: 0.6000\n",
            "Epoch 421/500\n",
            "480/480 [==============================] - 2s 3ms/step - loss: 0.4470 - accuracy: 0.8292 - val_loss: 0.6354 - val_accuracy: 0.7417\n",
            "Epoch 422/500\n",
            "480/480 [==============================] - 2s 4ms/step - loss: 0.3747 - accuracy: 0.8708 - val_loss: 0.6590 - val_accuracy: 0.7667\n",
            "Epoch 423/500\n",
            "480/480 [==============================] - 2s 3ms/step - loss: 0.4071 - accuracy: 0.8375 - val_loss: 0.6464 - val_accuracy: 0.6917\n",
            "Epoch 424/500\n",
            "480/480 [==============================] - 2s 4ms/step - loss: 0.3801 - accuracy: 0.8687 - val_loss: 0.6057 - val_accuracy: 0.7167\n",
            "Epoch 425/500\n",
            "480/480 [==============================] - 2s 3ms/step - loss: 0.4066 - accuracy: 0.8500 - val_loss: 0.5965 - val_accuracy: 0.7750\n",
            "Epoch 426/500\n",
            "480/480 [==============================] - 2s 3ms/step - loss: 0.3948 - accuracy: 0.8562 - val_loss: 0.5645 - val_accuracy: 0.7833\n",
            "Epoch 427/500\n",
            "480/480 [==============================] - 2s 3ms/step - loss: 0.4345 - accuracy: 0.8313 - val_loss: 0.5706 - val_accuracy: 0.7583\n",
            "Epoch 428/500\n",
            "480/480 [==============================] - 2s 3ms/step - loss: 0.4453 - accuracy: 0.8229 - val_loss: 0.5947 - val_accuracy: 0.7750\n",
            "Epoch 429/500\n",
            "480/480 [==============================] - 2s 3ms/step - loss: 0.4243 - accuracy: 0.8521 - val_loss: 0.6098 - val_accuracy: 0.7083\n",
            "Epoch 430/500\n",
            "480/480 [==============================] - 2s 3ms/step - loss: 0.4145 - accuracy: 0.8333 - val_loss: 0.5581 - val_accuracy: 0.7833\n",
            "Epoch 431/500\n",
            "480/480 [==============================] - 2s 3ms/step - loss: 0.4085 - accuracy: 0.8417 - val_loss: 0.5753 - val_accuracy: 0.8000\n",
            "Epoch 432/500\n",
            "480/480 [==============================] - 2s 3ms/step - loss: 0.4480 - accuracy: 0.8125 - val_loss: 0.7476 - val_accuracy: 0.6333\n",
            "Epoch 433/500\n",
            "480/480 [==============================] - 2s 3ms/step - loss: 0.4390 - accuracy: 0.8417 - val_loss: 0.6555 - val_accuracy: 0.7917\n",
            "Epoch 434/500\n",
            "480/480 [==============================] - 2s 4ms/step - loss: 0.4569 - accuracy: 0.8188 - val_loss: 0.5952 - val_accuracy: 0.8000\n",
            "Epoch 435/500\n",
            "480/480 [==============================] - 2s 3ms/step - loss: 0.3790 - accuracy: 0.8687 - val_loss: 0.6262 - val_accuracy: 0.7417\n",
            "Epoch 436/500\n",
            "480/480 [==============================] - 2s 4ms/step - loss: 0.4198 - accuracy: 0.8562 - val_loss: 0.5968 - val_accuracy: 0.7417\n",
            "Epoch 437/500\n",
            "480/480 [==============================] - 2s 4ms/step - loss: 0.4311 - accuracy: 0.8417 - val_loss: 0.5892 - val_accuracy: 0.7167\n",
            "Epoch 438/500\n",
            "480/480 [==============================] - 2s 4ms/step - loss: 0.4317 - accuracy: 0.8417 - val_loss: 0.6213 - val_accuracy: 0.7500\n",
            "Epoch 439/500\n",
            "480/480 [==============================] - 2s 4ms/step - loss: 0.3803 - accuracy: 0.8646 - val_loss: 0.6130 - val_accuracy: 0.7750\n",
            "Epoch 440/500\n",
            "480/480 [==============================] - 2s 4ms/step - loss: 0.3975 - accuracy: 0.8542 - val_loss: 0.6336 - val_accuracy: 0.8000\n",
            "Epoch 441/500\n",
            "480/480 [==============================] - 2s 3ms/step - loss: 0.3436 - accuracy: 0.8938 - val_loss: 0.5901 - val_accuracy: 0.7250\n",
            "Epoch 442/500\n",
            "480/480 [==============================] - 2s 3ms/step - loss: 0.4290 - accuracy: 0.8396 - val_loss: 0.6038 - val_accuracy: 0.7167\n",
            "Epoch 443/500\n",
            "480/480 [==============================] - 2s 3ms/step - loss: 0.4080 - accuracy: 0.8479 - val_loss: 0.6260 - val_accuracy: 0.7167\n",
            "Epoch 444/500\n",
            "480/480 [==============================] - 2s 3ms/step - loss: 0.3716 - accuracy: 0.8646 - val_loss: 0.6213 - val_accuracy: 0.7417\n",
            "Epoch 445/500\n",
            "480/480 [==============================] - 2s 3ms/step - loss: 0.4247 - accuracy: 0.8313 - val_loss: 0.6156 - val_accuracy: 0.7750\n",
            "Epoch 446/500\n",
            "480/480 [==============================] - 2s 3ms/step - loss: 0.3997 - accuracy: 0.8500 - val_loss: 0.6192 - val_accuracy: 0.7417\n",
            "Epoch 447/500\n",
            "480/480 [==============================] - 2s 3ms/step - loss: 0.4166 - accuracy: 0.8375 - val_loss: 0.5790 - val_accuracy: 0.7583\n",
            "Epoch 448/500\n",
            "480/480 [==============================] - 2s 3ms/step - loss: 0.4455 - accuracy: 0.8396 - val_loss: 0.5837 - val_accuracy: 0.7333\n",
            "Epoch 449/500\n",
            "480/480 [==============================] - 2s 3ms/step - loss: 0.4430 - accuracy: 0.8104 - val_loss: 0.5794 - val_accuracy: 0.7417\n",
            "Epoch 450/500\n",
            "480/480 [==============================] - 2s 3ms/step - loss: 0.3685 - accuracy: 0.8667 - val_loss: 0.6082 - val_accuracy: 0.7333\n",
            "Epoch 451/500\n",
            "480/480 [==============================] - 2s 4ms/step - loss: 0.4352 - accuracy: 0.8271 - val_loss: 0.6236 - val_accuracy: 0.7167\n",
            "Epoch 452/500\n",
            "480/480 [==============================] - 2s 4ms/step - loss: 0.3801 - accuracy: 0.8667 - val_loss: 0.6183 - val_accuracy: 0.7500\n",
            "Epoch 453/500\n",
            "480/480 [==============================] - 2s 3ms/step - loss: 0.4729 - accuracy: 0.8042 - val_loss: 0.6451 - val_accuracy: 0.7000\n",
            "Epoch 454/500\n",
            "480/480 [==============================] - 2s 4ms/step - loss: 0.4287 - accuracy: 0.8188 - val_loss: 0.6527 - val_accuracy: 0.8000\n",
            "Epoch 455/500\n",
            "480/480 [==============================] - 2s 4ms/step - loss: 0.3635 - accuracy: 0.8813 - val_loss: 0.5906 - val_accuracy: 0.7417\n",
            "Epoch 456/500\n",
            "480/480 [==============================] - 2s 3ms/step - loss: 0.4300 - accuracy: 0.8271 - val_loss: 0.5990 - val_accuracy: 0.7417\n",
            "Epoch 457/500\n",
            "480/480 [==============================] - 2s 3ms/step - loss: 0.4243 - accuracy: 0.8375 - val_loss: 0.5657 - val_accuracy: 0.7917\n",
            "Epoch 458/500\n",
            "480/480 [==============================] - 2s 3ms/step - loss: 0.4114 - accuracy: 0.8354 - val_loss: 0.6706 - val_accuracy: 0.6167\n",
            "Epoch 459/500\n",
            "480/480 [==============================] - 2s 3ms/step - loss: 0.3928 - accuracy: 0.8667 - val_loss: 0.5870 - val_accuracy: 0.7417\n",
            "Epoch 460/500\n",
            "480/480 [==============================] - 2s 3ms/step - loss: 0.4750 - accuracy: 0.7917 - val_loss: 0.5805 - val_accuracy: 0.7083\n",
            "Epoch 461/500\n",
            "480/480 [==============================] - 2s 3ms/step - loss: 0.3631 - accuracy: 0.8792 - val_loss: 0.5662 - val_accuracy: 0.7750\n",
            "Epoch 462/500\n",
            "480/480 [==============================] - 2s 4ms/step - loss: 0.4351 - accuracy: 0.8313 - val_loss: 0.5460 - val_accuracy: 0.7667\n",
            "Epoch 463/500\n",
            "480/480 [==============================] - 2s 3ms/step - loss: 0.3745 - accuracy: 0.8667 - val_loss: 0.6336 - val_accuracy: 0.6917\n",
            "Epoch 464/500\n",
            "480/480 [==============================] - 2s 4ms/step - loss: 0.3709 - accuracy: 0.8771 - val_loss: 0.5851 - val_accuracy: 0.7917\n",
            "Epoch 465/500\n",
            "480/480 [==============================] - 2s 4ms/step - loss: 0.3511 - accuracy: 0.8875 - val_loss: 0.5569 - val_accuracy: 0.7667\n",
            "Epoch 466/500\n",
            "480/480 [==============================] - 2s 3ms/step - loss: 0.3839 - accuracy: 0.8708 - val_loss: 0.5629 - val_accuracy: 0.7750\n",
            "Epoch 467/500\n",
            "480/480 [==============================] - 2s 3ms/step - loss: 0.4344 - accuracy: 0.8188 - val_loss: 0.6425 - val_accuracy: 0.7833\n",
            "Epoch 468/500\n",
            "480/480 [==============================] - 2s 3ms/step - loss: 0.3911 - accuracy: 0.8687 - val_loss: 0.5615 - val_accuracy: 0.7417\n",
            "Epoch 469/500\n",
            "480/480 [==============================] - 2s 3ms/step - loss: 0.4277 - accuracy: 0.8313 - val_loss: 0.6028 - val_accuracy: 0.8083\n",
            "Epoch 470/500\n",
            "480/480 [==============================] - 2s 3ms/step - loss: 0.4102 - accuracy: 0.8479 - val_loss: 0.5898 - val_accuracy: 0.7667\n",
            "Epoch 471/500\n",
            "480/480 [==============================] - 2s 3ms/step - loss: 0.4094 - accuracy: 0.8562 - val_loss: 0.5974 - val_accuracy: 0.7250\n",
            "Epoch 472/500\n",
            "480/480 [==============================] - 2s 3ms/step - loss: 0.4514 - accuracy: 0.8271 - val_loss: 0.5811 - val_accuracy: 0.8250\n",
            "Epoch 473/500\n",
            "480/480 [==============================] - 2s 4ms/step - loss: 0.4118 - accuracy: 0.8500 - val_loss: 0.6779 - val_accuracy: 0.7083\n",
            "Epoch 474/500\n",
            "480/480 [==============================] - 2s 3ms/step - loss: 0.3640 - accuracy: 0.8729 - val_loss: 0.5862 - val_accuracy: 0.7417\n",
            "Epoch 475/500\n",
            "480/480 [==============================] - 2s 3ms/step - loss: 0.4301 - accuracy: 0.8354 - val_loss: 0.6401 - val_accuracy: 0.6583\n",
            "Epoch 476/500\n",
            "480/480 [==============================] - 2s 3ms/step - loss: 0.4089 - accuracy: 0.8479 - val_loss: 0.6181 - val_accuracy: 0.7333\n",
            "Epoch 477/500\n",
            "480/480 [==============================] - 2s 3ms/step - loss: 0.4866 - accuracy: 0.7979 - val_loss: 0.7329 - val_accuracy: 0.6333\n",
            "Epoch 478/500\n",
            "480/480 [==============================] - 2s 3ms/step - loss: 0.4617 - accuracy: 0.8313 - val_loss: 0.6654 - val_accuracy: 0.6750\n",
            "Epoch 479/500\n",
            "480/480 [==============================] - 2s 3ms/step - loss: 0.4029 - accuracy: 0.8479 - val_loss: 0.5783 - val_accuracy: 0.7750\n",
            "Epoch 480/500\n",
            "480/480 [==============================] - 2s 3ms/step - loss: 0.4156 - accuracy: 0.8521 - val_loss: 0.5470 - val_accuracy: 0.7667\n",
            "Epoch 481/500\n",
            "480/480 [==============================] - 2s 3ms/step - loss: 0.4078 - accuracy: 0.8458 - val_loss: 0.5839 - val_accuracy: 0.8000\n",
            "Epoch 482/500\n",
            "480/480 [==============================] - 2s 3ms/step - loss: 0.3935 - accuracy: 0.8521 - val_loss: 0.5755 - val_accuracy: 0.7917\n",
            "Epoch 483/500\n",
            "480/480 [==============================] - 2s 3ms/step - loss: 0.4046 - accuracy: 0.8438 - val_loss: 0.5995 - val_accuracy: 0.7833\n",
            "Epoch 484/500\n",
            "480/480 [==============================] - 2s 3ms/step - loss: 0.3831 - accuracy: 0.8708 - val_loss: 0.5626 - val_accuracy: 0.7667\n",
            "Epoch 485/500\n",
            "480/480 [==============================] - 2s 3ms/step - loss: 0.4594 - accuracy: 0.8271 - val_loss: 0.5773 - val_accuracy: 0.7500\n",
            "Epoch 486/500\n",
            "480/480 [==============================] - 2s 3ms/step - loss: 0.4009 - accuracy: 0.8458 - val_loss: 0.5866 - val_accuracy: 0.7917\n",
            "Epoch 487/500\n",
            "480/480 [==============================] - 2s 3ms/step - loss: 0.4309 - accuracy: 0.8396 - val_loss: 0.5407 - val_accuracy: 0.7500\n",
            "Epoch 488/500\n",
            "480/480 [==============================] - 2s 3ms/step - loss: 0.4437 - accuracy: 0.8292 - val_loss: 0.5996 - val_accuracy: 0.7833\n",
            "Epoch 489/500\n",
            "480/480 [==============================] - 2s 3ms/step - loss: 0.4638 - accuracy: 0.8167 - val_loss: 0.5770 - val_accuracy: 0.7500\n",
            "Epoch 490/500\n",
            "480/480 [==============================] - 2s 3ms/step - loss: 0.4070 - accuracy: 0.8521 - val_loss: 0.6140 - val_accuracy: 0.7917\n",
            "Epoch 491/500\n",
            "480/480 [==============================] - 2s 3ms/step - loss: 0.3512 - accuracy: 0.8771 - val_loss: 0.5935 - val_accuracy: 0.7667\n",
            "Epoch 492/500\n",
            "480/480 [==============================] - 2s 3ms/step - loss: 0.4098 - accuracy: 0.8438 - val_loss: 0.5929 - val_accuracy: 0.7833\n",
            "Epoch 493/500\n",
            "480/480 [==============================] - 2s 3ms/step - loss: 0.3927 - accuracy: 0.8438 - val_loss: 0.5716 - val_accuracy: 0.7750\n",
            "Epoch 494/500\n",
            "480/480 [==============================] - 2s 3ms/step - loss: 0.4637 - accuracy: 0.8083 - val_loss: 0.6052 - val_accuracy: 0.7833\n",
            "Epoch 495/500\n",
            "480/480 [==============================] - 2s 3ms/step - loss: 0.3831 - accuracy: 0.8708 - val_loss: 0.5685 - val_accuracy: 0.7667\n",
            "Epoch 496/500\n",
            "480/480 [==============================] - 2s 3ms/step - loss: 0.4035 - accuracy: 0.8396 - val_loss: 0.5487 - val_accuracy: 0.7583\n",
            "Epoch 497/500\n",
            "480/480 [==============================] - 2s 4ms/step - loss: 0.4333 - accuracy: 0.8417 - val_loss: 0.6135 - val_accuracy: 0.8000\n",
            "Epoch 498/500\n",
            "480/480 [==============================] - 2s 3ms/step - loss: 0.4099 - accuracy: 0.8417 - val_loss: 0.5992 - val_accuracy: 0.7917\n",
            "Epoch 499/500\n",
            "480/480 [==============================] - 2s 3ms/step - loss: 0.4631 - accuracy: 0.8062 - val_loss: 0.5813 - val_accuracy: 0.7250\n",
            "Epoch 500/500\n",
            "480/480 [==============================] - 2s 3ms/step - loss: 0.4271 - accuracy: 0.8479 - val_loss: 0.5444 - val_accuracy: 0.7667\n"
          ],
          "name": "stdout"
        }
      ]
    },
    {
      "cell_type": "code",
      "metadata": {
        "id": "96xZodFXfYJo",
        "colab_type": "code",
        "colab": {
          "base_uri": "https://localhost:8080/",
          "height": 34
        },
        "outputId": "57eac639-72df-4140-8186-28ed803e0f16"
      },
      "source": [
        "model.evaluate(X_test, Y_test, verbose=0)"
      ],
      "execution_count": 107,
      "outputs": [
        {
          "output_type": "execute_result",
          "data": {
            "text/plain": [
              "[0.5443882862726848, 0.7666666507720947]"
            ]
          },
          "metadata": {
            "tags": []
          },
          "execution_count": 107
        }
      ]
    },
    {
      "cell_type": "code",
      "metadata": {
        "id": "x55pVbsNfYmO",
        "colab_type": "code",
        "colab": {}
      },
      "source": [
        "model_json = model.to_json()\n",
        "if not os.path.isdir(args.output):\n",
        "    os.makedirs(args.output)\n",
        "with open(os.path.join(args.output, '3dcnnmodel.json'), 'w') as json_file:\n",
        "    json_file.write(model_json)\n",
        "model.save_weights(os.path.join(args.output, '3dcnnmodel.hd5'))\n"
      ],
      "execution_count": 108,
      "outputs": []
    },
    {
      "cell_type": "code",
      "metadata": {
        "id": "cMCO5NEBfZNm",
        "colab_type": "code",
        "colab": {
          "base_uri": "https://localhost:8080/",
          "height": 50
        },
        "outputId": "3449d472-0ee3-4369-bf0d-033b49f9772b"
      },
      "source": [
        "loss, acc = model.evaluate(X_test, Y_test, verbose=0)\n",
        "print('Test loss:', loss)\n",
        "print('Test accuracy:', acc)"
      ],
      "execution_count": 109,
      "outputs": [
        {
          "output_type": "stream",
          "text": [
            "Test loss: 0.5443882862726848\n",
            "Test accuracy: 0.7666666507720947\n"
          ],
          "name": "stdout"
        }
      ]
    },
    {
      "cell_type": "code",
      "metadata": {
        "id": "hRccxg_-fYke",
        "colab_type": "code",
        "colab": {}
      },
      "source": [
        "save_history(history, args.output)"
      ],
      "execution_count": 110,
      "outputs": []
    },
    {
      "cell_type": "code",
      "metadata": {
        "id": "APT2awOzfYHd",
        "colab_type": "code",
        "colab": {
          "base_uri": "https://localhost:8080/",
          "height": 295
        },
        "outputId": "d57932b8-599d-446d-a7de-18e0be0f5852"
      },
      "source": [
        "plt.plot(history.history['accuracy'], marker='.')\n",
        "plt.plot(history.history['val_accuracy'], marker='.')\n",
        "plt.title('model accuracy')\n",
        "plt.xlabel('epoch')\n",
        "plt.ylabel('accuracy')\n",
        "plt.grid()\n",
        "plt.legend(['accuracy', 'val_accuracy'], loc='lower right')\n",
        "plt.savefig(os.path.join(args.output, 'model_accuracy.png'))\n",
        "plt.show()"
      ],
      "execution_count": 111,
      "outputs": [
        {
          "output_type": "display_data",
          "data": {
            "image/png": "[encoded data removed]",
            "text/plain": [
              "<Figure size 432x288 with 1 Axes>"
            ]
          },
          "metadata": {
            "tags": [],
            "needs_background": "light"
          }
        }
      ]
    },
    {
      "cell_type": "code",
      "metadata": {
        "id": "AQPiarWUnoDT",
        "colab_type": "code",
        "colab": {
          "base_uri": "https://localhost:8080/",
          "height": 295
        },
        "outputId": "d4ca581e-235f-48ef-cc76-0641e4369148"
      },
      "source": [
        "plt.plot(history.history['loss'], marker='.')\n",
        "plt.plot(history.history['val_loss'], marker='.')\n",
        "plt.title('model loss')\n",
        "plt.xlabel('epoch')\n",
        "plt.ylabel('loss')\n",
        "plt.grid()\n",
        "plt.legend(['loss', 'val_loss'], loc='upper right')\n",
        "plt.savefig(os.path.join(args.output, 'model_loss.png'))\n",
        "plt.show()"
      ],
      "execution_count": 112,
      "outputs": [
        {
          "output_type": "display_data",
          "data": {
            "image/png": "[encoded data removed]",
            "text/plain": [
              "<Figure size 432x288 with 1 Axes>"
            ]
          },
          "metadata": {
            "tags": [],
            "needs_background": "light"
          }
        }
      ]
    },
    {
      "cell_type": "code",
      "metadata": {
        "id": "jAW63revyC8H",
        "colab_type": "code",
        "colab": {
          "base_uri": "https://localhost:8080/",
          "height": 67
        },
        "outputId": "62f79fca-fd8f-426e-9612-829800fd6c9a"
      },
      "source": [
        "# Prepare data for prediction\n",
        "img_rows, img_cols, frames = 32, 32, args.depth\n",
        "channel = 3 if args.color else 1\n",
        "vid3d = Videoto3D(img_rows, img_cols, frames)\n",
        "video='/content/drive/My Drive/Parking Videos/Copy of Cars in Motion- The Rolling Shot Supercut - HALCYON (4K)2.mp4'\n",
        "test_data = vid3d.video3d(video, color=args.color, skip=args.skip)\n",
        "t = np.expand_dims(test_data, axis=0)\n",
        "print(t.shape)\n",
        "td = np.array(t).transpose((0, 2, 3, 1, 4))\n",
        "print(td.shape)\n",
        "ls = [test_data]"
      ],
      "execution_count": 125,
      "outputs": [
        {
          "output_type": "stream",
          "text": [
            "test  /content/drive/My Drive/Parking Videos/Copy of Cars in Motion- The Rolling Shot Supercut - HALCYON (4K)2.mp4\n",
            "(1, 12, 32, 32, 3)\n",
            "(1, 32, 32, 12, 3)\n"
          ],
          "name": "stdout"
        }
      ]
    },
    {
      "cell_type": "code",
      "metadata": {
        "id": "DKcrCcTtxGRB",
        "colab_type": "code",
        "colab": {
          "base_uri": "https://localhost:8080/",
          "height": 50
        },
        "outputId": "f5aeb3da-8374-41e3-a136-11574facddf0"
      },
      "source": [
        "from keras.models import load_model\n",
        "from keras.models import model_from_json\n",
        "import json\n",
        "with open(os.path.join(args.output, '3dcnnmodel.json'),'r') as f:\n",
        "    print(type(f))\n",
        "    for i in f:\n",
        "      print(type(i))\n",
        "      model_json = i\n",
        "      break\n",
        "\n",
        "model = model_from_json(model_json)\n",
        "model.load_weights(os.path.join(args.output, '3dcnnmodel.hd5'))"
      ],
      "execution_count": 126,
      "outputs": [
        {
          "output_type": "stream",
          "text": [
            "<class '_io.TextIOWrapper'>\n",
            "<class 'str'>\n"
          ],
          "name": "stdout"
        }
      ]
    },
    {
      "cell_type": "code",
      "metadata": {
        "id": "HkrYFJ-9B0HI",
        "colab_type": "code",
        "colab": {
          "base_uri": "https://localhost:8080/",
          "height": 34
        },
        "outputId": "d11a5583-c4a9-4e5f-b43f-b22e07277ba9"
      },
      "source": [
        "# Predict.\n",
        "predictions = model.predict(td)\n",
        "print(predictions)"
      ],
      "execution_count": 127,
      "outputs": [
        {
          "output_type": "stream",
          "text": [
            "[[1.8772116e-02 3.4737858e-04 9.8088056e-01]]\n"
          ],
          "name": "stdout"
        }
      ]
    },
    {
      "cell_type": "code",
      "metadata": {
        "id": "ipb-Gg5Uy4k4",
        "colab_type": "code",
        "colab": {
          "base_uri": "https://localhost:8080/",
          "height": 35
        },
        "outputId": "0ac08a39-2621-4aef-b4fc-9264b6dafdb8"
      },
      "source": [
        "# Process predicted result\n",
        "class_names = ['Parking','No_Parking','Car running']\n",
        "class_names[np.argmax(predictions)]"
      ],
      "execution_count": 128,
      "outputs": [
        {
          "output_type": "execute_result",
          "data": {
            "application/vnd.google.colaboratory.intrinsic": {
              "type": "string"
            },
            "text/plain": [
              "'Car running'"
            ]
          },
          "metadata": {
            "tags": []
          },
          "execution_count": 128
        }
      ]
    },
    {
      "cell_type": "code",
      "metadata": {
        "id": "jBL_rg2HLw3g",
        "colab_type": "code",
        "colab": {}
      },
      "source": [
        ""
      ],
      "execution_count": 116,
      "outputs": []
    }
  ]
}